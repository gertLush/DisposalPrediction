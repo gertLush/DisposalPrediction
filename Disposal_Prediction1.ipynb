{
 "cells": [
  {
   "cell_type": "markdown",
   "metadata": {},
   "source": [
    "# Machine Learning and Prediction of Disposal Outlet by Waste Description"
   ]
  },
  {
   "cell_type": "markdown",
   "metadata": {},
   "source": [
    "This test case uses hazardous waste data that includes a general description, various hazardous classification descriptors and a disposal outlet. The dataset is split into a training set and test set (with disposal outlet removed). The aim is to create a trained machine using Word2Vec and RandomForrestClassifier, use it to predict the disposal outlet and compare the result of actual versus predicted.\n",
    "\n",
    "Inspriation for this approach came from: \n",
    "\n",
    "https://github.com/JungeAlexander/kaggle-amazon-fine-food-reviews\n",
    "\n",
    "https://www.geeksforgeeks.org/python-word-embedding-using-word2vec/"
   ]
  },
  {
   "cell_type": "markdown",
   "metadata": {},
   "source": [
    "# Data Exploration"
   ]
  },
  {
   "cell_type": "markdown",
   "metadata": {},
   "source": [
    "The data source is from an very old database and data input has largely been via free text entry fields, made by a number of different people over a several years. The quality and consistency of the result is extremely poor, there are are few standardised terms, no drop down menus, no validation, various phrases have been used for the same thing, all frought with typos and spelling mistakes. The few standardised terms take the form of code numbers, i.e. they are number characters but represent categorical rather than scalar values. Also because of their origin in Excel these numbers are sometimes preceded with an apostophe, used to force Excel to treat number characters as text."
   ]
  },
  {
   "cell_type": "code",
   "execution_count": 2,
   "metadata": {},
   "outputs": [],
   "source": [
    "import pandas as pd                                        # Used for importing data and transformations\n",
    "import numpy as np                                         # Provides mathmatical functions and randomisers\n",
    "import copy                                                # Used to copy objects\n",
    "import matplotlib.pyplot as plt                            # Plot charts\n",
    "import seaborn as sn                                       # Visualisation tools\n",
    "import warnings                                            # Manage python system warnings\n",
    "warnings.simplefilter('ignore')\n",
    "sn.color_palette(\"flare\", as_cmap=True)\n",
    "from random import shuffle                                 # Dataset randomiser\n",
    "from gensim.models import Word2Vec\n",
    "from nltk.tokenize import word_tokenize\n",
    "import nltk as nltk\n",
    "import string\n",
    "\n",
    "from sklearn.feature_extraction import FeatureHasher\n",
    "from sklearn.ensemble import RandomForestClassifier  \n",
    "from sklearn.preprocessing import OneHotEncoder\n",
    "from sklearn.base import BaseEstimator, TransformerMixin \n",
    "\n",
    "from sklearn.metrics import confusion_matrix\n",
    "from sklearn.metrics import classification_report\n",
    "from matplotlib.pyplot import figure"
   ]
  },
  {
   "cell_type": "code",
   "execution_count": 59,
   "metadata": {},
   "outputs": [
    {
     "name": "stdout",
     "output_type": "stream",
     "text": [
      "The primary data set has 42 columns and 21047 rows.\n"
     ]
    },
    {
     "data": {
      "text/html": [
       "<div>\n",
       "<style scoped>\n",
       "    .dataframe tbody tr th:only-of-type {\n",
       "        vertical-align: middle;\n",
       "    }\n",
       "\n",
       "    .dataframe tbody tr th {\n",
       "        vertical-align: top;\n",
       "    }\n",
       "\n",
       "    .dataframe thead th {\n",
       "        text-align: right;\n",
       "    }\n",
       "</style>\n",
       "<table border=\"1\" class=\"dataframe\">\n",
       "  <thead>\n",
       "    <tr style=\"text-align: right;\">\n",
       "      <th></th>\n",
       "      <th>DRUM ID</th>\n",
       "      <th>QTY</th>\n",
       "      <th>Cont. Size</th>\n",
       "      <th>Quantity (Kg)</th>\n",
       "      <th>Description</th>\n",
       "      <th>Components and Concentrations</th>\n",
       "      <th>Hazard Codes</th>\n",
       "      <th>UN Number</th>\n",
       "      <th>Proper Shipping Name</th>\n",
       "      <th>Class</th>\n",
       "      <th>...</th>\n",
       "      <th>24-26 Weeks</th>\n",
       "      <th>&gt;6 Months</th>\n",
       "      <th>Origin District</th>\n",
       "      <th>Destination District</th>\n",
       "      <th>Date Out</th>\n",
       "      <th>DR Code</th>\n",
       "      <th>Tonnage</th>\n",
       "      <th>Municipal Source</th>\n",
       "      <th>Column1</th>\n",
       "      <th>EWC2</th>\n",
       "    </tr>\n",
       "  </thead>\n",
       "  <tbody>\n",
       "    <tr>\n",
       "      <th>0</th>\n",
       "      <td>NaN</td>\n",
       "      <td>80</td>\n",
       "      <td>60</td>\n",
       "      <td>1.5</td>\n",
       "      <td>EMPTY PLASTIC DRUMS (60L)</td>\n",
       "      <td>NIL HAZARDOUS COMPONENTS</td>\n",
       "      <td>N/C</td>\n",
       "      <td>NCAD</td>\n",
       "      <td>NOT CLASSIFIED AS DANGEROUS FOR TRANSPORT</td>\n",
       "      <td>N/C</td>\n",
       "      <td>...</td>\n",
       "      <td>0</td>\n",
       "      <td>0</td>\n",
       "      <td>SHEFFIELD</td>\n",
       "      <td>LEEDS</td>\n",
       "      <td>11/01/2023</td>\n",
       "      <td>R03 - RECYCLING OF ORGANIC SUBSTANCES</td>\n",
       "      <td>0.0015</td>\n",
       "      <td>No</td>\n",
       "      <td>R03 - Recycling of organic substances</td>\n",
       "      <td>150110</td>\n",
       "    </tr>\n",
       "    <tr>\n",
       "      <th>1</th>\n",
       "      <td>NaN</td>\n",
       "      <td>4</td>\n",
       "      <td>30</td>\n",
       "      <td>2.0</td>\n",
       "      <td>EMPTY PLASTIC DRUMS (30L)</td>\n",
       "      <td>Nil hazardous components</td>\n",
       "      <td>N/C</td>\n",
       "      <td>NCAD</td>\n",
       "      <td>NOT CLASSIFIED AS DANGEROUS FOR TRANSPORT</td>\n",
       "      <td>N/C</td>\n",
       "      <td>...</td>\n",
       "      <td>0</td>\n",
       "      <td>0</td>\n",
       "      <td>SHEFFIELD</td>\n",
       "      <td>LEEDS</td>\n",
       "      <td>11/01/2023</td>\n",
       "      <td>R03 - RECYCLING OF ORGANIC SUBSTANCES</td>\n",
       "      <td>0.002</td>\n",
       "      <td>No</td>\n",
       "      <td>R03 - Recycling of organic substances</td>\n",
       "      <td>150110</td>\n",
       "    </tr>\n",
       "  </tbody>\n",
       "</table>\n",
       "<p>2 rows × 42 columns</p>\n",
       "</div>"
      ],
      "text/plain": [
       "  DRUM ID QTY Cont. Size  Quantity (Kg)                Description  \\\n",
       "0     NaN  80         60            1.5  EMPTY PLASTIC DRUMS (60L)   \n",
       "1     NaN   4         30            2.0  EMPTY PLASTIC DRUMS (30L)   \n",
       "\n",
       "  Components and Concentrations Hazard Codes UN Number  \\\n",
       "0      NIL HAZARDOUS COMPONENTS          N/C      NCAD   \n",
       "1      Nil hazardous components          N/C      NCAD   \n",
       "\n",
       "                        Proper Shipping Name Class  ... 24-26 Weeks >6 Months  \\\n",
       "0  NOT CLASSIFIED AS DANGEROUS FOR TRANSPORT   N/C  ...           0         0   \n",
       "1  NOT CLASSIFIED AS DANGEROUS FOR TRANSPORT   N/C  ...           0         0   \n",
       "\n",
       "  Origin District Destination District    Date Out  \\\n",
       "0       SHEFFIELD                LEEDS  11/01/2023   \n",
       "1       SHEFFIELD                LEEDS  11/01/2023   \n",
       "\n",
       "                                 DR Code Tonnage Municipal Source  \\\n",
       "0  R03 - RECYCLING OF ORGANIC SUBSTANCES  0.0015               No   \n",
       "1  R03 - RECYCLING OF ORGANIC SUBSTANCES   0.002               No   \n",
       "\n",
       "                                 Column1    EWC2  \n",
       "0  R03 - Recycling of organic substances  150110  \n",
       "1  R03 - Recycling of organic substances  150110  \n",
       "\n",
       "[2 rows x 42 columns]"
      ]
     },
     "execution_count": 59,
     "metadata": {},
     "output_type": "execute_result"
    }
   ],
   "source": [
    "df = pd.read_csv(\"data/raw3.csv\")\n",
    "print(f'The primary data set has {len(df.columns)} columns and {len(df)} rows.')\n",
    "df.head(2)"
   ]
  },
  {
   "cell_type": "code",
   "execution_count": 4,
   "metadata": {},
   "outputs": [],
   "source": [
    "# A helper function for visualisation\n",
    "def create_histogram_from_column(dataframe, column_name, width, height):\n",
    "    plt.figure(figsize=(width, height))\n",
    "    dataframe[column_name].value_counts().plot(kind='bar', color='skyblue')\n",
    "    plt.title(f'Histogram of {column_name}')\n",
    "    plt.xlabel(column_name)\n",
    "    plt.ylabel('Frequency')\n",
    "    plt.show()"
   ]
  },
  {
   "cell_type": "markdown",
   "metadata": {},
   "source": [
    "Our classifier that we are trying to predict is the disposal outlet."
   ]
  },
  {
   "cell_type": "code",
   "execution_count": 60,
   "metadata": {},
   "outputs": [
    {
     "name": "stdout",
     "output_type": "stream",
     "text": [
      "The usage distribution of each of the 47 outlets:\n",
      "WASTECARE NORMANTON         2669\n",
      "RED INDUSTRIES              1944\n",
      "FCC BBM                     1857\n",
      "CLEAN PAK                   1710\n",
      "ROBERT HOPKINS              1657\n",
      "MALARY                      1439\n",
      "MYTUM MALTINGS               958\n",
      "VEOLIA NORWOOD               864\n",
      "MULBERRY                     694\n",
      "VEOLIA ELLESMERE PORT        657\n",
      "SWARF                        654\n",
      "BURSCOUGH                    491\n",
      "CASTLE                       460\n",
      "WEDNESBURY                   448\n",
      "LOUGHBOROUGH                 424\n",
      "AVANTI                       404\n",
      "ERP                          374\n",
      "TRADEBE FAWLEY               358\n",
      "OIL RECOVERIES               351\n",
      "PACKCARE                     311\n",
      "ECO BAT                      290\n",
      "SLICKER                      235\n",
      "MULBERRY KNOWSLEY            231\n",
      "FCC ECCLESFIELD              222\n",
      "FCC KNOSTROP                 176\n",
      "ATTLEBOROUGH                 164\n",
      "ESYNERGY                     155\n",
      "FUTURE                       108\n",
      "MYTUM SHERBURN                83\n",
      "SRCL                          83\n",
      "WASTE MATTERS                 78\n",
      "SEVERN TRENT                  73\n",
      "WASTECARE VALLEY HOUSE        58\n",
      "BIFFA SHEFFIELD DARNALL       56\n",
      "BIFFA KILSYTH                 53\n",
      "TOTUS ENVIRONMENTAL           48\n",
      "ODONOVANS                     47\n",
      "ROTHERHAM WASTE OIL           40\n",
      "CLEAN TANK                    33\n",
      "TRADEBE HEYSHAM               22\n",
      "EMR                           21\n",
      "AUGEAN BERWICK                17\n",
      "TOTAL RECYCLING SERVICES      15\n",
      "POPLARS                        7\n",
      "STOCKLEYS                      5\n",
      "SPIVEY                         2\n",
      "FCC LINCOLN                    1\n",
      "Name: Disposal, dtype: int64\n"
     ]
    },
    {
     "data": {
      "image/png": "[encoded data removed]",
      "text/plain": [
       "<Figure size 1500x300 with 1 Axes>"
      ]
     },
     "metadata": {},
     "output_type": "display_data"
    }
   ],
   "source": [
    "# Find the unique values for Disposal and arrange alphabetically\n",
    "outlets = pd.DataFrame({'Disposal': df['Disposal'].unique()})\n",
    "outlets = outlets.sort_values(by='Disposal').reset_index(drop=True)\n",
    "\n",
    "print(f'The usage distribution of each of the {len(outlets)} outlets:')\n",
    "\n",
    "# Count occurrences of each label\n",
    "label_counts = df['Disposal'].value_counts()\n",
    "print(label_counts)\n",
    "\n",
    "# Add a visualisation\n",
    "create_histogram_from_column(df, 'Disposal', 15, 3)"
   ]
  },
  {
   "cell_type": "markdown",
   "metadata": {},
   "source": [
    "Disposal outlets that only appear a few (less than 5) times in our dataset don't offer sufficient information for training purposes, so we can remove those."
   ]
  },
  {
   "cell_type": "markdown",
   "metadata": {},
   "source": [
    "## Row Trimmer"
   ]
  },
  {
   "cell_type": "code",
   "execution_count": 61,
   "metadata": {},
   "outputs": [],
   "source": [
    "# Create a Row Trimmer by extending the BaseEstimator class\n",
    "class RowTrimmer(BaseEstimator, TransformerMixin):\n",
    "    def __init__(self, min_count=1):\n",
    "        self.min_count = min_count\n",
    "\n",
    "    def fit(self, X, y=None):\n",
    "        return self\n",
    "    \n",
    "    def transform(self, X):\n",
    "        before_trim_size = len(X)\n",
    "        # Drop rows with nothing in the Disposal Column\n",
    "        X.dropna(subset=['Disposal'], inplace=True)\n",
    "        label_counts = X['Disposal'].value_counts()\n",
    "        # Find the indices of labels that only appear once.\n",
    "        unique_labels = label_counts[label_counts < self.min_count].index\n",
    "\n",
    "        # Using the index value, filter out rows where the label appears only once.\n",
    "        X = X[~X['Disposal'].isin(unique_labels)]\n",
    "        after_trim_size = len(X)\n",
    "\n",
    "        # After trimming rows that we don't want, reset outlets.\n",
    "        outlets = pd.DataFrame({'Disposal': df['Disposal'].unique()})\n",
    "        outlets = outlets.sort_values(by='Disposal').reset_index(drop=True)\n",
    "\n",
    "        print(f'RowTrimmer: Out of {len(label_counts)} outlets, {len(unique_labels)} appear less than { self.min_count} times. {before_trim_size - after_trim_size} rows have been trimmed.')\n",
    "        print(f'RowTrimmer: {X.shape}')\n",
    "        return X"
   ]
  },
  {
   "cell_type": "code",
   "execution_count": 62,
   "metadata": {},
   "outputs": [
    {
     "name": "stdout",
     "output_type": "stream",
     "text": [
      "RowTrimmer: Out of 47 outlets, 2 appear less than 5 times. 3 rows have been trimmed.\n",
      "RowTrimmer: (21044, 42)\n"
     ]
    }
   ],
   "source": [
    "# Test RowTrimmer\n",
    "from sklearn.pipeline import Pipeline\n",
    "rt_params = {\n",
    "    'rt__min_count': 5\n",
    "}\n",
    "\n",
    "# Create a pipeline to build a model\n",
    "rt_pipe = Pipeline([\n",
    "    ('rt', RowTrimmer())\n",
    "])\n",
    "\n",
    "rt_pipe.set_params(**rt_params)\n",
    "\n",
    "# Example usage of the pipeline\n",
    "rt_trim = rt_pipe.fit_transform(df)"
   ]
  },
  {
   "cell_type": "markdown",
   "metadata": {},
   "source": [
    "Having trimmed away a few unhelpful rows, we can now consider columns. Of the 42 or so columns, there are only a few that can be used as descriptors and a second data file labels.xlsx, is provided that lists all columns and indicates which ones are useful."
   ]
  },
  {
   "cell_type": "markdown",
   "metadata": {},
   "source": [
    "After a bit of tidying up in the In/Out column, i.e filling in any missing values or not either IN or OUT. We can trim off any excess columns that arn't of any interest and produce a lighter weight data set."
   ]
  },
  {
   "cell_type": "markdown",
   "metadata": {},
   "source": [
    "## Column Trimmer"
   ]
  },
  {
   "cell_type": "code",
   "execution_count": 63,
   "metadata": {},
   "outputs": [],
   "source": [
    "# Define a custom transformer to clean column names\n",
    "class CleanColumnNamesTransformer(BaseEstimator, TransformerMixin):\n",
    "    def fit(self, X, y=None):\n",
    "        return self\n",
    "\n",
    "    def transform(self, X):\n",
    "        X.columns = X.columns.str.strip().str.replace(' ', '_')\n",
    "        return X"
   ]
  },
  {
   "cell_type": "code",
   "execution_count": 46,
   "metadata": {},
   "outputs": [],
   "source": [
    "# Define the ColumnTrimmer class\n",
    "class ColumnTrimmer(BaseEstimator, TransformerMixin):\n",
    "    def __init__(self, filename=''):\n",
    "        self.filename = filename\n",
    "\n",
    "    def fit(self, X, y=None):\n",
    "        return self\n",
    "\n",
    "    def transform(self, X):\n",
    "        # Load the excel file\n",
    "        lb = pd.read_excel(self.filename, header=0)\n",
    "        lb.head(2)\n",
    "\n",
    "        # Fill in any missing values in the In/Out column.\n",
    "        lb.fillna(\"OUT\", inplace=True)\n",
    "\n",
    "        # Replace any values that are not either IN or OUT.\n",
    "        temp = [value if value in [\"IN\", \"OUT\"] else \"OUT\" for value in lb['In/Out'].values] \n",
    "        lb['In/Out'] = temp\n",
    "\n",
    "        # Filter the labels for those where In/Out == IN\n",
    "        features = lb[lb['In/Out']=='IN'].astype('str')\n",
    "        self.columns_to_keep = [col.strip().replace(' ', '_') for col in features['Column'].values]\n",
    "\n",
    "        # Select only specified columns\n",
    "        if self.columns_to_keep is not None and any(self.columns_to_keep):\n",
    "            transformed_df = X[self.columns_to_keep]  \n",
    "        else:\n",
    "            transformed_df = X\n",
    "        \n",
    "        print(f'ColumnTrimmer: After trimming {len(transformed_df.columns)} columns remain.  {features.Column.values}')\n",
    "        print(f'ColumnTrimmer: {transformed_df.shape}')\n",
    "        return transformed_df"
   ]
  },
  {
   "cell_type": "code",
   "execution_count": 65,
   "metadata": {},
   "outputs": [
    {
     "name": "stdout",
     "output_type": "stream",
     "text": [
      "ColumnTrimmer: After trimming 7 columns remain.  ['Description' 'Components and Concentrations' 'Hazard Codes' 'UN Number'\n",
      " 'EWC' 'Disposal' 'Physical State']\n",
      "ColumnTrimmer: (21044, 7)\n"
     ]
    }
   ],
   "source": [
    "# Redefine params\n",
    "ct_params = {\n",
    "    'ct__filename': 'data/labels.xlsx'\n",
    "}\n",
    "\n",
    "# Create a pipeline to build a model\n",
    "ct_pipe = Pipeline([\n",
    "    ('cc', CleanColumnNamesTransformer()),\n",
    "    ('ct', ColumnTrimmer())\n",
    "])\n",
    "\n",
    "ct_pipe.set_params(**ct_params)\n",
    "\n",
    "# Re-run the pipeline with new estimators\n",
    "ct_trim = ct_pipe.fit_transform(rt_trim)"
   ]
  },
  {
   "cell_type": "markdown",
   "metadata": {},
   "source": [
    "Of the 7 remaining columns we can look at each in turn. We will consider:\n",
    "- What place this column represents.\n",
    "- Cleansing and Repairing\n",
    "- Encoding\n",
    "- Adding to a dataframe of features.\n",
    "\n",
    "Let us first of all consider the datatypes of each column."
   ]
  },
  {
   "cell_type": "code",
   "execution_count": 11,
   "metadata": {},
   "outputs": [
    {
     "name": "stdout",
     "output_type": "stream",
     "text": [
      "Description                      object\n",
      "Components_and_Concentrations    object\n",
      "Hazard_Codes                     object\n",
      "UN_Number                        object\n",
      "EWC                              object\n",
      "Disposal                         object\n",
      "Physical_State                   object\n",
      "dtype: object\n"
     ]
    }
   ],
   "source": [
    "print(ct_trim.dtypes)"
   ]
  },
  {
   "cell_type": "markdown",
   "metadata": {},
   "source": [
    "We see that all columns are object data types, for machine learning we need to convert these from objects into either float, int or bool data types. On further review we have a combination of categorical data expressed as text, plus entirely free text that is rich in common words or phrases. Two of the categorical terms have very high numbers of possibilities (or dimensions).\n",
    "\n",
    "Text based class labels:\n",
    "- Disposal\n",
    "\n",
    "Low Dimensional, Single Categorical terms:\n",
    "- Physical State\n",
    "\n",
    "Low Dimensional, Multi Categorical, space delimited terms:\n",
    "- Hazard Codes\n",
    "\n",
    "High Dimensional Categorical terms:\n",
    "- EWC\n",
    "- UN Number\n",
    "\n",
    "Text columns:\n",
    "- Description\n",
    "- Components and Concentrations\n",
    "\n",
    "## Approach\n",
    "- Text based labels can be treated simply by adding an index column.\n",
    "- Low dimensional categorical terms can be encoded by one hot encoding. \n",
    "- Low dimensional categorical terms that need to be tokenised before one hot encoding.\n",
    "- High dimensional categorical terms would be best suited to feature hashing.\n",
    "- Text based terms can be turned into vectors using the Word2Vec library.\n",
    "\n",
    "## Model Building\n",
    "We can adopt a reusable pipeline to process all of our data in a consistent manner, whether it is for trainng and testing or in the working environment. To this end we will also need four estimators, for data cleansing and encoding. \n",
    "- IndexTransformer\n",
    "- OneHotTransformer\n",
    "- OneHotTokenTransformer\n",
    "- FeatureHshingTransformer\n",
    "- TextTransformer"
   ]
  },
  {
   "cell_type": "markdown",
   "metadata": {},
   "source": [
    "## Index Transformer"
   ]
  },
  {
   "cell_type": "code",
   "execution_count": 96,
   "metadata": {},
   "outputs": [],
   "source": [
    "# Create a class for transforming Disposal\n",
    "class IndexTransformer(BaseEstimator, TransformerMixin):\n",
    "    def __init__(self, column_name=None):\n",
    "        self.column_name = column_name\n",
    "\n",
    "    def fit(self, X, y=None):\n",
    "        return self\n",
    "\n",
    "    def transform(self, X):\n",
    "        transformed_data = pd.DataFrame(())\n",
    "        try:        \n",
    "            # Tidy up a bit\n",
    "            X[self.column_name].str.upper()\n",
    "            X[self.column_name].str.strip()\n",
    "\n",
    "            # Find the unique values and arrange alphabetically\n",
    "            df_temp = pd.DataFrame({self.column_name: df[self.column_name].unique()})\n",
    "            df_temp = df_temp.sort_values(by=self.column_name).reset_index(drop=True)\n",
    "\n",
    "            # Create a dictionary mapping values to their index\n",
    "            index_map = {item: idx for idx, item in enumerate(df_temp[self.column_name])}\n",
    "            \n",
    "            # Create a new column name +'_Index' in the DataFrame\n",
    "            column_index = self.column_name + '_Index'\n",
    "            df_temp[column_index] = df_temp[self.column_name].map(index_map)\n",
    "            \n",
    "            # Append index column to the original dataframe\n",
    "            transformed_data = pd.concat([X, df_temp[column_index]], axis=1)\n",
    "\n",
    "        except Exception as e:\n",
    "            # Handle any other exceptions\n",
    "            print(f\"IndexTransformer: An error occurred in {self.column_name}:\", e)\n",
    "        else:\n",
    "            # Code to execute if no exception is raised\n",
    "            print(f\"IndexTransformer: Successfully completed: {self.column_name}\")\n",
    "        finally:\n",
    "            print(f'IndexTransformer: Finished {self.column_name} Shape: {transformed_data.shape}')\n",
    "            print('-------------------------------------------------------------------------') \n",
    "        return transformed_data"
   ]
  },
  {
   "cell_type": "markdown",
   "metadata": {},
   "source": [
    "## One Hot Transformer"
   ]
  },
  {
   "cell_type": "code",
   "execution_count": 95,
   "metadata": {},
   "outputs": [],
   "source": [
    "# An estimator for Ono Hot Encoding\n",
    "class OneHotTransformer(BaseEstimator, TransformerMixin):\n",
    "    def __init__(self, column_name=None):\n",
    "        self.column_name = column_name\n",
    "\n",
    "    def fit(self, X, y=None):\n",
    "        return self\n",
    "\n",
    "    def transform(self, X):\n",
    "        transformed_data = pd.DataFrame()\n",
    "        try:\n",
    "            # Create a copy of the data to encode\n",
    "            df_temp = pd.DataFrame({'temp': X[self.column_name].values})\n",
    "\n",
    "            # Small modifier for Physical State\n",
    "            if(self.column_name=='Physical_State'):\n",
    "                df_temp = df_temp.fillna('MIXED')\n",
    "\n",
    "            # Call pandas get_dummies to one hot encode\n",
    "            df_temp = pd.get_dummies(df_temp, prefix=self.column_name)\n",
    "\n",
    "            # Remove the encoded column\n",
    "            X = X.drop(self.column_name, axis=1)\n",
    "\n",
    "            # Add columns to the model\n",
    "            transformed_data = pd.concat([X, df_temp], axis=1)\n",
    "            \n",
    "        except Exception as e:\n",
    "            # Handle any other exceptions\n",
    "            print(f\"OneHotTransformer: An error occurred in {self.column_name}:\", e)\n",
    "        else:\n",
    "            # Code to execute if no exception is raised\n",
    "            print(f\"OneHotTransformer: Successfully completed: {self.column_name}\")\n",
    "        finally:\n",
    "            print(f'OneHotTransformer: Finished {self.column_name} Shape: {transformed_data.shape}')\n",
    "            print('-------------------------------------------------------------------------') \n",
    "        return transformed_data"
   ]
  },
  {
   "cell_type": "markdown",
   "metadata": {},
   "source": [
    "## One Hot Token Transformer"
   ]
  },
  {
   "cell_type": "code",
   "execution_count": 94,
   "metadata": {},
   "outputs": [],
   "source": [
    "# Anestimator for encoding strings of tokenised categories\n",
    "class OneHotTokenTransformer(BaseEstimator, TransformerMixin):\n",
    "    def __init__(self, column_name=None, classes=None):\n",
    "        self.column_name = column_name\n",
    "        self.classes = classes\n",
    "\n",
    "    def fit(self, X, y=None):\n",
    "        return self\n",
    "\n",
    "    def transform(self, X):\n",
    "        transformed_data = pd.DataFrame()\n",
    "        try:\n",
    "            # Tidy Up\n",
    "            df_hc = pd.DataFrame()\n",
    "            for hc in self.classes:\n",
    "                df_hc[hc] = 0\n",
    "\n",
    "            # Fill missing values (NaN) in the 'Hazard_Codes' column with an empty string\n",
    "            X[self.column_name].fillna('NC', inplace=True)\n",
    "\n",
    "            # Split the codes in the 'Hazard_Codes' column and assign 1's and 0's\n",
    "            for code in self.classes:\n",
    "                df_hc[code] = X[self.column_name].apply(lambda x: 1 if code in x.split() else 0)\n",
    "            \n",
    "            # Remove the encoded column\n",
    "            X = X.drop(self.column_name, axis=1)\n",
    "            \n",
    "            # Add columns to the model\n",
    "            transformed_data = pd.concat([X, df_hc], axis=1)\n",
    "        except Exception as e:\n",
    "            # Handle any other exceptions\n",
    "            print(\"OneHotTokenTransformer: An error occurred:\", e)\n",
    "        else:\n",
    "            # Code to execute if no exception is raised\n",
    "            print(f\"OneHotTokenTransformer: Successfully completed: {self.column_name}\")\n",
    "        finally:\n",
    "            # Code that will always run, regardless of an exception\n",
    "            print(f'OneHotTokenTransformer: Finished {self.column_name} Shape: {transformed_data.shape}') \n",
    "            print('-------------------------------------------------------------------------')       \n",
    "        return transformed_data"
   ]
  },
  {
   "cell_type": "markdown",
   "metadata": {},
   "source": [
    "## Feature Hashing Transformer"
   ]
  },
  {
   "cell_type": "code",
   "execution_count": 93,
   "metadata": {},
   "outputs": [],
   "source": [
    "# An estimator for cleaning text and encoding with feature hashing.\n",
    "class FeatureHashingTransformer(BaseEstimator, TransformerMixin):\n",
    "    def __init__(self, column_name=None, num_vec=6):\n",
    "        self.column_name = column_name\n",
    "        self.num_vec = num_vec\n",
    "\n",
    "    def fit(self, X, y=None):\n",
    "        return self\n",
    "    \n",
    "    def transform(self, X):\n",
    "        transformed_data = pd.DataFrame()\n",
    "        try:\n",
    "            # For EWC codes only\n",
    "            def add_zero_to_five_length_items(column):\n",
    "                modified_column = [item if len(item) != 5 else '0' + item for item in column]\n",
    "                return modified_column\n",
    "            \n",
    "            # A helper function for encoding highly diverse categorical information.\n",
    "            def feature_hasher(data, prefix, num_features):\n",
    "                # Initialize the FeatureHasher object\n",
    "                hasher = FeatureHasher(n_features=num_features, input_type='string')\n",
    "\n",
    "                # Apply feature hashing to the data\n",
    "                hashed_features = hasher.transform(data.astype(str))\n",
    "\n",
    "                # Convert the hashed features to a DataFrame\n",
    "                df_hashed = pd.DataFrame(hashed_features.toarray())\n",
    "\n",
    "                # Add a prefix to the column name for each feature\n",
    "                df_hashed.columns = [prefix + '_' + col for col in df_hashed.columns.astype('str')]            \n",
    "                return df_hashed\n",
    "        \n",
    "        \n",
    "            if(self.column_name=='EWC'):\n",
    "                # Remove rows where the length of the 'EWC' column is less than 5\n",
    "                X = X[X[self.column_name].apply(lambda x: len(str(x)) >= 5) & X[self.column_name].notnull()]            \n",
    "                # Add zeros to front of EWCs\n",
    "                X[self.column_name] = add_zero_to_five_length_items(X.EWC.values.astype('str'))\n",
    "                        \n",
    "            # Make all uppercase\n",
    "            X[self.column_name].str.upper()\n",
    "\n",
    "            # Remove any preceding aphotrophes\n",
    "            X[self.column_name] = X[self.column_name].str.lstrip(\"'\")\n",
    "\n",
    "            # Remove any following asterisks\n",
    "            X[self.column_name] = X[self.column_name].str.rstrip(\"*\")\n",
    "\n",
    "            # Remove any whitespaces\n",
    "            X[self.column_name] = X[self.column_name].str.strip()\n",
    "\n",
    "            # Hash values into a dataframe\n",
    "            df_fh = feature_hasher(X[self.column_name], self.column_name, self.num_vec)\n",
    "            \n",
    "            # Remove the encoded column\n",
    "            X = X.drop(self.column_name, axis=1)\n",
    "            \n",
    "            # Add columns to the model\n",
    "            transformed_data = pd.concat([X.reset_index(drop=True), df_fh.reset_index(drop=True)], axis=1)\n",
    "        except Exception as e:\n",
    "            # Handle any other exceptions\n",
    "            print(f\"FeatureHashingTransformer: An error occurred in {self.column_name}:\", e)\n",
    "        else:\n",
    "            # Code to execute if no exception is raised\n",
    "            print(f\"FeatureHashingTransformer: Successfully completed: {self.column_name}\")\n",
    "        finally:\n",
    "            print(f'FeatureHashingTransformer: Finished {self.column_name} Shape: {transformed_data.shape}')\n",
    "            print('-------------------------------------------------------------------------') \n",
    "        return transformed_data"
   ]
  },
  {
   "cell_type": "markdown",
   "metadata": {},
   "source": [
    "## Text Transformer"
   ]
  },
  {
   "cell_type": "code",
   "execution_count": 92,
   "metadata": {},
   "outputs": [],
   "source": [
    "# An estimator for transforming text\n",
    "class TextTransformer(BaseEstimator, TransformerMixin):\n",
    "    def __init__(self, column_name='', isalpha=True, vector_size=100, window=10, min_count=1, sg=0):\n",
    "        self.column_name = column_name\n",
    "        self.isalpha = isalpha\n",
    "        self.vector_size = vector_size\n",
    "        self.window = window\n",
    "        self.min_count = min_count\n",
    "        self.sg = sg\n",
    "        \n",
    "    def fit(self, X, y=None):\n",
    "        return self\n",
    "\n",
    "    def transform(self, X):\n",
    "        transformed_data = pd.DataFrame()\n",
    "        try:\n",
    "            # Build a dataframe for vector representations\n",
    "            txt_vectors_df = self.vectorise(X)\n",
    "            \n",
    "            # Remove the encoded column\n",
    "            X = X.drop(self.column_name, axis=1)\n",
    "            \n",
    "            # Add the encoded columns\n",
    "            transformed_data = pd.concat([X,txt_vectors_df], axis=1)\n",
    "            \n",
    "        except Exception as e:\n",
    "            # Handle any other exceptions\n",
    "            print(f\"TextTransformer: An error occurred in {self.column_name}:\", e)\n",
    "        else:\n",
    "            # Code to execute if no exception is raised\n",
    "            print(f\"TextTransformer: Successfully completed: {self.column_name}\")\n",
    "        finally:\n",
    "            print(f'TextTransformer: Finished {self.column_name} Shape: {transformed_data.shape}')\n",
    "            print('-------------------------------------------------------------------------') \n",
    "        return transformed_data\n",
    "    \n",
    "    # Split sentences into lists of preprocessed words and remove any unhelpful terms.\n",
    "    def preprocess_sentence(self, text):\n",
    "        # Define a function to preprocess and clean a word\n",
    "        def preprocess_word(word):\n",
    "            word = ''.join([c if c not in string.punctuation else ' ' for c in word])  # Remove punctuation from within text\n",
    "            return word\n",
    "        \n",
    "        # Get the list of English stop words, this has been downloaded automatically by the natural language toolkit NLTK and saved to a local folder, in AppData.\n",
    "        stopwords = nltk.corpus.stopwords.words('english')\n",
    "\n",
    "        # Additional terms specific to this application can be added, by extending the english stopwords set.\n",
    "        new_stop_words = ['waste','contaminated','with','haz','hazardous','non','non-haz','non-hazardous','w/l','c/w','sched','scheduled','as','per']\n",
    "        stopwords.extend(new_stop_words)\n",
    "\n",
    "        # Break sentance up into words\n",
    "        tokens = word_tokenize(preprocess_word(text)) \n",
    "\n",
    "        # Tidy up, standardise case to lower.\n",
    "        tokens = [word.lower() for word in tokens]\n",
    "\n",
    "        # Remove whitespaces\n",
    "        tokens = [word.strip() for word in tokens]\n",
    "\n",
    "        # Remove numbers\n",
    "        if(self.isalpha): # if True remove numbers\n",
    "            tokens = [word for word in tokens if word.isalpha()]\n",
    "        # Exclude stopped words\n",
    "        tokens = [word for word in tokens if word not in stopwords]\n",
    "\n",
    "        # Remove punctuation from between words\n",
    "        tokens = [word for word in tokens if word not in string.punctuation]\n",
    "        return tokens\n",
    "\n",
    "    # Produce a dataframe containing a set of vectorised text\n",
    "    def vectorise(self, data):\n",
    "        # Extract text data from a specific column\n",
    "        word_column = data[self.column_name].astype('str').tolist()\n",
    "\n",
    "        # Extract unique words and preprocess them\n",
    "        tokenized_sentences = [self.preprocess_sentence(word) for word in word_column]\n",
    "        \n",
    "        # Train the Word2Vec model\n",
    "        model = Word2Vec(sentences=tokenized_sentences, vector_size=self.vector_size, window=self.window, min_count=self.min_count, sg=self.sg)\n",
    "\n",
    "        # Save the Word2Vec model\n",
    "        #model.save(f'c:/users/user/desktop/models/{column_name}_model')\n",
    "\n",
    "        # Create sentence vectors by averaging the word vectors for each preprocessed word in the sentence\n",
    "        sentence_vectors = []\n",
    "        for sentence in tokenized_sentences:\n",
    "            if(len(sentence) > 0):\n",
    "                word_vectors = [model.wv[word] for word in sentence if word in model.wv]\n",
    "                if word_vectors:\n",
    "                    sentence_vector = np.mean(word_vectors, axis=0)\n",
    "                else:\n",
    "                    print(f'{sentence} not found in vocabulary.')\n",
    "                    sentence_vector = np.zeros(model.vector_size)                \n",
    "            else:\n",
    "                sentence_vector = np.zeros(model.vector_size)\n",
    "            sentence_vectors.append(sentence_vector)\n",
    "\n",
    "        # Remove whitespaces from column names\n",
    "        cn = self.column_name.replace(' ','_')\n",
    "\n",
    "        # Add to a dataframe of features\n",
    "        sentence_vectors_df = pd.DataFrame(sentence_vectors, columns=[f'{cn}_{i}' for i in range(model.vector_size)])\n",
    "        return sentence_vectors_df"
   ]
  },
  {
   "cell_type": "markdown",
   "metadata": {},
   "source": [
    "## EWC (European Waste Code)"
   ]
  },
  {
   "cell_type": "markdown",
   "metadata": {},
   "source": [
    "These are categorical terms for the instustry sector from where the waste originates, they take the form of three pairs of number characters plus optionally an asterisk, most commonly the three pairs are joined to form a six digit number. Each disposal site has a list of allowable EWC codes on it's permit, this if anything should be the most significant term, however we do not have a copy of all of the sites permits. More than one site can have the same EWC so there are other factors to consider, not listed here such as comparative cost and geographical distance."
   ]
  },
  {
   "cell_type": "markdown",
   "metadata": {},
   "source": [
    "There is room for some standardisation and tidying before going any further. Consider the length of the code, it should be either 6 or 7 characters long, the seventh being an asterix which denotes hazardous nature. Since hazardous properties are described in other columns the presence of the asterix or otherwise can be ignored."
   ]
  },
  {
   "cell_type": "code",
   "execution_count": 17,
   "metadata": {},
   "outputs": [
    {
     "name": "stdout",
     "output_type": "stream",
     "text": [
      "Before cleaning there are 212 unique EWC codes in the collection\n"
     ]
    },
    {
     "data": {
      "image/png": "[encoded data removed]",
      "text/plain": [
       "<Figure size 600x400 with 1 Axes>"
      ]
     },
     "metadata": {},
     "output_type": "display_data"
    }
   ],
   "source": [
    "# A function to aid visualisation\n",
    "def group_by_character_count(column):\n",
    "    grouped_items = {}\n",
    "    for item in column:\n",
    "        char_count = len(item)\n",
    "        if char_count not in grouped_items:\n",
    "            grouped_items[char_count] = []\n",
    "        grouped_items[char_count].append(item)\n",
    "    # Plotting the histogram\n",
    "    plt.figure(figsize=(6, 4))\n",
    "    plt.bar(grouped_items.keys(), [len(items) for items in grouped_items.values()])\n",
    "    plt.xlabel('Number of Characters')\n",
    "    plt.ylabel('Frequency')\n",
    "    plt.title('Histogram of EWC codes Grouped by Character Count')\n",
    "    plt.show()\n",
    "    return grouped_items\n",
    "\n",
    "print(f'Before cleaning there are {len(ct_trim.EWC.unique())} unique EWC codes in the collection')\n",
    "# Group by number of characters\n",
    "grouped_items = group_by_character_count(ct_trim.EWC.values.astype('str'))\n"
   ]
  },
  {
   "cell_type": "markdown",
   "metadata": {},
   "source": [
    "Plotting the frequecy distribution of EWC code length we find that there are a number that have 5 or 8 characters as well as the expected 6 or 7. This is typically due to their origin in Excel where numbers with preceding zeros will be truncated, yet EWC codes beginning with zero are legal values. Similarly to force Excel to treat a number as text it is sometimes preceded with an apostrophe.\n",
    "\n",
    "Tidying up steps will be:\n",
    "- Remove any rows without EWC codes\n",
    "- Reomve any apostrophes\n",
    "- Remove any asterisks\n",
    "- Remove whitespaces\n",
    "- Add zeros to the front of codes with 5 characters.\n",
    "   "
   ]
  },
  {
   "cell_type": "code",
   "execution_count": 79,
   "metadata": {},
   "outputs": [
    {
     "name": "stdout",
     "output_type": "stream",
     "text": [
      "df_fh.Shape 4 (21044, 6)\n",
      "X.Shape 5 (21044, 6)\n",
      "FeatureHashingTransformer: Finished EWC Shape: (21044, 12)\n"
     ]
    },
    {
     "data": {
      "text/html": [
       "<div>\n",
       "<style scoped>\n",
       "    .dataframe tbody tr th:only-of-type {\n",
       "        vertical-align: middle;\n",
       "    }\n",
       "\n",
       "    .dataframe tbody tr th {\n",
       "        vertical-align: top;\n",
       "    }\n",
       "\n",
       "    .dataframe thead th {\n",
       "        text-align: right;\n",
       "    }\n",
       "</style>\n",
       "<table border=\"1\" class=\"dataframe\">\n",
       "  <thead>\n",
       "    <tr style=\"text-align: right;\">\n",
       "      <th></th>\n",
       "      <th>Description</th>\n",
       "      <th>Components_and_Concentrations</th>\n",
       "      <th>Hazard_Codes</th>\n",
       "      <th>UN_Number</th>\n",
       "      <th>Disposal</th>\n",
       "      <th>Physical_State</th>\n",
       "      <th>EWC_0</th>\n",
       "      <th>EWC_1</th>\n",
       "      <th>EWC_2</th>\n",
       "      <th>EWC_3</th>\n",
       "      <th>EWC_4</th>\n",
       "      <th>EWC_5</th>\n",
       "    </tr>\n",
       "  </thead>\n",
       "  <tbody>\n",
       "    <tr>\n",
       "      <th>0</th>\n",
       "      <td>EMPTY PLASTIC DRUMS (60L)</td>\n",
       "      <td>NIL HAZARDOUS COMPONENTS</td>\n",
       "      <td>N/C</td>\n",
       "      <td>NCAD</td>\n",
       "      <td>PACKCARE</td>\n",
       "      <td>SOLID</td>\n",
       "      <td>1.0</td>\n",
       "      <td>-5.0</td>\n",
       "      <td>0.0</td>\n",
       "      <td>0.0</td>\n",
       "      <td>0.0</td>\n",
       "      <td>0.0</td>\n",
       "    </tr>\n",
       "    <tr>\n",
       "      <th>1</th>\n",
       "      <td>EMPTY PLASTIC DRUMS (30L)</td>\n",
       "      <td>Nil hazardous components</td>\n",
       "      <td>N/C</td>\n",
       "      <td>NCAD</td>\n",
       "      <td>PACKCARE</td>\n",
       "      <td>SOLID</td>\n",
       "      <td>1.0</td>\n",
       "      <td>-5.0</td>\n",
       "      <td>0.0</td>\n",
       "      <td>0.0</td>\n",
       "      <td>0.0</td>\n",
       "      <td>0.0</td>\n",
       "    </tr>\n",
       "  </tbody>\n",
       "</table>\n",
       "</div>"
      ],
      "text/plain": [
       "                 Description Components_and_Concentrations Hazard_Codes  \\\n",
       "0  EMPTY PLASTIC DRUMS (60L)      NIL HAZARDOUS COMPONENTS          N/C   \n",
       "1  EMPTY PLASTIC DRUMS (30L)      Nil hazardous components          N/C   \n",
       "\n",
       "  UN_Number  Disposal Physical_State  EWC_0  EWC_1  EWC_2  EWC_3  EWC_4  EWC_5  \n",
       "0      NCAD  PACKCARE          SOLID    1.0   -5.0    0.0    0.0    0.0    0.0  \n",
       "1      NCAD  PACKCARE          SOLID    1.0   -5.0    0.0    0.0    0.0    0.0  "
      ]
     },
     "execution_count": 79,
     "metadata": {},
     "output_type": "execute_result"
    }
   ],
   "source": [
    "# Redefine params\n",
    "ewc_params = {\n",
    "    'et__column_name': 'EWC',\n",
    "    'et__num_vec': 6\n",
    "}\n",
    "\n",
    "# Create a pipeline to build a model\n",
    "ewc_pipe = Pipeline([\n",
    "    ('et', FeatureHashingTransformer())\n",
    "])\n",
    "\n",
    "ewc_pipe.set_params(**ewc_params)\n",
    "\n",
    "# Re-run the pipeline with new estimators\n",
    "ewc_trim = ewc_pipe.fit_transform(ct_trim)\n",
    "ewc_trim.head(2)"
   ]
  },
  {
   "cell_type": "markdown",
   "metadata": {},
   "source": [
    "## Physical Form\n",
    "\n",
    "A text field with categorical single word terms, since they are free text entry we should take a closer look."
   ]
  },
  {
   "cell_type": "code",
   "execution_count": 19,
   "metadata": {},
   "outputs": [
    {
     "name": "stdout",
     "output_type": "stream",
     "text": [
      "There are 7 different forms: ['SOLID' 'LIQUID' 'MIXED' 'SLUDGE' 'GAS' 'POWDER' nan]\n",
      "SOLID     9238\n",
      "MIXED     6546\n",
      "LIQUID    3987\n",
      "SLUDGE     951\n",
      "GAS        265\n",
      "POWDER      57\n",
      "Name: Physical_State, dtype: int64\n"
     ]
    },
    {
     "data": {
      "image/png": "[encoded data removed]",
      "text/plain": [
       "<Figure size 400x200 with 1 Axes>"
      ]
     },
     "metadata": {},
     "output_type": "display_data"
    }
   ],
   "source": [
    "# Remove whitespaces\n",
    "ewc_trim.Physical_State = ewc_trim.Physical_State.str.strip()\n",
    "\n",
    "# Review a few properties\n",
    "physical_state_unique = ewc_trim.Physical_State.unique()\n",
    "print(f'There are {len(physical_state_unique)} different forms: {physical_state_unique}')\n",
    "print(ewc_trim.Physical_State.value_counts())\n",
    "create_histogram_from_column(ewc_trim, 'Physical_State', 4, 2)"
   ]
  },
  {
   "cell_type": "markdown",
   "metadata": {},
   "source": [
    "The physical state column appears to be clean data with low dimensionality therefore we can apply one hot encoding."
   ]
  },
  {
   "cell_type": "code",
   "execution_count": 20,
   "metadata": {},
   "outputs": [
    {
     "name": "stdout",
     "output_type": "stream",
     "text": [
      "                 Description Components_and_Concentrations Hazard_Codes  \\\n",
      "0  EMPTY PLASTIC DRUMS (60L)      NIL HAZARDOUS COMPONENTS          N/C   \n",
      "1  EMPTY PLASTIC DRUMS (30L)      Nil hazardous components          N/C   \n",
      "\n",
      "  UN_Number  Disposal  EWC_0  EWC_1  EWC_2  EWC_3  EWC_4  EWC_5  \\\n",
      "0      NCAD  PACKCARE    1.0   -5.0    0.0    0.0    0.0    0.0   \n",
      "1      NCAD  PACKCARE    1.0   -5.0    0.0    0.0    0.0    0.0   \n",
      "\n",
      "   Physical_State_GAS  Physical_State_LIQUID  Physical_State_MIXED  \\\n",
      "0                   0                      0                     0   \n",
      "1                   0                      0                     0   \n",
      "\n",
      "   Physical_State_POWDER  Physical_State_SLUDGE  Physical_State_SOLID  \n",
      "0                      0                      0                     1  \n",
      "1                      0                      0                     1  \n",
      "(21047, 17)\n"
     ]
    }
   ],
   "source": [
    "# Redefine params\n",
    "ps_params = {\n",
    "    'ps__column_name':'Physical_State'\n",
    "}\n",
    "\n",
    "# Create a pipeline to build a model\n",
    "ps_pipe = Pipeline([\n",
    "    ('ps', OneHotTransformer())\n",
    "])\n",
    "\n",
    "ps_pipe.set_params(**ps_params)\n",
    "\n",
    "# Re-run the pipeline with new estimators\n",
    "ps_trim = ps_pipe.fit_transform(ewc_trim)\n",
    "\n",
    "print(ps_trim.head(2))\n",
    "print(ps_trim.shape)"
   ]
  },
  {
   "cell_type": "code",
   "execution_count": 21,
   "metadata": {},
   "outputs": [
    {
     "name": "stdout",
     "output_type": "stream",
     "text": [
      "                    Disposal\n",
      "0               ATTLEBOROUGH\n",
      "1             AUGEAN BERWICK\n",
      "2                     AVANTI\n",
      "3              BIFFA KILSYTH\n",
      "4    BIFFA SHEFFIELD DARNALL\n",
      "5                  BURSCOUGH\n",
      "6                     CASTLE\n",
      "7                  CLEAN PAK\n",
      "8                 CLEAN TANK\n",
      "9                    ECO BAT\n",
      "10                       EMR\n",
      "11                       ERP\n",
      "12                  ESYNERGY\n",
      "13                   FCC BBM\n",
      "14           FCC ECCLESFIELD\n",
      "15              FCC KNOSTROP\n",
      "16               FCC LINCOLN\n",
      "17                    FUTURE\n",
      "18              LOUGHBOROUGH\n",
      "19                    MALARY\n",
      "20                  MULBERRY\n",
      "21         MULBERRY KNOWSLEY\n",
      "22            MYTUM MALTINGS\n",
      "23            MYTUM SHERBURN\n",
      "24                 ODONOVANS\n",
      "25            OIL RECOVERIES\n",
      "26                  PACKCARE\n",
      "27                   POPLARS\n",
      "28            RED INDUSTRIES\n",
      "29            ROBERT HOPKINS\n",
      "30       ROTHERHAM WASTE OIL\n",
      "31              SEVERN TRENT\n",
      "32                   SLICKER\n",
      "33                    SPIVEY\n",
      "34                      SRCL\n",
      "35                 STOCKLEYS\n",
      "36                     SWARF\n",
      "37  TOTAL RECYCLING SERVICES\n",
      "38       TOTUS ENVIRONMENTAL\n",
      "39            TRADEBE FAWLEY\n",
      "40           TRADEBE HEYSHAM\n",
      "41     VEOLIA ELLESMERE PORT\n",
      "42            VEOLIA NORWOOD\n",
      "43             WASTE MATTERS\n",
      "44       WASTECARE NORMANTON\n",
      "45    WASTECARE VALLEY HOUSE\n",
      "46                WEDNESBURY\n",
      "{'ATTLEBOROUGH': 0, 'AUGEAN BERWICK': 1, 'AVANTI': 2, 'BIFFA KILSYTH': 3, 'BIFFA SHEFFIELD DARNALL': 4, 'BURSCOUGH': 5, 'CASTLE': 6, 'CLEAN PAK': 7, 'CLEAN TANK': 8, 'ECO BAT': 9, 'EMR': 10, 'ERP': 11, 'ESYNERGY': 12, 'FCC BBM': 13, 'FCC ECCLESFIELD': 14, 'FCC KNOSTROP': 15, 'FCC LINCOLN': 16, 'FUTURE': 17, 'LOUGHBOROUGH': 18, 'MALARY': 19, 'MULBERRY': 20, 'MULBERRY KNOWSLEY': 21, 'MYTUM MALTINGS': 22, 'MYTUM SHERBURN': 23, 'ODONOVANS': 24, 'OIL RECOVERIES': 25, 'PACKCARE': 26, 'POPLARS': 27, 'RED INDUSTRIES': 28, 'ROBERT HOPKINS': 29, 'ROTHERHAM WASTE OIL': 30, 'SEVERN TRENT': 31, 'SLICKER': 32, 'SPIVEY': 33, 'SRCL': 34, 'STOCKLEYS': 35, 'SWARF': 36, 'TOTAL RECYCLING SERVICES': 37, 'TOTUS ENVIRONMENTAL': 38, 'TRADEBE FAWLEY': 39, 'TRADEBE HEYSHAM': 40, 'VEOLIA ELLESMERE PORT': 41, 'VEOLIA NORWOOD': 42, 'WASTE MATTERS': 43, 'WASTECARE NORMANTON': 44, 'WASTECARE VALLEY HOUSE': 45, 'WEDNESBURY': 46}\n",
      "                  Disposal  Disposal_Index\n",
      "0             ATTLEBOROUGH               0\n",
      "1           AUGEAN BERWICK               1\n",
      "2                   AVANTI               2\n",
      "3            BIFFA KILSYTH               3\n",
      "4  BIFFA SHEFFIELD DARNALL               4\n",
      "                 Description Components_and_Concentrations Hazard_Codes  \\\n",
      "0  EMPTY PLASTIC DRUMS (60L)      NIL HAZARDOUS COMPONENTS          N/C   \n",
      "1  EMPTY PLASTIC DRUMS (30L)      Nil hazardous components          N/C   \n",
      "\n",
      "  UN_Number  Disposal  EWC_0  EWC_1  EWC_2  EWC_3  EWC_4  EWC_5  \\\n",
      "0      NCAD  PACKCARE    1.0   -5.0    0.0    0.0    0.0    0.0   \n",
      "1      NCAD  PACKCARE    1.0   -5.0    0.0    0.0    0.0    0.0   \n",
      "\n",
      "   Physical_State_GAS  Physical_State_LIQUID  Physical_State_MIXED  \\\n",
      "0                   0                      0                     0   \n",
      "1                   0                      0                     0   \n",
      "\n",
      "   Physical_State_POWDER  Physical_State_SLUDGE  Physical_State_SOLID  \\\n",
      "0                      0                      0                     1   \n",
      "1                      0                      0                     1   \n",
      "\n",
      "   Disposal_Index  \n",
      "0             0.0  \n",
      "1             1.0  \n",
      "(21047, 18)\n"
     ]
    }
   ],
   "source": [
    "# Redefine params\n",
    "d_params = {\n",
    "    'classifier__column_name':'Disposal'\n",
    "}\n",
    "\n",
    "# Create a pipeline to build a model\n",
    "d_pipe = Pipeline([\n",
    "    ('classifier', IndexTransformer())\n",
    "])\n",
    "\n",
    "d_pipe.set_params(**d_params)\n",
    "\n",
    "# Re-run the pipeline with new estimators\n",
    "d_trim = d_pipe.fit_transform(ps_trim)\n",
    "print(d_trim.head(2))\n",
    "print(d_trim.shape)\n"
   ]
  },
  {
   "cell_type": "markdown",
   "metadata": {},
   "source": [
    "## Description\n",
    "\n",
    "This is a short general description of the type of waste, typically less than ten words. This field and the Components field are filled with text, so we need to provide an estimator that can turn text into vectors."
   ]
  },
  {
   "cell_type": "code",
   "execution_count": 37,
   "metadata": {},
   "outputs": [
    {
     "name": "stdout",
     "output_type": "stream",
     "text": [
      "X.shape before vectorise (21047, 18)\n"
     ]
    },
    {
     "name": "stdout",
     "output_type": "stream",
     "text": [
      "tokenized_sentences 21047\n",
      "txt_vec (21047, 100)\n",
      "  Components_and_Concentrations Hazard_Codes UN_Number  Disposal  EWC_0  \\\n",
      "0      NIL HAZARDOUS COMPONENTS          N/C      NCAD  PACKCARE    1.0   \n",
      "1      Nil hazardous components          N/C      NCAD  PACKCARE    1.0   \n",
      "\n",
      "   EWC_1  EWC_2  EWC_3  EWC_4  EWC_5  ...  Description_90  Description_91  \\\n",
      "0   -5.0    0.0    0.0    0.0    0.0  ...        0.599291        0.373407   \n",
      "1   -5.0    0.0    0.0    0.0    0.0  ...        0.599291        0.373407   \n",
      "\n",
      "   Description_92  Description_93  Description_94  Description_95  \\\n",
      "0       -0.153969        0.231795        0.506116        0.058322   \n",
      "1       -0.153969        0.231795        0.506116        0.058322   \n",
      "\n",
      "   Description_96  Description_97  Description_98  Description_99  \n",
      "0        0.172031       -0.339471       -0.392363       -0.100647  \n",
      "1        0.172031       -0.339471       -0.392363       -0.100647  \n",
      "\n",
      "[2 rows x 117 columns]\n",
      "(21047, 117)\n"
     ]
    }
   ],
   "source": [
    "# Redefine params\n",
    "des_params = {\n",
    "    'tt__column_name': 'Description',\n",
    "    'tt__isalpha': True,\n",
    "    'tt__vector_size': 100,\n",
    "    'tt__window': 10,\n",
    "    'tt__min_count': 1,\n",
    "    'tt__sg': 0\n",
    "}\n",
    "\n",
    "# Create a pipeline to build a model\n",
    "des_pipe = Pipeline([\n",
    "    ('tt', TextTransformer())\n",
    "])\n",
    "\n",
    "des_pipe.set_params(**des_params)\n",
    "\n",
    "# Re-run the pipeline with new estimators\n",
    "des_trim = des_pipe.fit_transform(d_trim)\n",
    "print(des_trim.head(2))\n",
    "print(des_trim.shape)"
   ]
  },
  {
   "cell_type": "markdown",
   "metadata": {},
   "source": [
    "## UN Number\n",
    "\n",
    "Legal values are NCAD for non hazardous material, or a four digit number that represents a particular category, i.e. non scalar values."
   ]
  },
  {
   "cell_type": "code",
   "execution_count": 23,
   "metadata": {},
   "outputs": [
    {
     "name": "stdout",
     "output_type": "stream",
     "text": [
      "There are 184 unique UN Number values out of 21047 rows\n"
     ]
    },
    {
     "data": {
      "image/png": "[encoded data removed]",
      "text/plain": [
       "<Figure size 4500x1000 with 1 Axes>"
      ]
     },
     "metadata": {},
     "output_type": "display_data"
    }
   ],
   "source": [
    "# Find unique values\n",
    "un_numbers_unique = des_trim['UN_Number'].unique()\n",
    "\n",
    "# View results\n",
    "print(f'There are {len(un_numbers_unique)} unique UN Number values out of { len(des_trim)} rows' )\n",
    "create_histogram_from_column(des_trim, 'UN_Number', 45, 10)"
   ]
  },
  {
   "cell_type": "markdown",
   "metadata": {},
   "source": [
    "Similar to EWC codes, UN Numbers are categorical terms with a high number of possibilities, so feature hashing can be employed to reduce the number of dimensions."
   ]
  },
  {
   "cell_type": "code",
   "execution_count": 68,
   "metadata": {},
   "outputs": [
    {
     "name": "stdout",
     "output_type": "stream",
     "text": [
      "FeatureHashingTransformer: Finished UN_Number Shape: (21047, 120)\n",
      "  Components_and_Concentrations Hazard_Codes  Disposal  EWC_0  EWC_1  EWC_2  \\\n",
      "0      NIL HAZARDOUS COMPONENTS          N/C  PACKCARE    1.0   -5.0    0.0   \n",
      "1      Nil hazardous components          N/C  PACKCARE    1.0   -5.0    0.0   \n",
      "\n",
      "   EWC_3  EWC_4  EWC_5  Physical_State_GAS  ...  Description_94  \\\n",
      "0    0.0    0.0    0.0                   0  ...        0.506116   \n",
      "1    0.0    0.0    0.0                   0  ...        0.506116   \n",
      "\n",
      "   Description_95  Description_96  Description_97  Description_98  \\\n",
      "0        0.058322        0.172031       -0.339471       -0.392363   \n",
      "1        0.058322        0.172031       -0.339471       -0.392363   \n",
      "\n",
      "   Description_99  UN_Number_0  UN_Number_1  UN_Number_2  UN_Number_3  \n",
      "0       -0.100647          0.0         -1.0          2.0         -1.0  \n",
      "1       -0.100647          0.0         -1.0          2.0         -1.0  \n",
      "\n",
      "[2 rows x 120 columns]\n",
      "(21047, 120)\n"
     ]
    }
   ],
   "source": [
    "# Redefine params\n",
    "un_params = {\n",
    "    'un__column_name': 'UN_Number',\n",
    "    'un__num_vec': 4\n",
    "}\n",
    "\n",
    "# Create a pipeline to build a model\n",
    "un_pipe = Pipeline([\n",
    "    ('un', FeatureHashingTransformer())\n",
    "])\n",
    "\n",
    "un_pipe.set_params(**un_params)\n",
    "\n",
    "# Re-run the pipeline with new estimators\n",
    "un_trim = un_pipe.fit_transform(des_trim)\n",
    "print(un_trim.head(2))\n",
    "print(un_trim.shape)"
   ]
  },
  {
   "cell_type": "markdown",
   "metadata": {},
   "source": [
    "## Components and Concentrations\n",
    "\n",
    "A list of component / concentration pairs, or if this is too complex \"As list\", or if non hazardous \"Nil Hazardous Components\".\n",
    "\n",
    "This field has chemical names and concentrations which to a human reader with some knowledge of chemistry are easy to comprehend, to capture the same level of understanding at machine learning level though will be difficult. Not withstanding the additional complication of free text entry and typographical errors, there are several naming conventions for chemical names, new/old and very old, european, american... and so on. We also find \"as list\" and \"nil hazardous components\" in this field which are legitimate terms within the boundaries of waste description, but their level of abstractness circumnavigates any methodology relating to the recognition of chemical entities. Instead we shall consider a broader scope, that more closely matching the capture of meaning or semantics.\n",
    "\n",
    "This field is rich in chemical nomenclature that form common word fragments. For example chemicals that contain one of the halogen elements, all have four character fragments such as fluo, chlo, brom, Iodo. Alkyl alcohols all contain a common term for the length of the carbon chain and end with 'anol', e.g. eth-anol, meth-anol, prop-anol. etc. Perhaps there is scope to consider fragmenting the words in this column and hoping that the most common chemical fragments will float to the top in a frequency distribution, but this asks the question of how to fragment and how many features would this create, for now we will consider only whole words, misspellings and all.\n",
    "\n",
    "The simplest approach is the adoption of a 'bag of words', without necessarily concerning ourselves with word order or relationships between them. If we treat all words in the column as being the corpus, or bag, then we can assign a position or vector for each word, then averaging these provides us with a vector for the entire sentence. The learning aspect then involves estabilishing the proximity of similar vectors and associating these with a label.\n"
   ]
  },
  {
   "cell_type": "code",
   "execution_count": 42,
   "metadata": {},
   "outputs": [
    {
     "name": "stdout",
     "output_type": "stream",
     "text": [
      "txt_vectors_df:(21047, 500)\n",
      "X:(21047, 119)\n",
      "transformedData:(21047, 619)\n",
      "  Hazard_Codes  Disposal  EWC_0  EWC_1  EWC_2  EWC_3  EWC_4  EWC_5  \\\n",
      "0          N/C  PACKCARE    1.0   -5.0    0.0    0.0    0.0    0.0   \n",
      "1          N/C  PACKCARE    1.0   -5.0    0.0    0.0    0.0    0.0   \n",
      "\n",
      "   Physical_State_GAS  Physical_State_LIQUID  ...  \\\n",
      "0                   0                      0  ...   \n",
      "1                   0                      0  ...   \n",
      "\n",
      "   Components_and_Concentrations_490  Components_and_Concentrations_491  \\\n",
      "0                           -0.03674                           0.038094   \n",
      "1                           -0.03674                           0.038094   \n",
      "\n",
      "   Components_and_Concentrations_492  Components_and_Concentrations_493  \\\n",
      "0                           0.070695                           0.129664   \n",
      "1                           0.070695                           0.129664   \n",
      "\n",
      "   Components_and_Concentrations_494  Components_and_Concentrations_495  \\\n",
      "0                           0.018593                           0.050065   \n",
      "1                           0.018593                           0.050065   \n",
      "\n",
      "   Components_and_Concentrations_496  Components_and_Concentrations_497  \\\n",
      "0                          -0.217633                           0.056465   \n",
      "1                          -0.217633                           0.056465   \n",
      "\n",
      "   Components_and_Concentrations_498  Components_and_Concentrations_499  \n",
      "0                          -0.009191                           0.076727  \n",
      "1                          -0.009191                           0.076727  \n",
      "\n",
      "[2 rows x 619 columns]\n",
      "(21047, 619)\n"
     ]
    }
   ],
   "source": [
    "# Redefine params\n",
    "cc_params = {\n",
    "    'cc__column_name': 'Components_and_Concentrations',\n",
    "    'cc__isalpha': True,\n",
    "    'cc__vector_size': 500,\n",
    "    'cc__window': 10,\n",
    "    'cc__min_count': 1,\n",
    "    'cc__sg': 0\n",
    "}\n",
    "\n",
    "# Create a pipeline to build a model\n",
    "cc_pipe = Pipeline([\n",
    "    ('cc', TextTransformer())\n",
    "])\n",
    "\n",
    "cc_pipe.set_params(**cc_params)\n",
    "\n",
    "# Re-run the pipeline with new estimators\n",
    "cc_trim = cc_pipe.fit_transform(un_trim)\n",
    "print(cc_trim.head(2))\n",
    "print(cc_trim.shape)"
   ]
  },
  {
   "cell_type": "markdown",
   "metadata": {},
   "source": [
    "## Hazard Codes\n",
    "\n",
    "A list of codes relating to hazardous properties, from HP1 to HP15.\n",
    "\n",
    "Each HP code can appear once in the list, furthermore these are categorical terms so we can adopt one hot encoding."
   ]
  },
  {
   "cell_type": "code",
   "execution_count": 44,
   "metadata": {},
   "outputs": [
    {
     "name": "stdout",
     "output_type": "stream",
     "text": [
      "       HP1  HP2  HP3  HP4  HP5  HP6  HP7  HP8  HP9  HP10  HP11  HP12  HP13  \\\n",
      "0        0    0    0    0    0    0    0    0    0     0     0     0     0   \n",
      "1        0    0    0    0    0    0    0    0    0     0     0     0     0   \n",
      "2        0    0    0    0    1    0    1    0    0     1     0     0     0   \n",
      "3        0    0    0    0    1    0    0    0    0     0     0     0     0   \n",
      "4        0    0    0    0    0    1    0    0    0     0     0     0     0   \n",
      "...    ...  ...  ...  ...  ...  ...  ...  ...  ...   ...   ...   ...   ...   \n",
      "21045    0    0    0    0    0    0    0    0    0     0     0     0     0   \n",
      "21046    0    0    0    0    0    0    0    0    0     0     0     0     0   \n",
      "9309     0    0    0    0    0    0    0    0    0     0     0     0     0   \n",
      "12427    0    0    0    0    0    0    0    0    0     0     0     0     0   \n",
      "21006    0    0    0    0    0    0    0    0    0     0     0     0     0   \n",
      "\n",
      "       HP14  HP15  NC  POP  \n",
      "0         0     0   0    0  \n",
      "1         0     0   0    0  \n",
      "2         1     0   0    0  \n",
      "3         0     0   0    0  \n",
      "4         0     0   0    0  \n",
      "...     ...   ...  ..  ...  \n",
      "21045     0     0   0    0  \n",
      "21046     0     0   0    0  \n",
      "9309      0     0   1    0  \n",
      "12427     0     0   1    0  \n",
      "21006     0     0   1    0  \n",
      "\n",
      "[21047 rows x 17 columns]\n",
      "(21047, 618)\n",
      "No errors occurred\n",
      "Execution completed\n",
      "   Disposal  EWC_0  EWC_1  EWC_2  EWC_3  EWC_4  EWC_5  Physical_State_GAS  \\\n",
      "0  PACKCARE    1.0   -5.0    0.0    0.0    0.0    0.0                   0   \n",
      "1  PACKCARE    1.0   -5.0    0.0    0.0    0.0    0.0                   0   \n",
      "\n",
      "   Physical_State_LIQUID  Physical_State_MIXED  ...  HP8  HP9  HP10  HP11  \\\n",
      "0                      0                     0  ...    0    0     0     0   \n",
      "1                      0                     0  ...    0    0     0     0   \n",
      "\n",
      "   HP12  HP13  HP14  HP15  NC  POP  \n",
      "0     0     0     0     0   0    0  \n",
      "1     0     0     0     0   0    0  \n",
      "\n",
      "[2 rows x 635 columns]\n",
      "(21047, 635)\n"
     ]
    }
   ],
   "source": [
    "# A list of all legitimate values in the Hazard Codes column\n",
    "hp_codes = ['HP1','HP2','HP3','HP4','HP5','HP6','HP7','HP8','HP9','HP10','HP11','HP12','HP13','HP14','HP15', 'NC','POP']\n",
    "# Redefine params\n",
    "hp_params = {\n",
    "    'hp__column_name': 'Hazard_Codes',\n",
    "    'hp__classes': hp_codes\n",
    "}\n",
    "\n",
    "# Create a pipeline to build a model\n",
    "hp_pipe = Pipeline([\n",
    "    ('hp', OneHotTokenTransformer())\n",
    "])\n",
    "\n",
    "hp_pipe.set_params(**hp_params)\n",
    "\n",
    "# Re-run the pipeline with new estimators\n",
    "hp_trim = hp_pipe.fit_transform(cc_trim)\n",
    "print(hp_trim.head(2))\n",
    "print(hp_trim.shape)"
   ]
  },
  {
   "cell_type": "markdown",
   "metadata": {},
   "source": [
    "## Combining Everything\n",
    "\n",
    "Having looked at all feature columns and tested them as individual segments, we can now combine them all into one pipeline."
   ]
  },
  {
   "cell_type": "code",
   "execution_count": 97,
   "metadata": {},
   "outputs": [
    {
     "name": "stdout",
     "output_type": "stream",
     "text": [
      "RowTrimmer: Out of 47 outlets, 2 appear less than 5 times. 3 rows have been trimmed.\n",
      "RowTrimmer: (21044, 42)\n",
      "ColumnTrimmer: After trimming 7 columns remain.  ['Description' 'Components and Concentrations' 'Hazard Codes' 'UN Number'\n",
      " 'EWC' 'Disposal' 'Physical State']\n",
      "ColumnTrimmer: (21044, 7)\n"
     ]
    },
    {
     "name": "stdout",
     "output_type": "stream",
     "text": [
      "FeatureHashingTransformer: Successfully completed: EWC\n",
      "FeatureHashingTransformer: Finished EWC Shape: (21044, 12)\n",
      "-------------------------------------------------------------------------\n",
      "OneHotTransformer: Successfully completed: Physical_State\n",
      "OneHotTransformer: Finished Physical_State Shape: (21044, 18)\n",
      "-------------------------------------------------------------------------\n",
      "IndexTransformer: Successfully completed: Disposal\n",
      "IndexTransformer: Finished Disposal Shape: (21044, 19)\n",
      "-------------------------------------------------------------------------\n",
      "TextTransformer: Successfully completed: Description\n",
      "TextTransformer: Finished Description Shape: (21044, 118)\n",
      "-------------------------------------------------------------------------\n",
      "FeatureHashingTransformer: Successfully completed: UN_Number\n",
      "FeatureHashingTransformer: Finished UN_Number Shape: (21044, 121)\n",
      "-------------------------------------------------------------------------\n",
      "TextTransformer: Successfully completed: Components_and_Concentrations\n",
      "TextTransformer: Finished Components_and_Concentrations Shape: (21044, 620)\n",
      "-------------------------------------------------------------------------\n",
      "OneHotTokenTransformer: Successfully completed: Hazard_Codes\n",
      "OneHotTokenTransformer: Finished Hazard_Codes Shape: (21044, 636)\n",
      "-------------------------------------------------------------------------\n",
      "(21044, 636)\n"
     ]
    }
   ],
   "source": [
    "combined_params = {\n",
    "    'rt__min_count': 5,\n",
    "    'ct__filename': 'data/labels.xlsx',\n",
    "    'et__column_name': 'EWC',\n",
    "    'et__num_vec': 6,\n",
    "    'ps__column_name':'Physical_State',\n",
    "    'cl__column_name':'Disposal',\n",
    "    'tt__column_name': 'Description',\n",
    "    'tt__isalpha': True,\n",
    "    'tt__vector_size': 100,\n",
    "    'tt__window': 10,\n",
    "    'tt__min_count': 1,\n",
    "    'tt__sg': 0,\n",
    "    'un__column_name': 'UN_Number',\n",
    "    'un__num_vec': 4,\n",
    "    'cc__column_name': 'Components_and_Concentrations',\n",
    "    'cc__isalpha': True,\n",
    "    'cc__vector_size': 500,\n",
    "    'cc__window': 10,\n",
    "    'cc__min_count': 1,\n",
    "    'cc__sg': 0,\n",
    "    'hp__column_name': 'Hazard_Codes',\n",
    "    'hp__classes': hp_codes\n",
    "}\n",
    "\n",
    "# Create a pipeline to build a model\n",
    "pipeline = Pipeline([\n",
    "    ('rt', RowTrimmer()),\n",
    "    ('cn', CleanColumnNamesTransformer()),\n",
    "    ('ct', ColumnTrimmer()),\n",
    "    ('et', FeatureHashingTransformer()),\n",
    "    ('ps', OneHotTransformer()),\n",
    "    ('cl', IndexTransformer()),\n",
    "    ('tt', TextTransformer()),\n",
    "    ('un', FeatureHashingTransformer()),\n",
    "    ('cc', TextTransformer()),\n",
    "    ('hp', OneHotTokenTransformer())\n",
    "])\n",
    "\n",
    "pipeline.set_params(**combined_params)\n",
    "\n",
    "df_raw = pd.read_csv(\"data/raw3.csv\")\n",
    "\n",
    "# Re-run the pipeline with new estimators\n",
    "df_with_vectors = pipeline.fit_transform(df_raw)\n",
    "print(df_with_vectors.shape)"
   ]
  },
  {
   "cell_type": "code",
   "execution_count": 106,
   "metadata": {},
   "outputs": [],
   "source": [
    "\n",
    "# Fill any empty cells with zero\n",
    "df_with_vectors.fillna(0, inplace=True)\n",
    "# Remove any rows with empty disposal columns\n",
    "df_with_vectors.dropna(subset=['Disposal'], inplace=True)\n",
    "\n",
    "# Save the DataFrame with word vectors to a new Excel file\n",
    "df_with_vectors.to_excel('c:/users/user/desktop/output_with_vectors.xlsx', index=False)"
   ]
  },
  {
   "cell_type": "markdown",
   "metadata": {},
   "source": [
    "# Training and Test Data\n",
    "Finally we can split the data into training and testing sets, it's also good practise at this point to randomise, or shuffle the data set to remove any unwanted trending or sequencing."
   ]
  },
  {
   "cell_type": "markdown",
   "metadata": {},
   "source": [
    "## Splitting the Data"
   ]
  },
  {
   "cell_type": "code",
   "execution_count": 98,
   "metadata": {},
   "outputs": [
    {
     "data": {
      "text/plain": [
       "(21044, 634)"
      ]
     },
     "execution_count": 98,
     "metadata": {},
     "output_type": "execute_result"
    }
   ],
   "source": [
    "from sklearn.ensemble import RandomForestClassifier\n",
    "from sklearn.model_selection import train_test_split\n",
    "from sklearn.metrics import accuracy_score\n",
    "\n",
    "# Preserve our original data\n",
    "df_test = copy.deepcopy(df_with_vectors)\n",
    "\n",
    "# Define the training set, typically called X\n",
    "X = df_test.drop(['Disposal','Disposal_Index'], axis=1)\n",
    "X.head()\n",
    "X.shape\n",
    "#X.fillna(0)"
   ]
  },
  {
   "cell_type": "code",
   "execution_count": 99,
   "metadata": {},
   "outputs": [
    {
     "data": {
      "text/plain": [
       "0    0.0\n",
       "1    1.0\n",
       "2    2.0\n",
       "3    3.0\n",
       "4    4.0\n",
       "Name: Disposal_Index, dtype: float64"
      ]
     },
     "execution_count": 99,
     "metadata": {},
     "output_type": "execute_result"
    }
   ],
   "source": [
    "# Define a column of labels\n",
    "y = df_test['Disposal_Index']\n",
    "y.head()"
   ]
  },
  {
   "cell_type": "code",
   "execution_count": 100,
   "metadata": {},
   "outputs": [],
   "source": [
    "# Split the data into training and testing sets\n",
    "X_train, X_test, y_train, y_test = train_test_split(X, y, test_size=0.2, random_state=42)"
   ]
  },
  {
   "cell_type": "code",
   "execution_count": 104,
   "metadata": {},
   "outputs": [
    {
     "name": "stdout",
     "output_type": "stream",
     "text": [
      "0        0.0\n",
      "1        1.0\n",
      "2        2.0\n",
      "3        3.0\n",
      "4        4.0\n",
      "        ... \n",
      "21039    NaN\n",
      "21040    NaN\n",
      "21041    NaN\n",
      "21042    NaN\n",
      "21043    NaN\n",
      "Name: Disposal_Index, Length: 21044, dtype: float64\n"
     ]
    }
   ],
   "source": [
    "print(y)"
   ]
  },
  {
   "cell_type": "markdown",
   "metadata": {},
   "source": [
    "A quick sanity check that our values arn't going to cause any problems in the next step."
   ]
  },
  {
   "cell_type": "code",
   "execution_count": 101,
   "metadata": {},
   "outputs": [
    {
     "name": "stdout",
     "output_type": "stream",
     "text": [
      "X_train Indices of NaN values: 0\n",
      "X_train Indices of infinite values: []\n",
      "X_train Indices of numbers too large for float64: []\n",
      "\n",
      "y_train Indices of NaN values: 16798\n",
      "y_train Indices of infinite values: []\n",
      "y_train Indices of numbers too large for float64: []\n"
     ]
    }
   ],
   "source": [
    "def checkValues(name, values):\n",
    "    # Check for NaN values\n",
    "    nan_indices = np.argwhere(np.isnan(values))\n",
    "    print(name + \" Indices of NaN values:\", len(nan_indices))\n",
    "\n",
    "    # Check for infinite values\n",
    "    inf_indices = np.argwhere(np.isinf(values))\n",
    "    print(name + \" Indices of infinite values:\", inf_indices)\n",
    "\n",
    "    # Check for numbers too large for float64\n",
    "    large_indices = np.argwhere(np.abs(values) > np.finfo(np.float64).max)\n",
    "    print(name + \" Indices of numbers too large for float64:\", large_indices)\n",
    "    \n",
    "# Check for NaN, infinite or illegal numbers\n",
    "checkValues('X_train', X_train.values)\n",
    "print('')\n",
    "checkValues('y_train', y_train.values)"
   ]
  },
  {
   "cell_type": "markdown",
   "metadata": {},
   "source": [
    "## Hyperparamter Tuning with GridSearchCV"
   ]
  },
  {
   "cell_type": "code",
   "execution_count": null,
   "metadata": {},
   "outputs": [],
   "source": [
    "from sklearn.model_selection import GridSearchCV\n",
    "from sklearn.pipeline import Pipeline\n",
    "\n",
    "# Define the pipeline with Random Forest classifier\n",
    "pipeline = Pipeline([\n",
    "    ('rf', RandomForestClassifier())\n",
    "])\n",
    "\n",
    "# Define the hyperparameters grid to search\n",
    "param_grid = {\n",
    "    'rf__n_estimators': [100, 200, 250],\n",
    "    'rf__max_depth': [None, 100, 200],\n",
    "    'rf__min_samples_split': [2],\n",
    "    'rf__random_state': [2, 42, 80]\n",
    "}\n",
    "\n",
    "# Best params from previous gridsearch, saves running the search every time we want to restart.\n",
    "best_grid = {\n",
    "    'rf__n_estimators': [250],\n",
    "    'rf__max_depth': [None],\n",
    "    'rf__min_samples_split': [2],\n",
    "    'rf__random_state': [42]\n",
    "}\n",
    "\n",
    "# Perform Grid Search Cross Validation, exchange best_grid and param_grid\n",
    "grid_search = GridSearchCV(pipeline, best_grid, cv=10, scoring='accuracy')\n",
    "grid_search.fit(X_train, y_train)\n",
    "\n",
    "# Get the best parameters and best score\n",
    "best_params = grid_search.best_params_\n",
    "best_score = grid_search.best_score_\n",
    "\n",
    "# Evaluate the best model on the test set\n",
    "rf_model = grid_search.best_estimator_\n",
    "y_pred = rf_model.predict(X_test)\n",
    "test_accuracy = accuracy_score(y_test, y_pred)\n",
    "\n",
    "print(\"Best Parameters:\", best_params)\n",
    "print(\"Best Score:\", best_score)\n",
    "print(\"Test Accuracy:\", test_accuracy)"
   ]
  },
  {
   "cell_type": "code",
   "execution_count": null,
   "metadata": {},
   "outputs": [],
   "source": [
    "import joblib\n",
    "\n",
    "# Save the trained model to a file\n",
    "joblib.dump(rf_model, 'c:/users/user/desktop/models/randomforrest_trained_model.pkl')"
   ]
  },
  {
   "cell_type": "markdown",
   "metadata": {},
   "source": [
    "# Results Analysis"
   ]
  },
  {
   "cell_type": "code",
   "execution_count": null,
   "metadata": {},
   "outputs": [],
   "source": [
    "# Turn Disposal_Index back into Disposal names\n",
    "r_test = [outlets.loc[t, 'Disposal'] for t in y_test]\n",
    "r_pred = [outlets.loc[t, 'Disposal'] for t in y_pred]\n",
    "labels = sorted(set(r_test))\n",
    "print(len(labels))"
   ]
  },
  {
   "cell_type": "code",
   "execution_count": null,
   "metadata": {},
   "outputs": [],
   "source": [
    "cm = confusion_matrix(r_test, r_pred)\n",
    "print(cm.shape) \n",
    "\n",
    "df_cm = pd.DataFrame(cm, index=labels, columns=labels)\n",
    "# Plot a confusion matrix\n",
    "sn.set(font_scale=0.75)\n",
    "a4_dims = (16, 10)\n",
    "fig, ax = plt.subplots(figsize=a4_dims)\n",
    "ax.set_title(\"Confusion Matrix True vs Predicted Outlet\")\n",
    "hm = sn.heatmap(df_cm, annot=True, cmap=\"Dark2_r\", cbar_kws={'label': 'Count'})  \n",
    "plt.show()"
   ]
  },
  {
   "cell_type": "code",
   "execution_count": null,
   "metadata": {},
   "outputs": [],
   "source": [
    "cr = classification_report(r_test, r_pred)    \n",
    "print(cr)"
   ]
  },
  {
   "cell_type": "markdown",
   "metadata": {},
   "source": [
    "# Classification with XGBoost"
   ]
  },
  {
   "cell_type": "code",
   "execution_count": null,
   "metadata": {},
   "outputs": [],
   "source": [
    "from xgboost import XGBClassifier\n",
    "\n",
    "# import XGBoost\n",
    "import xgboost as xgb\n",
    "\n",
    "# Using the same data source as previous, but this time adding stratify=y when splitting\n",
    "X_train, X_test, y_train, y_test = train_test_split(X, y, test_size=0.2, random_state=80, stratify=y)\n"
   ]
  },
  {
   "cell_type": "markdown",
   "metadata": {},
   "source": [
    "## Hyperparameter Tuning with Hyperopt"
   ]
  },
  {
   "cell_type": "code",
   "execution_count": null,
   "metadata": {},
   "outputs": [],
   "source": [
    "# define a search space\n",
    "from hyperopt import hp, fmin, tpe, Trials\n",
    "from sklearn.model_selection import cross_val_score\n",
    "\n",
    "# Define the search space\n",
    "space = { \n",
    "    'n_estimators': hp.quniform('n_estimators', 100, 1000, 1),\n",
    "    'learning_rate': hp.uniform('learning_rate', 0.01, 1.0),\n",
    "    'max_depth': hp.quniform('max_depth', 3, 10, 1),    \n",
    "    'subsample': hp.uniform('subsample', 0.5, 1.0),\n",
    "    'colsample_bytree': hp.uniform('colsample_bytree', 0.5, 1.0)\n",
    "}\n",
    "\n",
    "# Define the objective function for XGBoost classifier\n",
    "def objective(params):\n",
    "    # Extract hyperparameters\n",
    "    n_estimators = params['n_estimators']\n",
    "    learning_rate = params['learning_rate']\n",
    "    max_depth = params['max_depth']\n",
    "    subsample = params['subsample']\n",
    "    colsample_bytree = params['colsample_bytree']\n",
    "\n",
    "    # Define XGBoost parameters\n",
    "    xgb_params = {\n",
    "        'objective': 'multi:softmax',\n",
    "        'num_class': 45,  # Number of classes\n",
    "        'eval_metric': 'merror',\n",
    "        'learning_rate': learning_rate,\n",
    "        'max_depth': int(max_depth),\n",
    "        'n_estimators': int(n_estimators),\n",
    "        'subsample': subsample,\n",
    "        'colsample_bytree': colsample_bytree,\n",
    "        'verbosity': 0\n",
    "    }\n",
    "    \n",
    "    # Create DMatrix for training and testing data\n",
    "    dtrain = xgb.DMatrix(X_train, label=y_train)\n",
    "    dtest = xgb.DMatrix(X_test, label=y_test)\n",
    "    \n",
    "    # Train the XGBoost model\n",
    "    model = xgb.train(xgb_params, dtrain, num_boost_round=100)\n",
    "    \n",
    "    # Make predictions on the test set\n",
    "    y_pred = model.predict(dtest)\n",
    "    \n",
    "    # Calculate accuracy\n",
    "    accuracy = accuracy_score(y_test, y_pred)\n",
    "    #print(f'best: {best}')\n",
    "    print('___________')\n",
    "    print(f'loss: {-accuracy}')    \n",
    "    return {'loss': -accuracy, 'status': 'ok'}  # Minimize negative accuracy\n",
    "\n",
    "# Perform hyperparameter optimization\n",
    "trials = Trials()\n",
    "best = fmin(fn=objective, space=space, algo=tpe.suggest, max_evals=50, trials=trials)\n",
    "\n",
    "print(\"Best hyperparameters:\", best)\n"
   ]
  },
  {
   "cell_type": "markdown",
   "metadata": {},
   "source": [
    "## View Results of Tuning"
   ]
  },
  {
   "cell_type": "code",
   "execution_count": null,
   "metadata": {},
   "outputs": [],
   "source": [
    "# Extract the loss values from the trials\n",
    "#losses = [trial['result']['loss'] for trial in trials.results]\n",
    "\n",
    "# Plot the loss values\n",
    "plt.plot(trials.losses())\n",
    "plt.xlabel('Trial')\n",
    "plt.ylabel('Loss')\n",
    "plt.title('Hyperopt XGBoost Trials')\n",
    "plt.show()"
   ]
  },
  {
   "cell_type": "markdown",
   "metadata": {},
   "source": [
    "## Training a Model with Tuned Parameters"
   ]
  },
  {
   "cell_type": "code",
   "execution_count": null,
   "metadata": {},
   "outputs": [],
   "source": [
    "best = {\n",
    "    'learning_rate': 0.15237229851726455,\n",
    "    'max_depth': int(7),\n",
    "    'n_estimators': int(625),\n",
    "    'subsample': 0.8397327908213857,\n",
    "    'colsample_bytree': 0.7274703058159606\n",
    "}"
   ]
  },
  {
   "cell_type": "code",
   "execution_count": null,
   "metadata": {},
   "outputs": [],
   "source": [
    "n_estimators = best['n_estimators']\n",
    "learning_rate = best['learning_rate']\n",
    "max_depth = best['max_depth']\n",
    "subsample = best['subsample']\n",
    "colsample_bytree = best['colsample_bytree']\n"
   ]
  },
  {
   "cell_type": "code",
   "execution_count": null,
   "metadata": {},
   "outputs": [],
   "source": [
    "\n",
    "# Define XGBoost parameters\n",
    "xgb_params = {\n",
    "    'objective': 'multi:softmax',\n",
    "    'num_class': 45,  # Number of classes\n",
    "    'eval_metric': 'merror',\n",
    "    'learning_rate': learning_rate,\n",
    "    'max_depth': int(max_depth),\n",
    "    'n_estimators': int(n_estimators),\n",
    "    'subsample': subsample,\n",
    "    'colsample_bytree': colsample_bytree,\n",
    "    'verbosity': 0\n",
    "}\n",
    "# Train the final model using the best hyperparameters\n",
    "xgb_model = xgb.XGBClassifier(**xgb_params)\n",
    "xgb_model.fit(X_train, y_train)\n"
   ]
  },
  {
   "cell_type": "markdown",
   "metadata": {},
   "source": []
  },
  {
   "cell_type": "code",
   "execution_count": null,
   "metadata": {},
   "outputs": [],
   "source": [
    "import joblib\n",
    "# Save the trained model to a file\n",
    "joblib.dump(xgb_model, 'c:/users/user/desktop/models/xgboost_trained_model.pkl')"
   ]
  },
  {
   "cell_type": "markdown",
   "metadata": {},
   "source": [
    "## Predictions with XGBoost Model"
   ]
  },
  {
   "cell_type": "code",
   "execution_count": null,
   "metadata": {},
   "outputs": [],
   "source": [
    "# make predictions on test data\n",
    "y_pred = xgb_model.predict(X_test)\n",
    "print(y_test.head())\n"
   ]
  },
  {
   "cell_type": "code",
   "execution_count": null,
   "metadata": {},
   "outputs": [],
   "source": [
    "# Predict probabilities\n",
    "y_pred_proba = xgb_model.predict_proba(X_test)\n",
    "print(y_pred_proba.shape)"
   ]
  },
  {
   "cell_type": "markdown",
   "metadata": {},
   "source": [
    "## Results Analysis"
   ]
  },
  {
   "cell_type": "markdown",
   "metadata": {},
   "source": [
    "### Accuracy"
   ]
  },
  {
   "cell_type": "code",
   "execution_count": null,
   "metadata": {},
   "outputs": [],
   "source": [
    "# Calculate accuracy\n",
    "accuracy = xgb_model.score(X_test, y_test)\n",
    "print(\"Accuracy: %.2f%%\" % (accuracy * 100.0))\n",
    "\n"
   ]
  },
  {
   "cell_type": "markdown",
   "metadata": {},
   "source": [
    "### Log loss"
   ]
  },
  {
   "cell_type": "code",
   "execution_count": null,
   "metadata": {},
   "outputs": [],
   "source": [
    "from sklearn.metrics import log_loss\n",
    "# Calculate log loss\n",
    "log_loss(y_test, y_pred_proba)"
   ]
  },
  {
   "cell_type": "markdown",
   "metadata": {},
   "source": [
    "### Classification Report"
   ]
  },
  {
   "cell_type": "code",
   "execution_count": null,
   "metadata": {},
   "outputs": [],
   "source": [
    "# Print classification report\n",
    "print(classification_report(y_test, y_pred))"
   ]
  },
  {
   "cell_type": "markdown",
   "metadata": {},
   "source": [
    "### Feature Importance"
   ]
  },
  {
   "cell_type": "code",
   "execution_count": null,
   "metadata": {},
   "outputs": [],
   "source": [
    "# Feature Importance\n",
    "from xgboost import plot_importance\n",
    "\n",
    "# Plot feature importance for the top 30 features\n",
    "plot_importance(xgb_model, max_num_features=30)"
   ]
  },
  {
   "cell_type": "markdown",
   "metadata": {},
   "source": [
    "### Confusion Matrix"
   ]
  },
  {
   "cell_type": "code",
   "execution_count": null,
   "metadata": {},
   "outputs": [],
   "source": [
    "cm = confusion_matrix(y_test, y_pred)\n",
    "print(cm.shape) \n",
    "\n",
    "# Turn Disposal_Index back into Disposal names\n",
    "r_test = [outlets.loc[t, 'Disposal'] for t in y_test]\n",
    "r_pred = [outlets.loc[t, 'Disposal'] for t in y_pred]\n",
    "labels = sorted(set(r_test))\n",
    "\n",
    "df_cm = pd.DataFrame(cm, index=labels, columns=labels)\n",
    "# Plot a confusion matrix\n",
    "sn.set_theme(font_scale=0.75)\n",
    "a4_dims = (16, 10)\n",
    "fig, ax = plt.subplots(figsize=a4_dims)\n",
    "ax.set_title(\"Confusion Matrix True vs Predicted Outlet\")\n",
    "hm = sn.heatmap(df_cm, annot=True, cmap=\"coolwarm\", cbar_kws={'label': 'Count'})  \n",
    "plt.show()"
   ]
  }
 ],
 "metadata": {
  "celltoolbar": "Raw Cell Format",
  "kernelspec": {
   "display_name": "Python 3 (ipykernel)",
   "language": "python",
   "name": "python3"
  },
  "language_info": {
   "codemirror_mode": {
    "name": "ipython",
    "version": 3
   },
   "file_extension": ".py",
   "mimetype": "text/x-python",
   "name": "python",
   "nbconvert_exporter": "python",
   "pygments_lexer": "ipython3",
   "version": "3.9.15"
  }
 },
 "nbformat": 4,
 "nbformat_minor": 2
}
