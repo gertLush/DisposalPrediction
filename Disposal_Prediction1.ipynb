{
 "cells": [
  {
   "cell_type": "markdown",
   "metadata": {},
   "source": [
    "# Machine Learning and Prediction of Disposal Outlet by Waste Description"
   ]
  },
  {
   "cell_type": "markdown",
   "metadata": {},
   "source": [
    "This test case uses data relating to hazardous chemical waste and attempts to determine the fate, or disposal outlet / waste company that can move the waste towards it's final end point. The problem is that of choosing which of many disposal outlets would be most suitable, i.e. it is a multiclassification exercise. The data is sourced from records of succesfull waste transactions and includes a general description, chemical components, various hazardous classification descriptors and a disposal outlet. \n",
    "\n",
    "Having some considerable experience with the data set beforehand there are a few points to raise before we go exploring. The data source is from an very old database (c.1985) and data input has largely been via free text entry fields, made by a many different users over a period of about 15 years. The quality and consistency of the result is extremely poor. \n",
    "\n",
    "There are many opportunities for standardised terms but with no drop down menu options and no input validation we find that various phrases have been used for the same thing. The few standardised terms take the form of code numbers, i.e. they are a string of number characters but represent categorical rather than scalar values. Also because of their origin in Excel these numbers are sometimes preceded with an apostophe, used to force Excel to treat number characters as text. All descriptors can be divided even further when we add the many more variations created by typos and spelling mistakes. \n",
    "\n",
    "As a human consumer the descriptors provided form a common meaning which when interogated on a one by one basis provide a useful data record, however when considering more than one record using an automated approach the similarity of meaning or semantics is considerably more difficult. To this end some inspiration has come from studies involving the multiclassification of semantics, in the form of food and wine reviews. [1]\n",
    "\n",
    "The approach in this reference relates to the similarity of meaning in a variety of diverse terms, i.e. natural language, a word processor Word2Vec is trained on a very large corpus of natural language terms. In our case the vocabulary is very limited, there are many acronyms, the language is rich in chemical names and specialised technical terms. Word embedding, vectorisation can be achieved using a far reduced corpus [2].\n",
    "\n",
    "After first of all, exploring the data, and perparing a preprosessing pipeline, a comparison is made between RandomForestClassifier and XGBoostClassifier, both popular approaches to classification problems.\n",
    "\n",
    "Inspriation for this approach came from: \n",
    "1. https://github.com/JungeAlexander/kaggle-amazon-fine-food-reviews\n",
    "2. https://www.geeksforgeeks.org/python-word-embedding-using-word2vec/\n",
    "\n"
   ]
  },
  {
   "cell_type": "markdown",
   "metadata": {},
   "source": [
    "# Data Exploration"
   ]
  },
  {
   "cell_type": "markdown",
   "metadata": {},
   "source": [
    "As we explore each section of the data we will do some rudimentary analysis, build and test a segment of the pipe and visualise the result. \n",
    "\n",
    "Import a few libraries"
   ]
  },
  {
   "cell_type": "code",
   "execution_count": 5,
   "metadata": {},
   "outputs": [],
   "source": [
    "import pandas as pd                                        # Used for importing data and transformations\n",
    "import numpy as np                                         # Provides mathmatical functions and randomisers\n",
    "import matplotlib.pyplot as plt                            # Plot charts\n",
    "import seaborn as sn                                       # Visualisation tools\n",
    "import warnings                                            # Manage python system warnings\n",
    "warnings.simplefilter('ignore')\n",
    "sn.color_palette(\"flare\", as_cmap=True)\n",
    "from nltk.tokenize import word_tokenize\n",
    "import nltk as nltk\n",
    "import string\n",
    "\n",
    "from sklearn.ensemble import RandomForestClassifier\n",
    "from sklearn.feature_extraction import FeatureHasher \n",
    "from sklearn.base import BaseEstimator, TransformerMixin \n",
    "from sklearn.feature_extraction.text import TfidfTransformer\n",
    "\n",
    "from sklearn.metrics import confusion_matrix\n",
    "from sklearn.metrics import classification_report\n"
   ]
  },
  {
   "cell_type": "markdown",
   "metadata": {},
   "source": [
    "### Constants"
   ]
  },
  {
   "cell_type": "code",
   "execution_count": 6,
   "metadata": {},
   "outputs": [],
   "source": [
    "# A list of all legitimate values in the Hazard Codes column\n",
    "hp_codes = ['HP1','HP2','HP3','HP4','HP5','HP6','HP7','HP8','HP9','HP10','HP11','HP12','HP13','HP14','HP15', 'NC','POP']\n",
    "\n",
    "# A list of all legitimate values in the Physical State column\n",
    "physical_states = ['SOLID','SLUDGE','LIQUID','GAS','MIXED','POWDER']\n",
    "\n",
    "# The minimum number of occurances of each class is governed by the number of data folds for stratification and cross validation \n",
    "# and a whole number multiplier.\n",
    "k_folds = 5\n",
    "\n",
    "# A multiplier for k_folds.\n",
    "num_k_folds = 1"
   ]
  },
  {
   "cell_type": "markdown",
   "metadata": {},
   "source": [
    "Import the data and preliminay look at the shape and data types."
   ]
  },
  {
   "cell_type": "code",
   "execution_count": 7,
   "metadata": {},
   "outputs": [
    {
     "name": "stdout",
     "output_type": "stream",
     "text": [
      "The primary data set has 42 columns and 21046 rows.\n",
      "Data types:\n",
      "object     40\n",
      "float64     2\n",
      "dtype: int64\n"
     ]
    },
    {
     "data": {
      "text/html": [
       "<div>\n",
       "<style scoped>\n",
       "    .dataframe tbody tr th:only-of-type {\n",
       "        vertical-align: middle;\n",
       "    }\n",
       "\n",
       "    .dataframe tbody tr th {\n",
       "        vertical-align: top;\n",
       "    }\n",
       "\n",
       "    .dataframe thead th {\n",
       "        text-align: right;\n",
       "    }\n",
       "</style>\n",
       "<table border=\"1\" class=\"dataframe\">\n",
       "  <thead>\n",
       "    <tr style=\"text-align: right;\">\n",
       "      <th></th>\n",
       "      <th>DRUM ID</th>\n",
       "      <th>QTY</th>\n",
       "      <th>Cont. Size</th>\n",
       "      <th>Quantity (Kg)</th>\n",
       "      <th>Description</th>\n",
       "      <th>Components and Concentrations</th>\n",
       "      <th>Hazard Codes</th>\n",
       "      <th>UN Number</th>\n",
       "      <th>Proper Shipping Name</th>\n",
       "      <th>Class</th>\n",
       "      <th>...</th>\n",
       "      <th>24-26 Weeks</th>\n",
       "      <th>&gt;6 Months</th>\n",
       "      <th>Origin District</th>\n",
       "      <th>Destination District</th>\n",
       "      <th>Date Out</th>\n",
       "      <th>DR Code</th>\n",
       "      <th>Tonnage</th>\n",
       "      <th>Municipal Source</th>\n",
       "      <th>Column1</th>\n",
       "      <th>EWC2</th>\n",
       "    </tr>\n",
       "  </thead>\n",
       "  <tbody>\n",
       "    <tr>\n",
       "      <th>0</th>\n",
       "      <td>NaN</td>\n",
       "      <td>80</td>\n",
       "      <td>60</td>\n",
       "      <td>1.5</td>\n",
       "      <td>EMPTY PLASTIC DRUMS (60L)</td>\n",
       "      <td>NIL HAZARDOUS COMPONENTS</td>\n",
       "      <td>N/C</td>\n",
       "      <td>NCAD</td>\n",
       "      <td>NOT CLASSIFIED AS DANGEROUS FOR TRANSPORT</td>\n",
       "      <td>N/C</td>\n",
       "      <td>...</td>\n",
       "      <td>0</td>\n",
       "      <td>0</td>\n",
       "      <td>SHEFFIELD</td>\n",
       "      <td>LEEDS</td>\n",
       "      <td>11/01/2023</td>\n",
       "      <td>R03 - RECYCLING OF ORGANIC SUBSTANCES</td>\n",
       "      <td>0.0015</td>\n",
       "      <td>No</td>\n",
       "      <td>R03 - Recycling of organic substances</td>\n",
       "      <td>150110</td>\n",
       "    </tr>\n",
       "    <tr>\n",
       "      <th>1</th>\n",
       "      <td>NaN</td>\n",
       "      <td>4</td>\n",
       "      <td>30</td>\n",
       "      <td>2.0</td>\n",
       "      <td>EMPTY PLASTIC DRUMS (30L)</td>\n",
       "      <td>Nil hazardous components</td>\n",
       "      <td>N/C</td>\n",
       "      <td>NCAD</td>\n",
       "      <td>NOT CLASSIFIED AS DANGEROUS FOR TRANSPORT</td>\n",
       "      <td>N/C</td>\n",
       "      <td>...</td>\n",
       "      <td>0</td>\n",
       "      <td>0</td>\n",
       "      <td>SHEFFIELD</td>\n",
       "      <td>LEEDS</td>\n",
       "      <td>11/01/2023</td>\n",
       "      <td>R03 - RECYCLING OF ORGANIC SUBSTANCES</td>\n",
       "      <td>0.002</td>\n",
       "      <td>No</td>\n",
       "      <td>R03 - Recycling of organic substances</td>\n",
       "      <td>150110</td>\n",
       "    </tr>\n",
       "  </tbody>\n",
       "</table>\n",
       "<p>2 rows × 42 columns</p>\n",
       "</div>"
      ],
      "text/plain": [
       "  DRUM ID QTY Cont. Size  Quantity (Kg)                Description  \\\n",
       "0     NaN  80         60            1.5  EMPTY PLASTIC DRUMS (60L)   \n",
       "1     NaN   4         30            2.0  EMPTY PLASTIC DRUMS (30L)   \n",
       "\n",
       "  Components and Concentrations Hazard Codes UN Number  \\\n",
       "0      NIL HAZARDOUS COMPONENTS          N/C      NCAD   \n",
       "1      Nil hazardous components          N/C      NCAD   \n",
       "\n",
       "                        Proper Shipping Name Class  ... 24-26 Weeks >6 Months  \\\n",
       "0  NOT CLASSIFIED AS DANGEROUS FOR TRANSPORT   N/C  ...           0         0   \n",
       "1  NOT CLASSIFIED AS DANGEROUS FOR TRANSPORT   N/C  ...           0         0   \n",
       "\n",
       "  Origin District Destination District    Date Out  \\\n",
       "0       SHEFFIELD                LEEDS  11/01/2023   \n",
       "1       SHEFFIELD                LEEDS  11/01/2023   \n",
       "\n",
       "                                 DR Code Tonnage Municipal Source  \\\n",
       "0  R03 - RECYCLING OF ORGANIC SUBSTANCES  0.0015               No   \n",
       "1  R03 - RECYCLING OF ORGANIC SUBSTANCES   0.002               No   \n",
       "\n",
       "                                 Column1    EWC2  \n",
       "0  R03 - Recycling of organic substances  150110  \n",
       "1  R03 - Recycling of organic substances  150110  \n",
       "\n",
       "[2 rows x 42 columns]"
      ]
     },
     "execution_count": 7,
     "metadata": {},
     "output_type": "execute_result"
    }
   ],
   "source": [
    "df = pd.read_csv(\"data/raw3.csv\")\n",
    "print(f'The primary data set has {len(df.columns)} columns and {len(df)} rows.')\n",
    "print('Data types:')\n",
    "print(df.dtypes.value_counts())\n",
    "df.head(2)"
   ]
  },
  {
   "cell_type": "code",
   "execution_count": 8,
   "metadata": {},
   "outputs": [],
   "source": [
    "# A helper function for visualisation\n",
    "def create_histogram_from_column(dataframe, column_name, width, height):\n",
    "    plt.figure(figsize=(width, height))\n",
    "    dataframe[column_name].value_counts().plot(kind='bar', color='skyblue')\n",
    "    plt.title(f'Histogram of {column_name}')\n",
    "    plt.xlabel(column_name)\n",
    "    plt.ylabel('Frequency')\n",
    "    plt.show()"
   ]
  },
  {
   "cell_type": "markdown",
   "metadata": {},
   "source": [
    "The classifier that we are trying to predict is the disposal outlet."
   ]
  },
  {
   "cell_type": "code",
   "execution_count": 9,
   "metadata": {},
   "outputs": [
    {
     "name": "stdout",
     "output_type": "stream",
     "text": [
      "The usage distribution of each of the 47 outlets:\n",
      "WASTECARE NORMANTON         2669\n",
      "RED INDUSTRIES              1942\n",
      "FCC BBM                     1857\n",
      "CLEAN PAK                   1710\n",
      "ROBERT HOPKINS              1657\n",
      "MALARY                      1439\n",
      "MYTUM MALTINGS               958\n",
      "VEOLIA NORWOOD               864\n",
      "VEOLIA ELLESMERE PORT        657\n",
      "SWARF                        654\n",
      "MULBERRY                     639\n",
      "BURSCOUGH                    491\n",
      "CASTLE                       460\n",
      "WEDNESBURY                   448\n",
      "LOUGHBOROUGH                 424\n",
      "AVANTI                       404\n",
      "ERP                          374\n",
      "TRADEBE FAWLEY               358\n",
      "OIL RECOVERIES               351\n",
      "PACKCARE                     311\n",
      "ECO BAT                      290\n",
      "MULBERRY KNOWSLEY            286\n",
      "SLICKER                      235\n",
      "FCC ECCLESFIELD              222\n",
      "FCC KNOSTROP                 176\n",
      "ATTLEBOROUGH                 164\n",
      "ESYNERGY                     155\n",
      "FUTURE                       108\n",
      "MYTUM SHERBURN                83\n",
      "SRCL                          83\n",
      "WASTE MATTERS                 78\n",
      "SEVERN TRENT                  73\n",
      "WASTECARE VALLEY HOUSE        58\n",
      "BIFFA SHEFFIELD DARNALL       56\n",
      "BIFFA KILSYTH                 53\n",
      "TOTUS ENVIRONMENTAL           48\n",
      "ODONOVANS                     47\n",
      "ROTHERHAM WASTE OIL           40\n",
      "CLEAN TANK                    33\n",
      "TRADEBE HEYSHAM               22\n",
      "EMR                           21\n",
      "AUGEAN BERWICK                17\n",
      "TOTAL RECYCLING SERVICES      15\n",
      "POPLARS                        7\n",
      "STOCKLEYS                      6\n",
      "SPIVEY                         2\n",
      "FCC LINCOLN                    1\n",
      "Name: Disposal, dtype: int64\n"
     ]
    },
    {
     "data": {
      "image/png": "[encoded data removed]",
      "text/plain": [
       "<Figure size 1500x300 with 1 Axes>"
      ]
     },
     "metadata": {},
     "output_type": "display_data"
    }
   ],
   "source": [
    "# Find the unique values for Disposal and arrange alphabetically\n",
    "outlets = pd.DataFrame({'Disposal': df['Disposal'].unique()})\n",
    "outlets = outlets.sort_values(by='Disposal').reset_index(drop=True)\n",
    "\n",
    "print(f'The usage distribution of each of the {len(outlets)} outlets:')\n",
    "\n",
    "# Remove any rows with empty disposal columns\n",
    "df.dropna(subset=['Disposal'], inplace=True)\n",
    "\n",
    "# Count occurrences of each label\n",
    "label_counts = df['Disposal'].value_counts()\n",
    "print(label_counts)\n",
    "\n",
    "# Add a visualisation\n",
    "create_histogram_from_column(df, 'Disposal', 15, 3)"
   ]
  },
  {
   "cell_type": "markdown",
   "metadata": {},
   "source": [
    "Disposal outlets that only appear a few times in our dataset don't offer sufficient information for training purposes. We will be performing cross validation at a later stage and comparing different folds in the data, we will need to ensure that each class is equally represented in across all folds so the number of folds becomes a limiting factor and to equally represent each class will entail that the miniumum number of occurances must be a mutliple of the number of folds. In this case we are using k_folds and a multiplier of num_k_folds to determine the minimum frequency.\n",
    "\n",
    "RowTrimmer is an estimator that will remove the disposal outlets with the lowest frequency."
   ]
  },
  {
   "cell_type": "markdown",
   "metadata": {},
   "source": [
    "## Preprocessing\n",
    "\n",
    "These are general tidying, cleansing and repairing activities prior to any splitting of data."
   ]
  },
  {
   "cell_type": "markdown",
   "metadata": {},
   "source": [
    "### Row Trimmer"
   ]
  },
  {
   "cell_type": "code",
   "execution_count": 10,
   "metadata": {},
   "outputs": [],
   "source": [
    "# Create a Row Trimmer by extending the BaseEstimator class\n",
    "class RowTrimmer(BaseEstimator, TransformerMixin):\n",
    "    def __init__(self, min_count=5):\n",
    "        self.min_count = min_count\n",
    "\n",
    "    def fit(self, X, y=None):\n",
    "        return self\n",
    "    \n",
    "    def transform(self, X):\n",
    "        before_trim_size = len(X)\n",
    "\n",
    "        # Drop rows with nothing in the Disposal Column\n",
    "        X.dropna(subset=['Disposal'], inplace=True)\n",
    "        label_counts = X['Disposal'].value_counts()\n",
    "        \n",
    "        # Find the indices of labels that appear less than min_count times.\n",
    "        unique_labels = label_counts[label_counts < self.min_count].index\n",
    "\n",
    "        # Using the index value, filter out rows where the label appears only once.\n",
    "        X = X[~X['Disposal'].isin(unique_labels)]\n",
    "\n",
    "        # Reset row indexing\n",
    "        X = X.reset_index(drop=True)\n",
    "        after_trim_size = len(X)\n",
    "\n",
    "        # After trimming rows that we don't want, reset outlets.\n",
    "        outlets = pd.DataFrame({'Disposal': df['Disposal'].unique()})\n",
    "        outlets = outlets.sort_values(by='Disposal').reset_index(drop=True)\n",
    "\n",
    "        print(f'RowTrimmer: Out of {len(label_counts)} outlets, {len(unique_labels)} appear less than { self.min_count} times. {before_trim_size - after_trim_size} rows have been trimmed.')\n",
    "        print(f'RowTrimmer: {X.shape}')\n",
    "        return X"
   ]
  },
  {
   "cell_type": "markdown",
   "metadata": {},
   "source": [
    "Testing RowTrimmer"
   ]
  },
  {
   "cell_type": "code",
   "execution_count": 11,
   "metadata": {},
   "outputs": [
    {
     "name": "stdout",
     "output_type": "stream",
     "text": [
      "RowTrimmer: Out of 47 outlets, 2 appear less than 5 times. 3 rows have been trimmed.\n",
      "RowTrimmer: (21043, 42)\n"
     ]
    }
   ],
   "source": [
    "# Test RowTrimmer\n",
    "from sklearn.pipeline import Pipeline\n",
    "rt_params = {\n",
    "    'rt__min_count': k_folds * num_k_folds\n",
    "}\n",
    "\n",
    "# Create a pipeline to build a model\n",
    "rt_pipe = Pipeline([\n",
    "    ('rt', RowTrimmer())\n",
    "])\n",
    "\n",
    "rt_pipe.set_params(**rt_params)\n",
    "\n",
    "# Example usage of the pipeline\n",
    "rt_trim = rt_pipe.fit_transform(df)"
   ]
  },
  {
   "cell_type": "markdown",
   "metadata": {},
   "source": [
    "Having trimmed away a few unhelpful rows, we can now consider columns. Of the 42 or so columns, there are only a few that can be used as descriptors and a second data file labels.xlsx, is provided that lists all columns and indicates which ones are useful."
   ]
  },
  {
   "cell_type": "markdown",
   "metadata": {},
   "source": [
    "ColumnTrimmer estimator will tidy up the labels.xlsx file and use the values to produce a trimmed dataframe that contains only features of interest."
   ]
  },
  {
   "cell_type": "markdown",
   "metadata": {},
   "source": [
    "### Column Trimmer"
   ]
  },
  {
   "cell_type": "code",
   "execution_count": 12,
   "metadata": {},
   "outputs": [],
   "source": [
    "# Define the ColumnTrimmer class\n",
    "class ColumnTrimmer(BaseEstimator, TransformerMixin):\n",
    "    def __init__(self, filename=''):\n",
    "        self.filename = filename\n",
    "\n",
    "    def fit(self, X, y=None):\n",
    "        return self\n",
    "\n",
    "    def transform(self, X):\n",
    "        # Load the excel file\n",
    "        lb = pd.read_excel(self.filename, header=0)\n",
    "        lb.head(2)\n",
    "\n",
    "        # Fill in any missing values in the In/Out column.\n",
    "        lb.fillna(\"OUT\", inplace=True)\n",
    "\n",
    "        # Replace any values that are not either IN or OUT.\n",
    "        temp = [value if value in [\"IN\", \"OUT\"] else \"OUT\" for value in lb['In/Out'].values] \n",
    "        lb['In/Out'] = temp\n",
    "\n",
    "        # Filter the labels for those where In/Out == IN\n",
    "        features = lb[lb['In/Out']=='IN'].astype('str')\n",
    "        self.columns_to_keep = [col.strip() for col in features['Column'].values]\n",
    "        #self.columns_to_keep = [col.strip().replace(' ', '_') for col in features['Column'].values]\n",
    "\n",
    "        # Select only specified columns\n",
    "        if self.columns_to_keep is not None and any(self.columns_to_keep):\n",
    "            transformed_df = X[self.columns_to_keep]  \n",
    "        else:\n",
    "            transformed_df = X\n",
    "        \n",
    "        print(f'ColumnTrimmer: After trimming {len(transformed_df.columns)} columns remain.')\n",
    "        print(f'{transformed_df.dtypes}')\n",
    "        print(f'ColumnTrimmer: {transformed_df.shape}')\n",
    "        return transformed_df"
   ]
  },
  {
   "cell_type": "markdown",
   "metadata": {},
   "source": [
    "Testing ColumnTrimmer"
   ]
  },
  {
   "cell_type": "code",
   "execution_count": 13,
   "metadata": {},
   "outputs": [
    {
     "name": "stdout",
     "output_type": "stream",
     "text": [
      "ColumnTrimmer: After trimming 7 columns remain.\n",
      "Description                      object\n",
      "Components and Concentrations    object\n",
      "Hazard Codes                     object\n",
      "UN Number                        object\n",
      "EWC                              object\n",
      "Disposal                         object\n",
      "Physical State                   object\n",
      "dtype: object\n",
      "ColumnTrimmer: (21043, 7)\n"
     ]
    },
    {
     "data": {
      "text/html": [
       "<div>\n",
       "<style scoped>\n",
       "    .dataframe tbody tr th:only-of-type {\n",
       "        vertical-align: middle;\n",
       "    }\n",
       "\n",
       "    .dataframe tbody tr th {\n",
       "        vertical-align: top;\n",
       "    }\n",
       "\n",
       "    .dataframe thead th {\n",
       "        text-align: right;\n",
       "    }\n",
       "</style>\n",
       "<table border=\"1\" class=\"dataframe\">\n",
       "  <thead>\n",
       "    <tr style=\"text-align: right;\">\n",
       "      <th></th>\n",
       "      <th>Description</th>\n",
       "      <th>Components and Concentrations</th>\n",
       "      <th>Hazard Codes</th>\n",
       "      <th>UN Number</th>\n",
       "      <th>EWC</th>\n",
       "      <th>Disposal</th>\n",
       "      <th>Physical State</th>\n",
       "    </tr>\n",
       "  </thead>\n",
       "  <tbody>\n",
       "    <tr>\n",
       "      <th>21038</th>\n",
       "      <td>WATER BASED PAN WASH CLEANING SLURY</td>\n",
       "      <td>non hazardous paint-&lt;10%/water-balance</td>\n",
       "      <td>N/C</td>\n",
       "      <td>NCAD</td>\n",
       "      <td>80120</td>\n",
       "      <td>FCC KNOSTROP</td>\n",
       "      <td>SLUDGE</td>\n",
       "    </tr>\n",
       "    <tr>\n",
       "      <th>21039</th>\n",
       "      <td>WATER BASED PAN WASH CLEANING SLURY</td>\n",
       "      <td>non hazardous paint-&lt;10%/water-balance</td>\n",
       "      <td>N/C</td>\n",
       "      <td>NCAD</td>\n",
       "      <td>80120</td>\n",
       "      <td>FCC KNOSTROP</td>\n",
       "      <td>SLUDGE</td>\n",
       "    </tr>\n",
       "    <tr>\n",
       "      <th>21040</th>\n",
       "      <td>WATER BASED PAN WASH CLEANING SLURY</td>\n",
       "      <td>non hazardous paint-&lt;10%/water-balance</td>\n",
       "      <td>N/C</td>\n",
       "      <td>NCAD</td>\n",
       "      <td>80120</td>\n",
       "      <td>FCC KNOSTROP</td>\n",
       "      <td>SLUDGE</td>\n",
       "    </tr>\n",
       "    <tr>\n",
       "      <th>21041</th>\n",
       "      <td>SCRAP METAL</td>\n",
       "      <td>NIL HAZARDOUS COMPONENTS</td>\n",
       "      <td>None</td>\n",
       "      <td>NCAD</td>\n",
       "      <td>200140</td>\n",
       "      <td>EMR</td>\n",
       "      <td>SOLID</td>\n",
       "    </tr>\n",
       "    <tr>\n",
       "      <th>21042</th>\n",
       "      <td>EMPTY CONTAINERS LOAD</td>\n",
       "      <td>AMMONIUM THIOSULPHATE-=&lt;4%/SODIUM SULPHITE-=&lt;1...</td>\n",
       "      <td>HP4</td>\n",
       "      <td>NCAD</td>\n",
       "      <td>150110*</td>\n",
       "      <td>STOCKLEYS</td>\n",
       "      <td>SOLID</td>\n",
       "    </tr>\n",
       "  </tbody>\n",
       "</table>\n",
       "</div>"
      ],
      "text/plain": [
       "                               Description  \\\n",
       "21038  WATER BASED PAN WASH CLEANING SLURY   \n",
       "21039  WATER BASED PAN WASH CLEANING SLURY   \n",
       "21040  WATER BASED PAN WASH CLEANING SLURY   \n",
       "21041                          SCRAP METAL   \n",
       "21042                EMPTY CONTAINERS LOAD   \n",
       "\n",
       "                           Components and Concentrations Hazard Codes  \\\n",
       "21038             non hazardous paint-<10%/water-balance          N/C   \n",
       "21039             non hazardous paint-<10%/water-balance          N/C   \n",
       "21040             non hazardous paint-<10%/water-balance          N/C   \n",
       "21041                           NIL HAZARDOUS COMPONENTS         None   \n",
       "21042  AMMONIUM THIOSULPHATE-=<4%/SODIUM SULPHITE-=<1...          HP4   \n",
       "\n",
       "      UN Number      EWC      Disposal Physical State  \n",
       "21038      NCAD    80120  FCC KNOSTROP         SLUDGE  \n",
       "21039      NCAD    80120  FCC KNOSTROP         SLUDGE  \n",
       "21040      NCAD    80120  FCC KNOSTROP         SLUDGE  \n",
       "21041      NCAD   200140           EMR          SOLID  \n",
       "21042      NCAD  150110*     STOCKLEYS          SOLID  "
      ]
     },
     "execution_count": 13,
     "metadata": {},
     "output_type": "execute_result"
    }
   ],
   "source": [
    "# Redefine params\n",
    "ct_params = {\n",
    "    'ct__filename': 'data/labels.xlsx'\n",
    "}\n",
    "\n",
    "# Create a pipeline to build a model\n",
    "ct_pipe = Pipeline([\n",
    "    ('ct', ColumnTrimmer())\n",
    "])\n",
    "\n",
    "ct_pipe.set_params(**ct_params)\n",
    "\n",
    "# Re-run the pipeline with new estimators\n",
    "ct_trim = ct_pipe.fit_transform(rt_trim)\n",
    "ct_trim.tail(5)"
   ]
  },
  {
   "cell_type": "markdown",
   "metadata": {},
   "source": [
    "### ReplaceEmptyCellsTransformer"
   ]
  },
  {
   "cell_type": "markdown",
   "metadata": {},
   "source": [
    "After trimming unecessary columns and rows we can then move on to reparing a few holes."
   ]
  },
  {
   "cell_type": "code",
   "execution_count": 14,
   "metadata": {},
   "outputs": [
    {
     "name": "stdout",
     "output_type": "stream",
     "text": [
      "Description                        0\n",
      "Components and Concentrations    622\n",
      "Hazard Codes                       5\n",
      "UN Number                          2\n",
      "EWC                                0\n",
      "Disposal                           0\n",
      "Physical State                     0\n",
      "dtype: int64\n"
     ]
    }
   ],
   "source": [
    "print(ct_trim.isnull().sum())"
   ]
  },
  {
   "cell_type": "markdown",
   "metadata": {},
   "source": [
    "ReplaceEmptyCellsTransformer will accept a dictionary of default values, indexed by the feature name and fill in any null values with an appropriate value. There are possibly other ways to approach this, for example use an imputer and fill in with the most frequent value, or for numbers the average value."
   ]
  },
  {
   "cell_type": "code",
   "execution_count": 15,
   "metadata": {},
   "outputs": [],
   "source": [
    "class ReplaceEmptyCellsTransformer(BaseEstimator, TransformerMixin):\n",
    "    def __init__(self, replace_values=None):\n",
    "        self.replace_values = replace_values\n",
    "\n",
    "    def fit(self, X, y=None):\n",
    "        return self\n",
    "\n",
    "    def transform(self, X):\n",
    "        for col, val in self.replace_values.items():            \n",
    "            X[col].fillna(val, inplace=True)\n",
    "        return X"
   ]
  },
  {
   "cell_type": "markdown",
   "metadata": {},
   "source": [
    "\n",
    "Testing ReplaceEmptyCellsTransformer"
   ]
  },
  {
   "cell_type": "code",
   "execution_count": 16,
   "metadata": {},
   "outputs": [
    {
     "name": "stdout",
     "output_type": "stream",
     "text": [
      "Description                      0\n",
      "Components and Concentrations    0\n",
      "Hazard Codes                     0\n",
      "UN Number                        0\n",
      "EWC                              0\n",
      "Disposal                         0\n",
      "Physical State                   0\n",
      "dtype: int64\n"
     ]
    },
    {
     "data": {
      "text/html": [
       "<div>\n",
       "<style scoped>\n",
       "    .dataframe tbody tr th:only-of-type {\n",
       "        vertical-align: middle;\n",
       "    }\n",
       "\n",
       "    .dataframe tbody tr th {\n",
       "        vertical-align: top;\n",
       "    }\n",
       "\n",
       "    .dataframe thead th {\n",
       "        text-align: right;\n",
       "    }\n",
       "</style>\n",
       "<table border=\"1\" class=\"dataframe\">\n",
       "  <thead>\n",
       "    <tr style=\"text-align: right;\">\n",
       "      <th></th>\n",
       "      <th>Description</th>\n",
       "      <th>Components and Concentrations</th>\n",
       "      <th>Hazard Codes</th>\n",
       "      <th>UN Number</th>\n",
       "      <th>EWC</th>\n",
       "      <th>Disposal</th>\n",
       "      <th>Physical State</th>\n",
       "    </tr>\n",
       "  </thead>\n",
       "  <tbody>\n",
       "    <tr>\n",
       "      <th>21038</th>\n",
       "      <td>WATER BASED PAN WASH CLEANING SLURY</td>\n",
       "      <td>non hazardous paint-&lt;10%/water-balance</td>\n",
       "      <td>N/C</td>\n",
       "      <td>NCAD</td>\n",
       "      <td>80120</td>\n",
       "      <td>FCC KNOSTROP</td>\n",
       "      <td>SLUDGE</td>\n",
       "    </tr>\n",
       "    <tr>\n",
       "      <th>21039</th>\n",
       "      <td>WATER BASED PAN WASH CLEANING SLURY</td>\n",
       "      <td>non hazardous paint-&lt;10%/water-balance</td>\n",
       "      <td>N/C</td>\n",
       "      <td>NCAD</td>\n",
       "      <td>80120</td>\n",
       "      <td>FCC KNOSTROP</td>\n",
       "      <td>SLUDGE</td>\n",
       "    </tr>\n",
       "    <tr>\n",
       "      <th>21040</th>\n",
       "      <td>WATER BASED PAN WASH CLEANING SLURY</td>\n",
       "      <td>non hazardous paint-&lt;10%/water-balance</td>\n",
       "      <td>N/C</td>\n",
       "      <td>NCAD</td>\n",
       "      <td>80120</td>\n",
       "      <td>FCC KNOSTROP</td>\n",
       "      <td>SLUDGE</td>\n",
       "    </tr>\n",
       "    <tr>\n",
       "      <th>21041</th>\n",
       "      <td>SCRAP METAL</td>\n",
       "      <td>NIL HAZARDOUS COMPONENTS</td>\n",
       "      <td>None</td>\n",
       "      <td>NCAD</td>\n",
       "      <td>200140</td>\n",
       "      <td>EMR</td>\n",
       "      <td>SOLID</td>\n",
       "    </tr>\n",
       "    <tr>\n",
       "      <th>21042</th>\n",
       "      <td>EMPTY CONTAINERS LOAD</td>\n",
       "      <td>AMMONIUM THIOSULPHATE-=&lt;4%/SODIUM SULPHITE-=&lt;1...</td>\n",
       "      <td>HP4</td>\n",
       "      <td>NCAD</td>\n",
       "      <td>150110*</td>\n",
       "      <td>STOCKLEYS</td>\n",
       "      <td>SOLID</td>\n",
       "    </tr>\n",
       "  </tbody>\n",
       "</table>\n",
       "</div>"
      ],
      "text/plain": [
       "                               Description  \\\n",
       "21038  WATER BASED PAN WASH CLEANING SLURY   \n",
       "21039  WATER BASED PAN WASH CLEANING SLURY   \n",
       "21040  WATER BASED PAN WASH CLEANING SLURY   \n",
       "21041                          SCRAP METAL   \n",
       "21042                EMPTY CONTAINERS LOAD   \n",
       "\n",
       "                           Components and Concentrations Hazard Codes  \\\n",
       "21038             non hazardous paint-<10%/water-balance          N/C   \n",
       "21039             non hazardous paint-<10%/water-balance          N/C   \n",
       "21040             non hazardous paint-<10%/water-balance          N/C   \n",
       "21041                           NIL HAZARDOUS COMPONENTS         None   \n",
       "21042  AMMONIUM THIOSULPHATE-=<4%/SODIUM SULPHITE-=<1...          HP4   \n",
       "\n",
       "      UN Number      EWC      Disposal Physical State  \n",
       "21038      NCAD    80120  FCC KNOSTROP         SLUDGE  \n",
       "21039      NCAD    80120  FCC KNOSTROP         SLUDGE  \n",
       "21040      NCAD    80120  FCC KNOSTROP         SLUDGE  \n",
       "21041      NCAD   200140           EMR          SOLID  \n",
       "21042      NCAD  150110*     STOCKLEYS          SOLID  "
      ]
     },
     "execution_count": 16,
     "metadata": {},
     "output_type": "execute_result"
    }
   ],
   "source": [
    "# A dictionary of default values used for completing missing values.\n",
    "replace_values = {\n",
    "    'Components and Concentrations':'As List',\n",
    "    'Hazard Codes':'NC',\n",
    "    'UN Number':'NCAD'\n",
    "}\n",
    "\n",
    "# Redefine params\n",
    "rv_params = {\n",
    "    'rv__replace_values': replace_values\n",
    "}\n",
    "\n",
    "# Create a pipeline to build a model\n",
    "rv_pipe = Pipeline([\n",
    "    ('rv', ReplaceEmptyCellsTransformer())\n",
    "])\n",
    "\n",
    "rv_pipe.set_params(**rv_params)\n",
    "\n",
    "# Re-run the pipeline with new estimators\n",
    "rv_trim = rv_pipe.fit_transform(ct_trim)\n",
    "print(rv_trim.isnull().sum())\n",
    "rv_trim.tail(5)"
   ]
  },
  {
   "cell_type": "markdown",
   "metadata": {},
   "source": [
    "### Text Cleaner"
   ]
  },
  {
   "cell_type": "code",
   "execution_count": 17,
   "metadata": {},
   "outputs": [],
   "source": [
    "class TextCleaner(BaseEstimator, TransformerMixin):\n",
    "    def __init__(self,  remove_number_cols=None):\n",
    "        self.remove_number_cols = remove_number_cols\n",
    "    \n",
    "    def fit(self, X, y=None):\n",
    "        return self\n",
    "    \n",
    "    def transform(self, X): \n",
    "        col = ''   \n",
    "        cols = []\n",
    "        text = ''\n",
    "        try:                        \n",
    "            for col in X.columns:\n",
    "                cols.append(col)  \n",
    "                cleaned_text = []\n",
    "                for text in X[col]:  \n",
    "                    # For Hazard Codes only\n",
    "                    if col=='Hazard Codes':\n",
    "                        if text=='':\n",
    "                            text = 'NC'\n",
    "                        if text=='None':\n",
    "                            text = 'NC'                  \n",
    "                    if text is not None and not pd.isna(text):\n",
    "                        try:\n",
    "                            # Remove whitespaces from either end\n",
    "                            text = text.strip()\n",
    "                        except:\n",
    "                            print(f'Text failed for strip method {text}')\n",
    "                        \n",
    "                        # Remove punctuation\n",
    "                        text = ''.join([c if c not in string.punctuation else ' ' for c in text])\n",
    "\n",
    "                        # Remove numbers\n",
    "                        if col in self.remove_number_cols:\n",
    "                            text = ''.join([char if not char.isdigit() else ' ' for char in text])\n",
    "\n",
    "                        # For EWC Codes only, length must be 6\n",
    "                        if col=='EWC':\n",
    "                            if len(text)==5:\n",
    "                                text = '0' + text\n",
    "                        \n",
    "                        # Tokenize the text\n",
    "                        words = word_tokenize(text)\n",
    "\n",
    "                        # Remove single letters\n",
    "                        words = [word for word in words if len(word) > 1]\n",
    "\n",
    "                        # Collect words\n",
    "                        cleaned_text.append(' '.join(words))\n",
    "                            \n",
    "                    else:\n",
    "                        #cleaned_text.append(' '.join(''))\n",
    "                        print('')\n",
    "                X[col] = cleaned_text\n",
    "                \n",
    "        except Exception as e:\n",
    "            print(f\"TextCleaner: An error occurred transforming text in {col}: {text}:\", e)\n",
    "        else:\n",
    "            # Code to execute if no exception is raised\n",
    "            print(f\"TextCleaner: Successfully completed: {cols}\")\n",
    "        finally:\n",
    "            print(f'TextCleaner: Finished Shape: {X.shape}')\n",
    "            print('-'*100) \n",
    "        return X"
   ]
  },
  {
   "cell_type": "markdown",
   "metadata": {},
   "source": [
    "Testing TextCleaner"
   ]
  },
  {
   "cell_type": "code",
   "execution_count": 18,
   "metadata": {},
   "outputs": [
    {
     "name": "stdout",
     "output_type": "stream",
     "text": [
      "TextCleaner: Successfully completed: ['Description', 'Components and Concentrations', 'Hazard Codes', 'UN Number', 'EWC', 'Disposal', 'Physical State']\n",
      "TextCleaner: Finished Shape: (21043, 7)\n",
      "----------------------------------------------------------------------------------------------------\n"
     ]
    },
    {
     "data": {
      "text/html": [
       "<div>\n",
       "<style scoped>\n",
       "    .dataframe tbody tr th:only-of-type {\n",
       "        vertical-align: middle;\n",
       "    }\n",
       "\n",
       "    .dataframe tbody tr th {\n",
       "        vertical-align: top;\n",
       "    }\n",
       "\n",
       "    .dataframe thead th {\n",
       "        text-align: right;\n",
       "    }\n",
       "</style>\n",
       "<table border=\"1\" class=\"dataframe\">\n",
       "  <thead>\n",
       "    <tr style=\"text-align: right;\">\n",
       "      <th></th>\n",
       "      <th>Description</th>\n",
       "      <th>Components and Concentrations</th>\n",
       "      <th>Hazard Codes</th>\n",
       "      <th>UN Number</th>\n",
       "      <th>EWC</th>\n",
       "      <th>Disposal</th>\n",
       "      <th>Physical State</th>\n",
       "    </tr>\n",
       "  </thead>\n",
       "  <tbody>\n",
       "    <tr>\n",
       "      <th>21038</th>\n",
       "      <td>WATER BASED PAN WASH CLEANING SLURY</td>\n",
       "      <td>non hazardous paint water balance</td>\n",
       "      <td></td>\n",
       "      <td>NCAD</td>\n",
       "      <td>080120</td>\n",
       "      <td>FCC KNOSTROP</td>\n",
       "      <td>SLUDGE</td>\n",
       "    </tr>\n",
       "    <tr>\n",
       "      <th>21039</th>\n",
       "      <td>WATER BASED PAN WASH CLEANING SLURY</td>\n",
       "      <td>non hazardous paint water balance</td>\n",
       "      <td></td>\n",
       "      <td>NCAD</td>\n",
       "      <td>080120</td>\n",
       "      <td>FCC KNOSTROP</td>\n",
       "      <td>SLUDGE</td>\n",
       "    </tr>\n",
       "    <tr>\n",
       "      <th>21040</th>\n",
       "      <td>WATER BASED PAN WASH CLEANING SLURY</td>\n",
       "      <td>non hazardous paint water balance</td>\n",
       "      <td></td>\n",
       "      <td>NCAD</td>\n",
       "      <td>080120</td>\n",
       "      <td>FCC KNOSTROP</td>\n",
       "      <td>SLUDGE</td>\n",
       "    </tr>\n",
       "    <tr>\n",
       "      <th>21041</th>\n",
       "      <td>SCRAP METAL</td>\n",
       "      <td>NIL HAZARDOUS COMPONENTS</td>\n",
       "      <td>NC</td>\n",
       "      <td>NCAD</td>\n",
       "      <td>200140</td>\n",
       "      <td>EMR</td>\n",
       "      <td>SOLID</td>\n",
       "    </tr>\n",
       "    <tr>\n",
       "      <th>21042</th>\n",
       "      <td>EMPTY CONTAINERS LOAD</td>\n",
       "      <td>AMMONIUM THIOSULPHATE SODIUM SULPHITE ACETIC A...</td>\n",
       "      <td>HP4</td>\n",
       "      <td>NCAD</td>\n",
       "      <td>150110</td>\n",
       "      <td>STOCKLEYS</td>\n",
       "      <td>SOLID</td>\n",
       "    </tr>\n",
       "  </tbody>\n",
       "</table>\n",
       "</div>"
      ],
      "text/plain": [
       "                               Description  \\\n",
       "21038  WATER BASED PAN WASH CLEANING SLURY   \n",
       "21039  WATER BASED PAN WASH CLEANING SLURY   \n",
       "21040  WATER BASED PAN WASH CLEANING SLURY   \n",
       "21041                          SCRAP METAL   \n",
       "21042                EMPTY CONTAINERS LOAD   \n",
       "\n",
       "                           Components and Concentrations Hazard Codes  \\\n",
       "21038                  non hazardous paint water balance                \n",
       "21039                  non hazardous paint water balance                \n",
       "21040                  non hazardous paint water balance                \n",
       "21041                           NIL HAZARDOUS COMPONENTS           NC   \n",
       "21042  AMMONIUM THIOSULPHATE SODIUM SULPHITE ACETIC A...          HP4   \n",
       "\n",
       "      UN Number     EWC      Disposal Physical State  \n",
       "21038      NCAD  080120  FCC KNOSTROP         SLUDGE  \n",
       "21039      NCAD  080120  FCC KNOSTROP         SLUDGE  \n",
       "21040      NCAD  080120  FCC KNOSTROP         SLUDGE  \n",
       "21041      NCAD  200140           EMR          SOLID  \n",
       "21042      NCAD  150110     STOCKLEYS          SOLID  "
      ]
     },
     "execution_count": 18,
     "metadata": {},
     "output_type": "execute_result"
    }
   ],
   "source": [
    "# Redefine params\n",
    "tc_params = {\n",
    "    'tc__remove_number_cols': ['Description', 'Components and Concentrations']\n",
    "}\n",
    "\n",
    "# Create a pipeline to build a model\n",
    "tc_pipe = Pipeline([\n",
    "    ('tc', TextCleaner())\n",
    "])\n",
    "\n",
    "tc_pipe.set_params(**tc_params)\n",
    "\n",
    "# Re-run the pipeline with new estimators\n",
    "tc_trim = tc_pipe.fit_transform(rv_trim)\n",
    "tc_trim.tail(5)"
   ]
  },
  {
   "cell_type": "markdown",
   "metadata": {},
   "source": [
    "## Model Building"
   ]
  },
  {
   "cell_type": "markdown",
   "metadata": {},
   "source": [
    "We see that all columns are object data types, for machine learning we need to convert these from objects into either float, int or bool data types. On further review we have a combination of categorical data expressed as text, plus entirely free text that is rich in common words or phrases. Two of the categorical terms have very high numbers of possibilities (or dimensions).\n",
    "\n",
    "Text based class labels:\n",
    "- Disposal\n",
    "\n",
    "Low Dimensional, Single Categorical terms:\n",
    "- Physical State\n",
    "\n",
    "Low Dimensional, Multi Categorical, space delimited terms:\n",
    "- Hazard Codes\n",
    "\n",
    "High Dimensional Categorical terms:\n",
    "- EWC\n",
    "- UN Number\n",
    "\n",
    "Text columns:\n",
    "- Description\n",
    "- Components and Concentrations\n"
   ]
  },
  {
   "cell_type": "markdown",
   "metadata": {},
   "source": [
    "### Approach\n",
    "- Text based labels can be treated simply by adding an index column. See IndexTransformer.\n",
    "- Low dimensional categorical terms can be encoded by one hot encoding. See OneHotTransformer\n",
    "- Low dimensional categorical terms that need to be tokenised before one hot encoding. See OneHotTokenTransformer.\n",
    "- High dimensional categorical terms would be best suited to feature hashing. See FeatureHashingTransformer.\n",
    "- Text based columns can be cleansed and simplified by removing numbers, punctuation symbols and single letters, see TextCleaner.\n",
    "- The CountVectorizer library can be used to turn text into a bag of words, with frequency counts. See ColumnVectoriser."
   ]
  },
  {
   "cell_type": "markdown",
   "metadata": {},
   "source": [
    "### Index Transformer"
   ]
  },
  {
   "cell_type": "code",
   "execution_count": 19,
   "metadata": {},
   "outputs": [],
   "source": [
    "# Create a class for transforming a column of values into a column of index numbers of those values in a list of unique values\n",
    "class IndexTransformer(BaseEstimator, TransformerMixin):\n",
    "    def __init__(self, column_name=''):\n",
    "        #if(column_name is not None):\n",
    "        self.column_name = column_name        \n",
    "        self.index_name = self.column_name + '_Index'\n",
    "\n",
    "    def fit(self, X, y=None):\n",
    "        self.index_name = self.column_name + '_Index'\n",
    "        return self\n",
    "\n",
    "    def transform(self, X):\n",
    "        index_map = {}\n",
    "        try:\n",
    "            print(f'IndexTransformer Start: Unique Values: {len(X[self.column_name].unique())}' )\n",
    "            # Tidy up a bit\n",
    "            X[self.column_name].str.upper()\n",
    "            X[self.column_name].str.strip()\n",
    "\n",
    "            # Find the unique values and arrange alphabetically\n",
    "            df_temp = pd.DataFrame({self.column_name: X[self.column_name].unique()})\n",
    "            df_temp = df_temp.sort_values(by=self.column_name).reset_index(drop=True)\n",
    "\n",
    "            # Create a dictionary mapping values to their index\n",
    "            index_map = {item: idx for idx, item in enumerate(df_temp[self.column_name])}\n",
    "                            \n",
    "            # Find the index of each value in the list of unique values\n",
    "            indices = [index_map[value] for value in X[self.column_name]]\n",
    "\n",
    "            # Create a new column name +'_Index' in the DataFrame\n",
    "            X[self.index_name] = indices\n",
    "\n",
    "            # Remove the encoded column\n",
    "            #X = X.drop(self.column_name, axis=1)\n",
    "            \n",
    "        except Exception as e:\n",
    "            # Handle any other exceptions\n",
    "            print(f\"IndexTransformer: An error occurred in {self.column_name}:\", e)\n",
    "        else:\n",
    "            # Code to execute if no exception is raised\n",
    "            print(f\"IndexTransformer: Successfully completed: {self.index_name}.\")\n",
    "        finally:\n",
    "            print(f'IndexTransformer: Finished: Unique Values: {len(X[self.index_name].unique())}' )\n",
    "            print('-'*100)  \n",
    "        return X"
   ]
  },
  {
   "cell_type": "markdown",
   "metadata": {},
   "source": [
    "### One Hot Transformer"
   ]
  },
  {
   "cell_type": "code",
   "execution_count": 20,
   "metadata": {},
   "outputs": [],
   "source": [
    "# An estimator for Ono Hot Encoding\n",
    "class OneHotTransformer(BaseEstimator, TransformerMixin):\n",
    "    def __init__(self, column_name=None):\n",
    "        self.column_name = column_name\n",
    "\n",
    "    def fit(self, X, y=None):\n",
    "        return self\n",
    "\n",
    "    def transform(self, X):\n",
    "        transformed_data = pd.DataFrame()\n",
    "        print(f'OneHotTransformer Start: {X.shape}')\n",
    "        try:\n",
    "            # Tidy up a bit\n",
    "            X[self.column_name].str.upper()\n",
    "            X[self.column_name].str.strip()\n",
    "\n",
    "            # Small modifier for Physical State\n",
    "            if(self.column_name=='Physical State'):\n",
    "                X[self.column_name] = X[self.column_name].fillna('MIXED')\n",
    "            \n",
    "            # Create a copy of the data to encode\n",
    "            df_temp = pd.DataFrame({'temp': X[self.column_name].values})\n",
    "\n",
    "            # Call pandas get_dummies to one hot encode\n",
    "            df_temp = pd.get_dummies(df_temp, prefix=self.column_name)\n",
    "            #df_temp.reset_index(drop=True, inplace=True)\n",
    "\n",
    "            # Remove the encoded column\n",
    "            if self.column_name in X.columns:\n",
    "                X = X.drop(self.column_name, axis=1)\n",
    "                X.reset_index(drop=True, inplace=True)\n",
    "\n",
    "            # Add columns to the model\n",
    "            X = pd.concat([X, df_temp], axis=1)\n",
    "            #X.reset_index(drop=True, inplace=True)\n",
    "            \n",
    "        except Exception as e:\n",
    "            # Handle any other exceptions\n",
    "            print(f\"OneHotTransformer: An error occurred in {self.column_name}:\", e)\n",
    "        else:\n",
    "            # Code to execute if no exception is raised\n",
    "            print(f\"OneHotTransformer: Successfully completed: {self.column_name}\")\n",
    "        finally:\n",
    "            print(f'OneHotTransformer: Finished {self.column_name} Shape: {X.shape}')\n",
    "            print('-'*100) \n",
    "        return X"
   ]
  },
  {
   "cell_type": "markdown",
   "metadata": {},
   "source": [
    "### One Hot Token Transformer"
   ]
  },
  {
   "cell_type": "code",
   "execution_count": 21,
   "metadata": {},
   "outputs": [],
   "source": [
    "# Anestimator for encoding strings of tokenised categories\n",
    "class OneHotTokenTransformer(BaseEstimator, TransformerMixin):\n",
    "    def __init__(self, column_name=None, tokens=None):\n",
    "        self.column_name = column_name\n",
    "        self.tokens = tokens\n",
    "\n",
    "    def fit(self, X, y=None):\n",
    "        # Fill missing values (NaN) in the 'Hazard_Codes' column with an empty string\n",
    "        if(self.column_name=='Hazard Codes'):\n",
    "            X[self.column_name].fillna('NC', inplace=True)\n",
    "\n",
    "        # Small modifier for Physical State\n",
    "        if(self.column_name=='Physical State'):\n",
    "            X[self.column_name] = X[self.column_name].fillna('MIXED')\n",
    "        return self\n",
    "\n",
    "    def transform(self, X):\n",
    "        transformed_data = pd.DataFrame()\n",
    "        print(f'OneHotTokenTransformer Start: {X.shape}')\n",
    "        try:\n",
    "            # Tidy up a bit\n",
    "            X[self.column_name].str.upper()\n",
    "            X[self.column_name].str.strip()\n",
    "\n",
    "            for hc in self.tokens:\n",
    "                if hc not in X.columns:\n",
    "                    X[hc] = 0\n",
    "\n",
    "            # Split the codes in the 'Hazard_Codes' column and assign 1's and 0's\n",
    "            for code in self.tokens:\n",
    "                X[code] = X[self.column_name].apply(lambda x: 1 if code in x.split() else 0)\n",
    "            \n",
    "            # Remove the encoded column\n",
    "            if self.column_name in X.columns:\n",
    "                X = X.drop(self.column_name, axis=1)\n",
    "                #X.reset_index(drop=True, inplace=True)\n",
    "                        \n",
    "        except Exception as e:\n",
    "            # Handle any other exceptions\n",
    "            print(\"OneHotTokenTransformer: An error occurred:\", e)\n",
    "        else:\n",
    "            # Code to execute if no exception is raised\n",
    "            print(f\"OneHotTokenTransformer: Successfully completed: {self.column_name}\")\n",
    "        finally:\n",
    "            # Code that will always run, regardless of an exception\n",
    "            print(f'OneHotTokenTransformer: Finished {self.column_name} Shape: {X.shape}') \n",
    "            print('-'*100)       \n",
    "        return X"
   ]
  },
  {
   "cell_type": "markdown",
   "metadata": {},
   "source": [
    "### Feature Hashing Transformer"
   ]
  },
  {
   "cell_type": "code",
   "execution_count": 22,
   "metadata": {},
   "outputs": [],
   "source": [
    "# An estimator for cleaning text and encoding with feature hashing.\n",
    "class FeatureHashingTransformer(BaseEstimator, TransformerMixin):\n",
    "    def __init__(self, column_name=None, num_vec=6):\n",
    "        self.column_name = column_name\n",
    "        self.num_vec = num_vec\n",
    "\n",
    "    def fit(self, X, y=None):\n",
    "        if(self.column_name=='UN Number'):\n",
    "            X[self.column_name].fillna('NCAD', inplace=True)\n",
    "        return self\n",
    "    \n",
    "    def transform(self, X):\n",
    "        print(f'FeatureHashingTransformer Start: {X.shape}')\n",
    "        try:\n",
    "            # A helper function for encoding highly diverse categorical information.\n",
    "            def feature_hasher(data, prefix, num_features):\n",
    "                # Initialize the FeatureHasher object\n",
    "                hasher = FeatureHasher(n_features=num_features, input_type='string')\n",
    "\n",
    "                # Apply feature hashing to the data\n",
    "                hashed_features = hasher.transform(data.astype(str))\n",
    "\n",
    "                # Shift the negative hashed features to make them positive\n",
    "                hashed_features.data += abs(hashed_features.min())\n",
    "\n",
    "                # Convert the hashed features to a DataFrame\n",
    "                df_hashed = pd.DataFrame(hashed_features.toarray())\n",
    "\n",
    "                # Add a prefix to the column name for each feature\n",
    "                df_hashed.columns = [prefix + '_' + col for col in df_hashed.columns.astype('str')]            \n",
    "                return df_hashed\n",
    "                        \n",
    "            # Tidy up a bit\n",
    "            X[self.column_name] = X[self.column_name].str.upper()\n",
    "\n",
    "            # Remove any preceding aphotrophes\n",
    "            X[self.column_name] = X[self.column_name].str.lstrip(\"'\")\n",
    "\n",
    "            # Remove any following asterisks\n",
    "            X[self.column_name] = X[self.column_name].str.rstrip(\"*\")\n",
    "\n",
    "            # Remove any whitespaces\n",
    "            X[self.column_name] = X[self.column_name].str.strip()\n",
    "\n",
    "            # Hash values into a dataframe\n",
    "            df_fh = feature_hasher(X[self.column_name], self.column_name, self.num_vec)\n",
    "\n",
    "            # Remove the encoded column\n",
    "            X = X.drop(self.column_name, axis=1)\n",
    "            X.reset_index(drop=True, inplace=True)\n",
    "            \n",
    "            # Add columns to the model\n",
    "            X = pd.concat([X, df_fh], axis=1)\n",
    "            #X.reset_index(drop=True, inplace=True)\n",
    "            \n",
    "        except Exception as e:\n",
    "            # Handle any other exceptions\n",
    "            print(f\"FeatureHashingTransformer: An error occurred in {self.column_name}:\", e)\n",
    "        else:\n",
    "            # Code to execute if no exception is raised\n",
    "            print(f\"FeatureHashingTransformer: Successfully completed: {self.column_name}\")\n",
    "        finally:\n",
    "            print(f'FeatureHashingTransformer: Finished {self.column_name} Shape: {X.shape}')\n",
    "            print('-'*100) \n",
    "        return X"
   ]
  },
  {
   "cell_type": "markdown",
   "metadata": {},
   "source": [
    "### Column Vectoriser"
   ]
  },
  {
   "cell_type": "code",
   "execution_count": 23,
   "metadata": {},
   "outputs": [],
   "source": [
    "from sklearn.feature_extraction.text import CountVectorizer\n",
    "from scipy.sparse import hstack\n",
    "\n",
    "# Custom transformer to apply text preprocessing, remove numbers and punctuation, and then apply CountVectorizer\n",
    "class ColumnVectorizer(BaseEstimator, TransformerMixin):\n",
    "    def __init__(self, max_features_list=None):\n",
    "        self.max_features_list = max_features_list\n",
    "        self.vectorizers = {}\n",
    "        self.stop_words = nltk.corpus.stopwords.words('english')\n",
    "        # Additional terms specific to this application can be added, by extending the english stopwords set.\n",
    "        new_stop_words = ['waste','contaminated','with','haz','hazardous','non','non-haz','non-hazardous','w/l','c/w','sched','scheduled','as','per']\n",
    "        self.stop_words.extend(new_stop_words)\n",
    "\n",
    "    def fit(self, X, y=None):\n",
    "        self.vectorizers = {}\n",
    "        for col, max_features in self.max_features_list.items():              \n",
    "            vectorizer = CountVectorizer(max_features=max_features, stop_words=self.stop_words, min_df=0)\n",
    "            vectorizer.fit(X[col])\n",
    "            self.vectorizers[col] = vectorizer\n",
    "        return self\n",
    "\n",
    "    def transform(self, X):\n",
    "        transformed_texts = []\n",
    "        result = None\n",
    "        try:\n",
    "            for col, max_features in self.max_features_list.items():\n",
    "                vectorizer = self.vectorizers[col]\n",
    "                vectorized_text = vectorizer.transform(X[col])\n",
    "                transformed_texts.append(vectorized_text)\n",
    "            result = hstack(transformed_texts)\n",
    "        except Exception as e:\n",
    "            print(f\"ColumnVectoriser: An error occurred vectorising text in {col}. \", e)\n",
    "        else:\n",
    "            # Code to execute if no exception is raised\n",
    "            print(f\"ColumnVectoriser: Successfully completed: {col}\")\n",
    "        finally:\n",
    "            #print(f'ColumnVectoriser: Finished Shape: {X.shape}')\n",
    "            print('-'*100) \n",
    "        return result\n"
   ]
  },
  {
   "cell_type": "markdown",
   "metadata": {},
   "source": [
    "## EWC (European Waste Code)"
   ]
  },
  {
   "cell_type": "markdown",
   "metadata": {},
   "source": [
    "These are categorical terms for the instustry sector from where the waste originates, they take the form of three pairs of number characters plus optionally an asterisk, most commonly the three pairs are joined to form a six digit number. Each disposal site has a list of allowable EWC codes on it's permit, this if anything should be the most significant term, however we do not have a copy of all of the sites permits. More than one site can have the same EWC so there are other factors to consider, not listed here such as comparative cost and geographical distance."
   ]
  },
  {
   "cell_type": "code",
   "execution_count": 24,
   "metadata": {},
   "outputs": [
    {
     "data": {
      "image/png": "[encoded data removed]",
      "text/plain": [
       "<Figure size 3000x300 with 1 Axes>"
      ]
     },
     "metadata": {},
     "output_type": "display_data"
    }
   ],
   "source": [
    "# Add a visualisation\n",
    "create_histogram_from_column(rv_trim, 'EWC', 30, 3)"
   ]
  },
  {
   "cell_type": "code",
   "execution_count": 25,
   "metadata": {},
   "outputs": [
    {
     "name": "stdout",
     "output_type": "stream",
     "text": [
      "FeatureHashingTransformer Start: (21043, 7)\n",
      "FeatureHashingTransformer: Successfully completed: EWC\n",
      "FeatureHashingTransformer: Finished EWC Shape: (21043, 12)\n",
      "----------------------------------------------------------------------------------------------------\n",
      "   EWC_0  EWC_1  EWC_2  EWC_3  EWC_4  EWC_5\n",
      "0    6.0    0.0    0.0    0.0    0.0    0.0\n",
      "1    6.0    0.0    0.0    0.0    0.0    0.0\n"
     ]
    }
   ],
   "source": [
    "# Number of columns to use for EWC encoding\n",
    "ewc_num_vec = 6\n",
    "\n",
    "# Define parameters\n",
    "ewc_params = {\n",
    "    'et__column_name': 'EWC',\n",
    "    'et__num_vec': ewc_num_vec\n",
    "}\n",
    "\n",
    "# Create a pipeline to build a model\n",
    "ewc_pipe = Pipeline([\n",
    "    ('et', FeatureHashingTransformer())\n",
    "])\n",
    "\n",
    "ewc_pipe.set_params(**ewc_params)\n",
    "\n",
    "# Re-run the pipeline with new estimators\n",
    "ewc_trim = ewc_pipe.fit_transform(ct_trim)\n",
    "print(ewc_trim.iloc[:, -1 * ewc_num_vec:].head(2))"
   ]
  },
  {
   "cell_type": "markdown",
   "metadata": {},
   "source": [
    "## Physical Form\n",
    "\n",
    "A text field with categorical single word terms, since they are free text entry we should take a closer look."
   ]
  },
  {
   "cell_type": "code",
   "execution_count": 26,
   "metadata": {},
   "outputs": [
    {
     "name": "stdout",
     "output_type": "stream",
     "text": [
      "There are 6 different forms: ['SOLID' 'LIQUID' 'MIXED' 'SLUDGE' 'GAS' 'POWDER']\n",
      "SOLID     9239\n",
      "MIXED     6544\n",
      "LIQUID    3987\n",
      "SLUDGE     951\n",
      "GAS        265\n",
      "POWDER      57\n",
      "Name: Physical State, dtype: int64\n"
     ]
    },
    {
     "data": {
      "image/png": "[encoded data removed]",
      "text/plain": [
       "<Figure size 400x200 with 1 Axes>"
      ]
     },
     "metadata": {},
     "output_type": "display_data"
    }
   ],
   "source": [
    "# Remove whitespaces\n",
    "ewc_trim['Physical State'] = ewc_trim['Physical State'].str.strip()\n",
    "\n",
    "# Review a few properties\n",
    "physical_state_unique = ewc_trim['Physical State'].unique()\n",
    "print(f'There are {len(physical_state_unique)} different forms: {physical_state_unique}')\n",
    "print(ewc_trim['Physical State'].value_counts())\n",
    "create_histogram_from_column(ewc_trim, 'Physical State', 4, 2)"
   ]
  },
  {
   "cell_type": "markdown",
   "metadata": {},
   "source": [
    "The physical state column appears to be clean data with low dimensionality therefore we can apply one hot encoding."
   ]
  },
  {
   "cell_type": "code",
   "execution_count": 27,
   "metadata": {},
   "outputs": [
    {
     "name": "stdout",
     "output_type": "stream",
     "text": [
      "OneHotTransformer Start: (21043, 12)\n",
      "OneHotTransformer: Successfully completed: Physical State\n",
      "OneHotTransformer: Finished Physical State Shape: (21043, 17)\n",
      "----------------------------------------------------------------------------------------------------\n",
      "   Physical State_GAS  Physical State_LIQUID  Physical State_MIXED  \\\n",
      "0                   0                      0                     0   \n",
      "1                   0                      0                     0   \n",
      "\n",
      "   Physical State_POWDER  Physical State_SLUDGE  Physical State_SOLID  \n",
      "0                      0                      0                     1  \n",
      "1                      0                      0                     1  \n"
     ]
    }
   ],
   "source": [
    "# Redefine params\n",
    "ps_params = {\n",
    "    'ps__column_name':'Physical State'\n",
    "}\n",
    "\n",
    "# Create a pipeline to build a model\n",
    "ps_pipe = Pipeline([\n",
    "    ('ps', OneHotTransformer())\n",
    "])\n",
    "\n",
    "ps_pipe.set_params(**ps_params)\n",
    "\n",
    "# Re-run the pipeline with new estimators\n",
    "ps_trim = ps_pipe.fit_transform(ewc_trim)\n",
    "print(ps_trim.iloc[:,-6:].head(2))"
   ]
  },
  {
   "cell_type": "markdown",
   "metadata": {},
   "source": [
    "## Disposal"
   ]
  },
  {
   "cell_type": "markdown",
   "metadata": {},
   "source": [
    "The Disposal column contains the names of disposal outlets, in text, for simplicity these are converted into integer values that relate to their index position in an ordered list of unique values. This functionallity is provided by the IndexTransformer class."
   ]
  },
  {
   "cell_type": "code",
   "execution_count": 28,
   "metadata": {},
   "outputs": [
    {
     "name": "stdout",
     "output_type": "stream",
     "text": [
      "IndexTransformer Start: Unique Values: 45\n",
      "IndexTransformer: Successfully completed: Disposal_Index.\n",
      "IndexTransformer: Finished: Unique Values: 45\n",
      "----------------------------------------------------------------------------------------------------\n",
      "(21043, 18)\n"
     ]
    }
   ],
   "source": [
    "# Redefine params\n",
    "d_params = {\n",
    "    'classifier__column_name':'Disposal'\n",
    "}\n",
    "\n",
    "# Create a pipeline to build a model\n",
    "d_pipe = Pipeline([\n",
    "    ('classifier', IndexTransformer())\n",
    "])\n",
    "\n",
    "d_pipe.set_params(**d_params)\n",
    "\n",
    "# Re-run the pipeline with new estimators\n",
    "d_trim = d_pipe.fit_transform(ps_trim)\n",
    "print(d_trim.shape)"
   ]
  },
  {
   "cell_type": "markdown",
   "metadata": {},
   "source": [
    "## Description\n",
    "\n",
    "This is a short general description of the type of waste, typically less than ten words. This field and the Components field are filled with text, so we need to provide an estimator that can turn text into vectors."
   ]
  },
  {
   "cell_type": "code",
   "execution_count": 29,
   "metadata": {},
   "outputs": [
    {
     "name": "stdout",
     "output_type": "stream",
     "text": [
      "ColumnVectoriser: Successfully completed: Description\n",
      "----------------------------------------------------------------------------------------------------\n",
      "(21043, 500)\n"
     ]
    }
   ],
   "source": [
    "from sklearn.compose import ColumnTransformer\n",
    "\n",
    "desc_pipe = Pipeline([\n",
    "    ('count_vectoriser', ColumnVectorizer(max_features_list={'Description':500})),\n",
    "    ('tfidf_transformer', TfidfTransformer())\n",
    "])\n",
    "\n",
    "# A temporary test transformer\n",
    "dt_pipe = ColumnTransformer([\n",
    "    ('desc', desc_pipe, ['Description'])\n",
    "])\n",
    "\n",
    "# Re-run the pipeline with new estimators\n",
    "des_trim = dt_pipe.fit_transform(d_trim)\n",
    "print(des_trim.shape)\n"
   ]
  },
  {
   "cell_type": "markdown",
   "metadata": {},
   "source": [
    "## UN Number\n",
    "\n",
    "Legal values are NCAD for non hazardous material, or a four digit number that represents a particular category, i.e. non scalar values."
   ]
  },
  {
   "cell_type": "code",
   "execution_count": 30,
   "metadata": {},
   "outputs": [
    {
     "name": "stdout",
     "output_type": "stream",
     "text": [
      "There are 169 unique UN Number values out of 21043 rows\n"
     ]
    },
    {
     "data": {
      "image/png": "[encoded data removed]",
      "text/plain": [
       "<Figure size 4500x1000 with 1 Axes>"
      ]
     },
     "metadata": {},
     "output_type": "display_data"
    }
   ],
   "source": [
    "# Find unique values\n",
    "un_numbers_unique = d_trim['UN Number'].unique()\n",
    "\n",
    "# View results\n",
    "print(f'There are {len(un_numbers_unique)} unique UN Number values out of { len(d_trim)} rows' )\n",
    "create_histogram_from_column(d_trim, 'UN Number', 45, 10)"
   ]
  },
  {
   "cell_type": "markdown",
   "metadata": {},
   "source": [
    "Similar to EWC codes, UN Numbers are categorical terms with a high number of possibilities, so feature hashing can be employed to reduce the number of dimensions."
   ]
  },
  {
   "cell_type": "code",
   "execution_count": 31,
   "metadata": {},
   "outputs": [
    {
     "name": "stdout",
     "output_type": "stream",
     "text": [
      "FeatureHashingTransformer Start: (21043, 18)\n",
      "FeatureHashingTransformer: Successfully completed: UN Number\n",
      "FeatureHashingTransformer: Finished UN Number Shape: (21043, 21)\n",
      "----------------------------------------------------------------------------------------------------\n",
      "   UN Number_0  UN Number_1  UN Number_2  UN Number_3\n",
      "0          0.0          3.0          6.0          3.0\n",
      "1          0.0          3.0          6.0          3.0\n",
      "(21043, 21)\n"
     ]
    }
   ],
   "source": [
    "# Redefine params\n",
    "un_params = {\n",
    "    'un__column_name': 'UN Number',\n",
    "    'un__num_vec': 4\n",
    "}\n",
    "\n",
    "# Create a pipeline to build a model\n",
    "un_pipe = Pipeline([\n",
    "    ('un', FeatureHashingTransformer())\n",
    "])\n",
    "\n",
    "un_pipe.set_params(**un_params)\n",
    "\n",
    "# Re-run the pipeline with new estimators\n",
    "un_trim = un_pipe.fit_transform(d_trim)\n",
    "print(un_trim.iloc[:,-4:].head(2))\n",
    "print(un_trim.shape)"
   ]
  },
  {
   "cell_type": "markdown",
   "metadata": {},
   "source": [
    "## Components and Concentrations\n",
    "\n",
    "A list of component / concentration pairs, or if this is too complex \"As list\", or if non hazardous \"Nil Hazardous Components\".\n",
    "\n",
    "This field has chemical names and concentrations which to a human reader with some knowledge of chemistry are easy to comprehend, to capture the same level of understanding at machine learning level though will be difficult. Not withstanding the additional complication of free text entry and typographical errors, there are several naming conventions for chemical names, new/old and very old, european, american... and so on. We also find \"as list\" and \"nil hazardous components\" in this field which are legitimate terms within the boundaries of waste description, but their level of abstractness circumnavigates any methodology relating to the recognition of chemical entities. Instead we shall consider a broader scope, that more closely matching the capture of meaning or semantics.\n",
    "\n",
    "This field is rich in chemical nomenclature that form common word fragments. For example chemicals that contain one of the halogen elements, all have four character fragments such as fluo, chlo, brom, Iodo. Alkyl alcohols all contain a common term for the length of the carbon chain and end with 'anol', e.g. eth-anol, meth-anol, prop-anol. etc. Perhaps there is scope to consider fragmenting the words in this column and hoping that the most common chemical fragments will float to the top in a frequency distribution, but this asks the question of how to fragment and how many features would this create, for now we will consider only whole words, misspellings and all.\n",
    "\n",
    "The simplest approach is the adoption of a 'bag of words', without necessarily concerning ourselves with word order or relationships between them. If we treat all words in the column as being the corpus, or bag, then we can assign a position or vector for each word, then averaging these provides us with a vector for the entire sentence. The learning aspect then involves estabilishing the proximity of similar vectors and associating these with a label.\n"
   ]
  },
  {
   "cell_type": "code",
   "execution_count": 32,
   "metadata": {},
   "outputs": [
    {
     "name": "stdout",
     "output_type": "stream",
     "text": [
      "ColumnVectoriser: Successfully completed: Components and Concentrations\n",
      "----------------------------------------------------------------------------------------------------\n",
      "  (0, 641)\t0.701814867017563\n",
      "  (0, 195)\t0.7123593843230539\n",
      "  (1, 641)\t0.701814867017563\n",
      "  (1, 195)\t0.7123593843230539\n",
      "  (2, 980)\t0.31837145058159677\n",
      "  (2, 931)\t0.539490842335214\n",
      "  (2, 662)\t0.25334577650328266\n",
      "  (2, 615)\t0.2792382435203103\n",
      "  (2, 311)\t0.6822251617865261\n",
      "  (3, 865)\t0.7053666645433979\n",
      "  (3, 406)\t0.7088426260820674\n",
      "  (4, 862)\t0.42356517268567756\n",
      "  (4, 676)\t0.7822444816991628\n",
      "  (4, 543)\t0.17111008102012124\n",
      "  (4, 81)\t0.42356517268567756\n",
      "  (5, 755)\t0.3885315128811073\n",
      "  (5, 638)\t0.453927200423954\n",
      "  (5, 462)\t0.3561173598100935\n",
      "  (5, 196)\t0.49186242072704395\n",
      "  (5, 143)\t0.5236842038213584\n",
      "  (6, 996)\t0.40080102210589863\n",
      "  (6, 923)\t0.19119916745456983\n",
      "  (6, 463)\t0.2625299498283628\n",
      "  (6, 381)\t0.28513668296629524\n",
      "  (6, 373)\t0.2914801513657153\n",
      "  :\t:\n",
      "  (21035, 78)\t0.42629631832211495\n",
      "  (21036, 980)\t0.5634547299586701\n",
      "  (21036, 685)\t0.707665327872019\n",
      "  (21036, 78)\t0.42629631832211495\n",
      "  (21037, 980)\t0.5634547299586701\n",
      "  (21037, 685)\t0.707665327872019\n",
      "  (21037, 78)\t0.42629631832211495\n",
      "  (21038, 980)\t0.5634547299586701\n",
      "  (21038, 685)\t0.707665327872019\n",
      "  (21038, 78)\t0.42629631832211495\n",
      "  (21039, 980)\t0.5634547299586701\n",
      "  (21039, 685)\t0.707665327872019\n",
      "  (21039, 78)\t0.42629631832211495\n",
      "  (21040, 980)\t0.5634547299586701\n",
      "  (21040, 685)\t0.707665327872019\n",
      "  (21040, 78)\t0.42629631832211495\n",
      "  (21041, 641)\t0.701814867017563\n",
      "  (21041, 195)\t0.7123593843230539\n",
      "  (21042, 914)\t0.46639248182623827\n",
      "  (21042, 876)\t0.4769797409664479\n",
      "  (21042, 840)\t0.29941535607291786\n",
      "  (21042, 682)\t0.34005530025929576\n",
      "  (21042, 59)\t0.33128895998601726\n",
      "  (21042, 12)\t0.2707076813282992\n",
      "  (21042, 8)\t0.40822321489360375\n",
      "(21043, 1000)\n"
     ]
    }
   ],
   "source": [
    "# Create a pipeline to build a model\n",
    "comp_pipe = Pipeline([\n",
    "    ('count_vectoriser', ColumnVectorizer(max_features_list={'Components and Concentrations':1000})),\n",
    "    ('tfidf_transformer', TfidfTransformer())\n",
    "])\n",
    "\n",
    "# A temporary test transformer\n",
    "cc_ct = ColumnTransformer([\n",
    "    ('comp', comp_pipe, ['Components and Concentrations'])\n",
    "])\n",
    "\n",
    "# Re-run the pipeline with new estimators\n",
    "cc_trim = cc_ct.fit_transform(un_trim)\n",
    "print(cc_trim)\n",
    "print(cc_trim.shape)"
   ]
  },
  {
   "cell_type": "markdown",
   "metadata": {},
   "source": [
    "## Hazard Codes\n",
    "\n",
    "A list of codes relating to hazardous properties, from HP1 to HP15.\n",
    "\n",
    "Each HP code can appear once in the list, furthermore these are categorical terms so we can adopt one hot encoding."
   ]
  },
  {
   "cell_type": "code",
   "execution_count": 33,
   "metadata": {},
   "outputs": [
    {
     "name": "stdout",
     "output_type": "stream",
     "text": [
      "OneHotTokenTransformer Start: (21043, 18)\n",
      "OneHotTokenTransformer: Successfully completed: Hazard Codes\n",
      "OneHotTokenTransformer: Finished Hazard Codes Shape: (21043, 34)\n",
      "----------------------------------------------------------------------------------------------------\n",
      "   HP1  HP2  HP3  HP4  HP5  HP6  HP7  HP8  HP9  HP10  HP11  HP12  HP13  HP14  \\\n",
      "0    0    0    0    0    0    0    0    0    0     0     0     0     0     0   \n",
      "1    0    0    0    0    0    0    0    0    0     0     0     0     0     0   \n",
      "\n",
      "   HP15  NC  POP  \n",
      "0     0   0    0  \n",
      "1     0   0    0  \n",
      "(21043, 34)\n"
     ]
    }
   ],
   "source": [
    "# A list of all legitimate values in the Hazard Codes column\n",
    "hp_codes = ['HP1','HP2','HP3','HP4','HP5','HP6','HP7','HP8','HP9','HP10','HP11','HP12','HP13','HP14','HP15', 'NC','POP']\n",
    "# Redefine params\n",
    "hp_params = {\n",
    "    'hp__column_name': 'Hazard Codes',\n",
    "    'hp__tokens': hp_codes\n",
    "}\n",
    "\n",
    "# Create a pipeline to build a model\n",
    "hp_pipe = Pipeline([\n",
    "    ('hp', OneHotTokenTransformer())\n",
    "])\n",
    "\n",
    "hp_pipe.set_params(**hp_params)\n",
    "\n",
    "# Re-run the pipeline with new estimators\n",
    "hp_trim = hp_pipe.fit_transform(d_trim)\n",
    "print(hp_trim.iloc[:, -1 * len(hp_codes):].head(2))\n",
    "print(hp_trim.shape)"
   ]
  },
  {
   "cell_type": "markdown",
   "metadata": {},
   "source": [
    "# Combining Everything\n",
    "\n",
    "Having looked at all feature columns and tested them as individual segments, we can now combine them all into one pipeline."
   ]
  },
  {
   "cell_type": "code",
   "execution_count": 34,
   "metadata": {},
   "outputs": [
    {
     "name": "stdout",
     "output_type": "stream",
     "text": [
      "RowTrimmer: Out of 47 outlets, 2 appear less than 5 times. 3 rows have been trimmed.\n",
      "RowTrimmer: (21043, 42)\n",
      "ColumnTrimmer: After trimming 7 columns remain.\n",
      "Description                      object\n",
      "Components and Concentrations    object\n",
      "Hazard Codes                     object\n",
      "UN Number                        object\n",
      "EWC                              object\n",
      "Disposal                         object\n",
      "Physical State                   object\n",
      "dtype: object\n",
      "ColumnTrimmer: (21043, 7)\n",
      "TextCleaner: Successfully completed: ['Description', 'Components and Concentrations', 'Hazard Codes', 'UN Number', 'EWC', 'Disposal', 'Physical State']\n",
      "TextCleaner: Finished Shape: (21043, 7)\n",
      "----------------------------------------------------------------------------------------------------\n",
      "IndexTransformer Start: Unique Values: 45\n",
      "IndexTransformer: Successfully completed: Disposal_Index.\n",
      "IndexTransformer: Finished: Unique Values: 45\n",
      "----------------------------------------------------------------------------------------------------\n",
      "Description                      0\n",
      "Components and Concentrations    0\n",
      "Hazard Codes                     0\n",
      "UN Number                        0\n",
      "EWC                              0\n",
      "Disposal                         0\n",
      "Physical State                   0\n",
      "Disposal_Index                   0\n",
      "dtype: int64\n",
      "----------------------------------------------------------------------------------------------------\n",
      "WASTECARE NORMANTON         2669\n",
      "RED INDUSTRIES              1942\n",
      "FCC BBM                     1857\n",
      "CLEAN PAK                   1710\n",
      "ROBERT HOPKINS              1657\n",
      "MALARY                      1439\n",
      "MYTUM MALTINGS               958\n",
      "VEOLIA NORWOOD               864\n",
      "VEOLIA ELLESMERE PORT        657\n",
      "SWARF                        654\n",
      "MULBERRY                     639\n",
      "BURSCOUGH                    491\n",
      "CASTLE                       460\n",
      "WEDNESBURY                   448\n",
      "LOUGHBOROUGH                 424\n",
      "AVANTI                       404\n",
      "ERP                          374\n",
      "TRADEBE FAWLEY               358\n",
      "OIL RECOVERIES               351\n",
      "PACKCARE                     311\n",
      "ECO BAT                      290\n",
      "MULBERRY KNOWSLEY            286\n",
      "SLICKER                      235\n",
      "FCC ECCLESFIELD              222\n",
      "FCC KNOSTROP                 176\n",
      "ATTLEBOROUGH                 164\n",
      "ESYNERGY                     155\n",
      "FUTURE                       108\n",
      "MYTUM SHERBURN                83\n",
      "SRCL                          83\n",
      "WASTE MATTERS                 78\n",
      "SEVERN TRENT                  73\n",
      "WASTECARE VALLEY HOUSE        58\n",
      "BIFFA SHEFFIELD DARNALL       56\n",
      "BIFFA KILSYTH                 53\n",
      "TOTUS ENVIRONMENTAL           48\n",
      "ODONOVANS                     47\n",
      "ROTHERHAM WASTE OIL           40\n",
      "CLEAN TANK                    33\n",
      "TRADEBE HEYSHAM               22\n",
      "EMR                           21\n",
      "AUGEAN BERWICK                17\n",
      "TOTAL RECYCLING SERVICES      15\n",
      "POPLARS                        7\n",
      "STOCKLEYS                      6\n",
      "Name: Disposal, dtype: int64\n",
      "----------------------------------------------------------------------------------------------------\n",
      "21038    FCC KNOSTROP\n",
      "21039    FCC KNOSTROP\n",
      "21040    FCC KNOSTROP\n",
      "21041             EMR\n",
      "21042       STOCKLEYS\n",
      "Name: Disposal, dtype: object\n",
      "----------------------------------------------------------------------------------------------------\n",
      "(21043, 8)\n"
     ]
    }
   ],
   "source": [
    "from sklearn.model_selection import StratifiedKFold\n",
    "from sklearn.compose import ColumnTransformer\n",
    "from sklearn.model_selection import cross_val_score\n",
    "\n",
    "df_raw = pd.read_csv(\"data/raw3.csv\")\n",
    "\n",
    "# Tidy up in a pre processing pipeline:\n",
    "# Trim rows and columns, turn text labels into numbers by indexing them, fill in empty values.\n",
    "\n",
    "pre_pipe = Pipeline([\n",
    "    ('row_trimmer', rt_pipe),\n",
    "    ('column_trimmer', ct_pipe),\n",
    "    ('replace_values', rv_pipe),\n",
    "    ('text_cleaner', tc_pipe),\n",
    "    ('index_transformer', IndexTransformer(column_name='Disposal'))\n",
    "])\n",
    "\n",
    "df_pre = pre_pipe.fit_transform(df_raw)\n",
    "\n",
    "outlets = pd.DataFrame({'Disposal': df_pre['Disposal'].unique()})\n",
    "outlets = outlets.sort_values(by='Disposal').reset_index(drop=True)\n",
    "\n",
    "print(df_pre.isnull().sum())\n",
    "print(f'-'*100)\n",
    "print(df_pre.Disposal.value_counts())\n",
    "print(f'-'*100)\n",
    "print(df_pre.Disposal.tail(5))\n",
    "print(f'-'*100)\n",
    "print(df_pre.shape)\n"
   ]
  },
  {
   "cell_type": "markdown",
   "metadata": {},
   "source": [
    "## Test Train Split with Stratified Folds"
   ]
  },
  {
   "cell_type": "code",
   "execution_count": 35,
   "metadata": {},
   "outputs": [
    {
     "name": "stdout",
     "output_type": "stream",
     "text": [
      "(21043, 7)\n",
      "(21043,)\n",
      "Training set classes distribution:\n",
      "42    2136\n",
      "27    1553\n",
      "13    1486\n",
      "7     1368\n",
      "28    1326\n",
      "18    1151\n",
      "21     766\n",
      "40     691\n",
      "39     525\n",
      "34     523\n",
      "19     512\n",
      "5      393\n",
      "6      368\n",
      "44     358\n",
      "17     339\n",
      "2      323\n",
      "11     299\n",
      "37     286\n",
      "24     281\n",
      "25     249\n",
      "9      232\n",
      "20     228\n",
      "31     188\n",
      "14     178\n",
      "15     141\n",
      "0      131\n",
      "12     124\n",
      "16      86\n",
      "32      67\n",
      "22      66\n",
      "41      62\n",
      "30      58\n",
      "43      47\n",
      "4       45\n",
      "3       43\n",
      "36      39\n",
      "23      37\n",
      "29      32\n",
      "8       27\n",
      "38      18\n",
      "10      17\n",
      "1       14\n",
      "35      12\n",
      "33       5\n",
      "26       5\n",
      "Name: Disposal_Index, dtype: int64\n",
      "Testing set classes distribution:\n",
      "42    533\n",
      "27    389\n",
      "13    371\n",
      "7     342\n",
      "28    331\n",
      "18    288\n",
      "21    192\n",
      "40    173\n",
      "39    132\n",
      "34    131\n",
      "19    127\n",
      "5      98\n",
      "6      92\n",
      "44     90\n",
      "17     85\n",
      "2      81\n",
      "11     75\n",
      "37     72\n",
      "24     70\n",
      "25     62\n",
      "20     58\n",
      "9      58\n",
      "31     47\n",
      "14     44\n",
      "15     35\n",
      "0      33\n",
      "12     31\n",
      "16     22\n",
      "22     17\n",
      "41     16\n",
      "32     16\n",
      "30     15\n",
      "43     11\n",
      "4      11\n",
      "23     10\n",
      "3      10\n",
      "36      9\n",
      "29      8\n",
      "8       6\n",
      "10      4\n",
      "38      4\n",
      "35      3\n",
      "1       3\n",
      "26      2\n",
      "33      1\n",
      "Name: Disposal_Index, dtype: int64\n"
     ]
    }
   ],
   "source": [
    "# Define the training set, typically called X\n",
    "X = df_pre.drop(['Disposal_Index'], axis=1)\n",
    "print(X.shape)\n",
    "\n",
    "# Define a column of labels\n",
    "y = df_pre['Disposal_Index']\n",
    "print(y.shape)\n",
    "\n",
    "# Create randomised folds that preserve the distribution of classes in each fold.\n",
    "# Initialize the StratifiedKFold\n",
    "skf = StratifiedKFold(n_splits=k_folds, random_state=42, shuffle=True)\n",
    "\n",
    "try:\n",
    "    # Split the data into training and testing sets using the stratified k-fold\n",
    "    for train_index, test_index in skf.split(X, y):\n",
    "        X_train, X_test = X.iloc[train_index], X.iloc[test_index]\n",
    "        y_train, y_test = y.iloc[train_index], y.iloc[test_index]\n",
    "\n",
    "    print(\"Training set classes distribution:\")\n",
    "    print(y_train.value_counts())\n",
    "\n",
    "    print(\"Testing set classes distribution:\")\n",
    "    print(y_test.value_counts())\n",
    "except KeyError as e:\n",
    "    print(\"KeyError:\", e)\n"
   ]
  },
  {
   "cell_type": "markdown",
   "metadata": {},
   "source": [
    "## Preprocessor"
   ]
  },
  {
   "cell_type": "code",
   "execution_count": 36,
   "metadata": {},
   "outputs": [],
   "source": [
    "# Define the columns to remove numbers from\n",
    "preprocessor = ColumnTransformer([\n",
    "    ('desc', desc_pipe, ['Description']),\n",
    "    ('comp', comp_pipe, ['Components and Concentrations']),\n",
    "    ('ewc', ewc_pipe,['EWC']),\n",
    "    ('phy', ps_pipe,['Physical State']),    \n",
    "    ('unn', un_pipe,['UN Number']),\n",
    "    ('haz', hp_pipe,['Hazard Codes'])\n",
    "],remainder='drop')"
   ]
  },
  {
   "cell_type": "markdown",
   "metadata": {},
   "source": [
    "# Classification with RandomForestClassifier"
   ]
  },
  {
   "cell_type": "code",
   "execution_count": 37,
   "metadata": {},
   "outputs": [],
   "source": [
    "pipe = Pipeline([\n",
    "    ('preprocessor', preprocessor),\n",
    "    ('classifier', RandomForestClassifier())\n",
    "])\n",
    "\n",
    "cv_params = {\n",
    "    'classifier__n_estimators': [700, 750, 800],\n",
    "    'classifier__max_depth': [None, 1, 10],\n",
    "    'classifier__min_samples_split': [2, 10],\n",
    "    'classifier__min_samples_leaf': [2, 10],\n",
    "    'classifier__random_state': [2, 42]\n",
    "}"
   ]
  },
  {
   "cell_type": "markdown",
   "metadata": {},
   "source": [
    "## Hyperparameter Tuning with RandomizedSearchCV"
   ]
  },
  {
   "cell_type": "code",
   "execution_count": 38,
   "metadata": {},
   "outputs": [],
   "source": [
    "from sklearn.model_selection import RandomizedSearchCV\n",
    "from sklearn.metrics import accuracy_score\n",
    "import joblib\n",
    "\n",
    "random_search = RandomizedSearchCV(pipe, cv_params, cv=skf, scoring='roc_auc_ovr', n_iter=10, n_jobs=-1)\n",
    "random_search.fit(X_train,y_train)\n",
    "\n",
    "results = pd.DataFrame(random_search.cv_results_)[['params','mean_test_score','rank_test_score']]\n",
    "results.sort_values('rank_test_score')\n",
    "\n",
    "best_model = random_search.best_estimator_\n",
    "print(results)\n",
    "print(random_search.best_params_)"
   ]
  },
  {
   "cell_type": "markdown",
   "metadata": {},
   "source": [
    "## Cross Validation"
   ]
  },
  {
   "cell_type": "code",
   "execution_count": null,
   "metadata": {},
   "outputs": [],
   "source": [
    "\n",
    "cross_val_score(best_model, X_train, y_train, cv=skf, scoring='roc_auc_ovr', error_score=\"raise\", n_jobs=-1).mean()\n"
   ]
  },
  {
   "cell_type": "markdown",
   "metadata": {},
   "source": [
    "## Cross Validation with Feature Selection"
   ]
  },
  {
   "cell_type": "code",
   "execution_count": null,
   "metadata": {},
   "outputs": [],
   "source": [
    "from sklearn.feature_selection import SelectPercentile, chi2\n",
    "selection = SelectPercentile(chi2, percentile=50)\n",
    "\n",
    "selector_pipe = Pipeline([\n",
    "    ('preprocessor', preprocessor),\n",
    "    ('selector', selection),\n",
    "    ('classifier', RandomForestClassifier())\n",
    "])\n",
    "\n",
    "selector_pipe.set_params(**random_search.best_params_)\n",
    "\n",
    "cross_val_score(selector_pipe, X_train, y_train, cv=skf, scoring='roc_auc_ovr', error_score=\"raise\", n_jobs=-1).mean()"
   ]
  },
  {
   "cell_type": "markdown",
   "metadata": {},
   "source": [
    "## RandomizedForest Results"
   ]
  },
  {
   "cell_type": "markdown",
   "metadata": {},
   "source": [
    "### Accuracy"
   ]
  },
  {
   "cell_type": "code",
   "execution_count": null,
   "metadata": {},
   "outputs": [],
   "source": [
    "y_pred = best_model.predict(X_test)\n",
    "test_accuracy = accuracy_score(y_test, y_pred)\n",
    "print(\"Test Accuracy:\", test_accuracy)"
   ]
  },
  {
   "cell_type": "markdown",
   "metadata": {},
   "source": [
    "### Confusion Matrix"
   ]
  },
  {
   "cell_type": "code",
   "execution_count": null,
   "metadata": {},
   "outputs": [],
   "source": [
    "# Turn Disposal_Index back into Disposal names\n",
    "r_test = [outlets.loc[t, 'Disposal'] for t in y_test]\n",
    "r_pred = [outlets.loc[t, 'Disposal'] for t in y_pred]\n",
    "labels = sorted(set(r_test))\n",
    "labelsy = sorted(set(r_pred))\n",
    "print(len(labels))\n",
    "cm = confusion_matrix(r_test, r_pred)\n",
    "print(cm.shape) \n",
    "\n",
    "df_cm = pd.DataFrame(cm, index=labels, columns=labels)\n",
    "# Plot a confusion matrix\n",
    "sn.set(font_scale=0.75)\n",
    "a4_dims = (16, 10)\n",
    "fig, ax = plt.subplots(figsize=a4_dims)\n",
    "ax.set_title(\"Confusion Matrix True vs Predicted Outlet\")\n",
    "hm = sn.heatmap(df_cm, annot=True, cmap=\"Dark2_r\", cbar_kws={'label': 'Count'})  \n",
    "plt.show()"
   ]
  },
  {
   "cell_type": "markdown",
   "metadata": {},
   "source": [
    "### Classification Report"
   ]
  },
  {
   "cell_type": "code",
   "execution_count": null,
   "metadata": {},
   "outputs": [],
   "source": [
    "cr = classification_report(r_test, r_pred)    \n",
    "print(cr)"
   ]
  },
  {
   "cell_type": "markdown",
   "metadata": {},
   "source": [
    "# Classification with XGBoost"
   ]
  },
  {
   "cell_type": "code",
   "execution_count": null,
   "metadata": {},
   "outputs": [],
   "source": [
    "from xgboost import XGBClassifier\n",
    "import xgboost as xgb"
   ]
  },
  {
   "cell_type": "markdown",
   "metadata": {},
   "source": [
    "## Hyperparameter Tuning with Hyperopt"
   ]
  },
  {
   "cell_type": "code",
   "execution_count": null,
   "metadata": {},
   "outputs": [],
   "source": [
    "# define a search space\n",
    "from hyperopt import hp, fmin, tpe, Trials\n",
    "from sklearn.metrics import roc_auc_score\n",
    "\n",
    "# Define the search space\n",
    "space = { \n",
    "    'n_estimators': hp.quniform('n_estimators', 100, 1000, 1),\n",
    "    'learning_rate': hp.uniform('learning_rate', 0.01, 1.0),\n",
    "    'max_depth': hp.quniform('max_depth', 3, 20, 1),    \n",
    "    'subsample': hp.uniform('subsample', 0.5, 1.0),\n",
    "    'colsample_bytree': hp.uniform('colsample_bytree', 0.5, 1.0),\n",
    "    'colsample_bylevel': hp.uniform('colsample_bylevel', 0.5, 1.0),\n",
    "    'reg_lambda': hp.uniform('reg_lambda', 0.01, 1.0),\n",
    "    'reg_alpha': hp.uniform('reg_alpha', 0.01, 1.0),\n",
    "    'gamma': hp.uniform('gamma', 0.0, 0.5)\n",
    "}\n",
    "\n",
    "# Define the objective function for XGBoost classifier\n",
    "def objective(params):\n",
    "    # Extract hyperparameters\n",
    "    n_estimators = params['n_estimators']\n",
    "    learning_rate = params['learning_rate']\n",
    "    max_depth = params['max_depth']\n",
    "    subsample = params['subsample']\n",
    "    colsample_bytree = params['colsample_bytree']\n",
    "    colsample_bylevel = params['colsample_bylevel']\n",
    "    reg_lambda = params['reg_lambda']\n",
    "    reg_alpha = params['reg_alpha']\n",
    "    gamma = params['gamma']\n",
    "    \n",
    "    # Define XGBoost parameters\n",
    "    xgb_params = { \n",
    "        'objective': 'multi:softmax',\n",
    "        'num_class': 45,  # Number of classes\n",
    "        'eval_metric': 'mlogloss',\n",
    "        'predict_leaf': True,\n",
    "        'learning_rate': learning_rate,\n",
    "        'max_depth': int(max_depth),\n",
    "        'n_estimators': int(n_estimators),\n",
    "        'subsample': subsample,\n",
    "        'colsample_bytree': colsample_bytree,\n",
    "        'colsample_bylevel':colsample_bylevel,\n",
    "        'reg_lambda':reg_lambda,\n",
    "        'reg_alpha':reg_alpha,\n",
    "        'gamma': gamma,\n",
    "        'random_state':2,\n",
    "        'verbosity': 0,\n",
    "        'n_jobs': -1\n",
    "    }\n",
    "    \n",
    "    # Preprocessing pipeline\n",
    "    pipeline = Pipeline([\n",
    "        ('preprocessor', preprocessor), \n",
    "        ('clf', XGBClassifier(**xgb_params))\n",
    "    ])\n",
    "\n",
    "    # Fit the model\n",
    "    model = pipeline.fit(X_train, y_train)\n",
    "\n",
    "    # Predict probabilities on the validation set\n",
    "    y_proba = model.predict_proba(X_test)\n",
    "\n",
    "    # Calculate ROC AUC score, one vs rest\n",
    "    roc_auc = roc_auc_score(y_test, y_proba, multi_class='ovr')\n",
    "    \n",
    "    # Calculate accuracy\n",
    "    y_pred = model.predict(X_test)    \n",
    "    accuracy = accuracy_score(y_test, y_pred)\n",
    "\n",
    "    print('-'*100)\n",
    "    print(f'loss: {-roc_auc}')\n",
    "    print(f'accuracy: {-accuracy}')\n",
    "    print(f'learning_rate:{learning_rate}')\n",
    "    print(f'max_depth:{max_depth}')\n",
    "    print(f'n_estimators:{n_estimators}')\n",
    "    print(f'subsample:{subsample}')\n",
    "    print(f'colsample_bytree:{colsample_bytree}')\n",
    "    print(f'colsample_bylevel:{colsample_bylevel}')\n",
    "    print(f'reg_lambda:{reg_lambda}')\n",
    "    print(f'reg_alpha:{reg_alpha}')\n",
    "    print(f'gamma:{gamma}')\n",
    "    print('-'*100) \n",
    "\n",
    "    return {\n",
    "        'loss': -roc_auc,\n",
    "        'accuracy': accuracy,\n",
    "        'learning_rate': learning_rate,\n",
    "        'max_depth': int(max_depth),\n",
    "        'n_estimators': int(n_estimators),\n",
    "        'subsample': subsample,\n",
    "        'colsample_bytree': colsample_bytree,\n",
    "        'colsample_bylevel': colsample_bylevel,\n",
    "        'reg_lambda': reg_lambda,\n",
    "        'reg_alpha': reg_alpha,\n",
    "        'gamma': gamma,\n",
    "        'status': 'ok'\n",
    "    }  # Minimize negative accuracy\n",
    "\n",
    "# Perform hyperparameter optimization\n",
    "trials = Trials()\n",
    "best_xgb_params = fmin(fn=objective, space=space, algo=tpe.suggest, max_evals=30, trials=trials)\n",
    "\n",
    "print(\"Best hyperparameters:\", best_xgb_params)\n"
   ]
  },
  {
   "cell_type": "markdown",
   "metadata": {},
   "source": [
    "### View Results of Tuning"
   ]
  },
  {
   "cell_type": "code",
   "execution_count": null,
   "metadata": {},
   "outputs": [],
   "source": [
    "df_results = pd.DataFrame(trials.results)\n",
    "\n",
    "def ScatterPlot(x, y, title):\n",
    "    plt.scatter(x,y,marker='o')\n",
    "    plt.xlabel(title)\n",
    "    plt.ylabel('Loss')\n",
    "    plt.title('Hyperopt XGBoost Trials - ' + title)\n",
    "    plt.show()\n",
    "    \n",
    "y_results = df_results['loss'].values\n",
    "\n",
    "# Plot the loss values\n",
    "plt.plot(trials.losses())\n",
    "plt.xlabel('Trial')\n",
    "plt.ylabel('Loss')\n",
    "plt.title('Hyperopt XGBoost Trials')\n",
    "plt.show()\n",
    "\n",
    "ScatterPlot(df_results['learning_rate'].values, y_results, 'Learning Rate')\n",
    "ScatterPlot(df_results['n_estimators'].values, y_results, 'Num Estimators')\n",
    "ScatterPlot(df_results['max_depth'].values, y_results, 'Max Depth')\n",
    "ScatterPlot(df_results['subsample'].values, y_results, 'Subsample')\n",
    "ScatterPlot(df_results['colsample_bytree'].values, y_results, 'colsample_bytree')"
   ]
  },
  {
   "cell_type": "markdown",
   "metadata": {},
   "source": [
    "## XGBoost Pipeline with Tuned Parameters"
   ]
  },
  {
   "cell_type": "code",
   "execution_count": null,
   "metadata": {},
   "outputs": [],
   "source": [
    "params = {\n",
    "    'objective': 'multi:softmax',\n",
    "    'num_class': 45,  # Number of classes\n",
    "    'eval_metric': 'mlogloss',\n",
    "    'predict_leaf': True,\n",
    "    'colsample_bylevel': 0.8068013524551562, \n",
    "    'colsample_bytree': 0.8500944947381192, \n",
    "    'learning_rate': 0.03408153269406498, \n",
    "    'max_depth': int(14), \n",
    "    'n_estimators': int(410),\n",
    "    'reg_alpha': 0.19165050933044292, \n",
    "    'reg_lambda': 0.26137263103306296, \n",
    "    'subsample': 0.5005635117075657,\n",
    "    'gamma': 0.25\n",
    "}\n",
    "\n",
    "params = best_xgb_params\n",
    "\n",
    "xgb_pipe = Pipeline([\n",
    "    ('preprocessor', preprocessor),\n",
    "    ('classifier', XGBClassifier(**params))\n",
    "])"
   ]
  },
  {
   "cell_type": "markdown",
   "metadata": {},
   "source": [
    "### Cross Validation with Xgboost"
   ]
  },
  {
   "cell_type": "code",
   "execution_count": null,
   "metadata": {},
   "outputs": [],
   "source": [
    "\n",
    "cross_val_score(xgb_pipe, X_train, y_train, cv=skf, scoring='roc_auc_ovr', error_score=\"raise\", n_jobs=-1).mean()\n"
   ]
  },
  {
   "cell_type": "markdown",
   "metadata": {},
   "source": [
    "### Fit an XGBoost model with Best Parameters"
   ]
  },
  {
   "cell_type": "code",
   "execution_count": null,
   "metadata": {},
   "outputs": [],
   "source": [
    "\n",
    "# Fit the model with early stopping\n",
    "xgb_model = xgb_pipe.fit(X_train, y_train)\n",
    "\n",
    "# Get the predicted probabilities for each class\n",
    "xgb_y_proba = xgb_model.predict_proba(X_test)\n",
    "\n",
    "# Calculate ROC AUC score\n",
    "xgb_roc_auc = roc_auc_score(y_test, xgb_y_proba, multi_class='ovr')\n",
    "\n",
    "xgb_y_pred = xgb_pipe.predict(X_test)\n",
    "\n",
    "# Calculate accuracy\n",
    "xgb_accuracy = accuracy_score(y_test, xgb_y_pred)\n",
    "print('----------------------------------')\n",
    "print(f'loss: {-xgb_roc_auc}')\n",
    "print(f'accuracy: {-xgb_accuracy}')\n",
    "print('----------------------------------')\n"
   ]
  },
  {
   "cell_type": "markdown",
   "metadata": {},
   "source": [
    "### Predict the Top Three "
   ]
  },
  {
   "cell_type": "code",
   "execution_count": null,
   "metadata": {},
   "outputs": [],
   "source": [
    "\n",
    "# Extract the top 3 classes based on probabilities for each row\n",
    "top_3_classes = np.flip(np.argsort(xgb_y_proba, axis=1), axis=1)[:, :3]\n",
    "\n",
    "# Print the top 3 predicted classes and their respective probabilities\n",
    "for i, row_top_3 in enumerate(top_3_classes):\n",
    "    desc = X_test.iloc[i]['Description'].ljust(50)\n",
    "    print(f\"Row {i+1} - {desc}\")    \n",
    "    for j, class_idx in enumerate(row_top_3):        \n",
    "        class_label = pipe.classes_[class_idx]\n",
    "        class_Id = f'{class_label:0>{2}}'\n",
    "        name = outlets.iloc[class_label]['Disposal'].ljust(20)\n",
    "        probability = xgb_y_proba[i][class_idx]\n",
    "        print(f\"{j+1}: {class_Id} {name} {probability}\")\n",
    "    print('-'*100)"
   ]
  },
  {
   "cell_type": "markdown",
   "metadata": {},
   "source": [
    "## Training a Model with Tuned Parameters"
   ]
  },
  {
   "cell_type": "code",
   "execution_count": null,
   "metadata": {},
   "outputs": [],
   "source": [
    "\n",
    "best = {\n",
    "    'objective': 'multi:softmax',\n",
    "    'num_class': 45,  # Number of classes\n",
    "    'eval_metric': 'mlogloss',\n",
    "    'predict_leaf': True,\n",
    "    'colsample_bylevel': 0.8055381025833828, \n",
    "    'colsample_bytree': 0.6149087935503202, \n",
    "    'learning_rate': 0.022372243616914922, \n",
    "    'max_depth': 14, \n",
    "    'n_estimators': 754, \n",
    "    'reg_alpha': 0.754124531179756, \n",
    "    'reg_lambda': 0.6811072757618393, \n",
    "    'subsample': 0.5010578267429385\n",
    "}\n",
    "\n",
    "best = trials.best_trial['result']\n",
    "\n",
    "\n",
    "# Preprocessing pipeline\n",
    "pipeline = Pipeline([\n",
    "    ('preprocessor', preprocessor), \n",
    "    ('clf', XGBClassifier(**best))\n",
    "])\n",
    "\n",
    "# Fit the model with early stopping\n",
    "pipeline.fit(X_train, y_train)\n"
   ]
  },
  {
   "cell_type": "code",
   "execution_count": null,
   "metadata": {},
   "outputs": [],
   "source": [
    "\n",
    "# Predict probabilities on the validation set\n",
    "y_proba = pipeline.predict_proba(X_test)\n",
    "\n",
    "# Calculate ROC AUC score\n",
    "roc_auc = roc_auc_score(y_test, y_proba, multi_class='ovr')\n",
    "\n",
    "y_pred = pipeline.predict(X_test)\n",
    "\n",
    "# Calculate accuracy\n",
    "accuracy = accuracy_score(y_test, y_pred)\n",
    "print('----------------------------------')\n",
    "print(f'loss: {-roc_auc}')\n",
    "print(f'accuracy: {-accuracy}')\n",
    "print('----------------------------------')"
   ]
  },
  {
   "cell_type": "code",
   "execution_count": null,
   "metadata": {},
   "outputs": [],
   "source": [
    "# Turn Disposal_Index back into Disposal names\n",
    "r_test = [outlets.loc[t, 'Disposal'] for t in y_test]\n",
    "r_pred = [outlets.loc[t, 'Disposal'] for t in y_pred]\n",
    "labels = sorted(set(r_test))\n",
    "labelsy = sorted(set(r_pred))\n",
    "print(len(labels))\n",
    "cm = confusion_matrix(r_test, r_pred)\n",
    "print(cm.shape) \n",
    "\n",
    "df_cm = pd.DataFrame(cm, index=labels, columns=labels)\n",
    "# Plot a confusion matrix\n",
    "sn.set(font_scale=0.75)\n",
    "a4_dims = (16, 10)\n",
    "fig, ax = plt.subplots(figsize=a4_dims)\n",
    "ax.set_title(\"Confusion Matrix True vs Predicted Outlet\")\n",
    "hm = sn.heatmap(df_cm, annot=True, cmap=\"viridis\", cbar_kws={'label': 'Count'})  \n",
    "plt.show()"
   ]
  },
  {
   "cell_type": "code",
   "execution_count": null,
   "metadata": {},
   "outputs": [],
   "source": [
    "cr = classification_report(r_test, r_pred)    \n",
    "print(cr)"
   ]
  },
  {
   "cell_type": "code",
   "execution_count": null,
   "metadata": {},
   "outputs": [],
   "source": [
    "\n",
    "# Define XGBoost parameters\n",
    "xgb_params = {\n",
    "    'objective': 'multi:softmax',\n",
    "    'num_class': 45,  # Number of classes\n",
    "    'eval_metric': 'mlogloss',\n",
    "    'predict_leaf': True,\n",
    "    'learning_rate': best['learning_rate'],\n",
    "    'max_depth': int(best['max_depth']),\n",
    "    'n_estimators': int(best['n_estimators']),\n",
    "    'subsample': best['subsample'],\n",
    "    'colsample_bytree': best['colsample_bytree'],\n",
    "    'colsample_bylevel': best['colsample_bylevel'],\n",
    "    'reg_alpha':best['reg_alpha'],\n",
    "    'reg_lambda':best['reg_lambda'],\n",
    "    'verbosity': 0\n",
    "}\n",
    "xt = preprocessor.transform(X_train)\n",
    "ts = preprocessor.transform(X_test)\n"
   ]
  },
  {
   "cell_type": "code",
   "execution_count": null,
   "metadata": {},
   "outputs": [],
   "source": [
    "\n",
    "dtrain = xgb.DMatrix(xt, label=y_train)\n",
    "dtest = xgb.DMatrix(ts, label=y_test)  # Assuming y_test is available for evaluation\n",
    "\n",
    "eval_set = [(dtrain, 'train'),(dtest, 'eval')]  # Specify the validation dataset\n",
    "\n",
    "eval_results = {}\n",
    "xgb_model = xgb.train(xgb_params, dtrain, early_stopping_rounds=20, num_boost_round=1000, evals=eval_set, evals_result=eval_results)\n"
   ]
  },
  {
   "cell_type": "code",
   "execution_count": null,
   "metadata": {},
   "outputs": [],
   "source": [
    "train_error = eval_results['train']['merror']\n",
    "val_error = eval_results['eval']['merror']\n",
    "\n",
    "plt.plot(train_error, label='Training Error')\n",
    "plt.plot(val_error, label='Validation Error')\n",
    "plt.xlabel('Boosting Round')\n",
    "plt.ylabel('Multiclass Error')\n",
    "plt.legend()\n",
    "plt.show()"
   ]
  },
  {
   "cell_type": "code",
   "execution_count": null,
   "metadata": {},
   "outputs": [],
   "source": [
    "import joblib\n",
    "# Save the trained model to a file\n",
    "#joblib.dump(xgb_model, 'c:/users/user/desktop/models/xgboost_trained_model.pkl')"
   ]
  },
  {
   "cell_type": "markdown",
   "metadata": {},
   "source": [
    "## Predictions with XGBoost Model"
   ]
  },
  {
   "cell_type": "code",
   "execution_count": null,
   "metadata": {},
   "outputs": [],
   "source": [
    "# make predictions on test data\n",
    "y_pred = xgb_model.predict(dtest)\n",
    "print(y_test.head())\n"
   ]
  },
  {
   "cell_type": "code",
   "execution_count": null,
   "metadata": {},
   "outputs": [],
   "source": [
    "# Predict probabilities\n",
    "print(xgb_model.best_ntree_limit)\n",
    "print(xgb_model.best_iteration)\n",
    "print(xgb_model.best_score)"
   ]
  },
  {
   "cell_type": "markdown",
   "metadata": {},
   "source": [
    "## Results Analysis"
   ]
  },
  {
   "cell_type": "markdown",
   "metadata": {},
   "source": [
    "### Accuracy"
   ]
  },
  {
   "cell_type": "code",
   "execution_count": null,
   "metadata": {},
   "outputs": [],
   "source": [
    "# Calculate accuracy\n",
    "accuracy = accuracy_score(y_test, y_pred)\n",
    "print(\"Accuracy: %.2f%%\" % (accuracy * 100.0))"
   ]
  },
  {
   "cell_type": "markdown",
   "metadata": {},
   "source": [
    "### Classification Report"
   ]
  },
  {
   "cell_type": "code",
   "execution_count": null,
   "metadata": {},
   "outputs": [],
   "source": [
    "# Print classification report\n",
    "print(classification_report(y_test, y_pred))"
   ]
  },
  {
   "cell_type": "markdown",
   "metadata": {},
   "source": [
    "### Feature Importance"
   ]
  },
  {
   "cell_type": "code",
   "execution_count": null,
   "metadata": {},
   "outputs": [],
   "source": [
    "# Feature Importance\n",
    "from xgboost import plot_importance\n",
    "\n",
    "# Plot feature importance for the top 30 features\n",
    "plot_importance(xgb_model, max_num_features=100, show_values=True)\n",
    "plt.rcParams['figure.figsize'] = [20,25]\n",
    "plt.show()"
   ]
  },
  {
   "cell_type": "markdown",
   "metadata": {},
   "source": [
    "### Confusion Matrix"
   ]
  },
  {
   "cell_type": "code",
   "execution_count": null,
   "metadata": {},
   "outputs": [],
   "source": [
    "cm = confusion_matrix(y_test, y_pred)\n",
    "\n",
    "# Turn Disposal_Index back into Disposal names\n",
    "r_test = [outlets.loc[t, 'Disposal'] for t in y_test]\n",
    "labels = sorted(set(r_test))\n",
    "\n",
    "df_cm = pd.DataFrame(cm, index=labels, columns=labels)\n",
    "# Plot a confusion matrix\n",
    "sn.set_theme(font_scale=0.75)\n",
    "a4_dims = (16, 10)\n",
    "fig, ax = plt.subplots(figsize=a4_dims)\n",
    "ax.set_title(\"Confusion Matrix True vs Predicted Outlet\")\n",
    "hm = sn.heatmap(df_cm, annot=True, cmap=\"coolwarm\", cbar_kws={'label': 'Count'})  \n",
    "plt.show()"
   ]
  }
 ],
 "metadata": {
  "celltoolbar": "Raw Cell Format",
  "kernelspec": {
   "display_name": "Python 3 (ipykernel)",
   "language": "python",
   "name": "python3"
  },
  "language_info": {
   "codemirror_mode": {
    "name": "ipython",
    "version": 3
   },
   "file_extension": ".py",
   "mimetype": "text/x-python",
   "name": "python",
   "nbconvert_exporter": "python",
   "pygments_lexer": "ipython3",
   "version": "3.9.15"
  }
 },
 "nbformat": 4,
 "nbformat_minor": 2
}
