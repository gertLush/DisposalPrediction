{
 "cells": [
  {
   "cell_type": "markdown",
   "metadata": {},
   "source": [
    "# Machine Learning and Prediction of Disposal Outlet by Waste Description"
   ]
  },
  {
   "cell_type": "markdown",
   "metadata": {},
   "source": [
    "This test case uses data relating to hazardous chemical waste and attempts to determine the fate, or disposal outlet / waste company that can move the waste towards it's final end point. The problem is that of choosing which of many disposal outlets would be most suitable, i.e. it is a multiclassification exercise. The data is sourced from records of succesfull waste transactions and includes a general description, chemical components, various hazardous classification descriptors and a disposal outlet. \n",
    "\n",
    "Having some considerable experience with the data set beforehand there are a few points to raise before we go exploring. The data source is from an very old database (c.1985) and data input has largely been via free text entry fields, made by a many different users over a period of about 15 years. The quality and consistency of the result is extremely poor. \n",
    "\n",
    "There are many opportunities for standardised terms but with no drop down menu options and no input validation we find that various phrases have been used for the same thing. The few standardised terms take the form of code numbers, i.e. they are a string of number characters but represent categorical rather than scalar values. Also because of their origin in Excel these numbers are sometimes preceded with an apostophe, used to force Excel to treat number characters as text. All descriptors can be divided even further when we add the many more variations created by typos and spelling mistakes. \n",
    "\n",
    "As a human consumer the descriptors provided form a common meaning which when interogated on a one by one basis provide a useful data record, however when considering more than one record using an automated approach the similarity of meaning or semantics is considerably more difficult. To this end some inspiration has come from studies involving the multiclassification of semantics, in the form of food and wine reviews. [1]\n",
    "\n",
    "The approach in this reference relates to the similarity of meaning in a variety of diverse terms, i.e. natural language, a word processor Word2Vec is trained on a very large corpus of natural language terms. In our case the vocabulary is very limited, there are many acronyms, the language is rich in chemical names and specialised technical terms. Word embedding, vectorisation can be achieved using a far reduced corpus [2].\n",
    "\n",
    "After first of all, exploring the data, cleansing, and preprosessing a comparison is made between RandomForrestClassifier and XGBoost, both popular approaches to classification problems.\n",
    "\n",
    "Inspriation for this approach came from: \n",
    "1. https://github.com/JungeAlexander/kaggle-amazon-fine-food-reviews\n",
    "2. https://www.geeksforgeeks.org/python-word-embedding-using-word2vec/\n",
    "\n"
   ]
  },
  {
   "cell_type": "markdown",
   "metadata": {},
   "source": [
    "# Data Exploration"
   ]
  },
  {
   "cell_type": "markdown",
   "metadata": {},
   "source": [
    "We will be providing a pipeline for future data processing, as we explore each section we will do some rudimentary analysis, build and test a segment of the pipe and visualise the result. Finally we will then put all of the pieces together and produce a clean set of data for use in our multiclassification process.\n",
    "\n",
    "Import a few libraries"
   ]
  },
  {
   "cell_type": "code",
   "execution_count": 1,
   "metadata": {},
   "outputs": [],
   "source": [
    "import pandas as pd                                        # Used for importing data and transformations\n",
    "import numpy as np                                         # Provides mathmatical functions and randomisers\n",
    "import copy                                                # Used to copy objects\n",
    "import matplotlib.pyplot as plt                            # Plot charts\n",
    "import seaborn as sn                                       # Visualisation tools\n",
    "import warnings                                            # Manage python system warnings\n",
    "warnings.simplefilter('ignore')\n",
    "sn.color_palette(\"flare\", as_cmap=True)\n",
    "from random import shuffle                                 # Dataset randomiser\n",
    "from gensim.models import Word2Vec\n",
    "from nltk.tokenize import word_tokenize\n",
    "import nltk as nltk\n",
    "import string\n",
    "\n",
    "from sklearn.feature_extraction import FeatureHasher\n",
    "from sklearn.ensemble import RandomForestClassifier  \n",
    "from sklearn.preprocessing import OneHotEncoder\n",
    "from sklearn.base import BaseEstimator, TransformerMixin \n",
    "\n",
    "from sklearn.metrics import confusion_matrix\n",
    "from sklearn.metrics import classification_report\n",
    "from matplotlib.pyplot import figure"
   ]
  },
  {
   "cell_type": "markdown",
   "metadata": {},
   "source": [
    "Import the data and preliminay look at the shape and data types."
   ]
  },
  {
   "cell_type": "code",
   "execution_count": 2,
   "metadata": {},
   "outputs": [
    {
     "name": "stdout",
     "output_type": "stream",
     "text": [
      "The primary data set has 42 columns and 21045 rows.\n",
      "Data types:\n",
      "object     40\n",
      "float64     2\n",
      "dtype: int64\n"
     ]
    },
    {
     "data": {
      "text/html": [
       "<div>\n",
       "<style scoped>\n",
       "    .dataframe tbody tr th:only-of-type {\n",
       "        vertical-align: middle;\n",
       "    }\n",
       "\n",
       "    .dataframe tbody tr th {\n",
       "        vertical-align: top;\n",
       "    }\n",
       "\n",
       "    .dataframe thead th {\n",
       "        text-align: right;\n",
       "    }\n",
       "</style>\n",
       "<table border=\"1\" class=\"dataframe\">\n",
       "  <thead>\n",
       "    <tr style=\"text-align: right;\">\n",
       "      <th></th>\n",
       "      <th>DRUM ID</th>\n",
       "      <th>QTY</th>\n",
       "      <th>Cont. Size</th>\n",
       "      <th>Quantity (Kg)</th>\n",
       "      <th>Description</th>\n",
       "      <th>Components and Concentrations</th>\n",
       "      <th>Hazard Codes</th>\n",
       "      <th>UN Number</th>\n",
       "      <th>Proper Shipping Name</th>\n",
       "      <th>Class</th>\n",
       "      <th>...</th>\n",
       "      <th>24-26 Weeks</th>\n",
       "      <th>&gt;6 Months</th>\n",
       "      <th>Origin District</th>\n",
       "      <th>Destination District</th>\n",
       "      <th>Date Out</th>\n",
       "      <th>DR Code</th>\n",
       "      <th>Tonnage</th>\n",
       "      <th>Municipal Source</th>\n",
       "      <th>Column1</th>\n",
       "      <th>EWC2</th>\n",
       "    </tr>\n",
       "  </thead>\n",
       "  <tbody>\n",
       "    <tr>\n",
       "      <th>0</th>\n",
       "      <td>NaN</td>\n",
       "      <td>80</td>\n",
       "      <td>60</td>\n",
       "      <td>1.5</td>\n",
       "      <td>EMPTY PLASTIC DRUMS (60L)</td>\n",
       "      <td>NIL HAZARDOUS COMPONENTS</td>\n",
       "      <td>N/C</td>\n",
       "      <td>NCAD</td>\n",
       "      <td>NOT CLASSIFIED AS DANGEROUS FOR TRANSPORT</td>\n",
       "      <td>N/C</td>\n",
       "      <td>...</td>\n",
       "      <td>0</td>\n",
       "      <td>0</td>\n",
       "      <td>SHEFFIELD</td>\n",
       "      <td>LEEDS</td>\n",
       "      <td>11/01/2023</td>\n",
       "      <td>R03 - RECYCLING OF ORGANIC SUBSTANCES</td>\n",
       "      <td>0.0015</td>\n",
       "      <td>No</td>\n",
       "      <td>R03 - Recycling of organic substances</td>\n",
       "      <td>150110</td>\n",
       "    </tr>\n",
       "    <tr>\n",
       "      <th>1</th>\n",
       "      <td>NaN</td>\n",
       "      <td>4</td>\n",
       "      <td>30</td>\n",
       "      <td>2.0</td>\n",
       "      <td>EMPTY PLASTIC DRUMS (30L)</td>\n",
       "      <td>Nil hazardous components</td>\n",
       "      <td>N/C</td>\n",
       "      <td>NCAD</td>\n",
       "      <td>NOT CLASSIFIED AS DANGEROUS FOR TRANSPORT</td>\n",
       "      <td>N/C</td>\n",
       "      <td>...</td>\n",
       "      <td>0</td>\n",
       "      <td>0</td>\n",
       "      <td>SHEFFIELD</td>\n",
       "      <td>LEEDS</td>\n",
       "      <td>11/01/2023</td>\n",
       "      <td>R03 - RECYCLING OF ORGANIC SUBSTANCES</td>\n",
       "      <td>0.002</td>\n",
       "      <td>No</td>\n",
       "      <td>R03 - Recycling of organic substances</td>\n",
       "      <td>150110</td>\n",
       "    </tr>\n",
       "  </tbody>\n",
       "</table>\n",
       "<p>2 rows × 42 columns</p>\n",
       "</div>"
      ],
      "text/plain": [
       "  DRUM ID QTY Cont. Size  Quantity (Kg)                Description  \\\n",
       "0     NaN  80         60            1.5  EMPTY PLASTIC DRUMS (60L)   \n",
       "1     NaN   4         30            2.0  EMPTY PLASTIC DRUMS (30L)   \n",
       "\n",
       "  Components and Concentrations Hazard Codes UN Number  \\\n",
       "0      NIL HAZARDOUS COMPONENTS          N/C      NCAD   \n",
       "1      Nil hazardous components          N/C      NCAD   \n",
       "\n",
       "                        Proper Shipping Name Class  ... 24-26 Weeks >6 Months  \\\n",
       "0  NOT CLASSIFIED AS DANGEROUS FOR TRANSPORT   N/C  ...           0         0   \n",
       "1  NOT CLASSIFIED AS DANGEROUS FOR TRANSPORT   N/C  ...           0         0   \n",
       "\n",
       "  Origin District Destination District    Date Out  \\\n",
       "0       SHEFFIELD                LEEDS  11/01/2023   \n",
       "1       SHEFFIELD                LEEDS  11/01/2023   \n",
       "\n",
       "                                 DR Code Tonnage Municipal Source  \\\n",
       "0  R03 - RECYCLING OF ORGANIC SUBSTANCES  0.0015               No   \n",
       "1  R03 - RECYCLING OF ORGANIC SUBSTANCES   0.002               No   \n",
       "\n",
       "                                 Column1    EWC2  \n",
       "0  R03 - Recycling of organic substances  150110  \n",
       "1  R03 - Recycling of organic substances  150110  \n",
       "\n",
       "[2 rows x 42 columns]"
      ]
     },
     "execution_count": 2,
     "metadata": {},
     "output_type": "execute_result"
    }
   ],
   "source": [
    "df = pd.read_csv(\"data/raw3.csv\")\n",
    "print(f'The primary data set has {len(df.columns)} columns and {len(df)} rows.')\n",
    "print('Data types:')\n",
    "print(df.dtypes.value_counts())\n",
    "df.head(2)"
   ]
  },
  {
   "cell_type": "code",
   "execution_count": 3,
   "metadata": {},
   "outputs": [],
   "source": [
    "# A helper function for visualisation\n",
    "def create_histogram_from_column(dataframe, column_name, width, height):\n",
    "    plt.figure(figsize=(width, height))\n",
    "    dataframe[column_name].value_counts().plot(kind='bar', color='skyblue')\n",
    "    plt.title(f'Histogram of {column_name}')\n",
    "    plt.xlabel(column_name)\n",
    "    plt.ylabel('Frequency')\n",
    "    plt.show()"
   ]
  },
  {
   "cell_type": "markdown",
   "metadata": {},
   "source": [
    "The classifier that we are trying to predict is the disposal outlet."
   ]
  },
  {
   "cell_type": "code",
   "execution_count": 4,
   "metadata": {},
   "outputs": [
    {
     "name": "stdout",
     "output_type": "stream",
     "text": [
      "The usage distribution of each of the 47 outlets:\n",
      "WASTECARE NORMANTON         2669\n",
      "RED INDUSTRIES              1942\n",
      "FCC BBM                     1857\n",
      "CLEAN PAK                   1710\n",
      "ROBERT HOPKINS              1657\n",
      "MALARY                      1439\n",
      "MYTUM MALTINGS               958\n",
      "VEOLIA NORWOOD               864\n",
      "MULBERRY                     694\n",
      "VEOLIA ELLESMERE PORT        657\n",
      "SWARF                        654\n",
      "BURSCOUGH                    491\n",
      "CASTLE                       460\n",
      "WEDNESBURY                   448\n",
      "LOUGHBOROUGH                 424\n",
      "AVANTI                       404\n",
      "ERP                          374\n",
      "TRADEBE FAWLEY               358\n",
      "OIL RECOVERIES               351\n",
      "PACKCARE                     311\n",
      "ECO BAT                      290\n",
      "SLICKER                      235\n",
      "MULBERRY KNOWSLEY            231\n",
      "FCC ECCLESFIELD              222\n",
      "FCC KNOSTROP                 176\n",
      "ATTLEBOROUGH                 164\n",
      "ESYNERGY                     155\n",
      "FUTURE                       108\n",
      "MYTUM SHERBURN                83\n",
      "SRCL                          83\n",
      "WASTE MATTERS                 78\n",
      "SEVERN TRENT                  73\n",
      "WASTECARE VALLEY HOUSE        58\n",
      "BIFFA SHEFFIELD DARNALL       56\n",
      "BIFFA KILSYTH                 53\n",
      "TOTUS ENVIRONMENTAL           48\n",
      "ODONOVANS                     47\n",
      "ROTHERHAM WASTE OIL           40\n",
      "CLEAN TANK                    33\n",
      "TRADEBE HEYSHAM               22\n",
      "EMR                           21\n",
      "AUGEAN BERWICK                17\n",
      "TOTAL RECYCLING SERVICES      15\n",
      "POPLARS                        7\n",
      "STOCKLEYS                      5\n",
      "SPIVEY                         2\n",
      "FCC LINCOLN                    1\n",
      "Name: Disposal, dtype: int64\n"
     ]
    },
    {
     "data": {
      "image/png": "[encoded data removed]",
      "text/plain": [
       "<Figure size 1500x300 with 1 Axes>"
      ]
     },
     "metadata": {},
     "output_type": "display_data"
    }
   ],
   "source": [
    "# Find the unique values for Disposal and arrange alphabetically\n",
    "outlets = pd.DataFrame({'Disposal': df['Disposal'].unique()})\n",
    "outlets = outlets.sort_values(by='Disposal').reset_index(drop=True)\n",
    "\n",
    "print(f'The usage distribution of each of the {len(outlets)} outlets:')\n",
    "\n",
    "# Remove any rows with empty disposal columns\n",
    "df.dropna(subset=['Disposal'], inplace=True)\n",
    "\n",
    "# Count occurrences of each label\n",
    "label_counts = df['Disposal'].value_counts()\n",
    "print(label_counts)\n",
    "\n",
    "# Add a visualisation\n",
    "create_histogram_from_column(df, 'Disposal', 15, 3)"
   ]
  },
  {
   "cell_type": "markdown",
   "metadata": {},
   "source": [
    "Disposal outlets that only appear a few (less than 5) times in our dataset don't offer sufficient information for training purposes, similarly there are quite a few columns that we could also remomve. RowTrimmer and ColumnTrimmer are two classes that extend the BaseEstimator class and can be inserted into a pipeline for trimming purposes."
   ]
  },
  {
   "cell_type": "markdown",
   "metadata": {},
   "source": [
    "## Row Trimmer"
   ]
  },
  {
   "cell_type": "code",
   "execution_count": 5,
   "metadata": {},
   "outputs": [],
   "source": [
    "# Create a Row Trimmer by extending the BaseEstimator class\n",
    "class RowTrimmer(BaseEstimator, TransformerMixin):\n",
    "    def __init__(self, min_count=5):\n",
    "        self.min_count = min_count\n",
    "\n",
    "    def fit(self, X, y=None):\n",
    "        return self\n",
    "    \n",
    "    def transform(self, X):\n",
    "        before_trim_size = len(X)\n",
    "\n",
    "        # Drop rows with nothing in the Disposal Column\n",
    "        X.dropna(subset=['Disposal'], inplace=True)\n",
    "        label_counts = X['Disposal'].value_counts()\n",
    "        \n",
    "        # Find the indices of labels that appear less than min_count times.\n",
    "        unique_labels = label_counts[label_counts < self.min_count].index\n",
    "\n",
    "        # Using the index value, filter out rows where the label appears only once.\n",
    "        X = X[~X['Disposal'].isin(unique_labels)]\n",
    "\n",
    "        # Reset row indexing\n",
    "        X = X.reset_index(drop=True)\n",
    "        after_trim_size = len(X)\n",
    "\n",
    "        # After trimming rows that we don't want, reset outlets.\n",
    "        outlets = pd.DataFrame({'Disposal': df['Disposal'].unique()})\n",
    "        outlets = outlets.sort_values(by='Disposal').reset_index(drop=True)\n",
    "\n",
    "        print(f'RowTrimmer: Out of {len(label_counts)} outlets, {len(unique_labels)} appear less than { self.min_count} times. {before_trim_size - after_trim_size} rows have been trimmed.')\n",
    "        print(f'RowTrimmer: {X.shape}')\n",
    "        return X"
   ]
  },
  {
   "cell_type": "code",
   "execution_count": 6,
   "metadata": {},
   "outputs": [
    {
     "name": "stdout",
     "output_type": "stream",
     "text": [
      "RowTrimmer: Out of 47 outlets, 2 appear less than 5 times. 3 rows have been trimmed.\n",
      "RowTrimmer: (21042, 42)\n"
     ]
    }
   ],
   "source": [
    "# Test RowTrimmer\n",
    "from sklearn.pipeline import Pipeline\n",
    "rt_params = {\n",
    "    'rt__min_count': 5\n",
    "}\n",
    "\n",
    "# Create a pipeline to build a model\n",
    "rt_pipe = Pipeline([\n",
    "    ('rt', RowTrimmer())\n",
    "])\n",
    "\n",
    "rt_pipe.set_params(**rt_params)\n",
    "\n",
    "# Example usage of the pipeline\n",
    "rt_trim = rt_pipe.fit_transform(df)"
   ]
  },
  {
   "cell_type": "markdown",
   "metadata": {},
   "source": [
    "Having trimmed away a few unhelpful rows, we can now consider columns. Of the 42 or so columns, there are only a few that can be used as descriptors and a second data file labels.xlsx, is provided that lists all columns and indicates which ones are useful."
   ]
  },
  {
   "cell_type": "markdown",
   "metadata": {},
   "source": [
    "After a bit of tidying up in the In/Out column, i.e filling in any missing values or not either IN or OUT. We can trim off any excess columns that arn't of any interest and produce a lighter weight data set."
   ]
  },
  {
   "cell_type": "markdown",
   "metadata": {},
   "source": [
    "## Column Trimmer"
   ]
  },
  {
   "cell_type": "code",
   "execution_count": 7,
   "metadata": {},
   "outputs": [],
   "source": [
    "# Define a custom transformer to clean column names\n",
    "class CleanColumnNamesTransformer(BaseEstimator, TransformerMixin):\n",
    "    def fit(self, X, y=None):\n",
    "        return self\n",
    "\n",
    "    def transform(self, X):\n",
    "        X.columns = X.columns.str.strip() #.str.replace(' ', '_')\n",
    "        return X"
   ]
  },
  {
   "cell_type": "code",
   "execution_count": 8,
   "metadata": {},
   "outputs": [],
   "source": [
    "# Define the ColumnTrimmer class\n",
    "class ColumnTrimmer(BaseEstimator, TransformerMixin):\n",
    "    def __init__(self, filename=''):\n",
    "        self.filename = filename\n",
    "\n",
    "    def fit(self, X, y=None):\n",
    "        return self\n",
    "\n",
    "    def transform(self, X):\n",
    "        # Load the excel file\n",
    "        lb = pd.read_excel(self.filename, header=0)\n",
    "        lb.head(2)\n",
    "\n",
    "        # Fill in any missing values in the In/Out column.\n",
    "        lb.fillna(\"OUT\", inplace=True)\n",
    "\n",
    "        # Replace any values that are not either IN or OUT.\n",
    "        temp = [value if value in [\"IN\", \"OUT\"] else \"OUT\" for value in lb['In/Out'].values] \n",
    "        lb['In/Out'] = temp\n",
    "\n",
    "        # Filter the labels for those where In/Out == IN\n",
    "        features = lb[lb['In/Out']=='IN'].astype('str')\n",
    "        self.columns_to_keep = [col.strip() for col in features['Column'].values]\n",
    "        #self.columns_to_keep = [col.strip().replace(' ', '_') for col in features['Column'].values]\n",
    "\n",
    "        # Select only specified columns\n",
    "        if self.columns_to_keep is not None and any(self.columns_to_keep):\n",
    "            transformed_df = X[self.columns_to_keep]  \n",
    "        else:\n",
    "            transformed_df = X\n",
    "        \n",
    "        print(f'ColumnTrimmer: After trimming {len(transformed_df.columns)} columns remain.')\n",
    "        print(f'ColumnTrimmer: {transformed_df.shape}')\n",
    "        return transformed_df"
   ]
  },
  {
   "cell_type": "code",
   "execution_count": 9,
   "metadata": {},
   "outputs": [
    {
     "name": "stdout",
     "output_type": "stream",
     "text": [
      "ColumnTrimmer: After trimming 7 columns remain.\n",
      "ColumnTrimmer: (21042, 7)\n"
     ]
    },
    {
     "data": {
      "text/html": [
       "<div>\n",
       "<style scoped>\n",
       "    .dataframe tbody tr th:only-of-type {\n",
       "        vertical-align: middle;\n",
       "    }\n",
       "\n",
       "    .dataframe tbody tr th {\n",
       "        vertical-align: top;\n",
       "    }\n",
       "\n",
       "    .dataframe thead th {\n",
       "        text-align: right;\n",
       "    }\n",
       "</style>\n",
       "<table border=\"1\" class=\"dataframe\">\n",
       "  <thead>\n",
       "    <tr style=\"text-align: right;\">\n",
       "      <th></th>\n",
       "      <th>Description</th>\n",
       "      <th>Components and Concentrations</th>\n",
       "      <th>Hazard Codes</th>\n",
       "      <th>UN Number</th>\n",
       "      <th>EWC</th>\n",
       "      <th>Disposal</th>\n",
       "      <th>Physical State</th>\n",
       "    </tr>\n",
       "  </thead>\n",
       "  <tbody>\n",
       "    <tr>\n",
       "      <th>21037</th>\n",
       "      <td>WATER BASED PAN WASH CLEANING SLURY</td>\n",
       "      <td>non hazardous paint-&lt;10%/water-balance</td>\n",
       "      <td>N/C</td>\n",
       "      <td>NCAD</td>\n",
       "      <td>80120</td>\n",
       "      <td>FCC KNOSTROP</td>\n",
       "      <td>SLUDGE</td>\n",
       "    </tr>\n",
       "    <tr>\n",
       "      <th>21038</th>\n",
       "      <td>WATER BASED PAN WASH CLEANING SLURY</td>\n",
       "      <td>non hazardous paint-&lt;10%/water-balance</td>\n",
       "      <td>N/C</td>\n",
       "      <td>NCAD</td>\n",
       "      <td>80120</td>\n",
       "      <td>FCC KNOSTROP</td>\n",
       "      <td>SLUDGE</td>\n",
       "    </tr>\n",
       "    <tr>\n",
       "      <th>21039</th>\n",
       "      <td>WATER BASED PAN WASH CLEANING SLURY</td>\n",
       "      <td>non hazardous paint-&lt;10%/water-balance</td>\n",
       "      <td>N/C</td>\n",
       "      <td>NCAD</td>\n",
       "      <td>80120</td>\n",
       "      <td>FCC KNOSTROP</td>\n",
       "      <td>SLUDGE</td>\n",
       "    </tr>\n",
       "    <tr>\n",
       "      <th>21040</th>\n",
       "      <td>WATER BASED PAN WASH CLEANING SLURY</td>\n",
       "      <td>non hazardous paint-&lt;10%/water-balance</td>\n",
       "      <td>N/C</td>\n",
       "      <td>NCAD</td>\n",
       "      <td>80120</td>\n",
       "      <td>FCC KNOSTROP</td>\n",
       "      <td>SLUDGE</td>\n",
       "    </tr>\n",
       "    <tr>\n",
       "      <th>21041</th>\n",
       "      <td>SCRAP METAL</td>\n",
       "      <td>NIL HAZARDOUS COMPONENTS</td>\n",
       "      <td>None</td>\n",
       "      <td>NCAD</td>\n",
       "      <td>200140</td>\n",
       "      <td>EMR</td>\n",
       "      <td>SOLID</td>\n",
       "    </tr>\n",
       "  </tbody>\n",
       "</table>\n",
       "</div>"
      ],
      "text/plain": [
       "                               Description  \\\n",
       "21037  WATER BASED PAN WASH CLEANING SLURY   \n",
       "21038  WATER BASED PAN WASH CLEANING SLURY   \n",
       "21039  WATER BASED PAN WASH CLEANING SLURY   \n",
       "21040  WATER BASED PAN WASH CLEANING SLURY   \n",
       "21041                          SCRAP METAL   \n",
       "\n",
       "                Components and Concentrations Hazard Codes UN Number     EWC  \\\n",
       "21037  non hazardous paint-<10%/water-balance          N/C      NCAD   80120   \n",
       "21038  non hazardous paint-<10%/water-balance          N/C      NCAD   80120   \n",
       "21039  non hazardous paint-<10%/water-balance          N/C      NCAD   80120   \n",
       "21040  non hazardous paint-<10%/water-balance          N/C      NCAD   80120   \n",
       "21041                NIL HAZARDOUS COMPONENTS         None      NCAD  200140   \n",
       "\n",
       "           Disposal Physical State  \n",
       "21037  FCC KNOSTROP         SLUDGE  \n",
       "21038  FCC KNOSTROP         SLUDGE  \n",
       "21039  FCC KNOSTROP         SLUDGE  \n",
       "21040  FCC KNOSTROP         SLUDGE  \n",
       "21041           EMR          SOLID  "
      ]
     },
     "execution_count": 9,
     "metadata": {},
     "output_type": "execute_result"
    }
   ],
   "source": [
    "# Redefine params\n",
    "ct_params = {\n",
    "    'ct__filename': 'data/labels.xlsx'\n",
    "}\n",
    "\n",
    "# Create a pipeline to build a model\n",
    "ct_pipe = Pipeline([\n",
    "    ('cc', CleanColumnNamesTransformer()),\n",
    "    ('ct', ColumnTrimmer())\n",
    "])\n",
    "\n",
    "ct_pipe.set_params(**ct_params)\n",
    "\n",
    "# Re-run the pipeline with new estimators\n",
    "ct_trim = ct_pipe.fit_transform(rt_trim)\n",
    "ct_trim.tail(5)"
   ]
  },
  {
   "cell_type": "markdown",
   "metadata": {},
   "source": [
    "Of the 7 remaining columns we can look at each in turn. We will consider:\n",
    "- What place this column represents.\n",
    "- Cleansing and Repairing\n",
    "- Encoding\n",
    "- Adding to a dataframe of features.\n",
    "\n",
    "Let us first of all consider the datatypes of each column."
   ]
  },
  {
   "cell_type": "code",
   "execution_count": 10,
   "metadata": {},
   "outputs": [
    {
     "name": "stdout",
     "output_type": "stream",
     "text": [
      "Description                      object\n",
      "Components and Concentrations    object\n",
      "Hazard Codes                     object\n",
      "UN Number                        object\n",
      "EWC                              object\n",
      "Disposal                         object\n",
      "Physical State                   object\n",
      "dtype: object\n"
     ]
    }
   ],
   "source": [
    "print(ct_trim.dtypes)"
   ]
  },
  {
   "cell_type": "markdown",
   "metadata": {},
   "source": [
    "We see that all columns are object data types, for machine learning we need to convert these from objects into either float, int or bool data types. On further review we have a combination of categorical data expressed as text, plus entirely free text that is rich in common words or phrases. Two of the categorical terms have very high numbers of possibilities (or dimensions).\n",
    "\n",
    "Text based class labels:\n",
    "- Disposal\n",
    "\n",
    "Low Dimensional, Single Categorical terms:\n",
    "- Physical State\n",
    "\n",
    "Low Dimensional, Multi Categorical, space delimited terms:\n",
    "- Hazard Codes\n",
    "\n",
    "High Dimensional Categorical terms:\n",
    "- EWC\n",
    "- UN Number\n",
    "\n",
    "Text columns:\n",
    "- Description\n",
    "- Components and Concentrations\n",
    "\n",
    "## Approach\n",
    "- Text based labels can be treated simply by adding an index column.\n",
    "- Low dimensional categorical terms can be encoded by one hot encoding. \n",
    "- Low dimensional categorical terms that need to be tokenised before one hot encoding.\n",
    "- High dimensional categorical terms would be best suited to feature hashing.\n",
    "- Text based terms can be turned into vectors using the Word2Vec library.\n",
    "\n",
    "## Model Building\n",
    "We can adopt a reusable pipeline to process all of our data in a consistent manner, whether it is for trainng and testing or in the working environment. To this end we will also need four estimators, for data cleansing and encoding. \n",
    "- IndexTransformer\n",
    "- OneHotTransformer\n",
    "- OneHotTokenTransformer\n",
    "- FeatureHshingTransformer\n",
    "- TextTransformer"
   ]
  },
  {
   "cell_type": "markdown",
   "metadata": {},
   "source": [
    "## Index Transformer"
   ]
  },
  {
   "cell_type": "code",
   "execution_count": 11,
   "metadata": {},
   "outputs": [],
   "source": [
    "# Create a class for transforming a column of values into a column of index numbers of those values in a list of unique values\n",
    "class IndexTransformer(BaseEstimator, TransformerMixin):\n",
    "    def __init__(self, column_name=None):\n",
    "        self.column_name = column_name\n",
    "\n",
    "    def fit(self, X, y=None):\n",
    "        return self\n",
    "\n",
    "    def transform(self, X):\n",
    "        transformed_data = pd.DataFrame(())\n",
    "        try:        \n",
    "            # Tidy up a bit\n",
    "            X[self.column_name].str.upper()\n",
    "            X[self.column_name].str.strip()\n",
    "\n",
    "            # Find the unique values and arrange alphabetically\n",
    "            df_temp = pd.DataFrame({self.column_name: X[self.column_name].unique()})\n",
    "            df_temp = df_temp.sort_values(by=self.column_name).reset_index(drop=True)\n",
    "\n",
    "            # Create a dictionary mapping values to their index\n",
    "            index_map = {item: idx for idx, item in enumerate(df_temp[self.column_name])}\n",
    "                            \n",
    "            # Find the index of each value in the list of unique values\n",
    "            indices = [index_map[value] for value in X[self.column_name]]\n",
    "\n",
    "            # Create a new column name +'_Index' in the DataFrame\n",
    "            X[self.column_name + '_Index'] = indices\n",
    "\n",
    "            # Visualise the result\n",
    "            selected_columns = X[[self.column_name, self.column_name +'_Index']].head()\n",
    "            print(selected_columns)\n",
    "            print('')\n",
    "\n",
    "            # Remove the encoded column\n",
    "            #X = X.drop(self.column_name, axis=1)\n",
    "            \n",
    "            # Return the transformed dataframe\n",
    "            transformed_data = X\n",
    "\n",
    "        except Exception as e:\n",
    "            # Handle any other exceptions\n",
    "            print(f\"IndexTransformer: An error occurred in {self.column_name}:\", e)\n",
    "        else:\n",
    "            # Code to execute if no exception is raised\n",
    "            print(f\"IndexTransformer: Successfully completed: {self.column_name}\")\n",
    "        finally:\n",
    "            print(f'IndexTransformer: Finished {self.column_name} Shape: {X.shape}')\n",
    "            print('-------------------------------------------------------------------------') \n",
    "        return X"
   ]
  },
  {
   "cell_type": "markdown",
   "metadata": {},
   "source": [
    "## One Hot Transformer"
   ]
  },
  {
   "cell_type": "code",
   "execution_count": 12,
   "metadata": {},
   "outputs": [],
   "source": [
    "# An estimator for Ono Hot Encoding\n",
    "class OneHotTransformer(BaseEstimator, TransformerMixin):\n",
    "    def __init__(self, column_name=None):\n",
    "        self.column_name = column_name\n",
    "\n",
    "    def fit(self, X, y=None):\n",
    "        return self\n",
    "\n",
    "    def transform(self, X):\n",
    "        transformed_data = pd.DataFrame()\n",
    "        print(f'OneHotTransformer Start: {X.shape}')\n",
    "        try:\n",
    "            # Tidy up a bit\n",
    "            X[self.column_name].str.upper()\n",
    "            X[self.column_name].str.strip()\n",
    "\n",
    "            # Small modifier for Physical State\n",
    "            if(self.column_name=='Physical State'):\n",
    "                X[self.column_name] = X[self.column_name].fillna('MIXED')\n",
    "            \n",
    "            # Create a copy of the data to encode\n",
    "            df_temp = pd.DataFrame({'temp': X[self.column_name].values})\n",
    "\n",
    "            # Call pandas get_dummies to one hot encode\n",
    "            df_temp = pd.get_dummies(df_temp, prefix=self.column_name)\n",
    "            #df_temp.reset_index(drop=True, inplace=True)\n",
    "\n",
    "            # Remove the encoded column\n",
    "            if self.column_name in X.columns:\n",
    "                X = X.drop(self.column_name, axis=1)\n",
    "                X.reset_index(drop=True, inplace=True)\n",
    "\n",
    "            # Add columns to the model\n",
    "            X = pd.concat([X, df_temp], axis=1)\n",
    "            #X.reset_index(drop=True, inplace=True)\n",
    "            \n",
    "        except Exception as e:\n",
    "            # Handle any other exceptions\n",
    "            print(f\"OneHotTransformer: An error occurred in {self.column_name}:\", e)\n",
    "        else:\n",
    "            # Code to execute if no exception is raised\n",
    "            print(f\"OneHotTransformer: Successfully completed: {self.column_name}\")\n",
    "        finally:\n",
    "            print(f'OneHotTransformer: Finished {self.column_name} Shape: {X.shape}')\n",
    "            print('-------------------------------------------------------------------------') \n",
    "        return X"
   ]
  },
  {
   "cell_type": "markdown",
   "metadata": {},
   "source": [
    "## One Hot Token Transformer"
   ]
  },
  {
   "cell_type": "code",
   "execution_count": 13,
   "metadata": {},
   "outputs": [],
   "source": [
    "# Anestimator for encoding strings of tokenised categories\n",
    "class OneHotTokenTransformer(BaseEstimator, TransformerMixin):\n",
    "    def __init__(self, column_name=None, tokens=None):\n",
    "        self.column_name = column_name\n",
    "        self.tokens = tokens\n",
    "\n",
    "    def fit(self, X, y=None):\n",
    "        return self\n",
    "\n",
    "    def transform(self, X):\n",
    "        transformed_data = pd.DataFrame()\n",
    "        print(f'OneHotTokenTransformer Start: {X.shape}')\n",
    "        try:\n",
    "            # Tidy up a bit\n",
    "            X[self.column_name].str.upper()\n",
    "            X[self.column_name].str.strip()\n",
    "\n",
    "            df_hc = pd.DataFrame()\n",
    "            for hc in self.tokens:\n",
    "                if hc not in X.columns:\n",
    "                    X[hc] = 0\n",
    "\n",
    "            # Fill missing values (NaN) in the 'Hazard_Codes' column with an empty string\n",
    "            if(self.column_name=='Hazard Codes'):\n",
    "                X[self.column_name].fillna('NC', inplace=True)\n",
    "\n",
    "            # Small modifier for Physical State\n",
    "            if(self.column_name=='Physical State'):\n",
    "                X[self.column_name] = X[self.column_name].fillna('MIXED')\n",
    "\n",
    "            # Split the codes in the 'Hazard_Codes' column and assign 1's and 0's\n",
    "            for code in self.tokens:\n",
    "                #df_hc[code] = X[self.column_name].apply(lambda x: 1 if code in x.split() else 0)\n",
    "                X[code] = X[self.column_name].apply(lambda x: 1 if code in x.split() else 0)\n",
    "            \n",
    "            # Remove the encoded column\n",
    "            if self.column_name in X.columns:\n",
    "                X = X.drop(self.column_name, axis=1)\n",
    "                #X.reset_index(drop=True, inplace=True)\n",
    "            \n",
    "            # Add columns to the model\n",
    "            #pd.concat([X, df_hc], axis=1)\n",
    "            \n",
    "        except Exception as e:\n",
    "            # Handle any other exceptions\n",
    "            print(\"OneHotTokenTransformer: An error occurred:\", e)\n",
    "        else:\n",
    "            # Code to execute if no exception is raised\n",
    "            print(f\"OneHotTokenTransformer: Successfully completed: {self.column_name}\")\n",
    "        finally:\n",
    "            # Code that will always run, regardless of an exception\n",
    "            print(f'OneHotTokenTransformer: Finished {self.column_name} Shape: {X.shape}') \n",
    "            print('-------------------------------------------------------------------------')       \n",
    "        return X"
   ]
  },
  {
   "cell_type": "markdown",
   "metadata": {},
   "source": [
    "## Feature Hashing Transformer"
   ]
  },
  {
   "cell_type": "code",
   "execution_count": 14,
   "metadata": {},
   "outputs": [],
   "source": [
    "# An estimator for cleaning text and encoding with feature hashing.\n",
    "class FeatureHashingTransformer(BaseEstimator, TransformerMixin):\n",
    "    def __init__(self, column_name=None, num_vec=6):\n",
    "        self.column_name = column_name\n",
    "        self.num_vec = num_vec\n",
    "\n",
    "    def fit(self, X, y=None):\n",
    "        return self\n",
    "    \n",
    "    def transform(self, X):\n",
    "        transformed_data = pd.DataFrame()\n",
    "        print(f'FeatureHashingTransformer Start: {X.shape}')\n",
    "        try:\n",
    "            # Tidy up a bit\n",
    "            X[self.column_name].str.upper()\n",
    "            X[self.column_name].str.strip()\n",
    "\n",
    "            if(self.column_name=='UN Number'):\n",
    "                X[self.column_name].fillna('NCAD', inplace=True)\n",
    "                \n",
    "            # A helper function for encoding highly diverse categorical information.\n",
    "            def feature_hasher(data, prefix, num_features):\n",
    "                # Initialize the FeatureHasher object\n",
    "                hasher = FeatureHasher(n_features=num_features, input_type='string')\n",
    "\n",
    "                # Apply feature hashing to the data\n",
    "                hashed_features = hasher.transform(data.astype(str))\n",
    "\n",
    "                # Convert the hashed features to a DataFrame\n",
    "                df_hashed = pd.DataFrame(hashed_features.toarray())\n",
    "\n",
    "                # Add a prefix to the column name for each feature\n",
    "                df_hashed.columns = [prefix + '_' + col for col in df_hashed.columns.astype('str')]            \n",
    "                return df_hashed\n",
    "                        \n",
    "            # Make all uppercase\n",
    "            X[self.column_name].str.upper()\n",
    "\n",
    "            # Remove any preceding aphotrophes\n",
    "            X[self.column_name] = X[self.column_name].str.lstrip(\"'\")\n",
    "\n",
    "            # Remove any following asterisks\n",
    "            X[self.column_name] = X[self.column_name].str.rstrip(\"*\")\n",
    "\n",
    "            # Remove any whitespaces\n",
    "            X[self.column_name] = X[self.column_name].str.strip()\n",
    "\n",
    "            # Hash values into a dataframe\n",
    "            df_fh = feature_hasher(X[self.column_name], self.column_name, self.num_vec)\n",
    "            #df_fh.reset_index(drop=True, inplace=True)\n",
    "\n",
    "            # Remove the encoded column\n",
    "            X = X.drop(self.column_name, axis=1)\n",
    "            X.reset_index(drop=True, inplace=True)\n",
    "            \n",
    "            # Add columns to the model\n",
    "            X = pd.concat([X, df_fh], axis=1)\n",
    "            #X.reset_index(drop=True, inplace=True)\n",
    "            \n",
    "        except Exception as e:\n",
    "            # Handle any other exceptions\n",
    "            print(f\"FeatureHashingTransformer: An error occurred in {self.column_name}:\", e)\n",
    "        else:\n",
    "            # Code to execute if no exception is raised\n",
    "            print(f\"FeatureHashingTransformer: Successfully completed: {self.column_name}\")\n",
    "        finally:\n",
    "            print(f'FeatureHashingTransformer: Finished {self.column_name} Shape: {X.shape}')\n",
    "            print('-------------------------------------------------------------------------') \n",
    "        return X"
   ]
  },
  {
   "cell_type": "markdown",
   "metadata": {},
   "source": [
    "## Text Cleaner"
   ]
  },
  {
   "cell_type": "code",
   "execution_count": 47,
   "metadata": {},
   "outputs": [],
   "source": [
    "class TextCleaner(BaseEstimator, TransformerMixin):\n",
    "    def __init__(self,  remove_number_cols=None):\n",
    "        self.remove_number_cols = remove_number_cols\n",
    "        # Get the list of English stop words, this has been downloaded automatically by the natural language toolkit NLTK and saved to a local folder, in AppData.\n",
    "        self.stop_words = nltk.corpus.stopwords.words('english')\n",
    "        # Additional terms specific to this application can be added, by extending the english stopwords set.\n",
    "        new_stop_words = ['waste','contaminated','with','haz','hazardous','non','non-haz','non-hazardous','w/l','c/w','sched','scheduled','as','per']\n",
    "        self.stop_words.extend(new_stop_words)\n",
    "\n",
    "    def _remove_numbers(self, text):        \n",
    "        # Remove numbers\n",
    "        try:\n",
    "            text = ''.join([char for char in text if not char.isdigit()])\n",
    "        except Exception as e:\n",
    "            print(f\"TextCleaner: An error occurred removing numbers from: {text}:\", e)\n",
    "        return text\n",
    "    \n",
    "    def _add_zero_to_five_length_items(column):\n",
    "        try:\n",
    "            modified_column = [item if len(item) != 5 else '0' + item for item in column]\n",
    "        except Exception as e:\n",
    "            print(f\"TextCleaner: An error occurred removing numbers from: {column}:\", e)\n",
    "        return modified_column\n",
    "    \n",
    "    def fit(self, X, y=None):\n",
    "        return self\n",
    "    \n",
    "    def transform(self, X):\n",
    "        cleaned_text = []\n",
    "        try:\n",
    "            for col in X.columns:\n",
    "                cleaned_text = []\n",
    "                if(col=='EWC'):\n",
    "                    X.EWC = X.EWC.values.astype('str')\n",
    "                    # Remove rows where the length of the 'EWC' column is less than 5\n",
    "                    X = X[X.EWC.apply(lambda x: len(str(x)) >= 5) & X.EWC.notnull()]           \n",
    "                    # Add zeros to front of EWCs\n",
    "                    #X[col] = self._add_zero_to_five_length_items(X.EWC.values.astype('str'))\n",
    "                \n",
    "                if(col=='Components and Concentrations'):\n",
    "                    X['Components and Concentrations'].fillna('As List', inplace=True)\n",
    "\n",
    "                if col in self.remove_number_cols:\n",
    "                    X[col] = X[col].apply(self._remove_numbers).astype('str')\n",
    "        \n",
    "                for text in col:\n",
    "                    # Remove punctuation\n",
    "                    text = ''.join([char for char in text if char not in string.punctuation])\n",
    "                    # Tokenize the text\n",
    "                    words = word_tokenize(text)\n",
    "                    # Remove stopwords\n",
    "                    words = [word for word in words if word.lower() not in self.stop_words]\n",
    "                    # Remove unnecessary whitespaces\n",
    "                    cleaned_text.append(' '.join(words))\n",
    "                col = cleaned_text\n",
    "                \n",
    "        except Exception as e:\n",
    "            print(f\"TextCleaner: An error occurred transforming text: {text}:\", e)\n",
    "        \n",
    "        return np.array(cleaned_text).reshape(-1, 1)"
   ]
  },
  {
   "cell_type": "markdown",
   "metadata": {},
   "source": [
    "## Text Transformer"
   ]
  },
  {
   "cell_type": "code",
   "execution_count": 16,
   "metadata": {},
   "outputs": [],
   "source": [
    "# An estimator for transforming text\n",
    "class TextTransformer(BaseEstimator, TransformerMixin):\n",
    "    def __init__(self, column_name='', isalpha=True, vector_size=100, window=10, min_count=1, sg=1):\n",
    "        self.column_name = column_name\n",
    "        self.isalpha = isalpha\n",
    "        self.vector_size = vector_size\n",
    "        self.window = window\n",
    "        self.min_count = min_count\n",
    "        self.column_name = column_name\n",
    "        self.sg = sg\n",
    "        \n",
    "    def fit(self, X, y=None):\n",
    "        return self\n",
    "\n",
    "    def transform(self, X):\n",
    "        transformed_data = pd.DataFrame()\n",
    "        print(f'TextTransformer Start: {X.shape}')\n",
    "        # For EWC codes only\n",
    "        def add_zero_to_five_length_items(column):\n",
    "            modified_column = [item if len(item) != 5 else '0' + item for item in column]\n",
    "            return modified_column\n",
    "        \n",
    "        try:            \n",
    "            if(self.column_name=='EWC'):\n",
    "                # Remove rows where the length of the 'EWC' column is less than 5\n",
    "                X = X[X[self.column_name].apply(lambda x: len(str(x)) >= 5) & X[self.column_name].notnull()]            \n",
    "                # Add zeros to front of EWCs\n",
    "                X[self.column_name] = add_zero_to_five_length_items(X.EWC.values.astype('str'))\n",
    "            \n",
    "            if(self.column_name=='Components and Concentrations'):\n",
    "                X[self.column_name].fillna('As List', inplace=True)\n",
    "\n",
    "            # Build a dataframe for vector representations\n",
    "            txt_vectors_df = self.vectorise(X)\n",
    "            \n",
    "            # Remove the encoded column, reset indexing\n",
    "            X = X.drop(self.column_name, axis=1)\n",
    "            X.reset_index(drop=True, inplace=True)\n",
    "            \n",
    "            # Add the encoded columns\n",
    "            X = pd.concat([X, txt_vectors_df], axis=1)\n",
    "\n",
    "        except Exception as e:\n",
    "            # Handle any other exceptions\n",
    "            print(f\"TextTransformer: An error occurred in {self.column_name}:\", e)\n",
    "        else:\n",
    "            # Code to execute if no exception is raised\n",
    "            print(f\"TextTransformer: Successfully completed: {self.column_name}\")\n",
    "        finally:\n",
    "            print(f'TextTransformer: Finished {self.column_name} Shape: {X.shape}')\n",
    "            print('-------------------------------------------------------------------------') \n",
    "        return X\n",
    "    \n",
    "    # Split sentences into lists of preprocessed words and remove any unhelpful terms.\n",
    "    def preprocess_sentence(self, text):\n",
    "        # Define a function to preprocess and clean a word\n",
    "        def preprocess_word(word):\n",
    "            word = ''.join([c if c not in string.punctuation else ' ' for c in word])  # Remove punctuation from within text\n",
    "            return word\n",
    "        \n",
    "        # Get the list of English stop words, this has been downloaded automatically by the natural language toolkit NLTK and saved to a local folder, in AppData.\n",
    "        stopwords = nltk.corpus.stopwords.words('english')\n",
    "\n",
    "        # Additional terms specific to this application can be added, by extending the english stopwords set.\n",
    "        new_stop_words = ['waste','contaminated','with','haz','hazardous','non','non-haz','non-hazardous','w/l','c/w','sched','scheduled','as','per']\n",
    "        stopwords.extend(new_stop_words)\n",
    "\n",
    "        # Break sentance up into words\n",
    "        tokens = word_tokenize(preprocess_word(text)) \n",
    "\n",
    "        # Tidy up, standardise case to lower.\n",
    "        tokens = [word.lower() for word in tokens]\n",
    "\n",
    "        # Remove whitespaces\n",
    "        tokens = [word.strip() for word in tokens]\n",
    "\n",
    "        # Remove numbers\n",
    "        if(self.isalpha): # if True remove numbers\n",
    "            tokens = [word for word in tokens if word.isalpha()]\n",
    "        # Exclude stopped words\n",
    "        tokens = [word for word in tokens if word not in stopwords]\n",
    "\n",
    "        # Remove punctuation from between words\n",
    "        tokens = [word for word in tokens if word not in string.punctuation]\n",
    "        return tokens\n",
    "\n",
    "    # Produce a dataframe containing a set of vectorised text\n",
    "    def vectorise(self, data):\n",
    "        # Extract text data from a specific column\n",
    "        word_column = data[self.column_name].astype('str').tolist()\n",
    "\n",
    "        # Extract unique words and preprocess them\n",
    "        tokenized_sentences = [self.preprocess_sentence(word) for word in word_column]\n",
    "        \n",
    "        # Train the Word2Vec model\n",
    "        model = Word2Vec(sentences=tokenized_sentences, vector_size=self.vector_size, window=self.window, min_count=self.min_count, sg=self.sg)\n",
    "\n",
    "        # Save the Word2Vec model\n",
    "        #model.save(f'c:/users/user/desktop/models/{column_name}_model')\n",
    "\n",
    "        # Create sentence vectors by averaging the word vectors for each preprocessed word in the sentence\n",
    "        sentence_vectors = []\n",
    "        for sentence in tokenized_sentences:\n",
    "            if(len(sentence) > 0):\n",
    "                word_vectors = [model.wv[word] for word in sentence if word in model.wv]\n",
    "                if word_vectors:\n",
    "                    sentence_vector = np.mean(word_vectors, axis=0)\n",
    "                else:\n",
    "                    print(f'{sentence} not found in vocabulary.')\n",
    "                    sentence_vector = np.zeros(model.vector_size)                \n",
    "            else:\n",
    "                sentence_vector = np.zeros(model.vector_size)\n",
    "            sentence_vectors.append(sentence_vector)\n",
    "\n",
    "        # Remove whitespaces from column names\n",
    "        cn = self.column_name.replace(' ','_')\n",
    "\n",
    "        # Add to a dataframe of features\n",
    "        sentence_vectors_df = pd.DataFrame(sentence_vectors, columns=[f'{cn}_{i}' for i in range(model.vector_size)])\n",
    "        return sentence_vectors_df"
   ]
  },
  {
   "cell_type": "markdown",
   "metadata": {},
   "source": [
    "## Column Vectoriser"
   ]
  },
  {
   "cell_type": "code",
   "execution_count": 17,
   "metadata": {},
   "outputs": [],
   "source": [
    "from sklearn.feature_extraction.text import CountVectorizer\n",
    "import re\n",
    "\n",
    "# Custom transformer to apply text preprocessing, remove numbers and punctuation, and then apply CountVectorizer\n",
    "class ColumnVectorizer(BaseEstimator, TransformerMixin):\n",
    "    def __init__(self, preprocess_text=True, columns_to_remove=None, max_features_per_column=None):\n",
    "        self.preprocess_text = preprocess_text\n",
    "        self.columns_to_remove = columns_to_remove if columns_to_remove is not None else []\n",
    "        self.max_features_per_column = max_features_per_column\n",
    "        self.vectorizers = {col: CountVectorizer(max_features=max_features_per_column.get(col, None)) for col in max_features_per_column}\n",
    "\n",
    "    def preprocess(self, text):\n",
    "        text = re.sub(r'\\d+', '', text)  # Remove numbers\n",
    "        text = re.sub(r'[^\\w\\s]', '', text)  # Remove punctuation\n",
    "        return text\n",
    "\n",
    "    def fit(self, X, y=None):\n",
    "        for col_idx in self.columns_to_remove:\n",
    "            X[:, col_idx] = np.array([str(val) for val in X[:, col_idx]])  # Treat specified columns as text\n",
    "        if self.preprocess_text:\n",
    "            X = np.vectorize(self.preprocess)(X)\n",
    "        self.vectorizer.fit(X)\n",
    "        return self\n",
    "\n",
    "    def transform(self, X):\n",
    "        for col_idx in self.columns_to_remove:\n",
    "            X[:, col_idx] = np.array([str(val) for val in X[:, col_idx]])  # Treat specified columns as text\n",
    "        if self.preprocess_text:\n",
    "            X = np.vectorize(self.preprocess)(X)\n",
    "        X_transformed = self.vectorizer.transform(X)\n",
    "        return X_transformed"
   ]
  },
  {
   "cell_type": "markdown",
   "metadata": {},
   "source": [
    "## EWC (European Waste Code)"
   ]
  },
  {
   "cell_type": "markdown",
   "metadata": {},
   "source": [
    "These are categorical terms for the instustry sector from where the waste originates, they take the form of three pairs of number characters plus optionally an asterisk, most commonly the three pairs are joined to form a six digit number. Each disposal site has a list of allowable EWC codes on it's permit, this if anything should be the most significant term, however we do not have a copy of all of the sites permits. More than one site can have the same EWC so there are other factors to consider, not listed here such as comparative cost and geographical distance."
   ]
  },
  {
   "cell_type": "markdown",
   "metadata": {},
   "source": [
    "There is room for some standardisation and tidying before going any further. Consider the length of the code, it should be either 6 or 7 characters long, the seventh being an asterix which denotes hazardous nature. Since hazardous properties are described in other columns the presence of the asterix or otherwise can be ignored."
   ]
  },
  {
   "cell_type": "code",
   "execution_count": 18,
   "metadata": {},
   "outputs": [
    {
     "name": "stdout",
     "output_type": "stream",
     "text": [
      "Before cleaning there are 212 unique EWC codes in the collection\n"
     ]
    },
    {
     "data": {
      "image/png": "[encoded data removed]",
      "text/plain": [
       "<Figure size 600x400 with 1 Axes>"
      ]
     },
     "metadata": {},
     "output_type": "display_data"
    }
   ],
   "source": [
    "# A function to aid visualisation\n",
    "def group_by_character_count(column):\n",
    "    grouped_items = {}\n",
    "    for item in column:\n",
    "        char_count = len(item)\n",
    "        if char_count not in grouped_items:\n",
    "            grouped_items[char_count] = []\n",
    "        grouped_items[char_count].append(item)\n",
    "    # Plotting the histogram\n",
    "    plt.figure(figsize=(6, 4))\n",
    "    plt.bar(grouped_items.keys(), [len(items) for items in grouped_items.values()])\n",
    "    plt.xlabel('Number of Characters')\n",
    "    plt.ylabel('Frequency')\n",
    "    plt.title('Histogram of EWC codes Grouped by Character Count')\n",
    "    plt.show()\n",
    "    return grouped_items\n",
    "\n",
    "print(f'Before cleaning there are {len(ct_trim.EWC.unique())} unique EWC codes in the collection')\n",
    "# Group by number of characters\n",
    "grouped_items = group_by_character_count(ct_trim.EWC.values.astype('str'))\n"
   ]
  },
  {
   "cell_type": "markdown",
   "metadata": {},
   "source": [
    "Plotting the frequecy distribution of EWC code length we find that there are a number that have 5 or 8 characters as well as the expected 6 or 7. This is typically due to their origin in Excel where numbers with preceding zeros will be truncated, yet EWC codes beginning with zero are legal values. Similarly to force Excel to treat a number as text it is sometimes preceded with an apostrophe.\n",
    "\n",
    "Tidying up steps will be:\n",
    "- Remove any rows without EWC codes\n",
    "- Reomve any apostrophes\n",
    "- Remove any asterisks\n",
    "- Remove whitespaces\n",
    "- Add zeros to the front of codes with 5 characters.\n",
    "   "
   ]
  },
  {
   "cell_type": "code",
   "execution_count": 19,
   "metadata": {},
   "outputs": [
    {
     "name": "stdout",
     "output_type": "stream",
     "text": [
      "TextTransformer Start: (21042, 7)\n"
     ]
    },
    {
     "name": "stdout",
     "output_type": "stream",
     "text": [
      "TextTransformer: Successfully completed: EWC\n",
      "TextTransformer: Finished EWC Shape: (21042, 12)\n",
      "-------------------------------------------------------------------------\n"
     ]
    },
    {
     "data": {
      "text/html": [
       "<div>\n",
       "<style scoped>\n",
       "    .dataframe tbody tr th:only-of-type {\n",
       "        vertical-align: middle;\n",
       "    }\n",
       "\n",
       "    .dataframe tbody tr th {\n",
       "        vertical-align: top;\n",
       "    }\n",
       "\n",
       "    .dataframe thead th {\n",
       "        text-align: right;\n",
       "    }\n",
       "</style>\n",
       "<table border=\"1\" class=\"dataframe\">\n",
       "  <thead>\n",
       "    <tr style=\"text-align: right;\">\n",
       "      <th></th>\n",
       "      <th>Description</th>\n",
       "      <th>Components and Concentrations</th>\n",
       "      <th>Hazard Codes</th>\n",
       "      <th>UN Number</th>\n",
       "      <th>Disposal</th>\n",
       "      <th>Physical State</th>\n",
       "      <th>EWC_0</th>\n",
       "      <th>EWC_1</th>\n",
       "      <th>EWC_2</th>\n",
       "      <th>EWC_3</th>\n",
       "      <th>EWC_4</th>\n",
       "      <th>EWC_5</th>\n",
       "    </tr>\n",
       "  </thead>\n",
       "  <tbody>\n",
       "    <tr>\n",
       "      <th>0</th>\n",
       "      <td>EMPTY PLASTIC DRUMS (60L)</td>\n",
       "      <td>NIL HAZARDOUS COMPONENTS</td>\n",
       "      <td>N/C</td>\n",
       "      <td>NCAD</td>\n",
       "      <td>PACKCARE</td>\n",
       "      <td>SOLID</td>\n",
       "      <td>0.105848</td>\n",
       "      <td>-0.056756</td>\n",
       "      <td>-0.015773</td>\n",
       "      <td>0.096143</td>\n",
       "      <td>-0.125361</td>\n",
       "      <td>-0.065602</td>\n",
       "    </tr>\n",
       "    <tr>\n",
       "      <th>1</th>\n",
       "      <td>EMPTY PLASTIC DRUMS (30L)</td>\n",
       "      <td>Nil hazardous components</td>\n",
       "      <td>N/C</td>\n",
       "      <td>NCAD</td>\n",
       "      <td>PACKCARE</td>\n",
       "      <td>SOLID</td>\n",
       "      <td>0.105848</td>\n",
       "      <td>-0.056756</td>\n",
       "      <td>-0.015773</td>\n",
       "      <td>0.096143</td>\n",
       "      <td>-0.125361</td>\n",
       "      <td>-0.065602</td>\n",
       "    </tr>\n",
       "  </tbody>\n",
       "</table>\n",
       "</div>"
      ],
      "text/plain": [
       "                 Description Components and Concentrations Hazard Codes  \\\n",
       "0  EMPTY PLASTIC DRUMS (60L)      NIL HAZARDOUS COMPONENTS          N/C   \n",
       "1  EMPTY PLASTIC DRUMS (30L)      Nil hazardous components          N/C   \n",
       "\n",
       "  UN Number  Disposal Physical State     EWC_0     EWC_1     EWC_2     EWC_3  \\\n",
       "0      NCAD  PACKCARE          SOLID  0.105848 -0.056756 -0.015773  0.096143   \n",
       "1      NCAD  PACKCARE          SOLID  0.105848 -0.056756 -0.015773  0.096143   \n",
       "\n",
       "      EWC_4     EWC_5  \n",
       "0 -0.125361 -0.065602  \n",
       "1 -0.125361 -0.065602  "
      ]
     },
     "execution_count": 19,
     "metadata": {},
     "output_type": "execute_result"
    }
   ],
   "source": [
    "# Redefine params\n",
    "ewc_params = {\n",
    "    'et__column_name': 'EWC',\n",
    "    'et__isalpha': False,\n",
    "    'et__vector_size': 6,\n",
    "    'et__window': 10,\n",
    "    'et__min_count': 1,\n",
    "    'et__sg': 1\n",
    "}\n",
    "\n",
    "# Create a pipeline to build a model\n",
    "ewc_pipe = Pipeline([\n",
    "    ('et', TextTransformer())\n",
    "    #('et', FeatureHashingTransformer())\n",
    "])\n",
    "\n",
    "ewc_pipe.set_params(**ewc_params)\n",
    "\n",
    "# Re-run the pipeline with new estimators\n",
    "ewc_trim = ewc_pipe.fit_transform(ct_trim)\n",
    "ewc_trim.head(2)"
   ]
  },
  {
   "cell_type": "markdown",
   "metadata": {},
   "source": [
    "## Physical Form\n",
    "\n",
    "A text field with categorical single word terms, since they are free text entry we should take a closer look."
   ]
  },
  {
   "cell_type": "code",
   "execution_count": 20,
   "metadata": {},
   "outputs": [
    {
     "name": "stdout",
     "output_type": "stream",
     "text": [
      "There are 7 different forms: ['SOLID' 'LIQUID' 'MIXED' 'SLUDGE' 'GAS' 'LIQUID ' 'POWDER']\n",
      "SOLID      9238\n",
      "MIXED      6544\n",
      "LIQUID     3983\n",
      "SLUDGE      951\n",
      "GAS         265\n",
      "POWDER       57\n",
      "LIQUID        4\n",
      "Name: Physical State, dtype: int64\n"
     ]
    },
    {
     "data": {
      "image/png": "[encoded data removed]",
      "text/plain": [
       "<Figure size 400x200 with 1 Axes>"
      ]
     },
     "metadata": {},
     "output_type": "display_data"
    }
   ],
   "source": [
    "# Remove whitespaces\n",
    "ewc_trim.Physical_State = ewc_trim['Physical State'].str.strip()\n",
    "\n",
    "# Review a few properties\n",
    "physical_state_unique = ewc_trim['Physical State'].unique()\n",
    "print(f'There are {len(physical_state_unique)} different forms: {physical_state_unique}')\n",
    "print(ewc_trim['Physical State'].value_counts())\n",
    "create_histogram_from_column(ewc_trim, 'Physical State', 4, 2)"
   ]
  },
  {
   "cell_type": "markdown",
   "metadata": {},
   "source": [
    "The physical state column appears to be clean data with low dimensionality therefore we can apply one hot encoding."
   ]
  },
  {
   "cell_type": "code",
   "execution_count": 21,
   "metadata": {},
   "outputs": [
    {
     "name": "stdout",
     "output_type": "stream",
     "text": [
      "OneHotTransformer Start: (21042, 12)\n",
      "OneHotTransformer: Successfully completed: Physical State\n",
      "OneHotTransformer: Finished Physical State Shape: (21042, 18)\n",
      "-------------------------------------------------------------------------\n",
      "                 Description Components and Concentrations Hazard Codes  \\\n",
      "0  EMPTY PLASTIC DRUMS (60L)      NIL HAZARDOUS COMPONENTS          N/C   \n",
      "1  EMPTY PLASTIC DRUMS (30L)      Nil hazardous components          N/C   \n",
      "\n",
      "  UN Number  Disposal     EWC_0     EWC_1     EWC_2     EWC_3     EWC_4  \\\n",
      "0      NCAD  PACKCARE  0.105848 -0.056756 -0.015773  0.096143 -0.125361   \n",
      "1      NCAD  PACKCARE  0.105848 -0.056756 -0.015773  0.096143 -0.125361   \n",
      "\n",
      "      EWC_5  Physical State_GAS  Physical State_LIQUID  \\\n",
      "0 -0.065602                   0                      0   \n",
      "1 -0.065602                   0                      0   \n",
      "\n",
      "   Physical State_LIQUID   Physical State_MIXED  Physical State_POWDER  \\\n",
      "0                       0                     0                      0   \n",
      "1                       0                     0                      0   \n",
      "\n",
      "   Physical State_SLUDGE  Physical State_SOLID  \n",
      "0                      0                     1  \n",
      "1                      0                     1  \n"
     ]
    }
   ],
   "source": [
    "# Redefine params\n",
    "ps_params = {\n",
    "    'ps__column_name':'Physical State'\n",
    "}\n",
    "\n",
    "# Create a pipeline to build a model\n",
    "ps_pipe = Pipeline([\n",
    "    ('ps', OneHotTransformer())\n",
    "])\n",
    "\n",
    "ps_pipe.set_params(**ps_params)\n",
    "\n",
    "# Re-run the pipeline with new estimators\n",
    "ps_trim = ps_pipe.fit_transform(ewc_trim)\n",
    "\n",
    "print(ps_trim.head(2))"
   ]
  },
  {
   "cell_type": "markdown",
   "metadata": {},
   "source": [
    "## Disposal"
   ]
  },
  {
   "cell_type": "markdown",
   "metadata": {},
   "source": [
    "The Disposal column contains the names of disposal outlets, in text, for simplicity these are converted into integer values that relate to their index position in an ordered list of unique values. This functionallity is provided by the IndexTransformer class."
   ]
  },
  {
   "cell_type": "code",
   "execution_count": 22,
   "metadata": {},
   "outputs": [
    {
     "name": "stdout",
     "output_type": "stream",
     "text": [
      "              Disposal  Disposal_Index\n",
      "0             PACKCARE              25\n",
      "1             PACKCARE              25\n",
      "2             PACKCARE              25\n",
      "3                  ERP              11\n",
      "4  WASTECARE NORMANTON              42\n",
      "\n",
      "IndexTransformer: Successfully completed: Disposal\n",
      "IndexTransformer: Finished Disposal Shape: (21042, 19)\n",
      "-------------------------------------------------------------------------\n",
      "(21042, 19)\n"
     ]
    }
   ],
   "source": [
    "# Redefine params\n",
    "d_params = {\n",
    "    'classifier__column_name':'Disposal'\n",
    "}\n",
    "\n",
    "# Create a pipeline to build a model\n",
    "d_pipe = Pipeline([\n",
    "    ('classifier', IndexTransformer())\n",
    "])\n",
    "\n",
    "d_pipe.set_params(**d_params)\n",
    "\n",
    "# Re-run the pipeline with new estimators\n",
    "d_trim = d_pipe.fit_transform(ps_trim)\n",
    "print(d_trim.shape)"
   ]
  },
  {
   "cell_type": "markdown",
   "metadata": {},
   "source": [
    "## Description\n",
    "\n",
    "This is a short general description of the type of waste, typically less than ten words. This field and the Components field are filled with text, so we need to provide an estimator that can turn text into vectors."
   ]
  },
  {
   "cell_type": "code",
   "execution_count": 23,
   "metadata": {},
   "outputs": [
    {
     "name": "stdout",
     "output_type": "stream",
     "text": [
      "TextTransformer Start: (21042, 19)\n"
     ]
    },
    {
     "name": "stdout",
     "output_type": "stream",
     "text": [
      "TextTransformer: Successfully completed: Description\n",
      "TextTransformer: Finished Description Shape: (21042, 118)\n",
      "-------------------------------------------------------------------------\n",
      "  Components and Concentrations Hazard Codes UN Number  Disposal     EWC_0  \\\n",
      "0      NIL HAZARDOUS COMPONENTS          N/C      NCAD  PACKCARE  0.105848   \n",
      "1      Nil hazardous components          N/C      NCAD  PACKCARE  0.105848   \n",
      "\n",
      "      EWC_1     EWC_2     EWC_3     EWC_4     EWC_5  ...  Description_90  \\\n",
      "0 -0.056756 -0.015773  0.096143 -0.125361 -0.065602  ...        0.194338   \n",
      "1 -0.056756 -0.015773  0.096143 -0.125361 -0.065602  ...        0.194338   \n",
      "\n",
      "   Description_91  Description_92  Description_93  Description_94  \\\n",
      "0        0.267751       -0.260221        0.359845        0.456144   \n",
      "1        0.267751       -0.260221        0.359845        0.456144   \n",
      "\n",
      "   Description_95  Description_96  Description_97  Description_98  \\\n",
      "0         0.03282        0.462464       -0.585005       -0.608936   \n",
      "1         0.03282        0.462464       -0.585005       -0.608936   \n",
      "\n",
      "   Description_99  \n",
      "0        0.097756  \n",
      "1        0.097756  \n",
      "\n",
      "[2 rows x 118 columns]\n",
      "(21042, 118)\n"
     ]
    }
   ],
   "source": [
    "# Redefine params\n",
    "des_params = {\n",
    "    'tt__column_name': 'Description',\n",
    "    'tt__isalpha': True,\n",
    "    'tt__vector_size': 100,\n",
    "    'tt__window': 10,\n",
    "    'tt__min_count': 1,\n",
    "    'tt__sg': 0\n",
    "}\n",
    "\n",
    "# Create a pipeline to build a model\n",
    "des_pipe = Pipeline([\n",
    "    ('tt', TextTransformer())\n",
    "])\n",
    "\n",
    "des_pipe.set_params(**des_params)\n",
    "\n",
    "# Re-run the pipeline with new estimators\n",
    "des_trim = des_pipe.fit_transform(d_trim)\n",
    "print(des_trim.head(2))\n",
    "print(des_trim.shape)"
   ]
  },
  {
   "cell_type": "markdown",
   "metadata": {},
   "source": [
    "## UN Number\n",
    "\n",
    "Legal values are NCAD for non hazardous material, or a four digit number that represents a particular category, i.e. non scalar values."
   ]
  },
  {
   "cell_type": "code",
   "execution_count": 24,
   "metadata": {},
   "outputs": [
    {
     "name": "stdout",
     "output_type": "stream",
     "text": [
      "There are 184 unique UN Number values out of 21042 rows\n"
     ]
    },
    {
     "data": {
      "image/png": "[encoded data removed]",
      "text/plain": [
       "<Figure size 4500x1000 with 1 Axes>"
      ]
     },
     "metadata": {},
     "output_type": "display_data"
    }
   ],
   "source": [
    "# Find unique values\n",
    "un_numbers_unique = des_trim['UN Number'].unique()\n",
    "\n",
    "# View results\n",
    "print(f'There are {len(un_numbers_unique)} unique UN Number values out of { len(des_trim)} rows' )\n",
    "create_histogram_from_column(des_trim, 'UN Number', 45, 10)"
   ]
  },
  {
   "cell_type": "markdown",
   "metadata": {},
   "source": [
    "Similar to EWC codes, UN Numbers are categorical terms with a high number of possibilities, so feature hashing can be employed to reduce the number of dimensions."
   ]
  },
  {
   "cell_type": "code",
   "execution_count": 25,
   "metadata": {},
   "outputs": [
    {
     "name": "stdout",
     "output_type": "stream",
     "text": [
      "FeatureHashingTransformer Start: (21042, 118)\n",
      "FeatureHashingTransformer: Successfully completed: UN Number\n",
      "FeatureHashingTransformer: Finished UN Number Shape: (21042, 121)\n",
      "-------------------------------------------------------------------------\n",
      "  Components and Concentrations Hazard Codes  Disposal     EWC_0     EWC_1  \\\n",
      "0      NIL HAZARDOUS COMPONENTS          N/C  PACKCARE  0.105848 -0.056756   \n",
      "1      Nil hazardous components          N/C  PACKCARE  0.105848 -0.056756   \n",
      "\n",
      "      EWC_2     EWC_3     EWC_4     EWC_5  Physical State_GAS  ...  \\\n",
      "0 -0.015773  0.096143 -0.125361 -0.065602                   0  ...   \n",
      "1 -0.015773  0.096143 -0.125361 -0.065602                   0  ...   \n",
      "\n",
      "   Description_94  Description_95  Description_96  Description_97  \\\n",
      "0        0.456144         0.03282        0.462464       -0.585005   \n",
      "1        0.456144         0.03282        0.462464       -0.585005   \n",
      "\n",
      "   Description_98  Description_99  UN Number_0  UN Number_1  UN Number_2  \\\n",
      "0       -0.608936        0.097756          0.0         -1.0          2.0   \n",
      "1       -0.608936        0.097756          0.0         -1.0          2.0   \n",
      "\n",
      "   UN Number_3  \n",
      "0         -1.0  \n",
      "1         -1.0  \n",
      "\n",
      "[2 rows x 121 columns]\n",
      "(21042, 121)\n"
     ]
    }
   ],
   "source": [
    "# Redefine params\n",
    "un_params = {\n",
    "    'un__column_name': 'UN Number',\n",
    "    'un__num_vec': 4\n",
    "}\n",
    "\n",
    "# Create a pipeline to build a model\n",
    "un_pipe = Pipeline([\n",
    "    ('un', FeatureHashingTransformer())\n",
    "])\n",
    "\n",
    "un_pipe.set_params(**un_params)\n",
    "\n",
    "# Re-run the pipeline with new estimators\n",
    "un_trim = un_pipe.fit_transform(des_trim)\n",
    "print(un_trim.head(2))\n",
    "print(un_trim.shape)"
   ]
  },
  {
   "cell_type": "markdown",
   "metadata": {},
   "source": [
    "## Components and Concentrations\n",
    "\n",
    "A list of component / concentration pairs, or if this is too complex \"As list\", or if non hazardous \"Nil Hazardous Components\".\n",
    "\n",
    "This field has chemical names and concentrations which to a human reader with some knowledge of chemistry are easy to comprehend, to capture the same level of understanding at machine learning level though will be difficult. Not withstanding the additional complication of free text entry and typographical errors, there are several naming conventions for chemical names, new/old and very old, european, american... and so on. We also find \"as list\" and \"nil hazardous components\" in this field which are legitimate terms within the boundaries of waste description, but their level of abstractness circumnavigates any methodology relating to the recognition of chemical entities. Instead we shall consider a broader scope, that more closely matching the capture of meaning or semantics.\n",
    "\n",
    "This field is rich in chemical nomenclature that form common word fragments. For example chemicals that contain one of the halogen elements, all have four character fragments such as fluo, chlo, brom, Iodo. Alkyl alcohols all contain a common term for the length of the carbon chain and end with 'anol', e.g. eth-anol, meth-anol, prop-anol. etc. Perhaps there is scope to consider fragmenting the words in this column and hoping that the most common chemical fragments will float to the top in a frequency distribution, but this asks the question of how to fragment and how many features would this create, for now we will consider only whole words, misspellings and all.\n",
    "\n",
    "The simplest approach is the adoption of a 'bag of words', without necessarily concerning ourselves with word order or relationships between them. If we treat all words in the column as being the corpus, or bag, then we can assign a position or vector for each word, then averaging these provides us with a vector for the entire sentence. The learning aspect then involves estabilishing the proximity of similar vectors and associating these with a label.\n"
   ]
  },
  {
   "cell_type": "code",
   "execution_count": 26,
   "metadata": {},
   "outputs": [
    {
     "name": "stdout",
     "output_type": "stream",
     "text": [
      "TextTransformer Start: (21042, 121)\n"
     ]
    },
    {
     "name": "stdout",
     "output_type": "stream",
     "text": [
      "TextTransformer: Successfully completed: Components and Concentrations\n",
      "TextTransformer: Finished Components and Concentrations Shape: (21042, 620)\n",
      "-------------------------------------------------------------------------\n",
      "  Hazard Codes  Disposal     EWC_0     EWC_1     EWC_2     EWC_3     EWC_4  \\\n",
      "0          N/C  PACKCARE  0.105848 -0.056756 -0.015773  0.096143 -0.125361   \n",
      "1          N/C  PACKCARE  0.105848 -0.056756 -0.015773  0.096143 -0.125361   \n",
      "\n",
      "      EWC_5  Physical State_GAS  Physical State_LIQUID  ...  \\\n",
      "0 -0.065602                   0                      0  ...   \n",
      "1 -0.065602                   0                      0  ...   \n",
      "\n",
      "   Components_and_Concentrations_490  Components_and_Concentrations_491  \\\n",
      "0                          -0.035684                          -0.016296   \n",
      "1                          -0.035684                          -0.016296   \n",
      "\n",
      "   Components_and_Concentrations_492  Components_and_Concentrations_493  \\\n",
      "0                           0.002196                           -0.02909   \n",
      "1                           0.002196                           -0.02909   \n",
      "\n",
      "   Components_and_Concentrations_494  Components_and_Concentrations_495  \\\n",
      "0                           0.072432                           0.120635   \n",
      "1                           0.072432                           0.120635   \n",
      "\n",
      "   Components_and_Concentrations_496  Components_and_Concentrations_497  \\\n",
      "0                          -0.204183                           0.011812   \n",
      "1                          -0.204183                           0.011812   \n",
      "\n",
      "   Components_and_Concentrations_498  Components_and_Concentrations_499  \n",
      "0                           0.018282                          -0.020236  \n",
      "1                           0.018282                          -0.020236  \n",
      "\n",
      "[2 rows x 620 columns]\n",
      "(21042, 620)\n"
     ]
    }
   ],
   "source": [
    "# Redefine params\n",
    "cc_params = {\n",
    "    'cc__column_name': 'Components and Concentrations',\n",
    "    'cc__isalpha': True,\n",
    "    'cc__vector_size': 500,\n",
    "    'cc__window': 10,\n",
    "    'cc__min_count': 1,\n",
    "    'cc__sg': 0\n",
    "}\n",
    "\n",
    "# Create a pipeline to build a model\n",
    "cc_pipe = Pipeline([\n",
    "    ('cc', TextTransformer())\n",
    "])\n",
    "\n",
    "cc_pipe.set_params(**cc_params)\n",
    "\n",
    "# Re-run the pipeline with new estimators\n",
    "cc_trim = cc_pipe.fit_transform(un_trim)\n",
    "print(cc_trim.head(2))\n",
    "print(cc_trim.shape)"
   ]
  },
  {
   "cell_type": "markdown",
   "metadata": {},
   "source": [
    "## Hazard Codes\n",
    "\n",
    "A list of codes relating to hazardous properties, from HP1 to HP15.\n",
    "\n",
    "Each HP code can appear once in the list, furthermore these are categorical terms so we can adopt one hot encoding."
   ]
  },
  {
   "cell_type": "code",
   "execution_count": 27,
   "metadata": {},
   "outputs": [
    {
     "name": "stdout",
     "output_type": "stream",
     "text": [
      "OneHotTokenTransformer Start: (21042, 620)\n",
      "OneHotTokenTransformer: Successfully completed: Hazard Codes\n",
      "OneHotTokenTransformer: Finished Hazard Codes Shape: (21042, 636)\n",
      "-------------------------------------------------------------------------\n",
      "   Disposal     EWC_0     EWC_1     EWC_2     EWC_3     EWC_4     EWC_5  \\\n",
      "0  PACKCARE  0.105848 -0.056756 -0.015773  0.096143 -0.125361 -0.065602   \n",
      "1  PACKCARE  0.105848 -0.056756 -0.015773  0.096143 -0.125361 -0.065602   \n",
      "\n",
      "   Physical State_GAS  Physical State_LIQUID  Physical State_LIQUID   ...  \\\n",
      "0                   0                      0                       0  ...   \n",
      "1                   0                      0                       0  ...   \n",
      "\n",
      "   HP8  HP9  HP10  HP11  HP12  HP13  HP14  HP15  NC  POP  \n",
      "0    0    0     0     0     0     0     0     0   0    0  \n",
      "1    0    0     0     0     0     0     0     0   0    0  \n",
      "\n",
      "[2 rows x 636 columns]\n",
      "(21042, 636)\n"
     ]
    }
   ],
   "source": [
    "# A list of all legitimate values in the Hazard Codes column\n",
    "hp_codes = ['HP1','HP2','HP3','HP4','HP5','HP6','HP7','HP8','HP9','HP10','HP11','HP12','HP13','HP14','HP15', 'NC','POP']\n",
    "# Redefine params\n",
    "hp_params = {\n",
    "    'hp__column_name': 'Hazard Codes',\n",
    "    'hp__tokens': hp_codes\n",
    "}\n",
    "\n",
    "# Create a pipeline to build a model\n",
    "hp_pipe = Pipeline([\n",
    "    ('hp', OneHotTokenTransformer())\n",
    "])\n",
    "\n",
    "hp_pipe.set_params(**hp_params)\n",
    "\n",
    "# Re-run the pipeline with new estimators\n",
    "hp_trim = hp_pipe.fit_transform(cc_trim)\n",
    "print(hp_trim.head(2))\n",
    "print(hp_trim.shape)"
   ]
  },
  {
   "cell_type": "markdown",
   "metadata": {},
   "source": [
    "## Combining Everything\n",
    "\n",
    "Having looked at all feature columns and tested them as individual segments, we can now combine them all into one pipeline."
   ]
  },
  {
   "cell_type": "code",
   "execution_count": 28,
   "metadata": {},
   "outputs": [],
   "source": [
    "combined_params = {\n",
    "    'rt__min_count': 5,\n",
    "    'ct__filename': 'data/labels.xlsx',\n",
    "    'et__column_name': 'EWC',\n",
    "    'et__isalpha': False,\n",
    "    'et__vector_size': 1,\n",
    "    'et__window': 10,\n",
    "    'et__min_count': 1,\n",
    "    'et__sg': 1,\n",
    "    'ps__column_name':'Physical_State',\n",
    "    'cl__column_name':'Disposal',\n",
    "    'tt__column_name': 'Description',\n",
    "    'tt__isalpha': True,\n",
    "    'tt__vector_size': 100,\n",
    "    'tt__window': 10,\n",
    "    'tt__min_count': 1,\n",
    "    'tt__sg': 1,\n",
    "    'un__column_name': 'UN_Number',\n",
    "    'un__num_vec': 4,\n",
    "    'cc__column_name': 'Components_and_Concentrations',\n",
    "    'cc__isalpha': True,\n",
    "    'cc__vector_size': 500,\n",
    "    'cc__window': 10,\n",
    "    'cc__min_count': 1,\n",
    "    'cc__sg': 1,\n",
    "    'hp__column_name': 'Hazard_Codes',\n",
    "    'hp__classes': hp_codes\n",
    "}\n",
    "\n",
    "combined_params = {\n",
    "    'rt__min_count': 5,\n",
    "    'ct__filename': 'data/labels.xlsx',\n",
    "    'et__column_name': 'EWC',\n",
    "    'et__isalpha': False,\n",
    "    'et__vector_size': [1,6],\n",
    "    'et__window': 10,\n",
    "    'et__min_count': 1,\n",
    "    'et__sg': [0, 1],\n",
    "    'ps__column_name':'Physical_State',\n",
    "    'ps__isalpha': True,\n",
    "    'ps__vector_size': [1,6],\n",
    "    'ps__window': 10,\n",
    "    'ps__min_count': 1,\n",
    "    'ps__sg': [0, 1],\n",
    "    'cl__column_name':'Disposal',\n",
    "    'tt__column_name': 'Description',\n",
    "    'tt__isalpha': True,\n",
    "    'tt__vector_size': [100, 200],\n",
    "    'tt__window': 10,\n",
    "    'tt__min_count': 1,\n",
    "    'tt__sg': [0, 1],\n",
    "    'un__column_name': 'UN_Number',\n",
    "    'un__isalpha': False,\n",
    "    'un__vector_size': 1,\n",
    "    'un__window': 10,\n",
    "    'un__min_count': 1,\n",
    "    'un__sg': [0, 1],\n",
    "    'cc__column_name': 'Components_and_Concentrations',\n",
    "    'cc__isalpha': True,\n",
    "    'cc__vector_size': [500, 800],\n",
    "    'cc__window': 10,\n",
    "    'cc__min_count': 1,\n",
    "    'cc__sg': [0, 1],\n",
    "    'hp__column_name': 'Hazard_Codes',\n",
    "    'hp__classes': hp_codes,\n",
    "    'rf__n_estimators': [100, 200, 600],\n",
    "    'rf__max_depth': [None, 1, 10],\n",
    "    'rf__min_samples_split': [2, 10],\n",
    "    'rf__min_samples_leaf': [2, 10],\n",
    "    'rf__random_state': [2, 42]\n",
    "}\n",
    "\n",
    "\n",
    "# Create a pipeline to build a model \n",
    "pipeline = Pipeline([\n",
    "    ('rt', RowTrimmer()),\n",
    "    ('cn', CleanColumnNamesTransformer()),\n",
    "    ('ct', ColumnTrimmer()),\n",
    "    ('et', TextTransformer()),\n",
    "    ('ps', OneHotTransformer()),\n",
    "    ('cl', IndexTransformer()),\n",
    "    ('tt', TextTransformer()),\n",
    "    ('un', FeatureHashingTransformer()),\n",
    "    ('cc', TextTransformer()),\n",
    "    ('hp', OneHotTokenTransformer())\n",
    "])\n"
   ]
  },
  {
   "cell_type": "markdown",
   "metadata": {},
   "source": [
    "## Cross Validation"
   ]
  },
  {
   "cell_type": "code",
   "execution_count": 29,
   "metadata": {},
   "outputs": [],
   "source": [
    "df_raw = pd.read_csv(\"data/raw3.csv\")\n"
   ]
  },
  {
   "cell_type": "code",
   "execution_count": 30,
   "metadata": {},
   "outputs": [
    {
     "name": "stdout",
     "output_type": "stream",
     "text": [
      "(21045, 41)\n",
      "(21045,)\n"
     ]
    }
   ],
   "source": [
    "# A list of all legitimate values in the Hazard Codes column\n",
    "hp_codes = ['HP1','HP2','HP3','HP4','HP5','HP6','HP7','HP8','HP9','HP10','HP11','HP12','HP13','HP14','HP15', 'NC','POP']\n",
    "physical_states = ['SOLID','SLUDGE','LIQUID','GAS','MIXED','POWDER']\n",
    "\n",
    "from sklearn.compose import ColumnTransformer\n",
    "from sklearn.model_selection import cross_val_score\n",
    "\n",
    "# Define the training set, typically called X\n",
    "X = df_raw.drop('Disposal', axis=1)\n",
    "print(X.shape)\n",
    "\n",
    "# Define a column of labels\n",
    "y = df_raw['Disposal']\n",
    "print(y.shape)"
   ]
  },
  {
   "cell_type": "code",
   "execution_count": 31,
   "metadata": {},
   "outputs": [],
   "source": [
    "\n",
    "#cross_val_score(pipeline2,X,y,cv=5,scoring='accuracy', error_score=\"raise\")\n",
    "# Re-run the pipeline with new estimators\n",
    "#df_with_vectors = pipeline.fit_transform(df_raw)\n",
    "#print(df_with_vectors.shape)"
   ]
  },
  {
   "cell_type": "code",
   "execution_count": 32,
   "metadata": {},
   "outputs": [],
   "source": [
    "cv_params = {\n",
    "    #'preprocessor__ewc__column_name': 'EWC',\n",
    "    #'preprocessor__ewc__isalpha': False,\n",
    "    #'preprocessor__ewc__vector_size': [6],\n",
    "    #'preprocessor__ewc__window': 10,\n",
    "    #'preprocessor__ewc__min_count': 1,\n",
    "    'preprocessor__ewc__sg': [0, 1],\n",
    "    #'preprocessor__phy__column_name':'Physical State',\n",
    "    #'preprocessor__phy__tokens': physical_states,\n",
    "    #'preprocessor__des__column_name': 'Description',\n",
    "    #'preprocessor__des__isalpha': True,\n",
    "    'preprocessor__des__vector_size': [100, 200],\n",
    "    #'preprocessor__des__window': 10,\n",
    "    #'preprocessor__des__min_count': 1,\n",
    "    'preprocessor__des__sg': [0, 1],\n",
    "    #'preprocessor__unn__column_name': 'UN Number',\n",
    "    #'preprocessor__cnc__column_name': 'Components and Concentrations',\n",
    "    #'preprocessor__cnc__isalpha': True,\n",
    "    'preprocessor__cnc__vector_size': [500, 700],\n",
    "    #'preprocessor__cnc__window': 10,\n",
    "    #'preprocessor__cnc__min_count': 1,\n",
    "    'preprocessor__cnc__sg': [0, 1],\n",
    "    #'preprocessor__haz__column_name': 'Hazard Codes',\n",
    "    #'preprocessor__haz__tokens': hp_codes,\n",
    "    'classifier__n_estimators': [600, 700]\n",
    "    #'classifier__max_depth': [None, 1, 10],\n",
    "    #'classifier__min_samples_split': [2, 10],\n",
    "    #'classifier__min_samples_leaf': [2, 10],\n",
    "    #'classifier__random_state': [2, 42]\n",
    "}"
   ]
  },
  {
   "cell_type": "code",
   "execution_count": 46,
   "metadata": {},
   "outputs": [
    {
     "ename": "ValueError",
     "evalue": "could not convert string to float: ''",
     "output_type": "error",
     "traceback": [
      "\u001b[1;31m---------------------------------------------------------------------------\u001b[0m",
      "\u001b[1;31mValueError\u001b[0m                                Traceback (most recent call last)",
      "\u001b[1;32m~\\AppData\\Local\\Temp\\ipykernel_21956\\319746631.py\u001b[0m in \u001b[0;36m<module>\u001b[1;34m\u001b[0m\n\u001b[0;32m     28\u001b[0m \u001b[0mskf\u001b[0m \u001b[1;33m=\u001b[0m \u001b[0mStratifiedKFold\u001b[0m\u001b[1;33m(\u001b[0m\u001b[1;36m5\u001b[0m\u001b[1;33m,\u001b[0m \u001b[0mshuffle\u001b[0m\u001b[1;33m=\u001b[0m\u001b[1;32mTrue\u001b[0m\u001b[1;33m,\u001b[0m \u001b[0mrandom_state\u001b[0m\u001b[1;33m=\u001b[0m\u001b[1;36m1\u001b[0m\u001b[1;33m)\u001b[0m\u001b[1;33m\u001b[0m\u001b[1;33m\u001b[0m\u001b[0m\n\u001b[0;32m     29\u001b[0m \u001b[1;33m\u001b[0m\u001b[0m\n\u001b[1;32m---> 30\u001b[1;33m \u001b[0mcross_val_score\u001b[0m\u001b[1;33m(\u001b[0m\u001b[0mpipe\u001b[0m\u001b[1;33m,\u001b[0m \u001b[0mX\u001b[0m\u001b[1;33m,\u001b[0m \u001b[0my\u001b[0m\u001b[1;33m,\u001b[0m \u001b[0mcv\u001b[0m\u001b[1;33m=\u001b[0m\u001b[0mskf\u001b[0m\u001b[1;33m,\u001b[0m \u001b[0mscoring\u001b[0m\u001b[1;33m=\u001b[0m\u001b[1;34m'roc_auc_ovr'\u001b[0m\u001b[1;33m,\u001b[0m \u001b[0merror_score\u001b[0m\u001b[1;33m=\u001b[0m\u001b[1;34m\"raise\"\u001b[0m\u001b[1;33m)\u001b[0m\u001b[1;33m\u001b[0m\u001b[1;33m\u001b[0m\u001b[0m\n\u001b[0m",
      "\u001b[1;32mc:\\Users\\User\\anaconda3\\lib\\site-packages\\sklearn\\model_selection\\_validation.py\u001b[0m in \u001b[0;36mcross_val_score\u001b[1;34m(estimator, X, y, groups, scoring, cv, n_jobs, verbose, fit_params, pre_dispatch, error_score)\u001b[0m\n\u001b[0;32m    507\u001b[0m     \u001b[0mscorer\u001b[0m \u001b[1;33m=\u001b[0m \u001b[0mcheck_scoring\u001b[0m\u001b[1;33m(\u001b[0m\u001b[0mestimator\u001b[0m\u001b[1;33m,\u001b[0m \u001b[0mscoring\u001b[0m\u001b[1;33m=\u001b[0m\u001b[0mscoring\u001b[0m\u001b[1;33m)\u001b[0m\u001b[1;33m\u001b[0m\u001b[1;33m\u001b[0m\u001b[0m\n\u001b[0;32m    508\u001b[0m \u001b[1;33m\u001b[0m\u001b[0m\n\u001b[1;32m--> 509\u001b[1;33m     cv_results = cross_validate(\n\u001b[0m\u001b[0;32m    510\u001b[0m         \u001b[0mestimator\u001b[0m\u001b[1;33m=\u001b[0m\u001b[0mestimator\u001b[0m\u001b[1;33m,\u001b[0m\u001b[1;33m\u001b[0m\u001b[1;33m\u001b[0m\u001b[0m\n\u001b[0;32m    511\u001b[0m         \u001b[0mX\u001b[0m\u001b[1;33m=\u001b[0m\u001b[0mX\u001b[0m\u001b[1;33m,\u001b[0m\u001b[1;33m\u001b[0m\u001b[1;33m\u001b[0m\u001b[0m\n",
      "\u001b[1;32mc:\\Users\\User\\anaconda3\\lib\\site-packages\\sklearn\\model_selection\\_validation.py\u001b[0m in \u001b[0;36mcross_validate\u001b[1;34m(estimator, X, y, groups, scoring, cv, n_jobs, verbose, fit_params, pre_dispatch, return_train_score, return_estimator, error_score)\u001b[0m\n\u001b[0;32m    265\u001b[0m     \u001b[1;31m# independent, and that it is pickle-able.\u001b[0m\u001b[1;33m\u001b[0m\u001b[1;33m\u001b[0m\u001b[0m\n\u001b[0;32m    266\u001b[0m     \u001b[0mparallel\u001b[0m \u001b[1;33m=\u001b[0m \u001b[0mParallel\u001b[0m\u001b[1;33m(\u001b[0m\u001b[0mn_jobs\u001b[0m\u001b[1;33m=\u001b[0m\u001b[0mn_jobs\u001b[0m\u001b[1;33m,\u001b[0m \u001b[0mverbose\u001b[0m\u001b[1;33m=\u001b[0m\u001b[0mverbose\u001b[0m\u001b[1;33m,\u001b[0m \u001b[0mpre_dispatch\u001b[0m\u001b[1;33m=\u001b[0m\u001b[0mpre_dispatch\u001b[0m\u001b[1;33m)\u001b[0m\u001b[1;33m\u001b[0m\u001b[1;33m\u001b[0m\u001b[0m\n\u001b[1;32m--> 267\u001b[1;33m     results = parallel(\n\u001b[0m\u001b[0;32m    268\u001b[0m         delayed(_fit_and_score)(\n\u001b[0;32m    269\u001b[0m             \u001b[0mclone\u001b[0m\u001b[1;33m(\u001b[0m\u001b[0mestimator\u001b[0m\u001b[1;33m)\u001b[0m\u001b[1;33m,\u001b[0m\u001b[1;33m\u001b[0m\u001b[1;33m\u001b[0m\u001b[0m\n",
      "\u001b[1;32mc:\\Users\\User\\anaconda3\\lib\\site-packages\\joblib\\parallel.py\u001b[0m in \u001b[0;36m__call__\u001b[1;34m(self, iterable)\u001b[0m\n\u001b[0;32m   1046\u001b[0m             \u001b[1;31m# remaining jobs.\u001b[0m\u001b[1;33m\u001b[0m\u001b[1;33m\u001b[0m\u001b[0m\n\u001b[0;32m   1047\u001b[0m             \u001b[0mself\u001b[0m\u001b[1;33m.\u001b[0m\u001b[0m_iterating\u001b[0m \u001b[1;33m=\u001b[0m \u001b[1;32mFalse\u001b[0m\u001b[1;33m\u001b[0m\u001b[1;33m\u001b[0m\u001b[0m\n\u001b[1;32m-> 1048\u001b[1;33m             \u001b[1;32mif\u001b[0m \u001b[0mself\u001b[0m\u001b[1;33m.\u001b[0m\u001b[0mdispatch_one_batch\u001b[0m\u001b[1;33m(\u001b[0m\u001b[0miterator\u001b[0m\u001b[1;33m)\u001b[0m\u001b[1;33m:\u001b[0m\u001b[1;33m\u001b[0m\u001b[1;33m\u001b[0m\u001b[0m\n\u001b[0m\u001b[0;32m   1049\u001b[0m                 \u001b[0mself\u001b[0m\u001b[1;33m.\u001b[0m\u001b[0m_iterating\u001b[0m \u001b[1;33m=\u001b[0m \u001b[0mself\u001b[0m\u001b[1;33m.\u001b[0m\u001b[0m_original_iterator\u001b[0m \u001b[1;32mis\u001b[0m \u001b[1;32mnot\u001b[0m \u001b[1;32mNone\u001b[0m\u001b[1;33m\u001b[0m\u001b[1;33m\u001b[0m\u001b[0m\n\u001b[0;32m   1050\u001b[0m \u001b[1;33m\u001b[0m\u001b[0m\n",
      "\u001b[1;32mc:\\Users\\User\\anaconda3\\lib\\site-packages\\joblib\\parallel.py\u001b[0m in \u001b[0;36mdispatch_one_batch\u001b[1;34m(self, iterator)\u001b[0m\n\u001b[0;32m    862\u001b[0m                 \u001b[1;32mreturn\u001b[0m \u001b[1;32mFalse\u001b[0m\u001b[1;33m\u001b[0m\u001b[1;33m\u001b[0m\u001b[0m\n\u001b[0;32m    863\u001b[0m             \u001b[1;32melse\u001b[0m\u001b[1;33m:\u001b[0m\u001b[1;33m\u001b[0m\u001b[1;33m\u001b[0m\u001b[0m\n\u001b[1;32m--> 864\u001b[1;33m                 \u001b[0mself\u001b[0m\u001b[1;33m.\u001b[0m\u001b[0m_dispatch\u001b[0m\u001b[1;33m(\u001b[0m\u001b[0mtasks\u001b[0m\u001b[1;33m)\u001b[0m\u001b[1;33m\u001b[0m\u001b[1;33m\u001b[0m\u001b[0m\n\u001b[0m\u001b[0;32m    865\u001b[0m                 \u001b[1;32mreturn\u001b[0m \u001b[1;32mTrue\u001b[0m\u001b[1;33m\u001b[0m\u001b[1;33m\u001b[0m\u001b[0m\n\u001b[0;32m    866\u001b[0m \u001b[1;33m\u001b[0m\u001b[0m\n",
      "\u001b[1;32mc:\\Users\\User\\anaconda3\\lib\\site-packages\\joblib\\parallel.py\u001b[0m in \u001b[0;36m_dispatch\u001b[1;34m(self, batch)\u001b[0m\n\u001b[0;32m    780\u001b[0m         \u001b[1;32mwith\u001b[0m \u001b[0mself\u001b[0m\u001b[1;33m.\u001b[0m\u001b[0m_lock\u001b[0m\u001b[1;33m:\u001b[0m\u001b[1;33m\u001b[0m\u001b[1;33m\u001b[0m\u001b[0m\n\u001b[0;32m    781\u001b[0m             \u001b[0mjob_idx\u001b[0m \u001b[1;33m=\u001b[0m \u001b[0mlen\u001b[0m\u001b[1;33m(\u001b[0m\u001b[0mself\u001b[0m\u001b[1;33m.\u001b[0m\u001b[0m_jobs\u001b[0m\u001b[1;33m)\u001b[0m\u001b[1;33m\u001b[0m\u001b[1;33m\u001b[0m\u001b[0m\n\u001b[1;32m--> 782\u001b[1;33m             \u001b[0mjob\u001b[0m \u001b[1;33m=\u001b[0m \u001b[0mself\u001b[0m\u001b[1;33m.\u001b[0m\u001b[0m_backend\u001b[0m\u001b[1;33m.\u001b[0m\u001b[0mapply_async\u001b[0m\u001b[1;33m(\u001b[0m\u001b[0mbatch\u001b[0m\u001b[1;33m,\u001b[0m \u001b[0mcallback\u001b[0m\u001b[1;33m=\u001b[0m\u001b[0mcb\u001b[0m\u001b[1;33m)\u001b[0m\u001b[1;33m\u001b[0m\u001b[1;33m\u001b[0m\u001b[0m\n\u001b[0m\u001b[0;32m    783\u001b[0m             \u001b[1;31m# A job can complete so quickly than its callback is\u001b[0m\u001b[1;33m\u001b[0m\u001b[1;33m\u001b[0m\u001b[0m\n\u001b[0;32m    784\u001b[0m             \u001b[1;31m# called before we get here, causing self._jobs to\u001b[0m\u001b[1;33m\u001b[0m\u001b[1;33m\u001b[0m\u001b[0m\n",
      "\u001b[1;32mc:\\Users\\User\\anaconda3\\lib\\site-packages\\joblib\\_parallel_backends.py\u001b[0m in \u001b[0;36mapply_async\u001b[1;34m(self, func, callback)\u001b[0m\n\u001b[0;32m    206\u001b[0m     \u001b[1;32mdef\u001b[0m \u001b[0mapply_async\u001b[0m\u001b[1;33m(\u001b[0m\u001b[0mself\u001b[0m\u001b[1;33m,\u001b[0m \u001b[0mfunc\u001b[0m\u001b[1;33m,\u001b[0m \u001b[0mcallback\u001b[0m\u001b[1;33m=\u001b[0m\u001b[1;32mNone\u001b[0m\u001b[1;33m)\u001b[0m\u001b[1;33m:\u001b[0m\u001b[1;33m\u001b[0m\u001b[1;33m\u001b[0m\u001b[0m\n\u001b[0;32m    207\u001b[0m         \u001b[1;34m\"\"\"Schedule a func to be run\"\"\"\u001b[0m\u001b[1;33m\u001b[0m\u001b[1;33m\u001b[0m\u001b[0m\n\u001b[1;32m--> 208\u001b[1;33m         \u001b[0mresult\u001b[0m \u001b[1;33m=\u001b[0m \u001b[0mImmediateResult\u001b[0m\u001b[1;33m(\u001b[0m\u001b[0mfunc\u001b[0m\u001b[1;33m)\u001b[0m\u001b[1;33m\u001b[0m\u001b[1;33m\u001b[0m\u001b[0m\n\u001b[0m\u001b[0;32m    209\u001b[0m         \u001b[1;32mif\u001b[0m \u001b[0mcallback\u001b[0m\u001b[1;33m:\u001b[0m\u001b[1;33m\u001b[0m\u001b[1;33m\u001b[0m\u001b[0m\n\u001b[0;32m    210\u001b[0m             \u001b[0mcallback\u001b[0m\u001b[1;33m(\u001b[0m\u001b[0mresult\u001b[0m\u001b[1;33m)\u001b[0m\u001b[1;33m\u001b[0m\u001b[1;33m\u001b[0m\u001b[0m\n",
      "\u001b[1;32mc:\\Users\\User\\anaconda3\\lib\\site-packages\\joblib\\_parallel_backends.py\u001b[0m in \u001b[0;36m__init__\u001b[1;34m(self, batch)\u001b[0m\n\u001b[0;32m    570\u001b[0m         \u001b[1;31m# Don't delay the application, to avoid keeping the input\u001b[0m\u001b[1;33m\u001b[0m\u001b[1;33m\u001b[0m\u001b[0m\n\u001b[0;32m    571\u001b[0m         \u001b[1;31m# arguments in memory\u001b[0m\u001b[1;33m\u001b[0m\u001b[1;33m\u001b[0m\u001b[0m\n\u001b[1;32m--> 572\u001b[1;33m         \u001b[0mself\u001b[0m\u001b[1;33m.\u001b[0m\u001b[0mresults\u001b[0m \u001b[1;33m=\u001b[0m \u001b[0mbatch\u001b[0m\u001b[1;33m(\u001b[0m\u001b[1;33m)\u001b[0m\u001b[1;33m\u001b[0m\u001b[1;33m\u001b[0m\u001b[0m\n\u001b[0m\u001b[0;32m    573\u001b[0m \u001b[1;33m\u001b[0m\u001b[0m\n\u001b[0;32m    574\u001b[0m     \u001b[1;32mdef\u001b[0m \u001b[0mget\u001b[0m\u001b[1;33m(\u001b[0m\u001b[0mself\u001b[0m\u001b[1;33m)\u001b[0m\u001b[1;33m:\u001b[0m\u001b[1;33m\u001b[0m\u001b[1;33m\u001b[0m\u001b[0m\n",
      "\u001b[1;32mc:\\Users\\User\\anaconda3\\lib\\site-packages\\joblib\\parallel.py\u001b[0m in \u001b[0;36m__call__\u001b[1;34m(self)\u001b[0m\n\u001b[0;32m    261\u001b[0m         \u001b[1;31m# change the default number of processes to -1\u001b[0m\u001b[1;33m\u001b[0m\u001b[1;33m\u001b[0m\u001b[0m\n\u001b[0;32m    262\u001b[0m         \u001b[1;32mwith\u001b[0m \u001b[0mparallel_backend\u001b[0m\u001b[1;33m(\u001b[0m\u001b[0mself\u001b[0m\u001b[1;33m.\u001b[0m\u001b[0m_backend\u001b[0m\u001b[1;33m,\u001b[0m \u001b[0mn_jobs\u001b[0m\u001b[1;33m=\u001b[0m\u001b[0mself\u001b[0m\u001b[1;33m.\u001b[0m\u001b[0m_n_jobs\u001b[0m\u001b[1;33m)\u001b[0m\u001b[1;33m:\u001b[0m\u001b[1;33m\u001b[0m\u001b[1;33m\u001b[0m\u001b[0m\n\u001b[1;32m--> 263\u001b[1;33m             return [func(*args, **kwargs)\n\u001b[0m\u001b[0;32m    264\u001b[0m                     for func, args, kwargs in self.items]\n\u001b[0;32m    265\u001b[0m \u001b[1;33m\u001b[0m\u001b[0m\n",
      "\u001b[1;32mc:\\Users\\User\\anaconda3\\lib\\site-packages\\joblib\\parallel.py\u001b[0m in \u001b[0;36m<listcomp>\u001b[1;34m(.0)\u001b[0m\n\u001b[0;32m    261\u001b[0m         \u001b[1;31m# change the default number of processes to -1\u001b[0m\u001b[1;33m\u001b[0m\u001b[1;33m\u001b[0m\u001b[0m\n\u001b[0;32m    262\u001b[0m         \u001b[1;32mwith\u001b[0m \u001b[0mparallel_backend\u001b[0m\u001b[1;33m(\u001b[0m\u001b[0mself\u001b[0m\u001b[1;33m.\u001b[0m\u001b[0m_backend\u001b[0m\u001b[1;33m,\u001b[0m \u001b[0mn_jobs\u001b[0m\u001b[1;33m=\u001b[0m\u001b[0mself\u001b[0m\u001b[1;33m.\u001b[0m\u001b[0m_n_jobs\u001b[0m\u001b[1;33m)\u001b[0m\u001b[1;33m:\u001b[0m\u001b[1;33m\u001b[0m\u001b[1;33m\u001b[0m\u001b[0m\n\u001b[1;32m--> 263\u001b[1;33m             return [func(*args, **kwargs)\n\u001b[0m\u001b[0;32m    264\u001b[0m                     for func, args, kwargs in self.items]\n\u001b[0;32m    265\u001b[0m \u001b[1;33m\u001b[0m\u001b[0m\n",
      "\u001b[1;32mc:\\Users\\User\\anaconda3\\lib\\site-packages\\sklearn\\utils\\fixes.py\u001b[0m in \u001b[0;36m__call__\u001b[1;34m(self, *args, **kwargs)\u001b[0m\n\u001b[0;32m    214\u001b[0m     \u001b[1;32mdef\u001b[0m \u001b[0m__call__\u001b[0m\u001b[1;33m(\u001b[0m\u001b[0mself\u001b[0m\u001b[1;33m,\u001b[0m \u001b[1;33m*\u001b[0m\u001b[0margs\u001b[0m\u001b[1;33m,\u001b[0m \u001b[1;33m**\u001b[0m\u001b[0mkwargs\u001b[0m\u001b[1;33m)\u001b[0m\u001b[1;33m:\u001b[0m\u001b[1;33m\u001b[0m\u001b[1;33m\u001b[0m\u001b[0m\n\u001b[0;32m    215\u001b[0m         \u001b[1;32mwith\u001b[0m \u001b[0mconfig_context\u001b[0m\u001b[1;33m(\u001b[0m\u001b[1;33m**\u001b[0m\u001b[0mself\u001b[0m\u001b[1;33m.\u001b[0m\u001b[0mconfig\u001b[0m\u001b[1;33m)\u001b[0m\u001b[1;33m:\u001b[0m\u001b[1;33m\u001b[0m\u001b[1;33m\u001b[0m\u001b[0m\n\u001b[1;32m--> 216\u001b[1;33m             \u001b[1;32mreturn\u001b[0m \u001b[0mself\u001b[0m\u001b[1;33m.\u001b[0m\u001b[0mfunction\u001b[0m\u001b[1;33m(\u001b[0m\u001b[1;33m*\u001b[0m\u001b[0margs\u001b[0m\u001b[1;33m,\u001b[0m \u001b[1;33m**\u001b[0m\u001b[0mkwargs\u001b[0m\u001b[1;33m)\u001b[0m\u001b[1;33m\u001b[0m\u001b[1;33m\u001b[0m\u001b[0m\n\u001b[0m\u001b[0;32m    217\u001b[0m \u001b[1;33m\u001b[0m\u001b[0m\n\u001b[0;32m    218\u001b[0m \u001b[1;33m\u001b[0m\u001b[0m\n",
      "\u001b[1;32mc:\\Users\\User\\anaconda3\\lib\\site-packages\\sklearn\\model_selection\\_validation.py\u001b[0m in \u001b[0;36m_fit_and_score\u001b[1;34m(estimator, X, y, scorer, train, test, verbose, parameters, fit_params, return_train_score, return_parameters, return_n_test_samples, return_times, return_estimator, split_progress, candidate_progress, error_score)\u001b[0m\n\u001b[0;32m    678\u001b[0m             \u001b[0mestimator\u001b[0m\u001b[1;33m.\u001b[0m\u001b[0mfit\u001b[0m\u001b[1;33m(\u001b[0m\u001b[0mX_train\u001b[0m\u001b[1;33m,\u001b[0m \u001b[1;33m**\u001b[0m\u001b[0mfit_params\u001b[0m\u001b[1;33m)\u001b[0m\u001b[1;33m\u001b[0m\u001b[1;33m\u001b[0m\u001b[0m\n\u001b[0;32m    679\u001b[0m         \u001b[1;32melse\u001b[0m\u001b[1;33m:\u001b[0m\u001b[1;33m\u001b[0m\u001b[1;33m\u001b[0m\u001b[0m\n\u001b[1;32m--> 680\u001b[1;33m             \u001b[0mestimator\u001b[0m\u001b[1;33m.\u001b[0m\u001b[0mfit\u001b[0m\u001b[1;33m(\u001b[0m\u001b[0mX_train\u001b[0m\u001b[1;33m,\u001b[0m \u001b[0my_train\u001b[0m\u001b[1;33m,\u001b[0m \u001b[1;33m**\u001b[0m\u001b[0mfit_params\u001b[0m\u001b[1;33m)\u001b[0m\u001b[1;33m\u001b[0m\u001b[1;33m\u001b[0m\u001b[0m\n\u001b[0m\u001b[0;32m    681\u001b[0m \u001b[1;33m\u001b[0m\u001b[0m\n\u001b[0;32m    682\u001b[0m     \u001b[1;32mexcept\u001b[0m \u001b[0mException\u001b[0m\u001b[1;33m:\u001b[0m\u001b[1;33m\u001b[0m\u001b[1;33m\u001b[0m\u001b[0m\n",
      "\u001b[1;32mc:\\Users\\User\\anaconda3\\lib\\site-packages\\sklearn\\pipeline.py\u001b[0m in \u001b[0;36mfit\u001b[1;34m(self, X, y, **fit_params)\u001b[0m\n\u001b[0;32m    392\u001b[0m             \u001b[1;32mif\u001b[0m \u001b[0mself\u001b[0m\u001b[1;33m.\u001b[0m\u001b[0m_final_estimator\u001b[0m \u001b[1;33m!=\u001b[0m \u001b[1;34m\"passthrough\"\u001b[0m\u001b[1;33m:\u001b[0m\u001b[1;33m\u001b[0m\u001b[1;33m\u001b[0m\u001b[0m\n\u001b[0;32m    393\u001b[0m                 \u001b[0mfit_params_last_step\u001b[0m \u001b[1;33m=\u001b[0m \u001b[0mfit_params_steps\u001b[0m\u001b[1;33m[\u001b[0m\u001b[0mself\u001b[0m\u001b[1;33m.\u001b[0m\u001b[0msteps\u001b[0m\u001b[1;33m[\u001b[0m\u001b[1;33m-\u001b[0m\u001b[1;36m1\u001b[0m\u001b[1;33m]\u001b[0m\u001b[1;33m[\u001b[0m\u001b[1;36m0\u001b[0m\u001b[1;33m]\u001b[0m\u001b[1;33m]\u001b[0m\u001b[1;33m\u001b[0m\u001b[1;33m\u001b[0m\u001b[0m\n\u001b[1;32m--> 394\u001b[1;33m                 \u001b[0mself\u001b[0m\u001b[1;33m.\u001b[0m\u001b[0m_final_estimator\u001b[0m\u001b[1;33m.\u001b[0m\u001b[0mfit\u001b[0m\u001b[1;33m(\u001b[0m\u001b[0mXt\u001b[0m\u001b[1;33m,\u001b[0m \u001b[0my\u001b[0m\u001b[1;33m,\u001b[0m \u001b[1;33m**\u001b[0m\u001b[0mfit_params_last_step\u001b[0m\u001b[1;33m)\u001b[0m\u001b[1;33m\u001b[0m\u001b[1;33m\u001b[0m\u001b[0m\n\u001b[0m\u001b[0;32m    395\u001b[0m \u001b[1;33m\u001b[0m\u001b[0m\n\u001b[0;32m    396\u001b[0m         \u001b[1;32mreturn\u001b[0m \u001b[0mself\u001b[0m\u001b[1;33m\u001b[0m\u001b[1;33m\u001b[0m\u001b[0m\n",
      "\u001b[1;32mc:\\Users\\User\\anaconda3\\lib\\site-packages\\sklearn\\ensemble\\_forest.py\u001b[0m in \u001b[0;36mfit\u001b[1;34m(self, X, y, sample_weight)\u001b[0m\n\u001b[0;32m    325\u001b[0m         \u001b[1;32mif\u001b[0m \u001b[0missparse\u001b[0m\u001b[1;33m(\u001b[0m\u001b[0my\u001b[0m\u001b[1;33m)\u001b[0m\u001b[1;33m:\u001b[0m\u001b[1;33m\u001b[0m\u001b[1;33m\u001b[0m\u001b[0m\n\u001b[0;32m    326\u001b[0m             \u001b[1;32mraise\u001b[0m \u001b[0mValueError\u001b[0m\u001b[1;33m(\u001b[0m\u001b[1;34m\"sparse multilabel-indicator for y is not supported.\"\u001b[0m\u001b[1;33m)\u001b[0m\u001b[1;33m\u001b[0m\u001b[1;33m\u001b[0m\u001b[0m\n\u001b[1;32m--> 327\u001b[1;33m         X, y = self._validate_data(\n\u001b[0m\u001b[0;32m    328\u001b[0m             \u001b[0mX\u001b[0m\u001b[1;33m,\u001b[0m \u001b[0my\u001b[0m\u001b[1;33m,\u001b[0m \u001b[0mmulti_output\u001b[0m\u001b[1;33m=\u001b[0m\u001b[1;32mTrue\u001b[0m\u001b[1;33m,\u001b[0m \u001b[0maccept_sparse\u001b[0m\u001b[1;33m=\u001b[0m\u001b[1;34m\"csc\"\u001b[0m\u001b[1;33m,\u001b[0m \u001b[0mdtype\u001b[0m\u001b[1;33m=\u001b[0m\u001b[0mDTYPE\u001b[0m\u001b[1;33m\u001b[0m\u001b[1;33m\u001b[0m\u001b[0m\n\u001b[0;32m    329\u001b[0m         )\n",
      "\u001b[1;32mc:\\Users\\User\\anaconda3\\lib\\site-packages\\sklearn\\base.py\u001b[0m in \u001b[0;36m_validate_data\u001b[1;34m(self, X, y, reset, validate_separately, **check_params)\u001b[0m\n\u001b[0;32m    579\u001b[0m                 \u001b[0my\u001b[0m \u001b[1;33m=\u001b[0m \u001b[0mcheck_array\u001b[0m\u001b[1;33m(\u001b[0m\u001b[0my\u001b[0m\u001b[1;33m,\u001b[0m \u001b[1;33m**\u001b[0m\u001b[0mcheck_y_params\u001b[0m\u001b[1;33m)\u001b[0m\u001b[1;33m\u001b[0m\u001b[1;33m\u001b[0m\u001b[0m\n\u001b[0;32m    580\u001b[0m             \u001b[1;32melse\u001b[0m\u001b[1;33m:\u001b[0m\u001b[1;33m\u001b[0m\u001b[1;33m\u001b[0m\u001b[0m\n\u001b[1;32m--> 581\u001b[1;33m                 \u001b[0mX\u001b[0m\u001b[1;33m,\u001b[0m \u001b[0my\u001b[0m \u001b[1;33m=\u001b[0m \u001b[0mcheck_X_y\u001b[0m\u001b[1;33m(\u001b[0m\u001b[0mX\u001b[0m\u001b[1;33m,\u001b[0m \u001b[0my\u001b[0m\u001b[1;33m,\u001b[0m \u001b[1;33m**\u001b[0m\u001b[0mcheck_params\u001b[0m\u001b[1;33m)\u001b[0m\u001b[1;33m\u001b[0m\u001b[1;33m\u001b[0m\u001b[0m\n\u001b[0m\u001b[0;32m    582\u001b[0m             \u001b[0mout\u001b[0m \u001b[1;33m=\u001b[0m \u001b[0mX\u001b[0m\u001b[1;33m,\u001b[0m \u001b[0my\u001b[0m\u001b[1;33m\u001b[0m\u001b[1;33m\u001b[0m\u001b[0m\n\u001b[0;32m    583\u001b[0m \u001b[1;33m\u001b[0m\u001b[0m\n",
      "\u001b[1;32mc:\\Users\\User\\anaconda3\\lib\\site-packages\\sklearn\\utils\\validation.py\u001b[0m in \u001b[0;36mcheck_X_y\u001b[1;34m(X, y, accept_sparse, accept_large_sparse, dtype, order, copy, force_all_finite, ensure_2d, allow_nd, multi_output, ensure_min_samples, ensure_min_features, y_numeric, estimator)\u001b[0m\n\u001b[0;32m    962\u001b[0m         \u001b[1;32mraise\u001b[0m \u001b[0mValueError\u001b[0m\u001b[1;33m(\u001b[0m\u001b[1;34m\"y cannot be None\"\u001b[0m\u001b[1;33m)\u001b[0m\u001b[1;33m\u001b[0m\u001b[1;33m\u001b[0m\u001b[0m\n\u001b[0;32m    963\u001b[0m \u001b[1;33m\u001b[0m\u001b[0m\n\u001b[1;32m--> 964\u001b[1;33m     X = check_array(\n\u001b[0m\u001b[0;32m    965\u001b[0m         \u001b[0mX\u001b[0m\u001b[1;33m,\u001b[0m\u001b[1;33m\u001b[0m\u001b[1;33m\u001b[0m\u001b[0m\n\u001b[0;32m    966\u001b[0m         \u001b[0maccept_sparse\u001b[0m\u001b[1;33m=\u001b[0m\u001b[0maccept_sparse\u001b[0m\u001b[1;33m,\u001b[0m\u001b[1;33m\u001b[0m\u001b[1;33m\u001b[0m\u001b[0m\n",
      "\u001b[1;32mc:\\Users\\User\\anaconda3\\lib\\site-packages\\sklearn\\utils\\validation.py\u001b[0m in \u001b[0;36mcheck_array\u001b[1;34m(array, accept_sparse, accept_large_sparse, dtype, order, copy, force_all_finite, ensure_2d, allow_nd, ensure_min_samples, ensure_min_features, estimator)\u001b[0m\n\u001b[0;32m    744\u001b[0m                     \u001b[0marray\u001b[0m \u001b[1;33m=\u001b[0m \u001b[0marray\u001b[0m\u001b[1;33m.\u001b[0m\u001b[0mastype\u001b[0m\u001b[1;33m(\u001b[0m\u001b[0mdtype\u001b[0m\u001b[1;33m,\u001b[0m \u001b[0mcasting\u001b[0m\u001b[1;33m=\u001b[0m\u001b[1;34m\"unsafe\"\u001b[0m\u001b[1;33m,\u001b[0m \u001b[0mcopy\u001b[0m\u001b[1;33m=\u001b[0m\u001b[1;32mFalse\u001b[0m\u001b[1;33m)\u001b[0m\u001b[1;33m\u001b[0m\u001b[1;33m\u001b[0m\u001b[0m\n\u001b[0;32m    745\u001b[0m                 \u001b[1;32melse\u001b[0m\u001b[1;33m:\u001b[0m\u001b[1;33m\u001b[0m\u001b[1;33m\u001b[0m\u001b[0m\n\u001b[1;32m--> 746\u001b[1;33m                     \u001b[0marray\u001b[0m \u001b[1;33m=\u001b[0m \u001b[0mnp\u001b[0m\u001b[1;33m.\u001b[0m\u001b[0masarray\u001b[0m\u001b[1;33m(\u001b[0m\u001b[0marray\u001b[0m\u001b[1;33m,\u001b[0m \u001b[0morder\u001b[0m\u001b[1;33m=\u001b[0m\u001b[0morder\u001b[0m\u001b[1;33m,\u001b[0m \u001b[0mdtype\u001b[0m\u001b[1;33m=\u001b[0m\u001b[0mdtype\u001b[0m\u001b[1;33m)\u001b[0m\u001b[1;33m\u001b[0m\u001b[1;33m\u001b[0m\u001b[0m\n\u001b[0m\u001b[0;32m    747\u001b[0m             \u001b[1;32mexcept\u001b[0m \u001b[0mComplexWarning\u001b[0m \u001b[1;32mas\u001b[0m \u001b[0mcomplex_warning\u001b[0m\u001b[1;33m:\u001b[0m\u001b[1;33m\u001b[0m\u001b[1;33m\u001b[0m\u001b[0m\n\u001b[0;32m    748\u001b[0m                 raise ValueError(\n",
      "\u001b[1;31mValueError\u001b[0m: could not convert string to float: ''"
     ]
    }
   ],
   "source": [
    "# Define the columns to remove numbers from\n",
    "text_features = ['Description', 'Components and Concentrations', 'Physical State']\n",
    "remove_numbers = ['Description', 'Components and Concentrations']\n",
    "# Specify the maximum number of features for each column\n",
    "max_features_per_column = {'Description': 200, 'Components and Concentrations': 500}\n",
    "\n",
    "preprocessor = ColumnTransformer([\n",
    "    ('txt', TextCleaner(remove_number_cols=remove_numbers), text_features)\n",
    "    #('ewc', FeatureHashingTransformer(column_name='EWC', num_vec=6),['EWC']),\n",
    "    #('des', TextTransformer(column_name='Description', isalpha=True, vector_size=200),['Description']),\n",
    "    #('vec', ColumnVectorizer(preprocess_text=True,  \n",
    "    #                         max_features_per_column=max_features_per_column),\n",
    "    #                         ['Description', 'Components and Concentrations']),\n",
    "    ##('cnc', TextTransformer(column_name='Components and Concentrations', isalpha=True, vector_size=500, sg=0),['Components and Concentrations']),\n",
    "    #('phy', OneHotTokenTransformer(column_name='Physical State', tokens=physical_states),['Physical State']),    \n",
    "    #('unn', FeatureHashingTransformer(column_name='UN Number'),['UN Number']),\n",
    "    #('haz', OneHotTokenTransformer(column_name='Hazard Codes', tokens=hp_codes),['Hazard Codes'])\n",
    "])\n",
    "\n",
    "pipe = Pipeline([\n",
    "    ('preprocessor', preprocessor),\n",
    "    ('classifier', RandomForestClassifier(max_depth=9, min_samples_split=2, min_samples_leaf=2, criterion='gini', verbose=True, n_jobs=-1))\n",
    "])\n",
    "\n",
    "from sklearn.model_selection import StratifiedKFold\n",
    "\n",
    "# Create randomised folds that preserve the distribution of classes in each fold.\n",
    "skf = StratifiedKFold(5, shuffle=True, random_state=1)\n",
    "\n",
    "cross_val_score(pipe, X, y, cv=skf, scoring='roc_auc_ovr', error_score=\"raise\")\n"
   ]
  },
  {
   "cell_type": "code",
   "execution_count": null,
   "metadata": {},
   "outputs": [],
   "source": [
    "from sklearn.model_selection import RandomizedSearchCV\n",
    "rand = RandomizedSearchCV(pipe, cv_params, cv=5, scoring='accuracy', random_state=1, n_iter=10, n_jobs=-1)\n",
    "rand.fit(X,y)\n",
    "rand.best_score_\n",
    "rand.best_params_"
   ]
  },
  {
   "cell_type": "code",
   "execution_count": null,
   "metadata": {},
   "outputs": [],
   "source": [
    "rand.best_score_\n",
    "results = pd.DataFrame(rand.cv_results_)[['params','mean_test_score','rank_test_score']]\n",
    "results.sort_values('rank_test_score')"
   ]
  },
  {
   "cell_type": "markdown",
   "metadata": {},
   "source": [
    "# Training and Test Data\n",
    "Finally we can split the data into training and testing sets, it's also good practise at this point to randomise, or shuffle the data set to remove any unwanted trending or sequencing."
   ]
  },
  {
   "cell_type": "markdown",
   "metadata": {},
   "source": [
    "## Splitting the Data"
   ]
  },
  {
   "cell_type": "code",
   "execution_count": null,
   "metadata": {},
   "outputs": [],
   "source": [
    "from sklearn.ensemble import RandomForestClassifier\n",
    "from sklearn.model_selection import train_test_split\n",
    "from sklearn.metrics import accuracy_score\n",
    "\n",
    "# Preserve our original data\n",
    "#df_test = copy.deepcopy(df_with_vectors)\n",
    "\n",
    "# Define the training set, typically called X\n",
    "#X = df_test.drop(['Disposal_Index'], axis=1)\n",
    "#X.head()\n",
    "#X.shape\n",
    "\n",
    "# Define a column of labels\n",
    "#y = df_test['Disposal_Index']\n",
    "#y.head()\n",
    "\n"
   ]
  },
  {
   "cell_type": "code",
   "execution_count": null,
   "metadata": {},
   "outputs": [],
   "source": [
    "from sklearn.model_selection import cross_val_score\n",
    "#cross_val_score(pipeline2, X, y, cv=5, scoring='accuracy').mean()"
   ]
  },
  {
   "cell_type": "code",
   "execution_count": null,
   "metadata": {},
   "outputs": [],
   "source": [
    "# Split the data into training and testing sets\n",
    "X_train, X_test, y_train, y_test = train_test_split(X, y, test_size=0.2, random_state=42)"
   ]
  },
  {
   "cell_type": "markdown",
   "metadata": {},
   "source": [
    "A quick sanity check that our values arn't going to cause any problems in the next step."
   ]
  },
  {
   "cell_type": "code",
   "execution_count": null,
   "metadata": {},
   "outputs": [],
   "source": [
    "def checkValues(name, values):\n",
    "    # Check for NaN values\n",
    "    nan_indices = np.argwhere(np.isnan(values))\n",
    "    print(name + \" Indices of NaN values:\", len(nan_indices))\n",
    "\n",
    "    # Check for infinite values\n",
    "    inf_indices = np.argwhere(np.isinf(values))\n",
    "    print(name + \" Indices of infinite values:\", inf_indices)\n",
    "\n",
    "    # Check for numbers too large for float64\n",
    "    large_indices = np.argwhere(np.abs(values) > np.finfo(np.float64).max)\n",
    "    print(name + \" Indices of numbers too large for float64:\", large_indices)\n",
    "    \n",
    "# Check for NaN, infinite or illegal numbers\n",
    "checkValues('X_train', X_train.values)\n",
    "print('')\n",
    "checkValues('y_train', y_train.values)"
   ]
  },
  {
   "cell_type": "markdown",
   "metadata": {},
   "source": [
    "## Hyperparamter Tuning with GridSearchCV"
   ]
  },
  {
   "cell_type": "code",
   "execution_count": null,
   "metadata": {},
   "outputs": [],
   "source": [
    "from sklearn.model_selection import GridSearchCV\n",
    "from sklearn.pipeline import Pipeline\n",
    "\n",
    "# Define the pipeline with Random Forest classifier\n",
    "pipeline = Pipeline([\n",
    "    ('rf', RandomForestClassifier())\n",
    "])\n",
    "\n",
    "# Define the hyperparameters grid to search\n",
    "param_grid = {\n",
    "    'rf__n_estimators': [100, 200, 600],\n",
    "    'rf__max_depth': [None, 1, 10],\n",
    "    'rf__min_samples_split': [2, 10],\n",
    "    'rf__min_samples_leaf': [2, 10],\n",
    "    'rf__random_state': [2, 42]\n",
    "}\n",
    "\n",
    "# Best params from previous gridsearch, saves running the search every time we want to restart.\n",
    "best_grid = {\n",
    "    'rf__n_estimators': [250],\n",
    "    'rf__max_depth': [None],\n",
    "    'rf__min_samples_split': [2],\n",
    "    'rf__min_samples_leaf': [2],\n",
    "    'rf__random_state': [42]\n",
    "}\n",
    "\n",
    "# Perform Grid Search Cross Validation, exchange best_grid and param_grid\n",
    "grid_search = GridSearchCV(pipeline, best_grid, cv=5, scoring='accuracy')\n",
    "grid_search.fit(X_train, y_train)\n",
    "\n",
    "# Get the best parameters and best score\n",
    "best_params = grid_search.best_params_\n",
    "best_score = grid_search.best_score_\n",
    "\n",
    "# Evaluate the best model on the test set\n",
    "best_model = grid_search.best_estimator_\n",
    "y_pred = best_model.predict(X_test)\n",
    "test_accuracy = accuracy_score(y_test, y_pred)\n",
    "\n",
    "print(\"Best Parameters:\", best_params)\n",
    "print(\"Best Score:\", best_score)\n",
    "print(\"Test Accuracy:\", test_accuracy)"
   ]
  },
  {
   "cell_type": "code",
   "execution_count": null,
   "metadata": {},
   "outputs": [],
   "source": [
    "import joblib\n",
    "\n",
    "# Uncomment to save the trained model to a file\n",
    "#joblib.dump(rf_model, 'c:/users/user/desktop/models/randomforrest_trained_model.pkl')\n",
    "\n",
    "best_model = RandomForestClassifier(n_estimators=250, max_depth=None, min_samples_split=2, min_samples_leaf=2, n_jobs=-1, random_state=8)\n",
    "best_model.fit(X_train, y_train)\n",
    "y_pred = best_model.predict(X_test)\n",
    "test_accuracy = accuracy_score(y_test, y_pred)\n",
    "print(\"Test Accuracy:\", test_accuracy)"
   ]
  },
  {
   "cell_type": "markdown",
   "metadata": {},
   "source": [
    "# Results Analysis"
   ]
  },
  {
   "cell_type": "code",
   "execution_count": null,
   "metadata": {},
   "outputs": [],
   "source": [
    "# Turn Disposal_Index back into Disposal names\n",
    "r_test = [outlets.loc[t, 'Disposal'] for t in y_test]\n",
    "r_pred = [outlets.loc[t, 'Disposal'] for t in y_pred]\n",
    "labels = sorted(set(r_test))\n",
    "print(len(y_test.unique()))"
   ]
  },
  {
   "cell_type": "code",
   "execution_count": null,
   "metadata": {},
   "outputs": [],
   "source": [
    "cm = confusion_matrix(r_test, r_pred)\n",
    "print(cm.shape) \n",
    "\n",
    "df_cm = pd.DataFrame(cm, index=labels, columns=labels)\n",
    "# Plot a confusion matrix\n",
    "sn.set(font_scale=0.75)\n",
    "a4_dims = (16, 10)\n",
    "fig, ax = plt.subplots(figsize=a4_dims)\n",
    "ax.set_title(\"Confusion Matrix True vs Predicted Outlet\")\n",
    "hm = sn.heatmap(df_cm, annot=True, cmap=\"Dark2_r\", cbar_kws={'label': 'Count'})  \n",
    "plt.show()"
   ]
  },
  {
   "cell_type": "code",
   "execution_count": null,
   "metadata": {},
   "outputs": [],
   "source": [
    "cr = classification_report(r_test, r_pred)    \n",
    "print(cr)"
   ]
  },
  {
   "cell_type": "markdown",
   "metadata": {},
   "source": [
    "# Classification with XGBoost"
   ]
  },
  {
   "cell_type": "code",
   "execution_count": null,
   "metadata": {},
   "outputs": [],
   "source": [
    "from xgboost import XGBClassifier\n",
    "\n",
    "# import XGBoost\n",
    "import xgboost as xgb\n",
    "\n",
    "# Using the same data source as previous, but this time adding stratify=y when splitting\n",
    "X_train, X_test, y_train, y_test = train_test_split(X, y, test_size=0.2, random_state=42, stratify=y)\n"
   ]
  },
  {
   "cell_type": "markdown",
   "metadata": {},
   "source": [
    "## Hyperparameter Tuning with Hyperopt"
   ]
  },
  {
   "cell_type": "code",
   "execution_count": null,
   "metadata": {},
   "outputs": [],
   "source": [
    "# define a search space\n",
    "from hyperopt import hp, fmin, tpe, Trials\n",
    "\n",
    "# Define the search space\n",
    "space = { \n",
    "    'n_estimators': hp.quniform('n_estimators', 100, 1000, 1),\n",
    "    'learning_rate': hp.uniform('learning_rate', 0.01, 1.0),\n",
    "    'max_depth': hp.quniform('max_depth', 3, 10, 1),    \n",
    "    'subsample': hp.uniform('subsample', 0.5, 1.0),\n",
    "    'colsample_bytree': hp.uniform('colsample_bytree', 0.5, 1.0)\n",
    "}\n",
    "\n",
    "# Define the objective function for XGBoost classifier\n",
    "def objective(params):\n",
    "    # Extract hyperparameters\n",
    "    n_estimators = params['n_estimators']\n",
    "    learning_rate = params['learning_rate']\n",
    "    max_depth = params['max_depth']\n",
    "    subsample = params['subsample']\n",
    "    colsample_bytree = params['colsample_bytree']\n",
    "\n",
    "    # Define XGBoost parameters\n",
    "    xgb_params = {\n",
    "        'objective': 'multi:softmax',#\n",
    "        'num_class': 47,  # Number of classes\n",
    "        'eval_metric': 'merror',\n",
    "        'learning_rate': learning_rate,\n",
    "        'max_depth': int(max_depth),\n",
    "        'n_estimators': int(n_estimators),\n",
    "        'subsample': subsample,\n",
    "        'colsample_bytree': colsample_bytree,\n",
    "        'verbosity': 0,\n",
    "        'random_state':42\n",
    "    }\n",
    "    \n",
    "    # Create DMatrix for training and testing data\n",
    "    dtrain = xgb.DMatrix(X_train, label=y_train)\n",
    "    dtest = xgb.DMatrix(X_test, label=y_test) \n",
    "\n",
    "    eval_set = [(dtrain, 'train'),(dtest, 'eval')]  # Specify the validation dataset\n",
    "\n",
    "    eval_results = {}\n",
    "    model = xgb.train(xgb_params, dtrain, early_stopping_rounds=10, num_boost_round=1000, evals=eval_set, evals_result=eval_results)\n",
    "    \n",
    "    # Make predictions on the test set\n",
    "    y_pred = model.predict(dtest)\n",
    "    \n",
    "    # Calculate accuracy\n",
    "    accuracy = accuracy_score(y_test, y_pred)\n",
    "    print('----------------------------------')\n",
    "    print(f'loss: {-accuracy}')\n",
    "    print(f'learning_rate:{learning_rate}')\n",
    "    print(f'max_depth:{max_depth}')\n",
    "    print(f'n_estimators:{n_estimators}')\n",
    "    print(f'subsample:{subsample}')\n",
    "    print(f'colsample_bytree:{colsample_bytree}')\n",
    "    print('----------------------------------') \n",
    "    return {\n",
    "        'loss': -accuracy,\n",
    "        'learning_rate': learning_rate,\n",
    "        'max_depth': int(max_depth),\n",
    "        'n_estimators': int(n_estimators),\n",
    "        'subsample': subsample,\n",
    "        'colsample_bytree': colsample_bytree,\n",
    "        'eval_results': eval_results,\n",
    "        'status': 'ok'\n",
    "    }  # Minimize negative accuracy\n",
    "\n",
    "# Perform hyperparameter optimization\n",
    "trials = Trials()\n",
    "best_params = fmin(fn=objective, space=space, algo=tpe.suggest, max_evals=50, trials=trials)\n",
    "\n",
    "print(\"Best hyperparameters:\", best_params)\n"
   ]
  },
  {
   "cell_type": "markdown",
   "metadata": {},
   "source": [
    "## View Results of Tuning"
   ]
  },
  {
   "cell_type": "code",
   "execution_count": null,
   "metadata": {},
   "outputs": [],
   "source": [
    "# Plot the loss values\n",
    "plt.plot(trials.losses())\n",
    "plt.xlabel('Trial')\n",
    "plt.ylabel('Loss')\n",
    "plt.title('Hyperopt XGBoost Trials')\n",
    "plt.show()"
   ]
  },
  {
   "cell_type": "code",
   "execution_count": null,
   "metadata": {},
   "outputs": [],
   "source": [
    "\n",
    "df_results = pd.DataFrame(trials.results)\n",
    "\n",
    "def ScatterPlot(x, y, title):\n",
    "    plt.scatter(x,y,marker='o')\n",
    "    plt.xlabel(title)\n",
    "    plt.ylabel('Loss')\n",
    "    plt.title('Hyperopt XGBoost Trials - ' + title)\n",
    "    plt.show()"
   ]
  },
  {
   "cell_type": "code",
   "execution_count": null,
   "metadata": {},
   "outputs": [],
   "source": [
    "y = df_results['loss'].values\n",
    "ScatterPlot(df_results['learning_rate'].values, y, 'Learning Rate')\n",
    "ScatterPlot(df_results['n_estimators'].values, y, 'Num Estimators')\n",
    "ScatterPlot(df_results['max_depth'].values, y, 'Max Depth')\n",
    "ScatterPlot(df_results['subsample'].values, y, 'Subsample')\n",
    "ScatterPlot(df_results['colsample_bytree'].values, y, 'colsample_bytree')"
   ]
  },
  {
   "cell_type": "markdown",
   "metadata": {},
   "source": [
    "## Training a Model with Tuned Parameters"
   ]
  },
  {
   "cell_type": "code",
   "execution_count": null,
   "metadata": {},
   "outputs": [],
   "source": [
    "best = {\n",
    "    'learning_rate': 0.1624673203663925,\n",
    "    'max_depth': int(10),\n",
    "    'n_estimators': int(488),\n",
    "    'subsample': 0.9513666706021229,\n",
    "    'colsample_bytree': 0.6887720706933753\n",
    "}\n",
    "\n",
    "best = trials.best_trial['result']"
   ]
  },
  {
   "cell_type": "code",
   "execution_count": null,
   "metadata": {},
   "outputs": [],
   "source": [
    "\n",
    "# Define XGBoost parameters\n",
    "xgb_params = {\n",
    "    'objective': 'multi:softmax',\n",
    "    'num_class': 47,  # Number of classes\n",
    "    'eval_metric': 'merror',\n",
    "    'learning_rate': best['learning_rate'],\n",
    "    'max_depth': int(best['max_depth']),\n",
    "    'n_estimators': int(best['n_estimators']),\n",
    "    'subsample': best['subsample'],\n",
    "    'colsample_bytree': best['colsample_bytree'],\n",
    "    #'verbosity': 0\n",
    "}\n",
    "\n",
    "dtrain = xgb.DMatrix(X_train, label=y_train)\n",
    "dtest = xgb.DMatrix(X_test, label=y_test)  # Assuming y_test is available for evaluation\n",
    "\n",
    "eval_set = [(dtrain, 'train'),(dtest, 'eval')]  # Specify the validation dataset\n",
    "\n",
    "eval_results = {}\n",
    "xgb_model = xgb.train(xgb_params, dtrain, early_stopping_rounds=10, num_boost_round=1000, evals=eval_set, evals_result=eval_results)\n"
   ]
  },
  {
   "cell_type": "code",
   "execution_count": null,
   "metadata": {},
   "outputs": [],
   "source": [
    "train_error = eval_results['train']['merror']\n",
    "val_error = eval_results['eval']['merror']\n",
    "\n",
    "plt.plot(train_error, label='Training Error')\n",
    "plt.plot(val_error, label='Validation Error')\n",
    "plt.xlabel('Boosting Round')\n",
    "plt.ylabel('Multiclass Error')\n",
    "plt.legend()\n",
    "plt.show()"
   ]
  },
  {
   "cell_type": "code",
   "execution_count": null,
   "metadata": {},
   "outputs": [],
   "source": [
    "import joblib\n",
    "# Save the trained model to a file\n",
    "#joblib.dump(xgb_model, 'c:/users/user/desktop/models/xgboost_trained_model.pkl')"
   ]
  },
  {
   "cell_type": "markdown",
   "metadata": {},
   "source": [
    "## Predictions with XGBoost Model"
   ]
  },
  {
   "cell_type": "code",
   "execution_count": null,
   "metadata": {},
   "outputs": [],
   "source": [
    "# make predictions on test data\n",
    "y_pred = xgb_model.predict(dtest)\n",
    "print(y_test.head())\n"
   ]
  },
  {
   "cell_type": "code",
   "execution_count": null,
   "metadata": {},
   "outputs": [],
   "source": [
    "# Predict probabilities\n",
    "print(xgb_model.best_ntree_limit)\n",
    "print(xgb_model.best_iteration)\n",
    "print(xgb_model.best_score)"
   ]
  },
  {
   "cell_type": "markdown",
   "metadata": {},
   "source": [
    "## Results Analysis"
   ]
  },
  {
   "cell_type": "markdown",
   "metadata": {},
   "source": [
    "### Accuracy"
   ]
  },
  {
   "cell_type": "code",
   "execution_count": null,
   "metadata": {},
   "outputs": [],
   "source": [
    "# Calculate accuracy\n",
    "accuracy = accuracy_score(y_test, y_pred)\n",
    "print(\"Accuracy: %.2f%%\" % (accuracy * 100.0))"
   ]
  },
  {
   "cell_type": "markdown",
   "metadata": {},
   "source": [
    "### Classification Report"
   ]
  },
  {
   "cell_type": "code",
   "execution_count": null,
   "metadata": {},
   "outputs": [],
   "source": [
    "# Print classification report\n",
    "print(classification_report(y_test, y_pred))"
   ]
  },
  {
   "cell_type": "markdown",
   "metadata": {},
   "source": [
    "### Feature Importance"
   ]
  },
  {
   "cell_type": "code",
   "execution_count": null,
   "metadata": {},
   "outputs": [],
   "source": [
    "# Feature Importance\n",
    "from xgboost import plot_importance\n",
    "\n",
    "# Plot feature importance for the top 30 features\n",
    "plot_importance(xgb_model, max_num_features=20)"
   ]
  },
  {
   "cell_type": "markdown",
   "metadata": {},
   "source": [
    "### Confusion Matrix"
   ]
  },
  {
   "cell_type": "code",
   "execution_count": null,
   "metadata": {},
   "outputs": [],
   "source": [
    "cm = confusion_matrix(y_test, y_pred)\n",
    "print(cm.shape) \n",
    "\n",
    "# Turn Disposal_Index back into Disposal names\n",
    "r_test = [outlets.loc[t, 'Disposal'] for t in y_test]\n",
    "labels = sorted(set(r_test))\n",
    "\n",
    "df_cm = pd.DataFrame(cm, index=labels, columns=labels)\n",
    "# Plot a confusion matrix\n",
    "sn.set_theme(font_scale=0.75)\n",
    "a4_dims = (16, 10)\n",
    "fig, ax = plt.subplots(figsize=a4_dims)\n",
    "ax.set_title(\"Confusion Matrix True vs Predicted Outlet\")\n",
    "hm = sn.heatmap(df_cm, annot=True, cmap=\"coolwarm\", cbar_kws={'label': 'Count'})  \n",
    "plt.show()"
   ]
  }
 ],
 "metadata": {
  "celltoolbar": "Raw Cell Format",
  "kernelspec": {
   "display_name": "Python 3 (ipykernel)",
   "language": "python",
   "name": "python3"
  },
  "language_info": {
   "codemirror_mode": {
    "name": "ipython",
    "version": 3
   },
   "file_extension": ".py",
   "mimetype": "text/x-python",
   "name": "python",
   "nbconvert_exporter": "python",
   "pygments_lexer": "ipython3",
   "version": "3.9.15"
  }
 },
 "nbformat": 4,
 "nbformat_minor": 2
}
