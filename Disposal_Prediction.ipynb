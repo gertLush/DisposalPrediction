{
 "cells": [
  {
   "cell_type": "markdown",
   "metadata": {},
   "source": [
    "# Machine Learning and Prediction of Disposal Outlet by Waste Description"
   ]
  },
  {
   "cell_type": "markdown",
   "metadata": {},
   "source": [
    "This test case uses hazardous waste data that includes a general description, various hazardous classification descriptors and a disposal outlet. The dataset is split into a training set and test set (with disposal outlet removed). The aim is to create a trained machine using Word2Vec and RandomForrestClassifier, use it to predict the disposal outlet and compare the result of actual versus predicted.\n",
    "\n",
    "Inspriation for this approach came from: \n",
    "\n",
    "https://github.com/JungeAlexander/kaggle-amazon-fine-food-reviews\n",
    "\n",
    "https://www.geeksforgeeks.org/python-word-embedding-using-word2vec/"
   ]
  },
  {
   "cell_type": "markdown",
   "metadata": {},
   "source": [
    "# Data Preposessing"
   ]
  },
  {
   "cell_type": "markdown",
   "metadata": {},
   "source": [
    "The data source is from an very old database and data input has largely been via free text entry fields, made by a number of different people over a several years. The quality and consistency of the result is extremely poor, there are are few standardised terms, no drop down menus, no validation, various phrases have been used for the same thing, all frought with typos and spelling mistakes. The few standardised terms take the form of code numbers, i.e. they are number characters but represent categorical rather than scalar values. Also because of their origin in Excel these numbers are sometimes preceded with an apostophe, used to force Excel to treat number characters as text."
   ]
  },
  {
   "cell_type": "code",
   "execution_count": 1,
   "metadata": {},
   "outputs": [],
   "source": [
    "import pandas as pd                                        # Used for importing data and transformations\n",
    "import numpy as np                                         # Provides mathmatical functions and randomisers\n",
    "import copy                                                # Used to copy objects\n",
    "import matplotlib.pyplot as plt                            # Plot charts\n",
    "import seaborn as sn                                       # Visualisation tools\n",
    "import warnings                                            # Manage python system warnings\n",
    "warnings.simplefilter('ignore')\n",
    "sn.color_palette(\"flare\", as_cmap=True)\n",
    "from random import shuffle                                 # Dataset randomiser\n",
    "from gensim.models import Word2Vec\n",
    "from nltk.tokenize import word_tokenize\n",
    "import nltk as nltk\n",
    "import string\n",
    "\n",
    "from sklearn.ensemble import RandomForestClassifier  \n",
    "from sklearn.preprocessing import OneHotEncoder       \n",
    "\n",
    "from sklearn.metrics import confusion_matrix\n",
    "from sklearn.metrics import classification_report\n",
    "from matplotlib.pyplot import figure"
   ]
  },
  {
   "cell_type": "code",
   "execution_count": 2,
   "metadata": {},
   "outputs": [
    {
     "name": "stdout",
     "output_type": "stream",
     "text": [
      "The primary data set has 42 columns and 21047 rows.\n"
     ]
    },
    {
     "data": {
      "text/html": [
       "<div>\n",
       "<style scoped>\n",
       "    .dataframe tbody tr th:only-of-type {\n",
       "        vertical-align: middle;\n",
       "    }\n",
       "\n",
       "    .dataframe tbody tr th {\n",
       "        vertical-align: top;\n",
       "    }\n",
       "\n",
       "    .dataframe thead th {\n",
       "        text-align: right;\n",
       "    }\n",
       "</style>\n",
       "<table border=\"1\" class=\"dataframe\">\n",
       "  <thead>\n",
       "    <tr style=\"text-align: right;\">\n",
       "      <th></th>\n",
       "      <th>DRUM ID</th>\n",
       "      <th>QTY</th>\n",
       "      <th>Cont. Size</th>\n",
       "      <th>Quantity (Kg)</th>\n",
       "      <th>Description</th>\n",
       "      <th>Components and Concentrations</th>\n",
       "      <th>Hazard Codes</th>\n",
       "      <th>UN Number</th>\n",
       "      <th>Proper Shipping Name</th>\n",
       "      <th>Class</th>\n",
       "      <th>...</th>\n",
       "      <th>24-26 Weeks</th>\n",
       "      <th>&gt;6 Months</th>\n",
       "      <th>Origin District</th>\n",
       "      <th>Destination District</th>\n",
       "      <th>Date Out</th>\n",
       "      <th>DR Code</th>\n",
       "      <th>Tonnage</th>\n",
       "      <th>Municipal Source</th>\n",
       "      <th>Column1</th>\n",
       "      <th>EWC2</th>\n",
       "    </tr>\n",
       "  </thead>\n",
       "  <tbody>\n",
       "    <tr>\n",
       "      <th>0</th>\n",
       "      <td>NaN</td>\n",
       "      <td>80</td>\n",
       "      <td>60</td>\n",
       "      <td>1.5</td>\n",
       "      <td>EMPTY PLASTIC DRUMS (60L)</td>\n",
       "      <td>NIL HAZARDOUS COMPONENTS</td>\n",
       "      <td>N/C</td>\n",
       "      <td>NCAD</td>\n",
       "      <td>NOT CLASSIFIED AS DANGEROUS FOR TRANSPORT</td>\n",
       "      <td>N/C</td>\n",
       "      <td>...</td>\n",
       "      <td>0</td>\n",
       "      <td>0</td>\n",
       "      <td>SHEFFIELD</td>\n",
       "      <td>LEEDS</td>\n",
       "      <td>11/01/2023</td>\n",
       "      <td>R03 - RECYCLING OF ORGANIC SUBSTANCES</td>\n",
       "      <td>0.0015</td>\n",
       "      <td>No</td>\n",
       "      <td>R03 - Recycling of organic substances</td>\n",
       "      <td>150110</td>\n",
       "    </tr>\n",
       "    <tr>\n",
       "      <th>1</th>\n",
       "      <td>NaN</td>\n",
       "      <td>4</td>\n",
       "      <td>30</td>\n",
       "      <td>2.0</td>\n",
       "      <td>EMPTY PLASTIC DRUMS (30L)</td>\n",
       "      <td>Nil hazardous components</td>\n",
       "      <td>N/C</td>\n",
       "      <td>NCAD</td>\n",
       "      <td>NOT CLASSIFIED AS DANGEROUS FOR TRANSPORT</td>\n",
       "      <td>N/C</td>\n",
       "      <td>...</td>\n",
       "      <td>0</td>\n",
       "      <td>0</td>\n",
       "      <td>SHEFFIELD</td>\n",
       "      <td>LEEDS</td>\n",
       "      <td>11/01/2023</td>\n",
       "      <td>R03 - RECYCLING OF ORGANIC SUBSTANCES</td>\n",
       "      <td>0.002</td>\n",
       "      <td>No</td>\n",
       "      <td>R03 - Recycling of organic substances</td>\n",
       "      <td>150110</td>\n",
       "    </tr>\n",
       "  </tbody>\n",
       "</table>\n",
       "<p>2 rows × 42 columns</p>\n",
       "</div>"
      ],
      "text/plain": [
       "  DRUM ID QTY Cont. Size  Quantity (Kg)                Description  \\\n",
       "0     NaN  80         60            1.5  EMPTY PLASTIC DRUMS (60L)   \n",
       "1     NaN   4         30            2.0  EMPTY PLASTIC DRUMS (30L)   \n",
       "\n",
       "  Components and Concentrations Hazard Codes UN Number  \\\n",
       "0      NIL HAZARDOUS COMPONENTS          N/C      NCAD   \n",
       "1      Nil hazardous components          N/C      NCAD   \n",
       "\n",
       "                        Proper Shipping Name Class  ... 24-26 Weeks >6 Months  \\\n",
       "0  NOT CLASSIFIED AS DANGEROUS FOR TRANSPORT   N/C  ...           0         0   \n",
       "1  NOT CLASSIFIED AS DANGEROUS FOR TRANSPORT   N/C  ...           0         0   \n",
       "\n",
       "  Origin District Destination District    Date Out  \\\n",
       "0       SHEFFIELD                LEEDS  11/01/2023   \n",
       "1       SHEFFIELD                LEEDS  11/01/2023   \n",
       "\n",
       "                                 DR Code Tonnage Municipal Source  \\\n",
       "0  R03 - RECYCLING OF ORGANIC SUBSTANCES  0.0015               No   \n",
       "1  R03 - RECYCLING OF ORGANIC SUBSTANCES   0.002               No   \n",
       "\n",
       "                                 Column1    EWC2  \n",
       "0  R03 - Recycling of organic substances  150110  \n",
       "1  R03 - Recycling of organic substances  150110  \n",
       "\n",
       "[2 rows x 42 columns]"
      ]
     },
     "execution_count": 2,
     "metadata": {},
     "output_type": "execute_result"
    }
   ],
   "source": [
    "df = pd.read_csv(\"data/raw3.csv\")\n",
    "print(f'The primary data set has {len(df.columns)} columns and {len(df)} rows.')\n",
    "df.head(2)"
   ]
  },
  {
   "cell_type": "code",
   "execution_count": 3,
   "metadata": {},
   "outputs": [],
   "source": [
    "def checkValues(name, values):\n",
    "    # Check for NaN values\n",
    "    nan_indices = np.argwhere(np.isnan(values))\n",
    "    print(name + \" Indices of NaN values:\", len(nan_indices))\n",
    "\n",
    "    # Check for infinite values\n",
    "    inf_indices = np.argwhere(np.isinf(values))\n",
    "    print(name + \" Indices of infinite values:\", inf_indices)\n",
    "\n",
    "    # Check for numbers too large for float64\n",
    "    large_indices = np.argwhere(np.abs(values) > np.finfo(np.float64).max)\n",
    "    print(name + \" Indices of numbers too large for float64:\", large_indices)\n"
   ]
  },
  {
   "cell_type": "code",
   "execution_count": 4,
   "metadata": {},
   "outputs": [
    {
     "name": "stdout",
     "output_type": "stream",
     "text": [
      "The usage distribution of each of the 47 outlets:\n"
     ]
    },
    {
     "data": {
      "image/png": "[encoded data removed]",
      "text/plain": [
       "<Figure size 1500x300 with 1 Axes>"
      ]
     },
     "metadata": {},
     "output_type": "display_data"
    }
   ],
   "source": [
    "def create_histogram_from_column(dataframe, column_name, width, height):\n",
    "    plt.figure(figsize=(width, height))\n",
    "    dataframe[column_name].value_counts().plot(kind='bar', color='skyblue')\n",
    "    plt.title(f'Histogram of {column_name}')\n",
    "    plt.xlabel(column_name)\n",
    "    plt.ylabel('Frequency')\n",
    "    plt.show()\n",
    "\n",
    "outlets = pd.DataFrame({'Disposal': df['Disposal'].unique()})\n",
    "outlets = outlets.sort_values(by='Disposal').reset_index(drop=True)\n",
    "\n",
    "print(f'The usage distribution of each of the {len(outlets)} outlets:')\n",
    "create_histogram_from_column(df, 'Disposal', 15, 3)"
   ]
  },
  {
   "cell_type": "code",
   "execution_count": 5,
   "metadata": {},
   "outputs": [
    {
     "name": "stdout",
     "output_type": "stream",
     "text": [
      "WASTECARE NORMANTON         2669\n",
      "RED INDUSTRIES              1944\n",
      "FCC BBM                     1857\n",
      "CLEAN PAK                   1710\n",
      "ROBERT HOPKINS              1657\n",
      "MALARY                      1439\n",
      "MYTUM MALTINGS               958\n",
      "VEOLIA NORWOOD               864\n",
      "MULBERRY                     694\n",
      "VEOLIA ELLESMERE PORT        657\n",
      "SWARF                        654\n",
      "BURSCOUGH                    491\n",
      "CASTLE                       460\n",
      "WEDNESBURY                   448\n",
      "LOUGHBOROUGH                 424\n",
      "AVANTI                       404\n",
      "ERP                          374\n",
      "TRADEBE FAWLEY               358\n",
      "OIL RECOVERIES               351\n",
      "PACKCARE                     311\n",
      "ECO BAT                      290\n",
      "SLICKER                      235\n",
      "MULBERRY KNOWSLEY            231\n",
      "FCC ECCLESFIELD              222\n",
      "FCC KNOSTROP                 176\n",
      "ATTLEBOROUGH                 164\n",
      "ESYNERGY                     155\n",
      "FUTURE                       108\n",
      "MYTUM SHERBURN                83\n",
      "SRCL                          83\n",
      "WASTE MATTERS                 78\n",
      "SEVERN TRENT                  73\n",
      "WASTECARE VALLEY HOUSE        58\n",
      "BIFFA SHEFFIELD DARNALL       56\n",
      "BIFFA KILSYTH                 53\n",
      "TOTUS ENVIRONMENTAL           48\n",
      "ODONOVANS                     47\n",
      "ROTHERHAM WASTE OIL           40\n",
      "CLEAN TANK                    33\n",
      "TRADEBE HEYSHAM               22\n",
      "EMR                           21\n",
      "AUGEAN BERWICK                17\n",
      "TOTAL RECYCLING SERVICES      15\n",
      "POPLARS                        7\n",
      "STOCKLEYS                      5\n",
      "SPIVEY                         2\n",
      "FCC LINCOLN                    1\n",
      "Name: Disposal, dtype: int64\n"
     ]
    }
   ],
   "source": [
    "# Remove any rows with empty disposal columns\n",
    "df.dropna(subset=['Disposal'], inplace=True)\n",
    "\n",
    "# Count occurrences of each label\n",
    "label_counts = df['Disposal'].value_counts()\n",
    "print(label_counts)"
   ]
  },
  {
   "cell_type": "markdown",
   "metadata": {},
   "source": [
    "Disposal outlets that only appear once in our dataset don't offer sufficient information for training purposes, so we can remove those."
   ]
  },
  {
   "cell_type": "code",
   "execution_count": 6,
   "metadata": {},
   "outputs": [
    {
     "name": "stdout",
     "output_type": "stream",
     "text": [
      "Size before removing 2 outlets: 21047, 21044 rows remain.\n",
      "45 outlets remain.\n"
     ]
    }
   ],
   "source": [
    "before_trim_size = len(df)\n",
    "# Find the indices of labels that only appear once.\n",
    "unique_labels = label_counts[label_counts < 5].index\n",
    "unique_labels_size = len(unique_labels)\n",
    "\n",
    "# Using the index value, filter out rows where the label appears only once.\n",
    "df = df[~df['Disposal'].isin(unique_labels)]\n",
    "after_trim_size = len(df)\n",
    "\n",
    "# After trimming rows that we don't want, reset outlets.\n",
    "outlets = pd.DataFrame({'Disposal': df['Disposal'].unique()})\n",
    "outlets = outlets.sort_values(by='Disposal').reset_index(drop=True)\n",
    "\n",
    "print(f'Size before removing {unique_labels_size} outlets: {before_trim_size}, {after_trim_size} rows remain.')\n",
    "print(f'{len(outlets)} outlets remain.')"
   ]
  },
  {
   "cell_type": "markdown",
   "metadata": {},
   "source": [
    "Having trimmed away a few unhelpful rows, we can now consider columns. Of the 42 or so columns, there are only a few that can be used as descriptors and a second data file labels.xlsx, is provided that lists all columns and indicates which ones are useful."
   ]
  },
  {
   "cell_type": "code",
   "execution_count": 7,
   "metadata": {},
   "outputs": [
    {
     "data": {
      "text/html": [
       "<div>\n",
       "<style scoped>\n",
       "    .dataframe tbody tr th:only-of-type {\n",
       "        vertical-align: middle;\n",
       "    }\n",
       "\n",
       "    .dataframe tbody tr th {\n",
       "        vertical-align: top;\n",
       "    }\n",
       "\n",
       "    .dataframe thead th {\n",
       "        text-align: right;\n",
       "    }\n",
       "</style>\n",
       "<table border=\"1\" class=\"dataframe\">\n",
       "  <thead>\n",
       "    <tr style=\"text-align: right;\">\n",
       "      <th></th>\n",
       "      <th>Column</th>\n",
       "      <th>In/Out</th>\n",
       "    </tr>\n",
       "  </thead>\n",
       "  <tbody>\n",
       "    <tr>\n",
       "      <th>0</th>\n",
       "      <td>DRUM ID</td>\n",
       "      <td>OUT</td>\n",
       "    </tr>\n",
       "    <tr>\n",
       "      <th>1</th>\n",
       "      <td>QTY</td>\n",
       "      <td>OUT</td>\n",
       "    </tr>\n",
       "  </tbody>\n",
       "</table>\n",
       "</div>"
      ],
      "text/plain": [
       "    Column In/Out\n",
       "0  DRUM ID    OUT\n",
       "1      QTY    OUT"
      ]
     },
     "execution_count": 7,
     "metadata": {},
     "output_type": "execute_result"
    }
   ],
   "source": [
    "lb = pd.read_excel(\"data/labels.xlsx\",\"Raw\",header=0)\n",
    "lb.head(2)"
   ]
  },
  {
   "cell_type": "markdown",
   "metadata": {},
   "source": [
    "After a bit of tidying up in the In/Out column, i.e filling in any missing values or not either IN or OUT. We can trim off any excess columns that arn't of any interest and produce a lighter weight data set."
   ]
  },
  {
   "cell_type": "code",
   "execution_count": 8,
   "metadata": {},
   "outputs": [
    {
     "name": "stdout",
     "output_type": "stream",
     "text": [
      "A clean set of In/Out values\n",
      "['OUT' 'OUT' 'OUT' 'OUT' 'IN' 'IN' 'IN' 'IN' 'OUT' 'OUT' 'OUT' 'IN' 'OUT'\n",
      " 'OUT' 'OUT' 'OUT' 'OUT' 'OUT' 'IN' 'OUT' 'OUT' 'OUT' 'OUT' 'IN' 'OUT'\n",
      " 'OUT' 'OUT' 'OUT' 'OUT' 'OUT' 'OUT' 'OUT' 'OUT' 'OUT' 'OUT' 'OUT' 'OUT'\n",
      " 'OUT' 'OUT' 'OUT' 'OUT' 'OUT']\n",
      "\n"
     ]
    }
   ],
   "source": [
    "# Fill in any missing values in the In/Out column.\n",
    "lb.fillna(\"OUT\", inplace=True)\n",
    "\n",
    "# Replace any values that are not either IN or OUT.\n",
    "temp = [value if value in [\"IN\", \"OUT\"] else \"OUT\" for value in lb['In/Out'].values] \n",
    "lb['In/Out'] = temp\n",
    "print('A clean set of In/Out values')\n",
    "print(lb['In/Out'].values)\n",
    "print('')"
   ]
  },
  {
   "cell_type": "code",
   "execution_count": 9,
   "metadata": {},
   "outputs": [
    {
     "name": "stdout",
     "output_type": "stream",
     "text": [
      "Listed feature names\n",
      "4                       Description\n",
      "5     Components and Concentrations\n",
      "6                      Hazard Codes\n",
      "7                         UN Number\n",
      "11                              EWC\n",
      "18                         Disposal\n",
      "23                   Physical State\n",
      "Name: Column, dtype: object\n",
      "\n"
     ]
    }
   ],
   "source": [
    "# Filter the labels for those where In/Out == IN\n",
    "features = lb[lb['In/Out']=='IN'].astype('str')\n",
    "print('Listed feature names')\n",
    "print(features['Column'])\n",
    "print('')"
   ]
  },
  {
   "cell_type": "code",
   "execution_count": 10,
   "metadata": {},
   "outputs": [
    {
     "name": "stdout",
     "output_type": "stream",
     "text": [
      "Of the 42 columns there are 35 that are of no interest.\n",
      "\n",
      "After trimming 7 columns remain.\n",
      "['Description' 'Components_and_Concentrations' 'Hazard_Codes' 'UN_Number'\n",
      " 'EWC' 'Disposal' 'Physical_State']\n"
     ]
    }
   ],
   "source": [
    "# Select the column names to drop\n",
    "non_features = lb[lb['In/Out']=='OUT'].astype('str')\n",
    "\n",
    "print(f'Of the {len(df.columns)} columns there are { len(non_features)} that are of no interest.')\n",
    "print('')\n",
    "\n",
    "# Remove unwanted columns\n",
    "df_trim = df.drop(columns=non_features.Column.values, inplace=False)\n",
    "\n",
    "# Remove whitespace from column names\n",
    "df_trim.columns = df_trim.columns.str.replace(' ', '_')\n",
    "\n",
    "print(f'After trimming {len(df_trim.columns)} columns remain.')\n",
    "print(df_trim.columns.values)"
   ]
  },
  {
   "cell_type": "markdown",
   "metadata": {},
   "source": [
    "Of the 7 remaining columns we can look at each in turn. We will consider:\n",
    "- What place this column represents.\n",
    "- Cleansing and Repairing\n",
    "- Encoding\n",
    "- Adding to a dataframe of features.\n",
    "\n",
    "Let us first of all consider the datatypes of each column."
   ]
  },
  {
   "cell_type": "code",
   "execution_count": 11,
   "metadata": {},
   "outputs": [
    {
     "name": "stdout",
     "output_type": "stream",
     "text": [
      "Description                      object\n",
      "Components_and_Concentrations    object\n",
      "Hazard_Codes                     object\n",
      "UN_Number                        object\n",
      "EWC                              object\n",
      "Disposal                         object\n",
      "Physical_State                   object\n",
      "dtype: object\n"
     ]
    }
   ],
   "source": [
    "print(df_trim.dtypes)"
   ]
  },
  {
   "cell_type": "markdown",
   "metadata": {},
   "source": [
    "We see that all columns are object data types, for machine learning we need to convert these from objects into either float, int or bool data types. On further review we have a combination of categorical data expressed as text, plus entirely free text that is rich in common words or phrases.\n",
    "\n",
    "Categorical terms are prime candidates for one hot encoding, let us consider those first. These columns will be:\n",
    "- EWC\n",
    "- Hazard Codes\n",
    "- UN Number\n",
    "- Physical State\n",
    "\n",
    "Free text columns are:\n",
    "- Description\n",
    "- Components and Concentrations\n",
    "\n",
    "Our labels that we would like to predict are: Disposal"
   ]
  },
  {
   "cell_type": "markdown",
   "metadata": {},
   "source": [
    "\n",
    "## EWC (European Waste Code)\n",
    "\n",
    "These are categorical terms for the instustry sector from where the waste originates, they take the form of three pairs of number characters plus optionally an asterisk, most commonly the three pairs are joined to form a six digit number. Each disposal site has a list of allowable EWC codes on it's permit, this if anything should be the most significant term, however we do not have a copy of all of the sites permits. More than one site can have the same EWC so there are other factors to consider, not listed here such as comparative cost and geographical distance."
   ]
  },
  {
   "cell_type": "markdown",
   "metadata": {},
   "source": [
    "There is room for some standardisation and tidying before going any further. Consider the length of the code, it should be either 6 or 7 characters long, the seventh being an asterix which denotes hazardous nature. Since hazardous properties are described in other columns the presence of the asterix or otherwise can be ignored."
   ]
  },
  {
   "cell_type": "code",
   "execution_count": 12,
   "metadata": {},
   "outputs": [
    {
     "data": {
      "image/png": "[encoded data removed]",
      "text/plain": [
       "<Figure size 600x400 with 1 Axes>"
      ]
     },
     "metadata": {},
     "output_type": "display_data"
    }
   ],
   "source": [
    "def group_by_character_count(column):\n",
    "    grouped_items = {}\n",
    "    for item in column:\n",
    "        char_count = len(item)\n",
    "        if char_count not in grouped_items:\n",
    "            grouped_items[char_count] = []\n",
    "        grouped_items[char_count].append(item)\n",
    "    # Plotting the histogram\n",
    "    plt.figure(figsize=(6, 4))\n",
    "    plt.bar(grouped_items.keys(), [len(items) for items in grouped_items.values()])\n",
    "    plt.xlabel('Number of Characters')\n",
    "    plt.ylabel('Frequency')\n",
    "    plt.title('Histogram of EWC codes Grouped by Character Count')\n",
    "    plt.show()\n",
    "    return grouped_items\n",
    "\n",
    "# Group by number of characters\n",
    "grouped_items = group_by_character_count(df_trim.EWC.values.astype('str'))\n"
   ]
  },
  {
   "cell_type": "markdown",
   "metadata": {},
   "source": [
    "Plotting the frequecy distribution of EWC code length we find that there are a number that have 5 or 8 characters as well as the expected 6 or 7. This is typically due to their source in Excel numbers with preceding zeros will be truncated, yet EWC codes beginning with zero are legal values. Similarly to force Excel to treat a number as text it is sometimes preceded with an apostrophe.\n",
    "\n",
    "Tidying up steps will be:\n",
    "- Remove any rows without EWC codes\n",
    "- Reomve any apostrophes\n",
    "- Remove any asterisks\n",
    "- Remove whitespaces\n",
    "- Add zeros to the front of codes with 5 characters."
   ]
  },
  {
   "cell_type": "code",
   "execution_count": 13,
   "metadata": {},
   "outputs": [
    {
     "name": "stdout",
     "output_type": "stream",
     "text": [
      "After modification\n"
     ]
    },
    {
     "data": {
      "image/png": "[encoded data removed]",
      "text/plain": [
       "<Figure size 600x400 with 1 Axes>"
      ]
     },
     "metadata": {},
     "output_type": "display_data"
    }
   ],
   "source": [
    "# Remove rows where the length of the 'EWC' column is less than 5\n",
    "df_trim = df_trim[df_trim['EWC'].apply(lambda x: len(str(x)) >= 5) & df_trim['EWC'].notnull()]\n",
    "\n",
    "# Remove any preceding aphotrophes\n",
    "df_trim['EWC'] = df_trim['EWC'].str.lstrip(\"'\")\n",
    "\n",
    "# Remove any following asterisks\n",
    "df_trim['EWC'] = df_trim['EWC'].str.rstrip(\"*\")\n",
    "\n",
    "# Remove any whitespaces\n",
    "df_trim['EWC'] = df_trim['EWC'].str.strip()\n",
    "\n",
    "def add_zero_to_five_length_items(column):\n",
    "    modified_column = [item if len(item) != 5 else '0' + item for item in column]\n",
    "    return modified_column\n",
    "\n",
    "# Add zeros to front of EWCs\n",
    "df_trim['EWC'] = add_zero_to_five_length_items(df_trim.EWC.values.astype('str'))\n",
    "\n",
    "print('After modification')\n",
    "# Group by number of characters\n",
    "grouped_items = group_by_character_count(df_trim.EWC.values.astype('str'))\n"
   ]
  },
  {
   "cell_type": "markdown",
   "metadata": {},
   "source": [
    "Having tidied up we can then move on to encoding."
   ]
  },
  {
   "cell_type": "code",
   "execution_count": 14,
   "metadata": {},
   "outputs": [
    {
     "name": "stdout",
     "output_type": "stream",
     "text": [
      "There are 162 different EWC possibilities: ['150110' '130205' '150202' '200135' '160602' '160605' '200121' '160505'\n",
      " '160601' '160305' '160604' '150102' '080112' '200134' '130701' '160508'\n",
      " '140602' '160506' '180108' '150104' '160211' '200123' '160303' '140603'\n",
      " '160603' '200136' '160504' '170601' '161105' '080111' '200119' '160306'\n",
      " '160114' '160213' '200129' '160107' '180109' '130703' '130208' '200102'\n",
      " '170802' '170605' '080409' '060201' '180103' '160509' '150101' '080410'\n",
      " '160304' '080118' '050701' '150203' '200130' '080411' '080315' '130110'\n",
      " '160708' '120116' '160113' '191211' '080201' '160121' '160214' '160122'\n",
      " '130507' '120107' '170204' '070104' '160115' '161002' '130308' '130802'\n",
      " '080120' '161001' '080312' '200301' '200140' '180207' '170503' '170102'\n",
      " '200127' '080412' '080414' '100211' '200133' '130702' '101401' '180107'\n",
      " '200110' '070208' '200113' '200128' '120109' '160103' '150106' '080203'\n",
      " '100304' '080318' '060102' '090101' '200114' '060101' '200115' '020304'\n",
      " '060203' '070704' '130503' '060104' '200126' '070703' '150107' '120118'\n",
      " '160709' '130207' '130105' '200108' '200131' '160606' '160307' '130307'\n",
      " '160111' '080416' '170101' '160904' '080501' '180101' '160903' '161106'\n",
      " '120121' '120102' '080114' '120108' '080314' '101309' '130206' '070701'\n",
      " '160112' '170904' '170603' '180106' '180104' '190104' '060106' '160215'\n",
      " '170203' '080313' '170801' '060503' '200125' '160902' '040214' '100214'\n",
      " '160802' '160507' '130111' '080415' '080121' '200117' '060204' '120115'\n",
      " '170107' '130502']\n"
     ]
    }
   ],
   "source": [
    "ewc_unique = df_trim.EWC.unique()\n",
    "print(f'There are {len(ewc_unique)} different EWC possibilities: {ewc_unique}')"
   ]
  },
  {
   "cell_type": "markdown",
   "metadata": {},
   "source": [
    "If we were to one hot encode the EWC column we would have to add a feature column for each of the 162 possible EWC codes, the majority of which would be zeros, and occupy a lot of memory space. A more efficient approach would be a technique called feature hashing, as this is likely to be usefull for other columns as well we can build a reusable function for hashing."
   ]
  },
  {
   "cell_type": "code",
   "execution_count": 15,
   "metadata": {},
   "outputs": [],
   "source": [
    "from sklearn.feature_extraction import FeatureHasher\n",
    "\n",
    "def feature_hasher(data, prefix, num_features):\n",
    "    # Initialize the FeatureHasher object\n",
    "    hasher = FeatureHasher(n_features=num_features, input_type='string')\n",
    "\n",
    "    # Apply feature hashing to the data\n",
    "    hashed_features = hasher.transform(data.astype(str))\n",
    "\n",
    "    # Convert the hashed features to a DataFrame\n",
    "    df_hashed = pd.DataFrame(hashed_features.toarray())\n",
    "\n",
    "    # Add a prefix to the column name for each feature\n",
    "    df_hashed.columns = [prefix + '_' + col for col in df_hashed.columns.astype('str')]\n",
    "    \n",
    "    return df_hashed"
   ]
  },
  {
   "cell_type": "code",
   "execution_count": 16,
   "metadata": {},
   "outputs": [
    {
     "data": {
      "text/html": [
       "<div>\n",
       "<style scoped>\n",
       "    .dataframe tbody tr th:only-of-type {\n",
       "        vertical-align: middle;\n",
       "    }\n",
       "\n",
       "    .dataframe tbody tr th {\n",
       "        vertical-align: top;\n",
       "    }\n",
       "\n",
       "    .dataframe thead th {\n",
       "        text-align: right;\n",
       "    }\n",
       "</style>\n",
       "<table border=\"1\" class=\"dataframe\">\n",
       "  <thead>\n",
       "    <tr style=\"text-align: right;\">\n",
       "      <th></th>\n",
       "      <th>EWC_0</th>\n",
       "      <th>EWC_1</th>\n",
       "      <th>EWC_2</th>\n",
       "      <th>EWC_3</th>\n",
       "      <th>EWC_4</th>\n",
       "      <th>EWC_5</th>\n",
       "    </tr>\n",
       "  </thead>\n",
       "  <tbody>\n",
       "    <tr>\n",
       "      <th>0</th>\n",
       "      <td>1.0</td>\n",
       "      <td>-5.0</td>\n",
       "      <td>0.0</td>\n",
       "      <td>0.0</td>\n",
       "      <td>0.0</td>\n",
       "      <td>0.0</td>\n",
       "    </tr>\n",
       "    <tr>\n",
       "      <th>1</th>\n",
       "      <td>1.0</td>\n",
       "      <td>-5.0</td>\n",
       "      <td>0.0</td>\n",
       "      <td>0.0</td>\n",
       "      <td>0.0</td>\n",
       "      <td>0.0</td>\n",
       "    </tr>\n",
       "    <tr>\n",
       "      <th>2</th>\n",
       "      <td>2.0</td>\n",
       "      <td>-3.0</td>\n",
       "      <td>0.0</td>\n",
       "      <td>1.0</td>\n",
       "      <td>0.0</td>\n",
       "      <td>0.0</td>\n",
       "    </tr>\n",
       "    <tr>\n",
       "      <th>3</th>\n",
       "      <td>1.0</td>\n",
       "      <td>-3.0</td>\n",
       "      <td>0.0</td>\n",
       "      <td>2.0</td>\n",
       "      <td>0.0</td>\n",
       "      <td>0.0</td>\n",
       "    </tr>\n",
       "    <tr>\n",
       "      <th>4</th>\n",
       "      <td>2.0</td>\n",
       "      <td>-3.0</td>\n",
       "      <td>0.0</td>\n",
       "      <td>1.0</td>\n",
       "      <td>0.0</td>\n",
       "      <td>0.0</td>\n",
       "    </tr>\n",
       "  </tbody>\n",
       "</table>\n",
       "</div>"
      ],
      "text/plain": [
       "   EWC_0  EWC_1  EWC_2  EWC_3  EWC_4  EWC_5\n",
       "0    1.0   -5.0    0.0    0.0    0.0    0.0\n",
       "1    1.0   -5.0    0.0    0.0    0.0    0.0\n",
       "2    2.0   -3.0    0.0    1.0    0.0    0.0\n",
       "3    1.0   -3.0    0.0    2.0    0.0    0.0\n",
       "4    2.0   -3.0    0.0    1.0    0.0    0.0"
      ]
     },
     "execution_count": 16,
     "metadata": {},
     "output_type": "execute_result"
    }
   ],
   "source": [
    "# Hash EWC Codes, we choose 6 features as there are 6 characters in a EWC code.\n",
    "df_ewc = feature_hasher(df_trim['EWC'], 'EWC', 6)\n",
    "df_ewc.head()"
   ]
  },
  {
   "cell_type": "markdown",
   "metadata": {},
   "source": [
    "## Physical Form\n",
    "\n",
    "A text field with categorical single word terms, since they are free text entry we should take a closer look."
   ]
  },
  {
   "cell_type": "code",
   "execution_count": 17,
   "metadata": {},
   "outputs": [
    {
     "name": "stdout",
     "output_type": "stream",
     "text": [
      "There are 6 different forms: ['SOLID' 'LIQUID' 'MIXED' 'SLUDGE' 'GAS' 'POWDER']\n",
      "SOLID     9238\n",
      "MIXED     6546\n",
      "LIQUID    3987\n",
      "SLUDGE     951\n",
      "GAS        265\n",
      "POWDER      57\n",
      "Name: Physical_State, dtype: int64\n"
     ]
    },
    {
     "data": {
      "image/png": "[encoded data removed]",
      "text/plain": [
       "<Figure size 400x200 with 1 Axes>"
      ]
     },
     "metadata": {},
     "output_type": "display_data"
    }
   ],
   "source": [
    "# Remove whitespaces\n",
    "df_trim.Physical_State = df_trim.Physical_State.str.strip()\n",
    "\n",
    "# Review a few properties\n",
    "physical_state_unique = df_trim.Physical_State.unique()\n",
    "print(f'There are {len(physical_state_unique)} different forms: {physical_state_unique}')\n",
    "print(df_trim.Physical_State.value_counts())\n",
    "create_histogram_from_column(df_trim, 'Physical_State', 4, 2)"
   ]
  },
  {
   "cell_type": "markdown",
   "metadata": {},
   "source": [
    "The physical state column appears to be clean data with low dimensionality therefore we can apply one hot encoding."
   ]
  },
  {
   "cell_type": "code",
   "execution_count": 18,
   "metadata": {},
   "outputs": [
    {
     "data": {
      "text/html": [
       "<div>\n",
       "<style scoped>\n",
       "    .dataframe tbody tr th:only-of-type {\n",
       "        vertical-align: middle;\n",
       "    }\n",
       "\n",
       "    .dataframe tbody tr th {\n",
       "        vertical-align: top;\n",
       "    }\n",
       "\n",
       "    .dataframe thead th {\n",
       "        text-align: right;\n",
       "    }\n",
       "</style>\n",
       "<table border=\"1\" class=\"dataframe\">\n",
       "  <thead>\n",
       "    <tr style=\"text-align: right;\">\n",
       "      <th></th>\n",
       "      <th>Physical_State_GAS</th>\n",
       "      <th>Physical_State_LIQUID</th>\n",
       "      <th>Physical_State_MIXED</th>\n",
       "      <th>Physical_State_POWDER</th>\n",
       "      <th>Physical_State_SLUDGE</th>\n",
       "      <th>Physical_State_SOLID</th>\n",
       "    </tr>\n",
       "  </thead>\n",
       "  <tbody>\n",
       "    <tr>\n",
       "      <th>0</th>\n",
       "      <td>0</td>\n",
       "      <td>0</td>\n",
       "      <td>0</td>\n",
       "      <td>0</td>\n",
       "      <td>0</td>\n",
       "      <td>1</td>\n",
       "    </tr>\n",
       "    <tr>\n",
       "      <th>1</th>\n",
       "      <td>0</td>\n",
       "      <td>0</td>\n",
       "      <td>0</td>\n",
       "      <td>0</td>\n",
       "      <td>0</td>\n",
       "      <td>1</td>\n",
       "    </tr>\n",
       "    <tr>\n",
       "      <th>2</th>\n",
       "      <td>0</td>\n",
       "      <td>1</td>\n",
       "      <td>0</td>\n",
       "      <td>0</td>\n",
       "      <td>0</td>\n",
       "      <td>0</td>\n",
       "    </tr>\n",
       "    <tr>\n",
       "      <th>3</th>\n",
       "      <td>0</td>\n",
       "      <td>0</td>\n",
       "      <td>1</td>\n",
       "      <td>0</td>\n",
       "      <td>0</td>\n",
       "      <td>0</td>\n",
       "    </tr>\n",
       "    <tr>\n",
       "      <th>4</th>\n",
       "      <td>0</td>\n",
       "      <td>0</td>\n",
       "      <td>0</td>\n",
       "      <td>0</td>\n",
       "      <td>0</td>\n",
       "      <td>1</td>\n",
       "    </tr>\n",
       "  </tbody>\n",
       "</table>\n",
       "</div>"
      ],
      "text/plain": [
       "   Physical_State_GAS  Physical_State_LIQUID  Physical_State_MIXED  \\\n",
       "0                   0                      0                     0   \n",
       "1                   0                      0                     0   \n",
       "2                   0                      1                     0   \n",
       "3                   0                      0                     1   \n",
       "4                   0                      0                     0   \n",
       "\n",
       "   Physical_State_POWDER  Physical_State_SLUDGE  Physical_State_SOLID  \n",
       "0                      0                      0                     1  \n",
       "1                      0                      0                     1  \n",
       "2                      0                      0                     0  \n",
       "3                      0                      0                     0  \n",
       "4                      0                      0                     1  "
      ]
     },
     "execution_count": 18,
     "metadata": {},
     "output_type": "execute_result"
    }
   ],
   "source": [
    "# Create a copy of the data to encode\n",
    "df_physical_state = pd.DataFrame({'Physical_State': df_trim['Physical_State'].values})\n",
    "\n",
    "# Call pandas get_dummies to one hot encode\n",
    "df_physical_state = pd.get_dummies(df_physical_state)\n",
    "df_physical_state.head()"
   ]
  },
  {
   "cell_type": "markdown",
   "metadata": {},
   "source": [
    "## Processing Text\n",
    "\n",
    "For dealing with free text descriptions we will need to provide a method for turning text into a floating point number or vector. Fortunately this can be achieved for us by employing the Word2Vec library.\n",
    "\n",
    "First of all we provide a function for tidying up, removing punctuation."
   ]
  },
  {
   "cell_type": "code",
   "execution_count": 19,
   "metadata": {},
   "outputs": [],
   "source": [
    "# Define a function to preprocess and clean a word\n",
    "def preprocess_word(word):\n",
    "    word = ''.join([c if c not in string.punctuation else ' ' for c in word])  # Remove punctuation from within text\n",
    "    return word\n"
   ]
  },
  {
   "cell_type": "markdown",
   "metadata": {},
   "source": [
    "We can remove any unwanted english terms using the natural language tool kit nltk, english stopwords definitions. As this application is specically for hazardous waste we can add a few more unhelpful terms by extending the english set."
   ]
  },
  {
   "cell_type": "code",
   "execution_count": 20,
   "metadata": {},
   "outputs": [],
   "source": [
    "# Get the list of English stop words, this has been downloaded automatically by the natural language toolkit NLTK and saved to a local folder, in AppData.\n",
    "stopwords = nltk.corpus.stopwords.words('english')\n",
    "\n",
    "# Additional terms specific to this application can be added, by extending the english stopwords set.\n",
    "new_stop_words = ['waste','contaminated','with','haz','hazardous','non','non-haz','non-hazardous','w/l','c/w','sched','scheduled','as','per']\n",
    "stopwords.extend(new_stop_words)"
   ]
  },
  {
   "cell_type": "markdown",
   "metadata": {},
   "source": [
    "\n",
    "The next step is to split long descriptions into individual words."
   ]
  },
  {
   "cell_type": "code",
   "execution_count": 21,
   "metadata": {},
   "outputs": [],
   "source": [
    "# Split sentences into lists of preprocessed words and remove any unhelpful terms.\n",
    "def preprocess_sentence(text, isalpha=True):\n",
    "    tokens = word_tokenize(preprocess_word(text)) \n",
    "    tokens = [word.lower() for word in tokens]\n",
    "    tokens = [word.strip() for word in tokens]\n",
    "    if(isalpha): # if True remove numbers\n",
    "        tokens = [word for word in tokens if word.isalpha()]\n",
    "    tokens = [word for word in tokens if word not in stopwords]\n",
    "    tokens = [word for word in tokens if word not in string.punctuation]\n",
    "    return tokens\n",
    "\n",
    "# Produce a dataframe containing a set of vectorised text\n",
    "def vectorise(data, column_name, isalpha, vector_size, window, min_count, sg):\n",
    "    # Extract text data from a specific column\n",
    "    word_column = data[column_name].astype('str').tolist()\n",
    "    print('')\n",
    "\n",
    "    # Extract unique words and preprocess them\n",
    "    tokenized_sentences = [preprocess_sentence(word, isalpha) for word in word_column]\n",
    "    print(f'{column_name} processed_data {len(tokenized_sentences)}')\n",
    "\n",
    "    # Train the Word2Vec model\n",
    "    model = Word2Vec(sentences=tokenized_sentences, vector_size=vector_size, window=window, min_count=min_count, sg=sg)\n",
    "\n",
    "    # Save the Word2Vec model\n",
    "    #model.save(f'./models/{column_name}_model')\n",
    "\n",
    "    # Create sentence vectors by averaging the word vectors for each preprocessed word in the sentence\n",
    "    sentence_vectors = []\n",
    "    for sentence in tokenized_sentences:\n",
    "        if(len(sentence) > 0):\n",
    "            word_vectors = [model.wv[word] for word in sentence if word in model.wv]\n",
    "            if word_vectors:\n",
    "                sentence_vector = np.mean(word_vectors, axis=0)\n",
    "            else:\n",
    "                print(f'{sentence} not found in vocabulary.')\n",
    "                sentence_vector = np.zeros(model.vector_size)\n",
    "            sentence_vectors.append(sentence_vector)\n",
    "    \n",
    "    # Remove whitespaces from column names\n",
    "    cn = column_name.replace(' ','_')\n",
    "\n",
    "    # Add to a dataframe of features\n",
    "    sentence_vectors_df = pd.DataFrame(sentence_vectors, columns=[f'{cn}_{i}' for i in range(model.vector_size)])\n",
    "    return sentence_vectors_df\n"
   ]
  },
  {
   "cell_type": "markdown",
   "metadata": {},
   "source": [
    "## Description\n",
    "\n",
    "This is a short general description of the type of waste, typically less than ten words."
   ]
  },
  {
   "cell_type": "code",
   "execution_count": 22,
   "metadata": {},
   "outputs": [
    {
     "name": "stdout",
     "output_type": "stream",
     "text": [
      "Number of rows with empty cells in 'Description' column: 0\n",
      "\n",
      "Description processed_data 21044\n"
     ]
    },
    {
     "ename": "FileNotFoundError",
     "evalue": "[Errno 2] No such file or directory: './models/Description_model'",
     "output_type": "error",
     "traceback": [
      "\u001b[1;31m---------------------------------------------------------------------------\u001b[0m",
      "\u001b[1;31mTypeError\u001b[0m                                 Traceback (most recent call last)",
      "\u001b[1;32mc:\\Users\\User\\anaconda3\\lib\\site-packages\\gensim\\utils.py\u001b[0m in \u001b[0;36msave\u001b[1;34m(self, fname_or_handle, separately, sep_limit, ignore, pickle_protocol)\u001b[0m\n\u001b[0;32m    762\u001b[0m         \u001b[1;32mtry\u001b[0m\u001b[1;33m:\u001b[0m\u001b[1;33m\u001b[0m\u001b[1;33m\u001b[0m\u001b[0m\n\u001b[1;32m--> 763\u001b[1;33m             \u001b[0m_pickle\u001b[0m\u001b[1;33m.\u001b[0m\u001b[0mdump\u001b[0m\u001b[1;33m(\u001b[0m\u001b[0mself\u001b[0m\u001b[1;33m,\u001b[0m \u001b[0mfname_or_handle\u001b[0m\u001b[1;33m,\u001b[0m \u001b[0mprotocol\u001b[0m\u001b[1;33m=\u001b[0m\u001b[0mpickle_protocol\u001b[0m\u001b[1;33m)\u001b[0m\u001b[1;33m\u001b[0m\u001b[1;33m\u001b[0m\u001b[0m\n\u001b[0m\u001b[0;32m    764\u001b[0m             \u001b[0mlogger\u001b[0m\u001b[1;33m.\u001b[0m\u001b[0minfo\u001b[0m\u001b[1;33m(\u001b[0m\u001b[1;34m\"saved %s object\"\u001b[0m\u001b[1;33m,\u001b[0m \u001b[0mself\u001b[0m\u001b[1;33m.\u001b[0m\u001b[0m__class__\u001b[0m\u001b[1;33m.\u001b[0m\u001b[0m__name__\u001b[0m\u001b[1;33m)\u001b[0m\u001b[1;33m\u001b[0m\u001b[1;33m\u001b[0m\u001b[0m\n",
      "\u001b[1;31mTypeError\u001b[0m: file must have a 'write' attribute",
      "\nDuring handling of the above exception, another exception occurred:\n",
      "\u001b[1;31mFileNotFoundError\u001b[0m                         Traceback (most recent call last)",
      "\u001b[1;32m~\\AppData\\Local\\Temp\\ipykernel_20180\\3279306547.py\u001b[0m in \u001b[0;36m<module>\u001b[1;34m\u001b[0m\n\u001b[0;32m      4\u001b[0m \u001b[1;33m\u001b[0m\u001b[0m\n\u001b[0;32m      5\u001b[0m \u001b[1;31m# Build a dataframe for vector representations\u001b[0m\u001b[1;33m\u001b[0m\u001b[1;33m\u001b[0m\u001b[0m\n\u001b[1;32m----> 6\u001b[1;33m \u001b[0mdes_vectors_df\u001b[0m \u001b[1;33m=\u001b[0m \u001b[0mvectorise\u001b[0m\u001b[1;33m(\u001b[0m\u001b[0mdf_trim\u001b[0m\u001b[1;33m,\u001b[0m \u001b[0mcolumn_name\u001b[0m\u001b[1;33m=\u001b[0m\u001b[1;34m'Description'\u001b[0m\u001b[1;33m,\u001b[0m \u001b[0misalpha\u001b[0m\u001b[1;33m=\u001b[0m\u001b[1;32mTrue\u001b[0m\u001b[1;33m,\u001b[0m \u001b[0mvector_size\u001b[0m\u001b[1;33m=\u001b[0m\u001b[1;36m100\u001b[0m\u001b[1;33m,\u001b[0m \u001b[0mwindow\u001b[0m\u001b[1;33m=\u001b[0m\u001b[1;36m10\u001b[0m\u001b[1;33m,\u001b[0m \u001b[0mmin_count\u001b[0m\u001b[1;33m=\u001b[0m\u001b[1;36m1\u001b[0m\u001b[1;33m,\u001b[0m \u001b[0msg\u001b[0m\u001b[1;33m=\u001b[0m\u001b[1;36m0\u001b[0m\u001b[1;33m)\u001b[0m\u001b[1;33m\u001b[0m\u001b[1;33m\u001b[0m\u001b[0m\n\u001b[0m\u001b[0;32m      7\u001b[0m \u001b[0mdes_vectors_df\u001b[0m\u001b[1;33m.\u001b[0m\u001b[0mhead\u001b[0m\u001b[1;33m(\u001b[0m\u001b[1;33m)\u001b[0m\u001b[1;33m\u001b[0m\u001b[1;33m\u001b[0m\u001b[0m\n",
      "\u001b[1;32m~\\AppData\\Local\\Temp\\ipykernel_20180\\2159884000.py\u001b[0m in \u001b[0;36mvectorise\u001b[1;34m(data, column_name, isalpha, vector_size, window, min_count, sg)\u001b[0m\n\u001b[0;32m     24\u001b[0m \u001b[1;33m\u001b[0m\u001b[0m\n\u001b[0;32m     25\u001b[0m     \u001b[1;31m# Save the Word2Vec model\u001b[0m\u001b[1;33m\u001b[0m\u001b[1;33m\u001b[0m\u001b[0m\n\u001b[1;32m---> 26\u001b[1;33m     \u001b[0mmodel\u001b[0m\u001b[1;33m.\u001b[0m\u001b[0msave\u001b[0m\u001b[1;33m(\u001b[0m\u001b[1;34mf'./models/{column_name}_model'\u001b[0m\u001b[1;33m)\u001b[0m\u001b[1;33m\u001b[0m\u001b[1;33m\u001b[0m\u001b[0m\n\u001b[0m\u001b[0;32m     27\u001b[0m \u001b[1;33m\u001b[0m\u001b[0m\n\u001b[0;32m     28\u001b[0m     \u001b[1;31m# Create sentence vectors by averaging the word vectors for each preprocessed word in the sentence\u001b[0m\u001b[1;33m\u001b[0m\u001b[1;33m\u001b[0m\u001b[0m\n",
      "\u001b[1;32mc:\\Users\\User\\anaconda3\\lib\\site-packages\\gensim\\models\\word2vec.py\u001b[0m in \u001b[0;36msave\u001b[1;34m(self, *args, **kwargs)\u001b[0m\n\u001b[0;32m   1898\u001b[0m \u001b[1;33m\u001b[0m\u001b[0m\n\u001b[0;32m   1899\u001b[0m         \"\"\"\n\u001b[1;32m-> 1900\u001b[1;33m         \u001b[0msuper\u001b[0m\u001b[1;33m(\u001b[0m\u001b[0mWord2Vec\u001b[0m\u001b[1;33m,\u001b[0m \u001b[0mself\u001b[0m\u001b[1;33m)\u001b[0m\u001b[1;33m.\u001b[0m\u001b[0msave\u001b[0m\u001b[1;33m(\u001b[0m\u001b[1;33m*\u001b[0m\u001b[0margs\u001b[0m\u001b[1;33m,\u001b[0m \u001b[1;33m**\u001b[0m\u001b[0mkwargs\u001b[0m\u001b[1;33m)\u001b[0m\u001b[1;33m\u001b[0m\u001b[1;33m\u001b[0m\u001b[0m\n\u001b[0m\u001b[0;32m   1901\u001b[0m \u001b[1;33m\u001b[0m\u001b[0m\n\u001b[0;32m   1902\u001b[0m     \u001b[1;32mdef\u001b[0m \u001b[0m_save_specials\u001b[0m\u001b[1;33m(\u001b[0m\u001b[0mself\u001b[0m\u001b[1;33m,\u001b[0m \u001b[0mfname\u001b[0m\u001b[1;33m,\u001b[0m \u001b[0mseparately\u001b[0m\u001b[1;33m,\u001b[0m \u001b[0msep_limit\u001b[0m\u001b[1;33m,\u001b[0m \u001b[0mignore\u001b[0m\u001b[1;33m,\u001b[0m \u001b[0mpickle_protocol\u001b[0m\u001b[1;33m,\u001b[0m \u001b[0mcompress\u001b[0m\u001b[1;33m,\u001b[0m \u001b[0msubname\u001b[0m\u001b[1;33m)\u001b[0m\u001b[1;33m:\u001b[0m\u001b[1;33m\u001b[0m\u001b[1;33m\u001b[0m\u001b[0m\n",
      "\u001b[1;32mc:\\Users\\User\\anaconda3\\lib\\site-packages\\gensim\\utils.py\u001b[0m in \u001b[0;36msave\u001b[1;34m(self, fname_or_handle, separately, sep_limit, ignore, pickle_protocol)\u001b[0m\n\u001b[0;32m    764\u001b[0m             \u001b[0mlogger\u001b[0m\u001b[1;33m.\u001b[0m\u001b[0minfo\u001b[0m\u001b[1;33m(\u001b[0m\u001b[1;34m\"saved %s object\"\u001b[0m\u001b[1;33m,\u001b[0m \u001b[0mself\u001b[0m\u001b[1;33m.\u001b[0m\u001b[0m__class__\u001b[0m\u001b[1;33m.\u001b[0m\u001b[0m__name__\u001b[0m\u001b[1;33m)\u001b[0m\u001b[1;33m\u001b[0m\u001b[1;33m\u001b[0m\u001b[0m\n\u001b[0;32m    765\u001b[0m         \u001b[1;32mexcept\u001b[0m \u001b[0mTypeError\u001b[0m\u001b[1;33m:\u001b[0m  \u001b[1;31m# `fname_or_handle` does not have write attribute\u001b[0m\u001b[1;33m\u001b[0m\u001b[1;33m\u001b[0m\u001b[0m\n\u001b[1;32m--> 766\u001b[1;33m             \u001b[0mself\u001b[0m\u001b[1;33m.\u001b[0m\u001b[0m_smart_save\u001b[0m\u001b[1;33m(\u001b[0m\u001b[0mfname_or_handle\u001b[0m\u001b[1;33m,\u001b[0m \u001b[0mseparately\u001b[0m\u001b[1;33m,\u001b[0m \u001b[0msep_limit\u001b[0m\u001b[1;33m,\u001b[0m \u001b[0mignore\u001b[0m\u001b[1;33m,\u001b[0m \u001b[0mpickle_protocol\u001b[0m\u001b[1;33m=\u001b[0m\u001b[0mpickle_protocol\u001b[0m\u001b[1;33m)\u001b[0m\u001b[1;33m\u001b[0m\u001b[1;33m\u001b[0m\u001b[0m\n\u001b[0m\u001b[0;32m    767\u001b[0m \u001b[1;33m\u001b[0m\u001b[0m\n\u001b[0;32m    768\u001b[0m \u001b[1;33m\u001b[0m\u001b[0m\n",
      "\u001b[1;32mc:\\Users\\User\\anaconda3\\lib\\site-packages\\gensim\\utils.py\u001b[0m in \u001b[0;36m_smart_save\u001b[1;34m(self, fname, separately, sep_limit, ignore, pickle_protocol)\u001b[0m\n\u001b[0;32m    608\u001b[0m         )\n\u001b[0;32m    609\u001b[0m         \u001b[1;32mtry\u001b[0m\u001b[1;33m:\u001b[0m\u001b[1;33m\u001b[0m\u001b[1;33m\u001b[0m\u001b[0m\n\u001b[1;32m--> 610\u001b[1;33m             \u001b[0mpickle\u001b[0m\u001b[1;33m(\u001b[0m\u001b[0mself\u001b[0m\u001b[1;33m,\u001b[0m \u001b[0mfname\u001b[0m\u001b[1;33m,\u001b[0m \u001b[0mprotocol\u001b[0m\u001b[1;33m=\u001b[0m\u001b[0mpickle_protocol\u001b[0m\u001b[1;33m)\u001b[0m\u001b[1;33m\u001b[0m\u001b[1;33m\u001b[0m\u001b[0m\n\u001b[0m\u001b[0;32m    611\u001b[0m         \u001b[1;32mfinally\u001b[0m\u001b[1;33m:\u001b[0m\u001b[1;33m\u001b[0m\u001b[1;33m\u001b[0m\u001b[0m\n\u001b[0;32m    612\u001b[0m             \u001b[1;31m# restore attribs handled specially\u001b[0m\u001b[1;33m\u001b[0m\u001b[1;33m\u001b[0m\u001b[0m\n",
      "\u001b[1;32mc:\\Users\\User\\anaconda3\\lib\\site-packages\\gensim\\utils.py\u001b[0m in \u001b[0;36mpickle\u001b[1;34m(obj, fname, protocol)\u001b[0m\n\u001b[0;32m   1439\u001b[0m \u001b[1;33m\u001b[0m\u001b[0m\n\u001b[0;32m   1440\u001b[0m     \"\"\"\n\u001b[1;32m-> 1441\u001b[1;33m     \u001b[1;32mwith\u001b[0m \u001b[0mopen\u001b[0m\u001b[1;33m(\u001b[0m\u001b[0mfname\u001b[0m\u001b[1;33m,\u001b[0m \u001b[1;34m'wb'\u001b[0m\u001b[1;33m)\u001b[0m \u001b[1;32mas\u001b[0m \u001b[0mfout\u001b[0m\u001b[1;33m:\u001b[0m  \u001b[1;31m# 'b' for binary, needed on Windows\u001b[0m\u001b[1;33m\u001b[0m\u001b[1;33m\u001b[0m\u001b[0m\n\u001b[0m\u001b[0;32m   1442\u001b[0m         \u001b[0m_pickle\u001b[0m\u001b[1;33m.\u001b[0m\u001b[0mdump\u001b[0m\u001b[1;33m(\u001b[0m\u001b[0mobj\u001b[0m\u001b[1;33m,\u001b[0m \u001b[0mfout\u001b[0m\u001b[1;33m,\u001b[0m \u001b[0mprotocol\u001b[0m\u001b[1;33m=\u001b[0m\u001b[0mprotocol\u001b[0m\u001b[1;33m)\u001b[0m\u001b[1;33m\u001b[0m\u001b[1;33m\u001b[0m\u001b[0m\n\u001b[0;32m   1443\u001b[0m \u001b[1;33m\u001b[0m\u001b[0m\n",
      "\u001b[1;32mc:\\Users\\User\\anaconda3\\lib\\site-packages\\smart_open\\smart_open_lib.py\u001b[0m in \u001b[0;36mopen\u001b[1;34m(uri, mode, buffering, encoding, errors, newline, closefd, opener, ignore_ext, compression, transport_params)\u001b[0m\n\u001b[0;32m    186\u001b[0m         \u001b[0mtransport_params\u001b[0m \u001b[1;33m=\u001b[0m \u001b[1;33m{\u001b[0m\u001b[1;33m}\u001b[0m\u001b[1;33m\u001b[0m\u001b[1;33m\u001b[0m\u001b[0m\n\u001b[0;32m    187\u001b[0m \u001b[1;33m\u001b[0m\u001b[0m\n\u001b[1;32m--> 188\u001b[1;33m     fobj = _shortcut_open(\n\u001b[0m\u001b[0;32m    189\u001b[0m         \u001b[0muri\u001b[0m\u001b[1;33m,\u001b[0m\u001b[1;33m\u001b[0m\u001b[1;33m\u001b[0m\u001b[0m\n\u001b[0;32m    190\u001b[0m         \u001b[0mmode\u001b[0m\u001b[1;33m,\u001b[0m\u001b[1;33m\u001b[0m\u001b[1;33m\u001b[0m\u001b[0m\n",
      "\u001b[1;32mc:\\Users\\User\\anaconda3\\lib\\site-packages\\smart_open\\smart_open_lib.py\u001b[0m in \u001b[0;36m_shortcut_open\u001b[1;34m(uri, mode, compression, buffering, encoding, errors, newline)\u001b[0m\n\u001b[0;32m    359\u001b[0m         \u001b[0mopen_kwargs\u001b[0m\u001b[1;33m[\u001b[0m\u001b[1;34m'errors'\u001b[0m\u001b[1;33m]\u001b[0m \u001b[1;33m=\u001b[0m \u001b[0merrors\u001b[0m\u001b[1;33m\u001b[0m\u001b[1;33m\u001b[0m\u001b[0m\n\u001b[0;32m    360\u001b[0m \u001b[1;33m\u001b[0m\u001b[0m\n\u001b[1;32m--> 361\u001b[1;33m     \u001b[1;32mreturn\u001b[0m \u001b[0m_builtin_open\u001b[0m\u001b[1;33m(\u001b[0m\u001b[0mlocal_path\u001b[0m\u001b[1;33m,\u001b[0m \u001b[0mmode\u001b[0m\u001b[1;33m,\u001b[0m \u001b[0mbuffering\u001b[0m\u001b[1;33m=\u001b[0m\u001b[0mbuffering\u001b[0m\u001b[1;33m,\u001b[0m \u001b[1;33m**\u001b[0m\u001b[0mopen_kwargs\u001b[0m\u001b[1;33m)\u001b[0m\u001b[1;33m\u001b[0m\u001b[1;33m\u001b[0m\u001b[0m\n\u001b[0m\u001b[0;32m    362\u001b[0m \u001b[1;33m\u001b[0m\u001b[0m\n\u001b[0;32m    363\u001b[0m \u001b[1;33m\u001b[0m\u001b[0m\n",
      "\u001b[1;31mFileNotFoundError\u001b[0m: [Errno 2] No such file or directory: './models/Description_model'"
     ]
    }
   ],
   "source": [
    "# Count the number of rows with empty cells in 'Description' column\n",
    "num_empty_rows = len(df_trim[df_trim['Description']==' '])\n",
    "print(\"Number of rows with empty cells in 'Description' column:\", num_empty_rows)\n",
    "\n",
    "# Build a dataframe for vector representations\n",
    "des_vectors_df = vectorise(df_trim, column_name='Description', isalpha=True, vector_size=100, window=10, min_count=1, sg=0)\n",
    "des_vectors_df.head()"
   ]
  },
  {
   "cell_type": "markdown",
   "metadata": {},
   "source": [
    "## Disposal\n",
    "\n",
    "The destination for the waste, which is the bit we are trying to predict. For simplicity we can map these text values to their index number in a list of all outlets."
   ]
  },
  {
   "cell_type": "code",
   "execution_count": null,
   "metadata": {},
   "outputs": [],
   "source": [
    "# Tidy up a bit\n",
    "df_trim['Disposal'].str.upper()\n",
    "df_trim['Disposal'].str.strip()\n",
    "\n",
    "# Create a dataframe\n",
    "df_disposal = pd.DataFrame({'Disposal': df_trim['Disposal'].values})\n",
    "\n",
    "# Create a dictionary mapping 'Disposal' values to their index\n",
    "disposal_index_map = {disposal: idx for idx, disposal in enumerate(np.sort(np.unique(df_disposal['Disposal'])))}\n",
    "print(disposal_index_map)\n",
    "\n",
    "# Create a new column 'Disposal_Index' in the DataFrame\n",
    "df_disposal['Disposal_Index'] = df_disposal['Disposal'].map(disposal_index_map)\n",
    "\n",
    "df_disposal.head()"
   ]
  },
  {
   "cell_type": "markdown",
   "metadata": {},
   "source": [
    "## UN Number\n",
    "\n",
    "Legal values are NCAD for non hazardous material, or a four digit number that represents a particular category, i.e. non scalar values. "
   ]
  },
  {
   "cell_type": "code",
   "execution_count": null,
   "metadata": {},
   "outputs": [],
   "source": [
    "# Tidy up\n",
    "df_trim['UN_Number'].str.upper()\n",
    "df_trim['UN_Number'].str.replace(\"'\",'')\n",
    "\n",
    "# Find uniques values\n",
    "un_numbers_unique = df_trim['UN_Number'].unique()\n",
    "\n",
    "# View results\n",
    "print(f'There are {len(un_numbers_unique)} unique UN Number values out of { len(df_trim)} rows' )\n",
    "create_histogram_from_column(df_trim, 'UN_Number', 45, 10)"
   ]
  },
  {
   "cell_type": "markdown",
   "metadata": {},
   "source": [
    "Similar to EWC codes, UN Numbers are categorical terms and could be one hot encoded, however due to the high number of possibilities feature hashing is a more efficient approach."
   ]
  },
  {
   "cell_type": "code",
   "execution_count": null,
   "metadata": {},
   "outputs": [],
   "source": [
    "# Build a dataframe for encoded UN Numbers, as these are four characters then we will use n_features = 4.\n",
    "df_un = feature_hasher(df_trim['UN_Number'],'UN_Number', 4)\n",
    "df_un.head()"
   ]
  },
  {
   "cell_type": "markdown",
   "metadata": {},
   "source": [
    "## Components and Concentrations\n",
    "\n",
    "A list of component / concentration pairs, or if this is too complex \"As list\", or if non hazardous \"Nil Hazardous Components\".\n",
    "\n",
    "This field has chemical names and concentrations which to a human reader with some knowledge of chemistry are easy to comprehend, to capture the same level of understanding at machine learning level though will be difficult. Not withstanding the additional complication of free text entry and typographical errors, there are several naming conventions for chemical names, new/old and very old, european, american... and so on. We also find \"as list\" and \"nil hazardous components\" in this field which are legitimate terms within the boundaries of waste description, but their level of abstractness circumnavigates any methodology relating to the recognition of chemical entities. Instead we shall consider a broader scope, that more closely matching the capture of meaning or semantics.\n",
    "\n",
    "This field is rich in chemical nomenclature that form common word fragments. For example chemicals that contain one of the halogen elements, all have four character fragments such as fluo, chlo, brom, Iodo. Alkyl alcohols all contain a common term for the length of the carbon chain and end with 'anol', e.g. eth-anol, meth-anol, prop-anol. etc. Perhaps there is scope to consider fragmenting the words in this column and hoping that the most common chemical fragments will float to the top in a frequency distribution, but this asks the question of how to fragment and how many features would this create, for now we will consider only whole words, misspellings and all.\n",
    "\n",
    "The simplest approach is the adoption of a 'bag of words', without necessarily concerning ourselves with word order or relationships between them. If we treat all words in the column as being the corpus, or bag, then we can assign a position or vector for each word, then averaging these provides us with a vector for the entire sentence. The learning aspect then involves estabilishing the proximity of similar vectors and associating these with a label.\n"
   ]
  },
  {
   "cell_type": "code",
   "execution_count": null,
   "metadata": {},
   "outputs": [],
   "source": [
    "# Build a dataframe that represents components as vectors.abs\n",
    "# As we want to have some degree of seperation between our sentences in vector space, I have chosen 500 as a vector size.\n",
    "cc_vectors_df = vectorise(df_trim, column_name='Components_and_Concentrations', isalpha=True, vector_size=500, window=10, min_count=1, sg=0)\n",
    "cc_vectors_df.head()"
   ]
  },
  {
   "cell_type": "markdown",
   "metadata": {},
   "source": [
    "## Hazard Codes\n",
    "\n",
    "A list of codes relating to hazardous properties, from HP1 to HP15.\n",
    "\n",
    "Each HP code can appear once in the list, furthermore these are categorical terms so we can adopt one hot encoding."
   ]
  },
  {
   "cell_type": "code",
   "execution_count": null,
   "metadata": {},
   "outputs": [],
   "source": [
    "df_trim['Hazard_Codes'].str.replace('/','')"
   ]
  },
  {
   "cell_type": "code",
   "execution_count": null,
   "metadata": {},
   "outputs": [],
   "source": [
    "# A list of all legitimate values in the Hazard Codes column\n",
    "hp_codes = ['HP1','HP2','HP3','HP4','HP5','HP6','HP7','HP8','HP9','HP10','HP11','HP12','HP13','HP14','HP15', 'NC','POP']\n",
    "df_hc = pd.DataFrame()\n",
    "for hc in hp_codes:\n",
    "    df_hc[hc] = 0\n",
    "# Fill missing values (NaN) in the 'Hazard_Codes' column with an empty string\n",
    "df_trim['Hazard_Codes'].fillna('NC', inplace=True)\n",
    "\n",
    "# Split the codes in the 'Hazard_Codes' column and assign 1's and 0's\n",
    "for code in hp_codes:\n",
    "    df_hc[code] = df_trim['Hazard_Codes'].apply(lambda x: 1 if code in x.split() else 0)\n",
    "print(df_hc)"
   ]
  },
  {
   "cell_type": "markdown",
   "metadata": {},
   "source": [
    "## Combining Everything\n",
    "\n",
    "Having looked at all feature columns an created independant dataframes for each, we can now combine them into a singular dataframe."
   ]
  },
  {
   "cell_type": "code",
   "execution_count": null,
   "metadata": {},
   "outputs": [],
   "source": [
    "# Concatenate the original DataFrame with the word vectors DataFrame\n",
    "df_with_vectors = pd.concat([df_disposal, df_ewc, df_physical_state, df_un, df_hc, des_vectors_df, cc_vectors_df], axis=1)\n",
    "\n",
    "# Fill any empty cells with zero\n",
    "df_with_vectors.fillna(0, inplace=True)\n",
    "# Remove any rows with empty disposal columns\n",
    "df_with_vectors.dropna(subset=['Disposal'], inplace=True)\n",
    "\n",
    "# Save the DataFrame with word vectors to a new Excel file\n",
    "#df_with_vectors.to_excel('output_with_vectors.xlsx', index=False)"
   ]
  },
  {
   "cell_type": "markdown",
   "metadata": {},
   "source": [
    "# Training and Test Data\n",
    "Finally we can split the data into training and testing sets, it's also good practise at this point to randomise, or shuffle the data set to remove any unwanted trending or sequencing."
   ]
  },
  {
   "cell_type": "markdown",
   "metadata": {},
   "source": [
    "## Splitting the Data"
   ]
  },
  {
   "cell_type": "code",
   "execution_count": null,
   "metadata": {},
   "outputs": [],
   "source": [
    "from sklearn.ensemble import RandomForestClassifier\n",
    "from sklearn.model_selection import train_test_split\n",
    "from sklearn.metrics import accuracy_score\n",
    "\n",
    "# Preserve our original data\n",
    "df_test = copy.deepcopy(df_with_vectors)\n",
    "\n",
    "# Define the training set, typically called X\n",
    "X = df_test.drop(['Disposal','Disposal_Index'], axis=1)\n",
    "X.head()\n",
    "X.shape\n",
    "#X.fillna(0)"
   ]
  },
  {
   "cell_type": "code",
   "execution_count": null,
   "metadata": {},
   "outputs": [],
   "source": [
    "# Define a column of labels\n",
    "y = df_test['Disposal_Index']\n",
    "y.head()"
   ]
  },
  {
   "cell_type": "code",
   "execution_count": null,
   "metadata": {},
   "outputs": [],
   "source": [
    "# Split the data into training and testing sets\n",
    "X_train, X_test, y_train, y_test = train_test_split(X, y, test_size=0.2, random_state=42)"
   ]
  },
  {
   "cell_type": "code",
   "execution_count": null,
   "metadata": {},
   "outputs": [],
   "source": [
    "# Check for NaN, infinite or illegal numbers\n",
    "checkValues('X_train', X_train.values)\n",
    "print('')\n",
    "checkValues('y_train', y_train.values)"
   ]
  },
  {
   "cell_type": "markdown",
   "metadata": {},
   "source": [
    "## Hyperparamter Tuning with GridSearchCV"
   ]
  },
  {
   "cell_type": "code",
   "execution_count": null,
   "metadata": {},
   "outputs": [],
   "source": [
    "from sklearn.model_selection import GridSearchCV\n",
    "from sklearn.pipeline import Pipeline\n",
    "\n",
    "# Define the pipeline with Random Forest classifier\n",
    "pipeline = Pipeline([\n",
    "    ('rf', RandomForestClassifier())\n",
    "])\n",
    "\n",
    "# Define the hyperparameters grid to search\n",
    "param_grid = {\n",
    "    'rf__n_estimators': [100, 200, 250],\n",
    "    'rf__max_depth': [None, 100, 200],\n",
    "    'rf__min_samples_split': [2],\n",
    "    'rf__random_state': [2, 42, 80]\n",
    "}\n",
    "\n",
    "# Best params from previous gridsearch, saves running the search every time we want to restart.\n",
    "best_grid = {\n",
    "    'rf__n_estimators': [250],\n",
    "    'rf__max_depth': [None],\n",
    "    'rf__min_samples_split': [2],\n",
    "    'rf__random_state': [42]\n",
    "}\n",
    "\n",
    "# Perform Grid Search Cross Validation, exchange best_grid and param_grid\n",
    "grid_search = GridSearchCV(pipeline, param_grid, cv=10, scoring='accuracy')\n",
    "grid_search.fit(X_train, y_train)\n",
    "\n",
    "# Get the best parameters and best score\n",
    "best_params = grid_search.best_params_\n",
    "best_score = grid_search.best_score_\n",
    "\n",
    "# Evaluate the best model on the test set\n",
    "best_model = grid_search.best_estimator_\n",
    "y_pred = best_model.predict(X_test)\n",
    "test_accuracy = accuracy_score(y_test, y_pred)\n",
    "\n",
    "print(\"Best Parameters:\", best_params)\n",
    "print(\"Best Score:\", best_score)\n",
    "print(\"Test Accuracy:\", test_accuracy)"
   ]
  },
  {
   "cell_type": "code",
   "execution_count": null,
   "metadata": {},
   "outputs": [],
   "source": [
    "import joblib\n",
    "\n",
    "# Save the trained model to a file\n",
    "joblib.dump(best_model, './models/randomforrest_trained_model.pkl')"
   ]
  },
  {
   "cell_type": "markdown",
   "metadata": {},
   "source": [
    "# Results Analysis"
   ]
  },
  {
   "cell_type": "code",
   "execution_count": null,
   "metadata": {},
   "outputs": [],
   "source": [
    "# Turn Disposal_Index back into Disposal names\n",
    "r_test = [outlets.loc[t, 'Disposal'] for t in y_test]\n",
    "r_pred = [outlets.loc[t, 'Disposal'] for t in y_pred]\n",
    "labels = sorted(set(r_test))\n",
    "print(len(labels))"
   ]
  },
  {
   "cell_type": "code",
   "execution_count": null,
   "metadata": {},
   "outputs": [],
   "source": [
    "cm = confusion_matrix(r_test, r_pred)\n",
    "print(cm.shape) \n",
    "\n",
    "df_cm = pd.DataFrame(cm, index=labels, columns=labels)\n",
    "# Plot a confusion matrix\n",
    "sn.set(font_scale=0.75)\n",
    "a4_dims = (16, 10)\n",
    "fig, ax = plt.subplots(figsize=a4_dims)\n",
    "ax.set_title(\"Confusion Matrix True vs Predicted Outlet\")\n",
    "hm = sn.heatmap(df_cm, annot=True, cmap=\"Dark2_r\", cbar_kws={'label': 'Count'})  \n",
    "plt.show()"
   ]
  },
  {
   "cell_type": "code",
   "execution_count": null,
   "metadata": {},
   "outputs": [],
   "source": [
    "cr = classification_report(r_test, r_pred)    \n",
    "print(cr)"
   ]
  },
  {
   "cell_type": "markdown",
   "metadata": {},
   "source": [
    "# Classification with XGBoost"
   ]
  },
  {
   "cell_type": "code",
   "execution_count": null,
   "metadata": {},
   "outputs": [],
   "source": [
    "from xgboost import XGBClassifier\n",
    "\n",
    "# import XGBoost\n",
    "import xgboost as xgb\n",
    "\n",
    "# Using the same data source as previous, but this time adding stratify=y when splitting\n",
    "X_train, X_test, y_train, y_test = train_test_split(X, y, test_size=0.2, random_state=80, stratify=y)\n"
   ]
  },
  {
   "cell_type": "markdown",
   "metadata": {},
   "source": [
    "## Hyperparameter Tuning with Hyperopt"
   ]
  },
  {
   "cell_type": "code",
   "execution_count": null,
   "metadata": {},
   "outputs": [],
   "source": [
    "# define a search space\n",
    "from hyperopt import hp, fmin, tpe, Trials\n",
    "from sklearn.model_selection import cross_val_score\n",
    "\n",
    "# Define the search space\n",
    "space = { \n",
    "    'n_estimators': hp.quniform('n_estimators', 100, 1000, 1),\n",
    "    'learning_rate': hp.uniform('learning_rate', 0.01, 1.0),\n",
    "    'max_depth': hp.quniform('max_depth', 3, 10, 1),    \n",
    "    'subsample': hp.uniform('subsample', 0.5, 1.0),\n",
    "    'colsample_bytree': hp.uniform('colsample_bytree', 0.5, 1.0)\n",
    "}\n",
    "\n",
    "# Define the objective function for XGBoost classifier\n",
    "def objective(params):\n",
    "    # Extract hyperparameters\n",
    "    n_estimators = params['n_estimators']\n",
    "    learning_rate = params['learning_rate']\n",
    "    max_depth = params['max_depth']\n",
    "    subsample = params['subsample']\n",
    "    colsample_bytree = params['colsample_bytree']\n",
    "\n",
    "    # Define XGBoost parameters\n",
    "    xgb_params = {\n",
    "        'objective': 'multi:softmax',\n",
    "        'num_class': 45,  # Number of classes\n",
    "        'eval_metric': 'merror',\n",
    "        'learning_rate': learning_rate,\n",
    "        'max_depth': int(max_depth),\n",
    "        'n_estimators': int(n_estimators),\n",
    "        'subsample': subsample,\n",
    "        'colsample_bytree': colsample_bytree,\n",
    "        'verbosity': 0\n",
    "    }\n",
    "    \n",
    "    # Create DMatrix for training and testing data\n",
    "    dtrain = xgb.DMatrix(X_train, label=y_train)\n",
    "    dtest = xgb.DMatrix(X_test, label=y_test)\n",
    "    \n",
    "    # Train the XGBoost model\n",
    "    model = xgb.train(xgb_params, dtrain, num_boost_round=100)\n",
    "    \n",
    "    # Make predictions on the test set\n",
    "    y_pred = model.predict(dtest)\n",
    "    \n",
    "    # Calculate accuracy\n",
    "    accuracy = accuracy_score(y_test, y_pred)\n",
    "    #print(f'best: {best}')\n",
    "    print('___________')\n",
    "    print(f'loss: {-accuracy}')    \n",
    "    return {'loss': -accuracy, 'status': 'ok'}  # Minimize negative accuracy\n",
    "\n",
    "# Perform hyperparameter optimization\n",
    "trials = Trials()\n",
    "best = fmin(fn=objective, space=space, algo=tpe.suggest, max_evals=50, trials=trials)\n",
    "\n",
    "print(\"Best hyperparameters:\", best)\n"
   ]
  },
  {
   "cell_type": "markdown",
   "metadata": {},
   "source": [
    "## View Results of Tuning"
   ]
  },
  {
   "cell_type": "code",
   "execution_count": null,
   "metadata": {},
   "outputs": [],
   "source": [
    "# Extract the loss values from the trials\n",
    "#losses = [trial['result']['loss'] for trial in trials.results]\n",
    "\n",
    "# Plot the loss values\n",
    "plt.plot(trials.losses())\n",
    "plt.xlabel('Trial')\n",
    "plt.ylabel('Loss')\n",
    "plt.title('Hyperopt XGBoost Trials')\n",
    "plt.show()"
   ]
  },
  {
   "cell_type": "markdown",
   "metadata": {},
   "source": [
    "## Training a Model with Tuned Parameters"
   ]
  },
  {
   "cell_type": "code",
   "execution_count": null,
   "metadata": {},
   "outputs": [],
   "source": [
    "n_estimators = best['n_estimators']\n",
    "learning_rate = best['learning_rate']\n",
    "max_depth = best['max_depth']\n",
    "subsample = best['subsample']\n",
    "colsample_bytree = best['colsample_bytree']\n",
    "\n",
    "# Define XGBoost parameters\n",
    "xgb_params = {\n",
    "    'objective': 'multi:softmax',\n",
    "    'num_class': 45,  # Number of classes\n",
    "    'eval_metric': 'merror',\n",
    "    'learning_rate': learning_rate,\n",
    "    'max_depth': int(max_depth),\n",
    "    'n_estimators': int(n_estimators),\n",
    "    'subsample': subsample,\n",
    "    'colsample_bytree': colsample_bytree,\n",
    "    'verbosity': 0\n",
    "}\n",
    "# Train the final model using the best hyperparameters\n",
    "best_model = xgb.XGBClassifier(**xgb_params)\n",
    "best_model.fit(X_train, y_train)\n"
   ]
  },
  {
   "cell_type": "markdown",
   "metadata": {},
   "source": []
  },
  {
   "cell_type": "code",
   "execution_count": null,
   "metadata": {},
   "outputs": [],
   "source": [
    "import joblib\n",
    "# Save the trained model to a file\n",
    "joblib.dump(best_model, './models/xgboost_trained_model.pkl')"
   ]
  },
  {
   "cell_type": "markdown",
   "metadata": {},
   "source": [
    "## Predictions with XGBoost Model"
   ]
  },
  {
   "cell_type": "code",
   "execution_count": null,
   "metadata": {},
   "outputs": [],
   "source": [
    "# make predictions on test data\n",
    "y_pred = best_model.predict(X_test)\n",
    "print(y_test.head())\n"
   ]
  },
  {
   "cell_type": "code",
   "execution_count": null,
   "metadata": {},
   "outputs": [],
   "source": [
    "# Predict probabilities\n",
    "y_pred_proba = best_model.predict_proba(X_test)\n",
    "print(y_pred_proba.shape)"
   ]
  },
  {
   "cell_type": "markdown",
   "metadata": {},
   "source": [
    "## Results Analysis"
   ]
  },
  {
   "cell_type": "markdown",
   "metadata": {},
   "source": [
    "### Accuracy"
   ]
  },
  {
   "cell_type": "code",
   "execution_count": null,
   "metadata": {},
   "outputs": [],
   "source": [
    "# Calculate accuracy\n",
    "accuracy = best_model.score(X_test, y_test)\n",
    "print(\"Accuracy: %.2f%%\" % (accuracy * 100.0))\n",
    "\n"
   ]
  },
  {
   "cell_type": "markdown",
   "metadata": {},
   "source": [
    "### Log loss"
   ]
  },
  {
   "cell_type": "code",
   "execution_count": null,
   "metadata": {},
   "outputs": [],
   "source": [
    "from sklearn.metrics import log_loss\n",
    "# Calculate log loss\n",
    "log_loss(y_test, y_pred_proba)"
   ]
  },
  {
   "cell_type": "markdown",
   "metadata": {},
   "source": [
    "### Classification Report"
   ]
  },
  {
   "cell_type": "code",
   "execution_count": null,
   "metadata": {},
   "outputs": [],
   "source": [
    "# Print classification report\n",
    "print(classification_report(y_test, y_pred))"
   ]
  },
  {
   "cell_type": "markdown",
   "metadata": {},
   "source": [
    "### Feature Importance"
   ]
  },
  {
   "cell_type": "code",
   "execution_count": null,
   "metadata": {},
   "outputs": [],
   "source": [
    "# Feature Importance\n",
    "from xgboost import plot_importance\n",
    "\n",
    "# Plot feature importance for the top 30 features\n",
    "plot_importance(best_model, max_num_features=30)"
   ]
  },
  {
   "cell_type": "markdown",
   "metadata": {},
   "source": [
    "### Confusion Matrix"
   ]
  },
  {
   "cell_type": "code",
   "execution_count": null,
   "metadata": {},
   "outputs": [],
   "source": [
    "cm = confusion_matrix(y_test, y_pred)\n",
    "print(cm.shape) \n",
    "\n",
    "# Turn Disposal_Index back into Disposal names\n",
    "r_test = [outlets.loc[t, 'Disposal'] for t in y_test]\n",
    "r_pred = [outlets.loc[t, 'Disposal'] for t in y_pred]\n",
    "labels = sorted(set(r_test))\n",
    "\n",
    "df_cm = pd.DataFrame(cm, index=labels, columns=labels)\n",
    "# Plot a confusion matrix\n",
    "sn.set_theme(font_scale=0.75)\n",
    "a4_dims = (16, 10)\n",
    "fig, ax = plt.subplots(figsize=a4_dims)\n",
    "ax.set_title(\"Confusion Matrix True vs Predicted Outlet\")\n",
    "hm = sn.heatmap(df_cm, annot=True, cmap=\"coolwarm\", cbar_kws={'label': 'Count'})  \n",
    "plt.show()"
   ]
  }
 ],
 "metadata": {
  "celltoolbar": "Raw Cell Format",
  "kernelspec": {
   "display_name": "Python 3 (ipykernel)",
   "language": "python",
   "name": "python3"
  },
  "language_info": {
   "codemirror_mode": {
    "name": "ipython",
    "version": 3
   },
   "file_extension": ".py",
   "mimetype": "text/x-python",
   "name": "python",
   "nbconvert_exporter": "python",
   "pygments_lexer": "ipython3",
   "version": "3.9.15"
  }
 },
 "nbformat": 4,
 "nbformat_minor": 2
}
